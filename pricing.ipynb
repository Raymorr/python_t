{
 "cells": [
  {
   "cell_type": "code",
   "execution_count": 13,
   "metadata": {},
   "outputs": [],
   "source": [
    "def barrier_mc(op, s, x, t, r, sigma, bar, n_p = 100, n_s = 10000):\n",
    "    dt = t/n_p\n",
    "    ar = np.zeros((n_p+1, n_s))\n",
    "    ar[0] = s\n",
    "    vn = np.random.normal(size = ar.shape)\n",
    "    for i in range (1, n_p+1):\n",
    "        for j in range(n_s):\n",
    "            ar[i, j] = ar[i-1, j]*math.exp((r - sigma**2/2)*dt + sigma*math.sqrt(dt)*vn[i, j])\n",
    "    if op == 'p':\n",
    "        return math.exp(-r*t)*(np.maximum(x - ar[-1], 0).mean())\n",
    "    else:\n",
    "        return math.exp(-r*t)*(np.maximum(ar[-1] - x, 0).mean())"
   ]
  },
  {
   "cell_type": "code",
   "execution_count": 14,
   "metadata": {},
   "outputs": [
    {
     "name": "stdout",
     "output_type": "stream",
     "text": [
      "Call barrier option price with mc method is 2.139602105884909\n",
      "Put barrier option price with mc method is 5.911956359437034\n",
      "Call barrier option price with mc method is -3.6388954724052334\n",
      "Put barrier option price with mc method is 3.428288542001453\n"
     ]
    }
   ],
   "source": [
    "import numpy as np\n",
    "import scipy.stats\n",
    "import math\n",
    "\n",
    "\n",
    "s = 60\n",
    "x = 65\n",
    "t = 0.25\n",
    "r = 0.08\n",
    "sigma = 0.3\n",
    "op1 = 'p'\n",
    "op2 = 'c'\n",
    "\n",
    "ae = 1\n",
    "bar = 2\n",
    "print(\"Call barrier option price with mc method is\", barrier_mc(op2,s, x, t, r, sigma, bar))\n",
    "print(\"Put barrier option price with mc method is\", barrier_mc(op1,s, x, t, r, sigma, bar))\n",
    "print(\"Call barrier option price with mc method is\", barrier_mc_ne(op2,s, x, t, r, sigma, bar))\n",
    "print(\"Put barrier option price with mc method is\", barrier_mc_ne(op1,s, x, t, r, sigma, bar))"
   ]
  },
  {
   "cell_type": "code",
   "execution_count": 6,
   "metadata": {},
   "outputs": [],
   "source": [
    "def barrier_mc_ne(op, s, x, t, r, sigma, bar, n_p = 100, n_s = 10000):\n",
    "    dt = t/n_p\n",
    "    ar = np.zeros((n_p+1, n_s))\n",
    "    ar[0] = s\n",
    "    vn = np.random.normal(size = ar.shape)\n",
    "    for i in range (1, n_p+1):\n",
    "        for j in range(n_s):\n",
    "            ar[i, j] = ar[i-1, j]*math.exp((r - sigma**2/2)*dt + sigma*math.sqrt(dt)*vn[i, j])\n",
    "    if op == 'p':\n",
    "        return math.exp(-r*t)*(x - ar[-1]).mean()\n",
    "    else:\n",
    "        return math.exp(-r*t)*(ar[-1] - x).mean()"
   ]
  }
 ],
 "metadata": {
  "kernelspec": {
   "display_name": "Python 3",
   "language": "python",
   "name": "python3"
  },
  "language_info": {
   "codemirror_mode": {
    "name": "ipython",
    "version": 3
   },
   "file_extension": ".py",
   "mimetype": "text/x-python",
   "name": "python",
   "nbconvert_exporter": "python",
   "pygments_lexer": "ipython3",
   "version": "3.6.8"
  }
 },
 "nbformat": 4,
 "nbformat_minor": 4
}
