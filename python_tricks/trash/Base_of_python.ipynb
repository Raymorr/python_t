{
 "cells": [
  {
   "cell_type": "code",
   "execution_count": 115,
   "metadata": {},
   "outputs": [
    {
     "name": "stdout",
     "output_type": "stream",
     "text": [
      "9\n",
      "add global a\n",
      "{'global': ['a']}\n",
      "create foo global\n",
      "{'global': ['a'], 'foo': [[], ['global']]}\n",
      "get foo a\n",
      "global\n",
      "{'global': ['a'], 'foo': [[], ['global']]}\n",
      "add foo b\n",
      "{'global': ['a'], 'foo': [['b'], ['global']]}\n",
      "get foo c\n",
      "None\n",
      "{'global': ['a'], 'foo': [['b'], ['global']]}\n",
      "create bar foo\n",
      "{'global': ['a'], 'foo': [['b'], ['global']], 'bar': [[], ['foo']]}\n",
      "add bar a\n",
      "{'global': ['a'], 'foo': [['b'], ['global']], 'bar': [['a'], ['foo']]}\n",
      "get bar a\n",
      "bar\n",
      "{'global': ['a'], 'foo': [['b'], ['global']], 'bar': [['a'], ['foo']]}\n",
      "get bar b\n",
      "foo\n",
      "{'global': ['a'], 'foo': [['b'], ['global']], 'bar': [['a'], ['foo']]}\n"
     ]
    }
   ],
   "source": [
    "def get_value(d, namespace, value):\n",
    "    global level\n",
    "    global ans_level\n",
    "    if(namespace == 'global'):\n",
    "        if(value in d['global']):\n",
    "            return 'global'\n",
    "        else:\n",
    "            return 'None'\n",
    "        \n",
    "    if(value not in d[namespace][0]):\n",
    "        level += 1\n",
    "        for new_namespace in d[namespace][1]:\n",
    "            n_ans = get_value(d, new_namespace, value)\n",
    "            if(n_ans): ans = n_ans \n",
    "        level -= 1\n",
    "        return ans\n",
    "    \n",
    "    else:\n",
    "        if(ans_level > level):\n",
    "            ans_level = level\n",
    "            return namespace\n",
    "        else:\n",
    "            return None\n",
    "\n",
    "\n",
    "n = int(input())\n",
    "d = {'global':[]}\n",
    "\n",
    "for i in range (n):\n",
    "    command = input().split()\n",
    "    if('add' == command[0]):\n",
    "        try:\n",
    "            if(command[1] == 'global'):\n",
    "                d[command[1]].append(command[2])\n",
    "            else:\n",
    "                d[command[1]][0].append(command[2])\n",
    "        except:\n",
    "            pass        \n",
    "    if('create' == command[0]):\n",
    "        try:\n",
    "            d[command[1]] = [[],[]]\n",
    "            d[command[1]][1].append(command[2])\n",
    "        except:\n",
    "            pass\n",
    "    if('get' == command[0]):\n",
    "        level = 0\n",
    "        ans_level = 100\n",
    "        print(get_value(d, command[1], command[2]))        "
   ]
  },
  {
   "cell_type": "code",
   "execution_count": 112,
   "metadata": {},
   "outputs": [
    {
     "data": {
      "text/plain": [
       "[]"
      ]
     },
     "execution_count": 112,
     "metadata": {},
     "output_type": "execute_result"
    }
   ],
   "source": [
    "d = {'g' : [[], []]}\n",
    "d['g'][0]"
   ]
  },
  {
   "cell_type": "code",
   "execution_count": 135,
   "metadata": {},
   "outputs": [
    {
     "ename": "IndentationError",
     "evalue": "unindent does not match any outer indentation level (<tokenize>, line 7)",
     "output_type": "error",
     "traceback": [
      "\u001b[0;36m  File \u001b[0;32m\"<tokenize>\"\u001b[0;36m, line \u001b[0;32m7\u001b[0m\n\u001b[0;31m    def can_add(self, v):\u001b[0m\n\u001b[0m    ^\u001b[0m\n\u001b[0;31mIndentationError\u001b[0m\u001b[0;31m:\u001b[0m unindent does not match any outer indentation level\n"
     ]
    }
   ],
   "source": [
    "class MoneyBox:\n",
    "    def __init__(self, capacity):\n",
    "        self.capacity = capacity\n",
    "        self.v = 0\n",
    "        self.f = 0\n",
    "\n",
    "    def can_add(self, v):\n",
    "        f = self.capacity >= (self.v+v)\n",
    "        print(f)\n",
    "\n",
    "    def add(self, v):\n",
    "        if self.can_add:\n",
    "            self.v += v\n",
    "\n",
    "x = MoneyBox()"
   ]
  },
  {
   "cell_type": "code",
   "execution_count": 38,
   "metadata": {},
   "outputs": [
    {
     "ename": "SyntaxError",
     "evalue": "invalid syntax (<ipython-input-38-3c20ffaac997>, line 8)",
     "output_type": "error",
     "traceback": [
      "\u001b[0;36m  File \u001b[0;32m\"<ipython-input-38-3c20ffaac997>\"\u001b[0;36m, line \u001b[0;32m8\u001b[0m\n\u001b[0;31m    while(place < length)\u001b[0m\n\u001b[0m                         ^\u001b[0m\n\u001b[0;31mSyntaxError\u001b[0m\u001b[0;31m:\u001b[0m invalid syntax\n"
     ]
    }
   ],
   "source": [
    "class Buffer:\n",
    "    def __init__(self):\n",
    "        self.ar = []\n",
    "        \n",
    "    def add(self, *a):\n",
    "        length = len(a)\n",
    "        place = 0\n",
    "        while(place < length)\n",
    "            extend_len = place+5-out_length\n",
    "            if(extend_len+place <= length):\n",
    "                self.ar.extend(a[place:place+5-out_length])\n",
    "                print(sum(self.ar))\n",
    "                self.ar = []\n",
    "                place += 5\n",
    "            else:\n",
    "                self.ar.extend(a[place:length])\n",
    "\n",
    "    def get_current_part(self):\n",
    "        return self.ar"
   ]
  },
  {
   "cell_type": "code",
   "execution_count": 36,
   "metadata": {},
   "outputs": [],
   "source": [
    "class Buffer:\n",
    "    def __init__(self):\n",
    "        self.ar = []\n",
    "        \n",
    "    def add(self, *a):\n",
    "        length = len(a)\n",
    "        place = 0\n",
    "        f = 0\n",
    "        while(place < length):\n",
    "            extend_len = place+5-len(self.ar)\n",
    "            if(extend_len <= length):\n",
    "                self.ar.extend(a[place:extend_len])\n",
    "                print(sum(self.ar))\n",
    "                self.ar = []\n",
    "                place = extend_len\n",
    "            else:\n",
    "                self.ar.extend(a[place:length])\n",
    "                break\n",
    "\n",
    "    def get_current_part(self):\n",
    "        return self.ar"
   ]
  },
  {
   "cell_type": "code",
   "execution_count": 38,
   "metadata": {},
   "outputs": [
    {
     "name": "stdout",
     "output_type": "stream",
     "text": [
      "[1, 2, 3]\n",
      "15\n",
      "[6]\n",
      "40\n",
      "[]\n",
      "5\n",
      "5\n",
      "[1]\n"
     ]
    }
   ],
   "source": [
    "\n",
    "buf = Buffer()\n",
    "buf.add(1, 2, 3)\n",
    "buf.get_current_part() # вернуть [1, 2, 3]\n",
    "buf.add(4, 5, 6) # print(15) – вывод суммы первой пятерки элементов\n",
    "buf.get_current_part() # вернуть [6]\n",
    "buf.add(7, 8, 9, 10) # print(40) – вывод суммы второй пятерки элементов\n",
    "buf.get_current_part() # вернуть []\n",
    "buf.add(1, 1, 1, 1, 1, 1, 1, 1, 1, 1, 1) # print(5), print(5) – вывод сумм третьей и четвертой пятерки\n",
    "buf.get_current_part() # вернуть [1]"
   ]
  },
  {
   "cell_type": "code",
   "execution_count": 39,
   "metadata": {},
   "outputs": [
    {
     "name": "stdout",
     "output_type": "stream",
     "text": [
      "2\n",
      "3\n",
      "3\n"
     ]
    }
   ],
   "source": [
    "class A:\n",
    "    val = 1\n",
    "\n",
    "    def foo(self):\n",
    "        A.val += 2\n",
    "\n",
    "    def bar(self):\n",
    "        self.val += 1\n",
    "\n",
    "\n",
    "a = A()\n",
    "b = A()\n",
    "\n",
    "a.bar()\n",
    "a.foo()\n",
    "\n",
    "c = A()\n",
    "\n",
    "print(a.val)\n",
    "print(b.val)\n",
    "print(c.val)"
   ]
  },
  {
   "cell_type": "code",
   "execution_count": 99,
   "metadata": {},
   "outputs": [
    {
     "data": {
      "text/plain": [
       "1.6666666666666667"
      ]
     },
     "execution_count": 99,
     "metadata": {},
     "output_type": "execute_result"
    }
   ],
   "source": [
    "5 / 3"
   ]
  },
  {
   "cell_type": "code",
   "execution_count": 92,
   "metadata": {},
   "outputs": [],
   "source": [
    "class ExtendedStack(list):\n",
    "    def append(self, top):\n",
    "        super(ExtendedStack, self).append(top)\n",
    "    \n",
    "    def pop(self):\n",
    "        length = len(self)\n",
    "        if length > 0:\n",
    "            return super(ExtendedStack, self).pop(length-1)\n",
    "            \n",
    "    def sum(self):\n",
    "        length = len(self)\n",
    "        if length > 1:\n",
    "            f = self.pop()\n",
    "            s = self.pop()\n",
    "            self.append(f+s)\n",
    "    def sub(self):\n",
    "        length = len(self)\n",
    "        if length > 1:\n",
    "            f = self.pop()\n",
    "            s = self.pop()\n",
    "            self.append(f-s)\n",
    "\n",
    "    def mul(self):\n",
    "        length = len(self)\n",
    "        if length > 1:\n",
    "            f = self.pop()\n",
    "            s = self.pop()\n",
    "            self.append(f*s)\n",
    "    def div(self):\n",
    "        length = len(self)\n",
    "        if length > 1:\n",
    "            f = self.pop()\n",
    "            s = self.pop()\n",
    "            self.append(f+s)"
   ]
  },
  {
   "cell_type": "code",
   "execution_count": 73,
   "metadata": {},
   "outputs": [],
   "source": [
    "def test():\n",
    "    ex_stack = ExtendedStack([1, 2, 3, 4, -3, 3, 5, 10])\n",
    "    ex_stack.div()\n",
    "    assert ex_stack.pop() == 2\n",
    "    ex_stack.sub()\n",
    "    assert ex_stack.pop() == 6\n",
    "    ex_stack.sum()\n",
    "    assert ex_stack.pop() == 7\n",
    "    ex_stack.mul()\n",
    "    assert ex_stack.pop() == 2\n",
    "    assert len(ex_stack) == 0"
   ]
  },
  {
   "cell_type": "code",
   "execution_count": 97,
   "metadata": {},
   "outputs": [
    {
     "data": {
      "text/plain": [
       "[1, 2, 3, 4, 0]"
      ]
     },
     "execution_count": 97,
     "metadata": {},
     "output_type": "execute_result"
    }
   ],
   "source": [
    "ex_stack = ExtendedStack([1, 2, 3, 4, -3, 3, 5, 10])\n",
    "ex_stack.append(5)\n",
    "ex_stack\n",
    "ex_stack.pop()\n",
    "ex_stack.pop()\n",
    "ex_stack.pop()\n",
    "ex_stack.sum()\n",
    "ex_stack"
   ]
  },
  {
   "cell_type": "code",
   "execution_count": null,
   "metadata": {},
   "outputs": [],
   "source": []
  },
  {
   "cell_type": "code",
   "execution_count": null,
   "metadata": {},
   "outputs": [],
   "source": [
    "class LoggableList(Loggable, list):\n",
    "    def append(self, value):\n",
    "        super().log(value)\n",
    "        super().append(value)"
   ]
  }
 ],
 "metadata": {
  "kernelspec": {
   "display_name": "Python 3",
   "language": "python",
   "name": "python3"
  },
  "language_info": {
   "codemirror_mode": {
    "name": "ipython",
    "version": 3
   },
   "file_extension": ".py",
   "mimetype": "text/x-python",
   "name": "python",
   "nbconvert_exporter": "python",
   "pygments_lexer": "ipython3",
   "version": "3.6.8"
  }
 },
 "nbformat": 4,
 "nbformat_minor": 4
}
