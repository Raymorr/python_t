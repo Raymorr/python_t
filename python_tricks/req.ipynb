{
 "cells": [
  {
   "cell_type": "code",
   "execution_count": 41,
   "metadata": {},
   "outputs": [],
   "source": [
    "def mod_checker(x, mod=0):\n",
    "    return lambda y: (y - mod) % x == 0"
   ]
  },
  {
   "cell_type": "code",
   "execution_count": 17,
   "metadata": {},
   "outputs": [
    {
     "name": "stdout",
     "output_type": "stream",
     "text": [
      "ababac\n",
      "c\n",
      "c\n",
      "Impossible\n"
     ]
    }
   ],
   "source": [
    "s = str(input())\n",
    "a = str(input())\n",
    "b = str(input())\n",
    "\n",
    "if (a in b) and a in s:\n",
    "    print('Impossible')\n",
    "else:    \n",
    "    counter = 0\n",
    "    for i in range(1000):\n",
    "\n",
    "        new_s = s.replace(a, b)\n",
    "        if(s == new_s):\n",
    "            break\n",
    "        else:\n",
    "            counter += 1\n",
    "        s = new_s\n",
    "\n",
    "    if counter > 999:\n",
    "        print('Impossible')\n",
    "    else:\n",
    "        print(counter)"
   ]
  },
  {
   "cell_type": "code",
   "execution_count": 12,
   "metadata": {},
   "outputs": [
    {
     "name": "stdout",
     "output_type": "stream",
     "text": [
      "abababa\n",
      "aba\n",
      "3\n"
     ]
    }
   ],
   "source": [
    "a = str(input())\n",
    "b = str(input())\n",
    "\n",
    "counter = 0\n",
    "start = 0\n",
    "while True:\n",
    "    place = a.find(b, start)\n",
    "    if place == -1:\n",
    "        break\n",
    "    \n",
    "\n",
    "    if start == place:\n",
    "        counter += 1\n",
    "        start += 1\n",
    "    else:\n",
    "        start = place\n",
    "    \n",
    "print(counter)"
   ]
  },
  {
   "cell_type": "code",
   "execution_count": null,
   "metadata": {},
   "outputs": [],
   "source": []
  },
  {
   "cell_type": "code",
   "execution_count": 13,
   "metadata": {},
   "outputs": [],
   "source": [
    "import re\n",
    "\n"
   ]
  }
 ],
 "metadata": {
  "kernelspec": {
   "display_name": "Python 3",
   "language": "python",
   "name": "python3"
  },
  "language_info": {
   "codemirror_mode": {
    "name": "ipython",
    "version": 3
   },
   "file_extension": ".py",
   "mimetype": "text/x-python",
   "name": "python",
   "nbconvert_exporter": "python",
   "pygments_lexer": "ipython3",
   "version": "3.6.8"
  }
 },
 "nbformat": 4,
 "nbformat_minor": 4
}
