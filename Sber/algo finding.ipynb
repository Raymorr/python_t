{
 "cells": [
  {
   "cell_type": "code",
   "execution_count": 1,
   "metadata": {},
   "outputs": [
    {
     "data": {
      "text/html": [
       "<style>.container { width:100% !important; }</style>"
      ],
      "text/plain": [
       "<IPython.core.display.HTML object>"
      ]
     },
     "metadata": {},
     "output_type": "display_data"
    }
   ],
   "source": [
    "import pandas as pd\n",
    "import numpy as np\n",
    "import matplotlib.pyplot as plt\n",
    "from xbbg import blp\n",
    "from IPython.core.display import display, HTML\n",
    "import mplfinance as mpf \n",
    "import multitasking\n",
    "from statsmodels.tsa.vector_ar.vecm import coint_johansen\n",
    "import xlwings as xlw\n",
    "import statsmodels.tsa.stattools as ts \n",
    "display(HTML(\"<style>.container { width:100% !important; }</style>\"))\n",
    "import datetime as dt\n",
    "import itertools"
   ]
  },
  {
   "cell_type": "code",
   "execution_count": 13,
   "metadata": {},
   "outputs": [],
   "source": [
    "df = pd.read_csv('AFKS20210127.csv')\n",
    "df = df[df.columns[0:26]]\n",
    "df.Time = pd.to_datetime(df.Time)\n",
    "data = df[['Time','BidPrice1', 'BidVolume1', 'AskPrice1', 'AskVolume1', 'Last Trade Price', 'Last Trade Volume', 'isNewTrade']]\n",
    "data = data.set_index('Time')"
   ]
  },
  {
   "cell_type": "code",
   "execution_count": 21,
   "metadata": {},
   "outputs": [],
   "source": [
    "data_space = data.loc[data.index[0]+dt.timedelta(minutes=1):(data.index[0]+dt.timedelta(minutes=10))] #np.quantile(buys_space['Last Trade Volume'], 0.95)"
   ]
  },
  {
   "cell_type": "code",
   "execution_count": 25,
   "metadata": {},
   "outputs": [
    {
     "data": {
      "text/plain": [
       "<AxesSubplot:xlabel='Time'>"
      ]
     },
     "execution_count": 25,
     "metadata": {},
     "output_type": "execute_result"
    },
    {
     "data": {
      "image/png": "[encoded data removed]",
      "text/plain": [
       "<Figure size 432x288 with 1 Axes>"
      ]
     },
     "metadata": {
      "needs_background": "light"
     },
     "output_type": "display_data"
    }
   ],
   "source": [
    "data['Last Trade Volume'].plot()"
   ]
  },
  {
   "cell_type": "code",
   "execution_count": 46,
   "metadata": {},
   "outputs": [
    {
     "data": {
      "text/plain": [
       "<AxesSubplot:>"
      ]
     },
     "execution_count": 46,
     "metadata": {},
     "output_type": "execute_result"
    },
    {
     "data": {
      "image/png": "[encoded data removed]",
      "text/plain": [
       "<Figure size 432x288 with 1 Axes>"
      ]
     },
     "metadata": {
      "needs_background": "light"
     },
     "output_type": "display_data"
    }
   ],
   "source": [
    "data.AskVolume1.hist(bins=1000)"
   ]
  },
  {
   "cell_type": "code",
   "execution_count": null,
   "metadata": {},
   "outputs": [],
   "source": []
  },
  {
   "cell_type": "code",
   "execution_count": 74,
   "metadata": {},
   "outputs": [],
   "source": [
    "from xbbg import blp"
   ]
  },
  {
   "cell_type": "code",
   "execution_count": 80,
   "metadata": {},
   "outputs": [
    {
     "data": {
      "text/html": [
       "<div>\n",
       "<style scoped>\n",
       "    .dataframe tbody tr th:only-of-type {\n",
       "        vertical-align: middle;\n",
       "    }\n",
       "\n",
       "    .dataframe tbody tr th {\n",
       "        vertical-align: top;\n",
       "    }\n",
       "\n",
       "    .dataframe thead th {\n",
       "        text-align: right;\n",
       "    }\n",
       "</style>\n",
       "<table border=\"1\" class=\"dataframe\">\n",
       "  <thead>\n",
       "    <tr style=\"text-align: right;\">\n",
       "      <th></th>\n",
       "      <th>dec_date</th>\n",
       "      <th>ex_date</th>\n",
       "      <th>rec_date</th>\n",
       "      <th>pay_date</th>\n",
       "      <th>dvd_amt</th>\n",
       "      <th>dvd_freq</th>\n",
       "      <th>dvd_type</th>\n",
       "    </tr>\n",
       "  </thead>\n",
       "  <tbody>\n",
       "    <tr>\n",
       "      <th>SBER RX Equity</th>\n",
       "      <td>2020-03-17</td>\n",
       "      <td>2020-10-02</td>\n",
       "      <td>2020-10-05</td>\n",
       "      <td>2020-10-19</td>\n",
       "      <td>18.7</td>\n",
       "      <td>Annual</td>\n",
       "      <td>Regular Cash</td>\n",
       "    </tr>\n",
       "    <tr>\n",
       "      <th>SBER RX Equity</th>\n",
       "      <td>2019-04-16</td>\n",
       "      <td>2019-06-11</td>\n",
       "      <td>2019-06-13</td>\n",
       "      <td>2019-06-27</td>\n",
       "      <td>16.0</td>\n",
       "      <td>Annual</td>\n",
       "      <td>Regular Cash</td>\n",
       "    </tr>\n",
       "    <tr>\n",
       "      <th>SBER RX Equity</th>\n",
       "      <td>2018-04-17</td>\n",
       "      <td>2018-06-25</td>\n",
       "      <td>2018-06-26</td>\n",
       "      <td>2018-07-10</td>\n",
       "      <td>12.0</td>\n",
       "      <td>Annual</td>\n",
       "      <td>Regular Cash</td>\n",
       "    </tr>\n",
       "  </tbody>\n",
       "</table>\n",
       "</div>"
      ],
      "text/plain": [
       "                  dec_date     ex_date    rec_date    pay_date  dvd_amt  \\\n",
       "SBER RX Equity  2020-03-17  2020-10-02  2020-10-05  2020-10-19     18.7   \n",
       "SBER RX Equity  2019-04-16  2019-06-11  2019-06-13  2019-06-27     16.0   \n",
       "SBER RX Equity  2018-04-17  2018-06-25  2018-06-26  2018-07-10     12.0   \n",
       "\n",
       "               dvd_freq      dvd_type  \n",
       "SBER RX Equity   Annual  Regular Cash  \n",
       "SBER RX Equity   Annual  Regular Cash  \n",
       "SBER RX Equity   Annual  Regular Cash  "
      ]
     },
     "execution_count": 80,
     "metadata": {},
     "output_type": "execute_result"
    }
   ],
   "source": [
    "\n",
    "blp.dividend(['SBER RX Equity'], start_date='2018-01-01', end_date='2021-04-01')"
   ]
  }
 ],
 "metadata": {
  "kernelspec": {
   "display_name": "Python 3",
   "language": "python",
   "name": "python3"
  },
  "language_info": {
   "codemirror_mode": {
    "name": "ipython",
    "version": 3
   },
   "file_extension": ".py",
   "mimetype": "text/x-python",
   "name": "python",
   "nbconvert_exporter": "python",
   "pygments_lexer": "ipython3",
   "version": "3.8.5"
  }
 },
 "nbformat": 4,
 "nbformat_minor": 4
}
