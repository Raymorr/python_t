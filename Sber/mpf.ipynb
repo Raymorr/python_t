{
 "cells": [
  {
   "cell_type": "code",
   "execution_count": 13,
   "metadata": {},
   "outputs": [
    {
     "data": {
      "text/html": [
       "<style>.container { width:100% !important; }</style>"
      ],
      "text/plain": [
       "<IPython.core.display.HTML object>"
      ]
     },
     "metadata": {},
     "output_type": "display_data"
    }
   ],
   "source": [
    "import pandas as pd\n",
    "import numpy as np\n",
    "import matplotlib.pyplot as plt\n",
    "from xbbg import blp\n",
    "from IPython.core.display import display, HTML\n",
    "import mplfinance as mpf \n",
    "import multitasking\n",
    "display(HTML(\"<style>.container { width:100% !important; }</style>\"))"
   ]
  },
  {
   "cell_type": "code",
   "execution_count": 14,
   "metadata": {},
   "outputs": [],
   "source": [
    "data = blp.bdh(\n",
    "    tickers='MAIL RX Curncy', flds=['Open', 'High', 'Low', 'last_price'],\n",
    "    start_date='2018', Per='D', Fill='P', Days='A',\n",
    ")\n",
    "data = data[data.columns[0][0]].rename({'last_price':'Close'}, axis=1)\n",
    "data.index = data.index.rename('timestamp')\n",
    "data['Adj'] = data['Close']\n",
    "data1 = data.dropna()"
   ]
  },
  {
   "cell_type": "code",
   "execution_count": 28,
   "metadata": {},
   "outputs": [
    {
     "data": {
      "text/html": [
       "<div>\n",
       "<style scoped>\n",
       "    .dataframe tbody tr th:only-of-type {\n",
       "        vertical-align: middle;\n",
       "    }\n",
       "\n",
       "    .dataframe tbody tr th {\n",
       "        vertical-align: top;\n",
       "    }\n",
       "\n",
       "    .dataframe thead tr th {\n",
       "        text-align: left;\n",
       "    }\n",
       "</style>\n",
       "<table border=\"1\" class=\"dataframe\">\n",
       "  <thead>\n",
       "    <tr>\n",
       "      <th></th>\n",
       "      <th colspan=\"7\" halign=\"left\">CO1 Comdty</th>\n",
       "    </tr>\n",
       "    <tr>\n",
       "      <th></th>\n",
       "      <th>open</th>\n",
       "      <th>high</th>\n",
       "      <th>low</th>\n",
       "      <th>close</th>\n",
       "      <th>volume</th>\n",
       "      <th>num_trds</th>\n",
       "      <th>value</th>\n",
       "    </tr>\n",
       "  </thead>\n",
       "  <tbody>\n",
       "    <tr>\n",
       "      <th>2021-04-05 01:01:00+01:00</th>\n",
       "      <td>64.63</td>\n",
       "      <td>64.65</td>\n",
       "      <td>64.63</td>\n",
       "      <td>64.63</td>\n",
       "      <td>9</td>\n",
       "      <td>9</td>\n",
       "      <td>581.70</td>\n",
       "    </tr>\n",
       "    <tr>\n",
       "      <th>2021-04-05 01:02:00+01:00</th>\n",
       "      <td>64.61</td>\n",
       "      <td>64.61</td>\n",
       "      <td>64.61</td>\n",
       "      <td>64.61</td>\n",
       "      <td>3</td>\n",
       "      <td>3</td>\n",
       "      <td>193.83</td>\n",
       "    </tr>\n",
       "    <tr>\n",
       "      <th>2021-04-05 01:03:00+01:00</th>\n",
       "      <td>64.60</td>\n",
       "      <td>64.60</td>\n",
       "      <td>64.59</td>\n",
       "      <td>64.59</td>\n",
       "      <td>4</td>\n",
       "      <td>4</td>\n",
       "      <td>258.39</td>\n",
       "    </tr>\n",
       "    <tr>\n",
       "      <th>2021-04-05 01:04:00+01:00</th>\n",
       "      <td>64.59</td>\n",
       "      <td>64.59</td>\n",
       "      <td>64.59</td>\n",
       "      <td>64.59</td>\n",
       "      <td>2</td>\n",
       "      <td>2</td>\n",
       "      <td>129.18</td>\n",
       "    </tr>\n",
       "    <tr>\n",
       "      <th>2021-04-05 01:05:00+01:00</th>\n",
       "      <td>64.60</td>\n",
       "      <td>64.62</td>\n",
       "      <td>64.60</td>\n",
       "      <td>64.61</td>\n",
       "      <td>23</td>\n",
       "      <td>8</td>\n",
       "      <td>1485.91</td>\n",
       "    </tr>\n",
       "    <tr>\n",
       "      <th>...</th>\n",
       "      <td>...</td>\n",
       "      <td>...</td>\n",
       "      <td>...</td>\n",
       "      <td>...</td>\n",
       "      <td>...</td>\n",
       "      <td>...</td>\n",
       "      <td>...</td>\n",
       "    </tr>\n",
       "    <tr>\n",
       "      <th>2021-04-05 22:53:00+01:00</th>\n",
       "      <td>62.30</td>\n",
       "      <td>62.30</td>\n",
       "      <td>62.30</td>\n",
       "      <td>62.30</td>\n",
       "      <td>1</td>\n",
       "      <td>1</td>\n",
       "      <td>62.30</td>\n",
       "    </tr>\n",
       "    <tr>\n",
       "      <th>2021-04-05 22:56:00+01:00</th>\n",
       "      <td>62.30</td>\n",
       "      <td>62.30</td>\n",
       "      <td>62.30</td>\n",
       "      <td>62.30</td>\n",
       "      <td>1</td>\n",
       "      <td>1</td>\n",
       "      <td>62.30</td>\n",
       "    </tr>\n",
       "    <tr>\n",
       "      <th>2021-04-05 22:57:00+01:00</th>\n",
       "      <td>62.30</td>\n",
       "      <td>62.30</td>\n",
       "      <td>62.30</td>\n",
       "      <td>62.30</td>\n",
       "      <td>1</td>\n",
       "      <td>1</td>\n",
       "      <td>62.30</td>\n",
       "    </tr>\n",
       "    <tr>\n",
       "      <th>2021-04-05 22:58:00+01:00</th>\n",
       "      <td>62.23</td>\n",
       "      <td>62.30</td>\n",
       "      <td>62.23</td>\n",
       "      <td>62.30</td>\n",
       "      <td>4</td>\n",
       "      <td>4</td>\n",
       "      <td>249.03</td>\n",
       "    </tr>\n",
       "    <tr>\n",
       "      <th>2021-04-05 22:59:00+01:00</th>\n",
       "      <td>64.57</td>\n",
       "      <td>64.81</td>\n",
       "      <td>64.57</td>\n",
       "      <td>64.81</td>\n",
       "      <td>75</td>\n",
       "      <td>20</td>\n",
       "      <td>4845.91</td>\n",
       "    </tr>\n",
       "  </tbody>\n",
       "</table>\n",
       "<p>1249 rows × 7 columns</p>\n",
       "</div>"
      ],
      "text/plain": [
       "                          CO1 Comdty                                       \\\n",
       "                                open   high    low  close volume num_trds   \n",
       "2021-04-05 01:01:00+01:00      64.63  64.65  64.63  64.63      9        9   \n",
       "2021-04-05 01:02:00+01:00      64.61  64.61  64.61  64.61      3        3   \n",
       "2021-04-05 01:03:00+01:00      64.60  64.60  64.59  64.59      4        4   \n",
       "2021-04-05 01:04:00+01:00      64.59  64.59  64.59  64.59      2        2   \n",
       "2021-04-05 01:05:00+01:00      64.60  64.62  64.60  64.61     23        8   \n",
       "...                              ...    ...    ...    ...    ...      ...   \n",
       "2021-04-05 22:53:00+01:00      62.30  62.30  62.30  62.30      1        1   \n",
       "2021-04-05 22:56:00+01:00      62.30  62.30  62.30  62.30      1        1   \n",
       "2021-04-05 22:57:00+01:00      62.30  62.30  62.30  62.30      1        1   \n",
       "2021-04-05 22:58:00+01:00      62.23  62.30  62.23  62.30      4        4   \n",
       "2021-04-05 22:59:00+01:00      64.57  64.81  64.57  64.81     75       20   \n",
       "\n",
       "                                    \n",
       "                             value  \n",
       "2021-04-05 01:01:00+01:00   581.70  \n",
       "2021-04-05 01:02:00+01:00   193.83  \n",
       "2021-04-05 01:03:00+01:00   258.39  \n",
       "2021-04-05 01:04:00+01:00   129.18  \n",
       "2021-04-05 01:05:00+01:00  1485.91  \n",
       "...                            ...  \n",
       "2021-04-05 22:53:00+01:00    62.30  \n",
       "2021-04-05 22:56:00+01:00    62.30  \n",
       "2021-04-05 22:57:00+01:00    62.30  \n",
       "2021-04-05 22:58:00+01:00   249.03  \n",
       "2021-04-05 22:59:00+01:00  4845.91  \n",
       "\n",
       "[1249 rows x 7 columns]"
      ]
     },
     "execution_count": 28,
     "metadata": {},
     "output_type": "execute_result"
    }
   ],
   "source": [
    "data.append(  blp.bdib(ticker='CO1 Comdty', dt=('2021-04-'+str(i))))"
   ]
  },
  {
   "cell_type": "code",
   "execution_count": 29,
   "metadata": {},
   "outputs": [
    {
     "data": {
      "text/html": [
       "<div>\n",
       "<style scoped>\n",
       "    .dataframe tbody tr th:only-of-type {\n",
       "        vertical-align: middle;\n",
       "    }\n",
       "\n",
       "    .dataframe tbody tr th {\n",
       "        vertical-align: top;\n",
       "    }\n",
       "\n",
       "    .dataframe thead th {\n",
       "        text-align: right;\n",
       "    }\n",
       "</style>\n",
       "<table border=\"1\" class=\"dataframe\">\n",
       "  <thead>\n",
       "    <tr style=\"text-align: right;\">\n",
       "      <th></th>\n",
       "    </tr>\n",
       "  </thead>\n",
       "  <tbody>\n",
       "  </tbody>\n",
       "</table>\n",
       "</div>"
      ],
      "text/plain": [
       "Empty DataFrame\n",
       "Columns: []\n",
       "Index: []"
      ]
     },
     "execution_count": 29,
     "metadata": {},
     "output_type": "execute_result"
    }
   ],
   "source": [
    "data"
   ]
  },
  {
   "cell_type": "code",
   "execution_count": 54,
   "metadata": {},
   "outputs": [],
   "source": [
    "data = pd.DataFrame()\n",
    "for i in range(1, 16):\n",
    "    data = data.append(blp.bdib(ticker='CO1 Comdty', dt=('2021-04-'+str(i))))\n",
    "data.index = [data.index[j].tz_localize(None) for j in range(data.shape[0]) ] \n",
    "data = data[data.columns[0][0]].rename({'open':'Open', 'close':'Close', 'low':'Low', 'high':'High'}, axis=1)\n",
    "data['Adj'] = (data.Open + data.Close + data.Low + data.High)/4"
   ]
  },
  {
   "cell_type": "code",
   "execution_count": 498,
   "metadata": {},
   "outputs": [],
   "source": [
    "data = blp.bdh(\n",
    "    tickers='YNDX RX Index', flds=['Open', 'High', 'Low', 'last_price'],\n",
    "    start_date='2018', Per='D', Fill='P', Days='A',\n",
    ")\n",
    "data = data[data.columns[0][0]].rename({'last_price':'Close'}, axis=1)\n",
    "data.index = data.index.rename('timestamp')\n",
    "data['Adj'] = data['Close']\n",
    "data2 = data.dropna()"
   ]
  },
  {
   "cell_type": "code",
   "execution_count": 499,
   "metadata": {},
   "outputs": [],
   "source": [
    "data = pd.merge(data1, data2, left_index=True, right_index=True)"
   ]
  },
  {
   "cell_type": "code",
   "execution_count": 536,
   "metadata": {},
   "outputs": [],
   "source": [
    "data['Adj'] = -data['Adj_x'] + data['Adj_y'] \n",
    "data['Close'] = -data['Close_x'] + data['Close_y'] \n",
    "data['High'] = -data['High_x'] + data['High_y'] \n",
    "data['Low'] = -data['Low_x'] + data['Low_y'] \n",
    "data['Open'] = -data['Open_x'] + data['Open_y'] "
   ]
  },
  {
   "cell_type": "code",
   "execution_count": 558,
   "metadata": {},
   "outputs": [],
   "source": [
    "data.to_csv('forMe.csv')"
   ]
  },
  {
   "cell_type": "code",
   "execution_count": 55,
   "metadata": {},
   "outputs": [],
   "source": [
    "class MA(object):\n",
    "    def __init__(self, df, args):\n",
    "        sma_span = args[0]\n",
    "        ema_span = args[1]\n",
    "        df['sma'+str(args[0])] = df['Adj'].rolling(sma_span).mean()\n",
    "        df['ema'+str(args[1])] = df['Adj'].ewm(span=ema_span).mean()\n",
    "        self.args = ['sma'+str(args[0]), 'ema'+str(args[1])]\n",
    "        self.df = df\n",
    "        \n",
    "    def signal_for_buy(self):\n",
    "        df = self.df        \n",
    "        return np.where(df[self.args[1]] > df[self.args[0]], 1, 0)\n",
    "    \n",
    "    def signal_for_sell(self):\n",
    "        df = self.df\n",
    "        return np.zeros(df.shape[0])\n",
    "\n",
    "class MR(object):\n",
    "    def __init__(self, df, args):\n",
    "        sma_span = args[0]\n",
    "        ema_span = args[1]\n",
    "        df['smaH'+str(args[0])] = df['High'].rolling(sma_span).mean()\n",
    "        df['smaL'+str(args[0])] = df['Low'].rolling(sma_span).mean()\n",
    "        df['emaP'+str(args[1])] = df['Adj'].ewm(span=ema_span).mean()      \n",
    "        self.offset = args[2]\n",
    "        self.args = ['smaH'+str(args[0]), 'smaL'+str(args[0]), 'emaP'+str(args[1])]\n",
    "        self.df = df\n",
    "        \n",
    "    def signal_for_buy(self):\n",
    "        df = self.df        \n",
    "        return np.where(df[self.args[2]] > df[self.args[0]]*(1+self.offset), 1, 0)\n",
    "    \n",
    "    def signal_for_sell(self):\n",
    "        df = self.df\n",
    "        return np.where(df[self.args[2]] < df[self.args[1]]*(1-self.offset), -1, 0)\n",
    "    \n",
    "class Backtest(object):\n",
    "    \"\"\"\n",
    "    Data format is {'Open', 'High', 'Low', 'Close', 'Adj'}, index.name = 'Timestamp'\n",
    "    \"\"\"\n",
    "    def __getitem__(self, name):\n",
    "        return self._df[name]          \n",
    "    \n",
    "    @property\n",
    "    def df(self):\n",
    "        return self._df\n",
    "\n",
    "    @df.setter\n",
    "    def df(self, value):\n",
    "        try:\n",
    "            assert isinstance(value, pd.core.frame.DataFrame)\n",
    "        except AssertionError:\n",
    "            print('Value must be DataFrame')\n",
    "            return\n",
    "        self._df = value\n",
    "        \n",
    "    @df.deleter\n",
    "    def df(self):\n",
    "        del self._df\n",
    "        \n",
    "        \n",
    "    def __init__(self):\n",
    "        self.args = 0\n",
    "        \n",
    "    def call_MA(self, *args):\n",
    "        if(len(args) > 2):\n",
    "            print(\"Too many args for MA\")\n",
    "            pass\n",
    "            \n",
    "        self.MA = MA((self.df).copy(), args)\n",
    "        self.arg = len(args) \n",
    "        \n",
    "    def call_MR(self, *args):\n",
    "        if(len(args) > 3):\n",
    "            print(\"Too many args for MA\")\n",
    "            pass\n",
    "            \n",
    "        self.MR = MR((self.df).copy(), args)\n",
    "        self.arg = len(args) \n",
    "\n",
    "    def run(self, Strategy):\n",
    "        df = self.df\n",
    "        long_positions = eval('self.'+Strategy).signal_for_buy()\n",
    "        short_positions = eval('self.'+Strategy).signal_for_sell()\n",
    "        df['Position'] = long_positions+short_positions\n",
    "        buy_signals = (df['Position'] == 1) & (df['Position'].shift(1) == 0)\n",
    "        \n",
    "        dates = np.arange(len(df))\n",
    "        price = df['Adj']\n",
    "        arg = []\n",
    "        for i in range(len(eval('self.'+Strategy).args)):\n",
    "            arg.append((eval('self.'+Strategy).args)[i])\n",
    "            \n",
    "            \n",
    "        def reindex_signals(signals, markers):\n",
    "            '''\n",
    "            takes two pd.Series (boolean, float) and returns signals and markers reindexed to an integer range, and their index\n",
    "            '''\n",
    "            signals.reset_index(drop=True, inplace=True)\n",
    "            signals = signals[signals==True]\n",
    "            dates = signals.index\n",
    "            markers = markers[dates]\n",
    "            markers.index = dates\n",
    "            return signals, markers, dates\n",
    "\n",
    "        buy_signals = (df['Position'] == 1) & (df['Position'].shift(1) != 1)\n",
    "        buy_marker = df.Adj * buy_signals - (df.Adj.max()*.04)\n",
    "        buy_signals, buy_marker, buy_dates = reindex_signals(buy_signals, buy_marker)\n",
    "       \n",
    "    \n",
    "        exit_buy_signals = (df['Position'] != 1) & (df['Position'].shift(1) == 1)\n",
    "        exit_buy_marker = df.Adj * exit_buy_signals + (df.Adj.max()*.04)\n",
    "        exit_buy_signals, exit_buy_marker, exit_buy_dates = reindex_signals(exit_buy_signals, exit_buy_marker)\n",
    "\n",
    "        sell_signals = (df['Position'] == -1) & (df['Position'].shift(1) != -1)\n",
    "        sell_marker = df.Adj  * sell_signals + (df.Adj .max()*.04)\n",
    "        sell_signals, sell_marker, sell_dates = reindex_signals(sell_signals, sell_marker)\n",
    "\n",
    "        exit_sell_signals = (df['Position'] != -1) & (df['Position'].shift(1) == -1)\n",
    "        exit_sell_marker = df.Adj  * exit_sell_signals - (df.Adj .max()*.04)\n",
    "        exit_sell_signals, exit_sell_marker, exit_sell_dates = reindex_signals(exit_sell_signals, exit_sell_marker)\n",
    "\n",
    "        with plt.style.context('fivethirtyeight'):\n",
    "            fig = plt.figure(figsize=(14,7))\n",
    "            ax = plt.subplot(1,1,1)\n",
    "            mpf.plot(df, ax=ax, show_nontrading=False, type='candle')\n",
    "            for i in range(len(eval('self.'+Strategy).args)):\n",
    "                plt.plot(dates, eval('self.'+Strategy).df[arg[i]], linewidth=2, label=str(eval('self.'+Strategy).args[i]))\n",
    "            \n",
    "            ax.scatter(buy_dates, buy_marker, marker='^', color='green', s=160, label='Buy')\n",
    "            ax.scatter(exit_buy_dates, exit_buy_marker, marker='v', s=160, label='Exit Buy')\n",
    "            ax.scatter(sell_dates, sell_marker, marker='v', color='red', s=160, label='Sell')\n",
    "            ax.scatter(exit_sell_dates, exit_sell_marker, marker='^', color='orange', s=160, label='Exit Sell')\n",
    "            plt.title(Strategy)\n",
    "            ax.set_ylabel('Price($)')\n",
    "            plt.legend()\n",
    "            \n",
    "        plt.show()\n",
    "        \n",
    "        \n",
    "        df['Hold'] = np.log(df['Adj'] / df['Adj'].shift(1))\n",
    "        df['Strategy'] = df['Position'].shift(1) * df['Hold']\n",
    "        returns = np.exp(df[['Hold', 'Strategy']].sum()) - 1\n",
    "        print(f\"Buy and hold return: {round(returns['Hold']*100,2)}%\")\n",
    "        print(f\"Strategy return: {round(returns['Strategy']*100,2)}%\")\n",
    "        "
   ]
  },
  {
   "cell_type": "code",
   "execution_count": 67,
   "metadata": {},
   "outputs": [],
   "source": [
    "ex = Backtest()\n",
    "ex.df = data[-500::]"
   ]
  },
  {
   "cell_type": "code",
   "execution_count": 71,
   "metadata": {
    "scrolled": false
   },
   "outputs": [
    {
     "name": "stderr",
     "output_type": "stream",
     "text": [
      "<ipython-input-55-f62b9d11d417>:85: SettingWithCopyWarning: \n",
      "A value is trying to be set on a copy of a slice from a DataFrame.\n",
      "Try using .loc[row_indexer,col_indexer] = value instead\n",
      "\n",
      "See the caveats in the documentation: https://pandas.pydata.org/pandas-docs/stable/user_guide/indexing.html#returning-a-view-versus-a-copy\n",
      "  df['Position'] = long_positions+short_positions\n"
     ]
    },
    {
     "data": {
      "image/png": "[encoded data removed]",
      "text/plain": [
       "<Figure size 1008x504 with 1 Axes>"
      ]
     },
     "metadata": {},
     "output_type": "display_data"
    },
    {
     "name": "stdout",
     "output_type": "stream",
     "text": [
      "Buy and hold return: -0.16%\n",
      "Strategy return: -0.22%\n"
     ]
    },
    {
     "name": "stderr",
     "output_type": "stream",
     "text": [
      "<ipython-input-55-f62b9d11d417>:141: SettingWithCopyWarning: \n",
      "A value is trying to be set on a copy of a slice from a DataFrame.\n",
      "Try using .loc[row_indexer,col_indexer] = value instead\n",
      "\n",
      "See the caveats in the documentation: https://pandas.pydata.org/pandas-docs/stable/user_guide/indexing.html#returning-a-view-versus-a-copy\n",
      "  df['Hold'] = np.log(df['Adj'] / df['Adj'].shift(1))\n",
      "<ipython-input-55-f62b9d11d417>:142: SettingWithCopyWarning: \n",
      "A value is trying to be set on a copy of a slice from a DataFrame.\n",
      "Try using .loc[row_indexer,col_indexer] = value instead\n",
      "\n",
      "See the caveats in the documentation: https://pandas.pydata.org/pandas-docs/stable/user_guide/indexing.html#returning-a-view-versus-a-copy\n",
      "  df['Strategy'] = df['Position'].shift(1) * df['Hold']\n"
     ]
    }
   ],
   "source": [
    "ex.call_MR(60, 30, 0)\n",
    "ex.run('MR')"
   ]
  },
  {
   "cell_type": "code",
   "execution_count": 556,
   "metadata": {},
   "outputs": [],
   "source": [
    "def foo(*aaa):\n",
    "    print(*aaa)"
   ]
  },
  {
   "cell_type": "code",
   "execution_count": 557,
   "metadata": {},
   "outputs": [
    {
     "name": "stdout",
     "output_type": "stream",
     "text": [
      "1 2 3\n"
     ]
    }
   ],
   "source": [
    "foo(1, 2, 3)"
   ]
  }
 ],
 "metadata": {
  "kernelspec": {
   "display_name": "Python 3",
   "language": "python",
   "name": "python3"
  },
  "language_info": {
   "codemirror_mode": {
    "name": "ipython",
    "version": 3
   },
   "file_extension": ".py",
   "mimetype": "text/x-python",
   "name": "python",
   "nbconvert_exporter": "python",
   "pygments_lexer": "ipython3",
   "version": "3.8.5"
  }
 },
 "nbformat": 4,
 "nbformat_minor": 4
}
