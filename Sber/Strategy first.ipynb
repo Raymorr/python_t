{
 "cells": [
  {
   "cell_type": "code",
   "execution_count": 1,
   "metadata": {},
   "outputs": [],
   "source": [
    "import pandas as pd\n",
    "from pandas import read_excel\n",
    "import re\n",
    "import psycopg2\n",
    "import pandas as pd\n",
    "from sqlalchemy import create_engine\n",
    "import numpy as np\n",
    "import datetime as dt\n",
    "import plotly.graph_objects as go\n",
    "from xbbg import blp\n",
    "from plotly.subplots import make_subplots\n",
    "import plotly.express as px\n",
    "import plotly.graph_objects as go\n",
    "from scipy import stats\n",
    "import plotly.figure_factory as ff"
   ]
  },
  {
   "cell_type": "code",
   "execution_count": 2,
   "metadata": {},
   "outputs": [
    {
     "data": {
      "text/html": [
       "<style>.container { width:100% !important; }</style>"
      ],
      "text/plain": [
       "<IPython.core.display.HTML object>"
      ]
     },
     "metadata": {},
     "output_type": "display_data"
    }
   ],
   "source": [
    "from IPython.core.display import display, HTML\n",
    "display(HTML(\"<style>.container { width:100% !important; }</style>\"))"
   ]
  },
  {
   "cell_type": "code",
   "execution_count": null,
   "metadata": {},
   "outputs": [],
   "source": [
    "# follows django database settings format, replace with your own settings\n",
    "DATABASES = {\n",
    "    'algo':{\n",
    "        'NAME': 'algo',\n",
    "        'USER': 'tech_lims',\n",
    "        'PASSWORD': 'tech_lims1',\n",
    "        'HOST': 'gp6node1',\n",
    "        'PORT': 5432,\n",
    "    },\n",
    "}\n",
    "\n",
    "# choose the database to use\n",
    "db = DATABASES['algo']\n",
    "\n",
    "# construct an engine connection string\n",
    "engine_string = \"postgresql+psycopg2://{user}:{password}@{host}:{port}/{database}\".format(\n",
    "    user = db['USER'],\n",
    "    password = db['PASSWORD'],\n",
    "    host = db['HOST'],\n",
    "    port = db['PORT'],\n",
    "    database = db['NAME'],\n",
    ")\n",
    "\n",
    "# create sqlalchemy engine\n",
    "engine = create_engine(engine_string)\n",
    "\n",
    "\n",
    "\n",
    "#download data from the excel-list\n",
    "my_sheet = 'MICEX_OFZ'\n",
    "file_name = r'C:\\Users\\pzapolsky\\Desktop\\123\\All_symbols_03122020.xlsx'\n",
    "wb_ofz = read_excel(file_name, sheet_name = my_sheet)\n",
    "wb_ofz = wb_ofz.rename({'Unnamed: 0':'SECID', 'Unnamed: 1':'SHORTNAME', 'Unnamed: 2':'NAME', 'Unnamed: 3':'TYPENAME', 'Unnamed: 4':'ISIN'}, axis = 1).drop([0])\n",
    "wb_ofz['SQL_query_ID'] = \"'%%\"+wb_ofz['SECID']+\"%%'\"\n",
    "\n",
    "#Prepare a query\n",
    "list_ofz = list(wb_ofz['SQL_query_ID'])\n",
    "list_ofz\n",
    "ofz = \"select * from tickdata.quotes where symbol='MICEX.BND.SU26230RMFS1.M2' and quotedate >'2020-09-01' and quotedate <='2021-03-22'\\n\"\n",
    "\n",
    "# Make a query\n",
    "\n",
    "sql = \\\n",
    "ofz\n",
    "\n",
    " \n",
    "# read a table from database into pandas dataframe, replace \"tablename\" with your table name\n",
    "OFZ_table = pd.read_sql(sql,engine)\n",
    "OFZ_table.head()"
   ]
  },
  {
   "cell_type": "code",
   "execution_count": 3,
   "metadata": {},
   "outputs": [
    {
     "ename": "OperationalError",
     "evalue": "(psycopg2.OperationalError) FATAL:  no pg_hba.conf entry for host \"10.16.116.121\", user \"tech_lims\", database \"algo\", SSL off\n\n(Background on this error at: http://sqlalche.me/e/13/e3q8)",
     "output_type": "error",
     "traceback": [
      "\u001b[1;31m---------------------------------------------------------------------------\u001b[0m",
      "\u001b[1;31mOperationalError\u001b[0m                          Traceback (most recent call last)",
      "\u001b[1;32m~\\Anaconda3\\lib\\site-packages\\sqlalchemy\\engine\\base.py\u001b[0m in \u001b[0;36m_wrap_pool_connect\u001b[1;34m(self, fn, connection)\u001b[0m\n\u001b[0;32m   2335\u001b[0m         \u001b[1;32mtry\u001b[0m\u001b[1;33m:\u001b[0m\u001b[1;33m\u001b[0m\u001b[1;33m\u001b[0m\u001b[0m\n\u001b[1;32m-> 2336\u001b[1;33m             \u001b[1;32mreturn\u001b[0m \u001b[0mfn\u001b[0m\u001b[1;33m(\u001b[0m\u001b[1;33m)\u001b[0m\u001b[1;33m\u001b[0m\u001b[1;33m\u001b[0m\u001b[0m\n\u001b[0m\u001b[0;32m   2337\u001b[0m         \u001b[1;32mexcept\u001b[0m \u001b[0mdialect\u001b[0m\u001b[1;33m.\u001b[0m\u001b[0mdbapi\u001b[0m\u001b[1;33m.\u001b[0m\u001b[0mError\u001b[0m \u001b[1;32mas\u001b[0m \u001b[0me\u001b[0m\u001b[1;33m:\u001b[0m\u001b[1;33m\u001b[0m\u001b[1;33m\u001b[0m\u001b[0m\n",
      "\u001b[1;32m~\\Anaconda3\\lib\\site-packages\\sqlalchemy\\pool\\base.py\u001b[0m in \u001b[0;36mconnect\u001b[1;34m(self)\u001b[0m\n\u001b[0;32m    363\u001b[0m         \u001b[1;32mif\u001b[0m \u001b[1;32mnot\u001b[0m \u001b[0mself\u001b[0m\u001b[1;33m.\u001b[0m\u001b[0m_use_threadlocal\u001b[0m\u001b[1;33m:\u001b[0m\u001b[1;33m\u001b[0m\u001b[1;33m\u001b[0m\u001b[0m\n\u001b[1;32m--> 364\u001b[1;33m             \u001b[1;32mreturn\u001b[0m \u001b[0m_ConnectionFairy\u001b[0m\u001b[1;33m.\u001b[0m\u001b[0m_checkout\u001b[0m\u001b[1;33m(\u001b[0m\u001b[0mself\u001b[0m\u001b[1;33m)\u001b[0m\u001b[1;33m\u001b[0m\u001b[1;33m\u001b[0m\u001b[0m\n\u001b[0m\u001b[0;32m    365\u001b[0m \u001b[1;33m\u001b[0m\u001b[0m\n",
      "\u001b[1;32m~\\Anaconda3\\lib\\site-packages\\sqlalchemy\\pool\\base.py\u001b[0m in \u001b[0;36m_checkout\u001b[1;34m(cls, pool, threadconns, fairy)\u001b[0m\n\u001b[0;32m    777\u001b[0m         \u001b[1;32mif\u001b[0m \u001b[1;32mnot\u001b[0m \u001b[0mfairy\u001b[0m\u001b[1;33m:\u001b[0m\u001b[1;33m\u001b[0m\u001b[1;33m\u001b[0m\u001b[0m\n\u001b[1;32m--> 778\u001b[1;33m             \u001b[0mfairy\u001b[0m \u001b[1;33m=\u001b[0m \u001b[0m_ConnectionRecord\u001b[0m\u001b[1;33m.\u001b[0m\u001b[0mcheckout\u001b[0m\u001b[1;33m(\u001b[0m\u001b[0mpool\u001b[0m\u001b[1;33m)\u001b[0m\u001b[1;33m\u001b[0m\u001b[1;33m\u001b[0m\u001b[0m\n\u001b[0m\u001b[0;32m    779\u001b[0m \u001b[1;33m\u001b[0m\u001b[0m\n",
      "\u001b[1;32m~\\Anaconda3\\lib\\site-packages\\sqlalchemy\\pool\\base.py\u001b[0m in \u001b[0;36mcheckout\u001b[1;34m(cls, pool)\u001b[0m\n\u001b[0;32m    494\u001b[0m     \u001b[1;32mdef\u001b[0m \u001b[0mcheckout\u001b[0m\u001b[1;33m(\u001b[0m\u001b[0mcls\u001b[0m\u001b[1;33m,\u001b[0m \u001b[0mpool\u001b[0m\u001b[1;33m)\u001b[0m\u001b[1;33m:\u001b[0m\u001b[1;33m\u001b[0m\u001b[1;33m\u001b[0m\u001b[0m\n\u001b[1;32m--> 495\u001b[1;33m         \u001b[0mrec\u001b[0m \u001b[1;33m=\u001b[0m \u001b[0mpool\u001b[0m\u001b[1;33m.\u001b[0m\u001b[0m_do_get\u001b[0m\u001b[1;33m(\u001b[0m\u001b[1;33m)\u001b[0m\u001b[1;33m\u001b[0m\u001b[1;33m\u001b[0m\u001b[0m\n\u001b[0m\u001b[0;32m    496\u001b[0m         \u001b[1;32mtry\u001b[0m\u001b[1;33m:\u001b[0m\u001b[1;33m\u001b[0m\u001b[1;33m\u001b[0m\u001b[0m\n",
      "\u001b[1;32m~\\Anaconda3\\lib\\site-packages\\sqlalchemy\\pool\\impl.py\u001b[0m in \u001b[0;36m_do_get\u001b[1;34m(self)\u001b[0m\n\u001b[0;32m    139\u001b[0m                 \u001b[1;32mwith\u001b[0m \u001b[0mutil\u001b[0m\u001b[1;33m.\u001b[0m\u001b[0msafe_reraise\u001b[0m\u001b[1;33m(\u001b[0m\u001b[1;33m)\u001b[0m\u001b[1;33m:\u001b[0m\u001b[1;33m\u001b[0m\u001b[1;33m\u001b[0m\u001b[0m\n\u001b[1;32m--> 140\u001b[1;33m                     \u001b[0mself\u001b[0m\u001b[1;33m.\u001b[0m\u001b[0m_dec_overflow\u001b[0m\u001b[1;33m(\u001b[0m\u001b[1;33m)\u001b[0m\u001b[1;33m\u001b[0m\u001b[1;33m\u001b[0m\u001b[0m\n\u001b[0m\u001b[0;32m    141\u001b[0m         \u001b[1;32melse\u001b[0m\u001b[1;33m:\u001b[0m\u001b[1;33m\u001b[0m\u001b[1;33m\u001b[0m\u001b[0m\n",
      "\u001b[1;32m~\\Anaconda3\\lib\\site-packages\\sqlalchemy\\util\\langhelpers.py\u001b[0m in \u001b[0;36m__exit__\u001b[1;34m(self, type_, value, traceback)\u001b[0m\n\u001b[0;32m     67\u001b[0m             \u001b[1;32mif\u001b[0m \u001b[1;32mnot\u001b[0m \u001b[0mself\u001b[0m\u001b[1;33m.\u001b[0m\u001b[0mwarn_only\u001b[0m\u001b[1;33m:\u001b[0m\u001b[1;33m\u001b[0m\u001b[1;33m\u001b[0m\u001b[0m\n\u001b[1;32m---> 68\u001b[1;33m                 compat.raise_(\n\u001b[0m\u001b[0;32m     69\u001b[0m                     \u001b[0mexc_value\u001b[0m\u001b[1;33m,\u001b[0m\u001b[1;33m\u001b[0m\u001b[1;33m\u001b[0m\u001b[0m\n",
      "\u001b[1;32m~\\Anaconda3\\lib\\site-packages\\sqlalchemy\\util\\compat.py\u001b[0m in \u001b[0;36mraise_\u001b[1;34m(***failed resolving arguments***)\u001b[0m\n\u001b[0;32m    181\u001b[0m         \u001b[1;32mtry\u001b[0m\u001b[1;33m:\u001b[0m\u001b[1;33m\u001b[0m\u001b[1;33m\u001b[0m\u001b[0m\n\u001b[1;32m--> 182\u001b[1;33m             \u001b[1;32mraise\u001b[0m \u001b[0mexception\u001b[0m\u001b[1;33m\u001b[0m\u001b[1;33m\u001b[0m\u001b[0m\n\u001b[0m\u001b[0;32m    183\u001b[0m         \u001b[1;32mfinally\u001b[0m\u001b[1;33m:\u001b[0m\u001b[1;33m\u001b[0m\u001b[1;33m\u001b[0m\u001b[0m\n",
      "\u001b[1;32m~\\Anaconda3\\lib\\site-packages\\sqlalchemy\\pool\\impl.py\u001b[0m in \u001b[0;36m_do_get\u001b[1;34m(self)\u001b[0m\n\u001b[0;32m    136\u001b[0m             \u001b[1;32mtry\u001b[0m\u001b[1;33m:\u001b[0m\u001b[1;33m\u001b[0m\u001b[1;33m\u001b[0m\u001b[0m\n\u001b[1;32m--> 137\u001b[1;33m                 \u001b[1;32mreturn\u001b[0m \u001b[0mself\u001b[0m\u001b[1;33m.\u001b[0m\u001b[0m_create_connection\u001b[0m\u001b[1;33m(\u001b[0m\u001b[1;33m)\u001b[0m\u001b[1;33m\u001b[0m\u001b[1;33m\u001b[0m\u001b[0m\n\u001b[0m\u001b[0;32m    138\u001b[0m             \u001b[1;32mexcept\u001b[0m\u001b[1;33m:\u001b[0m\u001b[1;33m\u001b[0m\u001b[1;33m\u001b[0m\u001b[0m\n",
      "\u001b[1;32m~\\Anaconda3\\lib\\site-packages\\sqlalchemy\\pool\\base.py\u001b[0m in \u001b[0;36m_create_connection\u001b[1;34m(self)\u001b[0m\n\u001b[0;32m    308\u001b[0m \u001b[1;33m\u001b[0m\u001b[0m\n\u001b[1;32m--> 309\u001b[1;33m         \u001b[1;32mreturn\u001b[0m \u001b[0m_ConnectionRecord\u001b[0m\u001b[1;33m(\u001b[0m\u001b[0mself\u001b[0m\u001b[1;33m)\u001b[0m\u001b[1;33m\u001b[0m\u001b[1;33m\u001b[0m\u001b[0m\n\u001b[0m\u001b[0;32m    310\u001b[0m \u001b[1;33m\u001b[0m\u001b[0m\n",
      "\u001b[1;32m~\\Anaconda3\\lib\\site-packages\\sqlalchemy\\pool\\base.py\u001b[0m in \u001b[0;36m__init__\u001b[1;34m(self, pool, connect)\u001b[0m\n\u001b[0;32m    439\u001b[0m         \u001b[1;32mif\u001b[0m \u001b[0mconnect\u001b[0m\u001b[1;33m:\u001b[0m\u001b[1;33m\u001b[0m\u001b[1;33m\u001b[0m\u001b[0m\n\u001b[1;32m--> 440\u001b[1;33m             \u001b[0mself\u001b[0m\u001b[1;33m.\u001b[0m\u001b[0m__connect\u001b[0m\u001b[1;33m(\u001b[0m\u001b[0mfirst_connect_check\u001b[0m\u001b[1;33m=\u001b[0m\u001b[1;32mTrue\u001b[0m\u001b[1;33m)\u001b[0m\u001b[1;33m\u001b[0m\u001b[1;33m\u001b[0m\u001b[0m\n\u001b[0m\u001b[0;32m    441\u001b[0m         \u001b[0mself\u001b[0m\u001b[1;33m.\u001b[0m\u001b[0mfinalize_callback\u001b[0m \u001b[1;33m=\u001b[0m \u001b[0mdeque\u001b[0m\u001b[1;33m(\u001b[0m\u001b[1;33m)\u001b[0m\u001b[1;33m\u001b[0m\u001b[1;33m\u001b[0m\u001b[0m\n",
      "\u001b[1;32m~\\Anaconda3\\lib\\site-packages\\sqlalchemy\\pool\\base.py\u001b[0m in \u001b[0;36m__connect\u001b[1;34m(self, first_connect_check)\u001b[0m\n\u001b[0;32m    660\u001b[0m             \u001b[1;32mwith\u001b[0m \u001b[0mutil\u001b[0m\u001b[1;33m.\u001b[0m\u001b[0msafe_reraise\u001b[0m\u001b[1;33m(\u001b[0m\u001b[1;33m)\u001b[0m\u001b[1;33m:\u001b[0m\u001b[1;33m\u001b[0m\u001b[1;33m\u001b[0m\u001b[0m\n\u001b[1;32m--> 661\u001b[1;33m                 \u001b[0mpool\u001b[0m\u001b[1;33m.\u001b[0m\u001b[0mlogger\u001b[0m\u001b[1;33m.\u001b[0m\u001b[0mdebug\u001b[0m\u001b[1;33m(\u001b[0m\u001b[1;34m\"Error on connect(): %s\"\u001b[0m\u001b[1;33m,\u001b[0m \u001b[0me\u001b[0m\u001b[1;33m)\u001b[0m\u001b[1;33m\u001b[0m\u001b[1;33m\u001b[0m\u001b[0m\n\u001b[0m\u001b[0;32m    662\u001b[0m         \u001b[1;32melse\u001b[0m\u001b[1;33m:\u001b[0m\u001b[1;33m\u001b[0m\u001b[1;33m\u001b[0m\u001b[0m\n",
      "\u001b[1;32m~\\Anaconda3\\lib\\site-packages\\sqlalchemy\\util\\langhelpers.py\u001b[0m in \u001b[0;36m__exit__\u001b[1;34m(self, type_, value, traceback)\u001b[0m\n\u001b[0;32m     67\u001b[0m             \u001b[1;32mif\u001b[0m \u001b[1;32mnot\u001b[0m \u001b[0mself\u001b[0m\u001b[1;33m.\u001b[0m\u001b[0mwarn_only\u001b[0m\u001b[1;33m:\u001b[0m\u001b[1;33m\u001b[0m\u001b[1;33m\u001b[0m\u001b[0m\n\u001b[1;32m---> 68\u001b[1;33m                 compat.raise_(\n\u001b[0m\u001b[0;32m     69\u001b[0m                     \u001b[0mexc_value\u001b[0m\u001b[1;33m,\u001b[0m\u001b[1;33m\u001b[0m\u001b[1;33m\u001b[0m\u001b[0m\n",
      "\u001b[1;32m~\\Anaconda3\\lib\\site-packages\\sqlalchemy\\util\\compat.py\u001b[0m in \u001b[0;36mraise_\u001b[1;34m(***failed resolving arguments***)\u001b[0m\n\u001b[0;32m    181\u001b[0m         \u001b[1;32mtry\u001b[0m\u001b[1;33m:\u001b[0m\u001b[1;33m\u001b[0m\u001b[1;33m\u001b[0m\u001b[0m\n\u001b[1;32m--> 182\u001b[1;33m             \u001b[1;32mraise\u001b[0m \u001b[0mexception\u001b[0m\u001b[1;33m\u001b[0m\u001b[1;33m\u001b[0m\u001b[0m\n\u001b[0m\u001b[0;32m    183\u001b[0m         \u001b[1;32mfinally\u001b[0m\u001b[1;33m:\u001b[0m\u001b[1;33m\u001b[0m\u001b[1;33m\u001b[0m\u001b[0m\n",
      "\u001b[1;32m~\\Anaconda3\\lib\\site-packages\\sqlalchemy\\pool\\base.py\u001b[0m in \u001b[0;36m__connect\u001b[1;34m(self, first_connect_check)\u001b[0m\n\u001b[0;32m    655\u001b[0m             \u001b[0mself\u001b[0m\u001b[1;33m.\u001b[0m\u001b[0mstarttime\u001b[0m \u001b[1;33m=\u001b[0m \u001b[0mtime\u001b[0m\u001b[1;33m.\u001b[0m\u001b[0mtime\u001b[0m\u001b[1;33m(\u001b[0m\u001b[1;33m)\u001b[0m\u001b[1;33m\u001b[0m\u001b[1;33m\u001b[0m\u001b[0m\n\u001b[1;32m--> 656\u001b[1;33m             \u001b[0mconnection\u001b[0m \u001b[1;33m=\u001b[0m \u001b[0mpool\u001b[0m\u001b[1;33m.\u001b[0m\u001b[0m_invoke_creator\u001b[0m\u001b[1;33m(\u001b[0m\u001b[0mself\u001b[0m\u001b[1;33m)\u001b[0m\u001b[1;33m\u001b[0m\u001b[1;33m\u001b[0m\u001b[0m\n\u001b[0m\u001b[0;32m    657\u001b[0m             \u001b[0mpool\u001b[0m\u001b[1;33m.\u001b[0m\u001b[0mlogger\u001b[0m\u001b[1;33m.\u001b[0m\u001b[0mdebug\u001b[0m\u001b[1;33m(\u001b[0m\u001b[1;34m\"Created new connection %r\"\u001b[0m\u001b[1;33m,\u001b[0m \u001b[0mconnection\u001b[0m\u001b[1;33m)\u001b[0m\u001b[1;33m\u001b[0m\u001b[1;33m\u001b[0m\u001b[0m\n",
      "\u001b[1;32m~\\Anaconda3\\lib\\site-packages\\sqlalchemy\\engine\\strategies.py\u001b[0m in \u001b[0;36mconnect\u001b[1;34m(connection_record)\u001b[0m\n\u001b[0;32m    113\u001b[0m                             \u001b[1;32mreturn\u001b[0m \u001b[0mconnection\u001b[0m\u001b[1;33m\u001b[0m\u001b[1;33m\u001b[0m\u001b[0m\n\u001b[1;32m--> 114\u001b[1;33m                 \u001b[1;32mreturn\u001b[0m \u001b[0mdialect\u001b[0m\u001b[1;33m.\u001b[0m\u001b[0mconnect\u001b[0m\u001b[1;33m(\u001b[0m\u001b[1;33m*\u001b[0m\u001b[0mcargs\u001b[0m\u001b[1;33m,\u001b[0m \u001b[1;33m**\u001b[0m\u001b[0mcparams\u001b[0m\u001b[1;33m)\u001b[0m\u001b[1;33m\u001b[0m\u001b[1;33m\u001b[0m\u001b[0m\n\u001b[0m\u001b[0;32m    115\u001b[0m \u001b[1;33m\u001b[0m\u001b[0m\n",
      "\u001b[1;32m~\\Anaconda3\\lib\\site-packages\\sqlalchemy\\engine\\default.py\u001b[0m in \u001b[0;36mconnect\u001b[1;34m(self, *cargs, **cparams)\u001b[0m\n\u001b[0;32m    492\u001b[0m         \u001b[1;31m# inherits the docstring from interfaces.Dialect.connect\u001b[0m\u001b[1;33m\u001b[0m\u001b[1;33m\u001b[0m\u001b[1;33m\u001b[0m\u001b[0m\n\u001b[1;32m--> 493\u001b[1;33m         \u001b[1;32mreturn\u001b[0m \u001b[0mself\u001b[0m\u001b[1;33m.\u001b[0m\u001b[0mdbapi\u001b[0m\u001b[1;33m.\u001b[0m\u001b[0mconnect\u001b[0m\u001b[1;33m(\u001b[0m\u001b[1;33m*\u001b[0m\u001b[0mcargs\u001b[0m\u001b[1;33m,\u001b[0m \u001b[1;33m**\u001b[0m\u001b[0mcparams\u001b[0m\u001b[1;33m)\u001b[0m\u001b[1;33m\u001b[0m\u001b[1;33m\u001b[0m\u001b[0m\n\u001b[0m\u001b[0;32m    494\u001b[0m \u001b[1;33m\u001b[0m\u001b[0m\n",
      "\u001b[1;32m~\\Anaconda3\\lib\\site-packages\\psycopg2\\__init__.py\u001b[0m in \u001b[0;36mconnect\u001b[1;34m(dsn, connection_factory, cursor_factory, **kwargs)\u001b[0m\n\u001b[0;32m    126\u001b[0m     \u001b[0mdsn\u001b[0m \u001b[1;33m=\u001b[0m \u001b[0m_ext\u001b[0m\u001b[1;33m.\u001b[0m\u001b[0mmake_dsn\u001b[0m\u001b[1;33m(\u001b[0m\u001b[0mdsn\u001b[0m\u001b[1;33m,\u001b[0m \u001b[1;33m**\u001b[0m\u001b[0mkwargs\u001b[0m\u001b[1;33m)\u001b[0m\u001b[1;33m\u001b[0m\u001b[1;33m\u001b[0m\u001b[0m\n\u001b[1;32m--> 127\u001b[1;33m     \u001b[0mconn\u001b[0m \u001b[1;33m=\u001b[0m \u001b[0m_connect\u001b[0m\u001b[1;33m(\u001b[0m\u001b[0mdsn\u001b[0m\u001b[1;33m,\u001b[0m \u001b[0mconnection_factory\u001b[0m\u001b[1;33m=\u001b[0m\u001b[0mconnection_factory\u001b[0m\u001b[1;33m,\u001b[0m \u001b[1;33m**\u001b[0m\u001b[0mkwasync\u001b[0m\u001b[1;33m)\u001b[0m\u001b[1;33m\u001b[0m\u001b[1;33m\u001b[0m\u001b[0m\n\u001b[0m\u001b[0;32m    128\u001b[0m     \u001b[1;32mif\u001b[0m \u001b[0mcursor_factory\u001b[0m \u001b[1;32mis\u001b[0m \u001b[1;32mnot\u001b[0m \u001b[1;32mNone\u001b[0m\u001b[1;33m:\u001b[0m\u001b[1;33m\u001b[0m\u001b[1;33m\u001b[0m\u001b[0m\n",
      "\u001b[1;31mOperationalError\u001b[0m: FATAL:  no pg_hba.conf entry for host \"10.16.116.121\", user \"tech_lims\", database \"algo\", SSL off\n",
      "\nThe above exception was the direct cause of the following exception:\n",
      "\u001b[1;31mOperationalError\u001b[0m                          Traceback (most recent call last)",
      "\u001b[1;32m<ipython-input-3-7a30d9e6a291>\u001b[0m in \u001b[0;36m<module>\u001b[1;34m\u001b[0m\n\u001b[0;32m     46\u001b[0m \u001b[1;33m\u001b[0m\u001b[0m\n\u001b[0;32m     47\u001b[0m \u001b[1;31m# read a table from database into pandas dataframe, replace \"tablename\" with your table name\u001b[0m\u001b[1;33m\u001b[0m\u001b[1;33m\u001b[0m\u001b[1;33m\u001b[0m\u001b[0m\n\u001b[1;32m---> 48\u001b[1;33m \u001b[0mOFZ_table\u001b[0m \u001b[1;33m=\u001b[0m \u001b[0mpd\u001b[0m\u001b[1;33m.\u001b[0m\u001b[0mread_sql\u001b[0m\u001b[1;33m(\u001b[0m\u001b[0msql\u001b[0m\u001b[1;33m,\u001b[0m\u001b[0mengine\u001b[0m\u001b[1;33m)\u001b[0m\u001b[1;33m\u001b[0m\u001b[1;33m\u001b[0m\u001b[0m\n\u001b[0m",
      "\u001b[1;32m~\\Anaconda3\\lib\\site-packages\\pandas\\io\\sql.py\u001b[0m in \u001b[0;36mread_sql\u001b[1;34m(sql, con, index_col, coerce_float, params, parse_dates, columns, chunksize)\u001b[0m\n\u001b[0;32m    507\u001b[0m         )\n\u001b[0;32m    508\u001b[0m     \u001b[1;32melse\u001b[0m\u001b[1;33m:\u001b[0m\u001b[1;33m\u001b[0m\u001b[1;33m\u001b[0m\u001b[0m\n\u001b[1;32m--> 509\u001b[1;33m         return pandas_sql.read_query(\n\u001b[0m\u001b[0;32m    510\u001b[0m             \u001b[0msql\u001b[0m\u001b[1;33m,\u001b[0m\u001b[1;33m\u001b[0m\u001b[1;33m\u001b[0m\u001b[0m\n\u001b[0;32m    511\u001b[0m             \u001b[0mindex_col\u001b[0m\u001b[1;33m=\u001b[0m\u001b[0mindex_col\u001b[0m\u001b[1;33m,\u001b[0m\u001b[1;33m\u001b[0m\u001b[1;33m\u001b[0m\u001b[0m\n",
      "\u001b[1;32m~\\Anaconda3\\lib\\site-packages\\pandas\\io\\sql.py\u001b[0m in \u001b[0;36mread_query\u001b[1;34m(self, sql, index_col, coerce_float, parse_dates, params, chunksize)\u001b[0m\n\u001b[0;32m   1293\u001b[0m         \u001b[0margs\u001b[0m \u001b[1;33m=\u001b[0m \u001b[0m_convert_params\u001b[0m\u001b[1;33m(\u001b[0m\u001b[0msql\u001b[0m\u001b[1;33m,\u001b[0m \u001b[0mparams\u001b[0m\u001b[1;33m)\u001b[0m\u001b[1;33m\u001b[0m\u001b[1;33m\u001b[0m\u001b[0m\n\u001b[0;32m   1294\u001b[0m \u001b[1;33m\u001b[0m\u001b[0m\n\u001b[1;32m-> 1295\u001b[1;33m         \u001b[0mresult\u001b[0m \u001b[1;33m=\u001b[0m \u001b[0mself\u001b[0m\u001b[1;33m.\u001b[0m\u001b[0mexecute\u001b[0m\u001b[1;33m(\u001b[0m\u001b[1;33m*\u001b[0m\u001b[0margs\u001b[0m\u001b[1;33m)\u001b[0m\u001b[1;33m\u001b[0m\u001b[1;33m\u001b[0m\u001b[0m\n\u001b[0m\u001b[0;32m   1296\u001b[0m         \u001b[0mcolumns\u001b[0m \u001b[1;33m=\u001b[0m \u001b[0mresult\u001b[0m\u001b[1;33m.\u001b[0m\u001b[0mkeys\u001b[0m\u001b[1;33m(\u001b[0m\u001b[1;33m)\u001b[0m\u001b[1;33m\u001b[0m\u001b[1;33m\u001b[0m\u001b[0m\n\u001b[0;32m   1297\u001b[0m \u001b[1;33m\u001b[0m\u001b[0m\n",
      "\u001b[1;32m~\\Anaconda3\\lib\\site-packages\\pandas\\io\\sql.py\u001b[0m in \u001b[0;36mexecute\u001b[1;34m(self, *args, **kwargs)\u001b[0m\n\u001b[0;32m   1159\u001b[0m     \u001b[1;32mdef\u001b[0m \u001b[0mexecute\u001b[0m\u001b[1;33m(\u001b[0m\u001b[0mself\u001b[0m\u001b[1;33m,\u001b[0m \u001b[1;33m*\u001b[0m\u001b[0margs\u001b[0m\u001b[1;33m,\u001b[0m \u001b[1;33m**\u001b[0m\u001b[0mkwargs\u001b[0m\u001b[1;33m)\u001b[0m\u001b[1;33m:\u001b[0m\u001b[1;33m\u001b[0m\u001b[1;33m\u001b[0m\u001b[0m\n\u001b[0;32m   1160\u001b[0m         \u001b[1;34m\"\"\"Simple passthrough to SQLAlchemy connectable\"\"\"\u001b[0m\u001b[1;33m\u001b[0m\u001b[1;33m\u001b[0m\u001b[0m\n\u001b[1;32m-> 1161\u001b[1;33m         return self.connectable.execution_options(no_parameters=True).execute(\n\u001b[0m\u001b[0;32m   1162\u001b[0m             \u001b[1;33m*\u001b[0m\u001b[0margs\u001b[0m\u001b[1;33m,\u001b[0m \u001b[1;33m**\u001b[0m\u001b[0mkwargs\u001b[0m\u001b[1;33m\u001b[0m\u001b[1;33m\u001b[0m\u001b[0m\n\u001b[0;32m   1163\u001b[0m         )\n",
      "\u001b[1;32m~\\Anaconda3\\lib\\site-packages\\sqlalchemy\\engine\\base.py\u001b[0m in \u001b[0;36mexecute\u001b[1;34m(self, statement, *multiparams, **params)\u001b[0m\n\u001b[0;32m   2232\u001b[0m         \"\"\"\n\u001b[0;32m   2233\u001b[0m \u001b[1;33m\u001b[0m\u001b[0m\n\u001b[1;32m-> 2234\u001b[1;33m         \u001b[0mconnection\u001b[0m \u001b[1;33m=\u001b[0m \u001b[0mself\u001b[0m\u001b[1;33m.\u001b[0m\u001b[0m_contextual_connect\u001b[0m\u001b[1;33m(\u001b[0m\u001b[0mclose_with_result\u001b[0m\u001b[1;33m=\u001b[0m\u001b[1;32mTrue\u001b[0m\u001b[1;33m)\u001b[0m\u001b[1;33m\u001b[0m\u001b[1;33m\u001b[0m\u001b[0m\n\u001b[0m\u001b[0;32m   2235\u001b[0m         \u001b[1;32mreturn\u001b[0m \u001b[0mconnection\u001b[0m\u001b[1;33m.\u001b[0m\u001b[0mexecute\u001b[0m\u001b[1;33m(\u001b[0m\u001b[0mstatement\u001b[0m\u001b[1;33m,\u001b[0m \u001b[1;33m*\u001b[0m\u001b[0mmultiparams\u001b[0m\u001b[1;33m,\u001b[0m \u001b[1;33m**\u001b[0m\u001b[0mparams\u001b[0m\u001b[1;33m)\u001b[0m\u001b[1;33m\u001b[0m\u001b[1;33m\u001b[0m\u001b[0m\n\u001b[0;32m   2236\u001b[0m \u001b[1;33m\u001b[0m\u001b[0m\n",
      "\u001b[1;32m~\\Anaconda3\\lib\\site-packages\\sqlalchemy\\engine\\base.py\u001b[0m in \u001b[0;36m_contextual_connect\u001b[1;34m(self, close_with_result, **kwargs)\u001b[0m\n\u001b[0;32m   2300\u001b[0m         return self._connection_cls(\n\u001b[0;32m   2301\u001b[0m             \u001b[0mself\u001b[0m\u001b[1;33m,\u001b[0m\u001b[1;33m\u001b[0m\u001b[1;33m\u001b[0m\u001b[0m\n\u001b[1;32m-> 2302\u001b[1;33m             \u001b[0mself\u001b[0m\u001b[1;33m.\u001b[0m\u001b[0m_wrap_pool_connect\u001b[0m\u001b[1;33m(\u001b[0m\u001b[0mself\u001b[0m\u001b[1;33m.\u001b[0m\u001b[0mpool\u001b[0m\u001b[1;33m.\u001b[0m\u001b[0mconnect\u001b[0m\u001b[1;33m,\u001b[0m \u001b[1;32mNone\u001b[0m\u001b[1;33m)\u001b[0m\u001b[1;33m,\u001b[0m\u001b[1;33m\u001b[0m\u001b[1;33m\u001b[0m\u001b[0m\n\u001b[0m\u001b[0;32m   2303\u001b[0m             \u001b[0mclose_with_result\u001b[0m\u001b[1;33m=\u001b[0m\u001b[0mclose_with_result\u001b[0m\u001b[1;33m,\u001b[0m\u001b[1;33m\u001b[0m\u001b[1;33m\u001b[0m\u001b[0m\n\u001b[0;32m   2304\u001b[0m             \u001b[1;33m**\u001b[0m\u001b[0mkwargs\u001b[0m\u001b[1;33m\u001b[0m\u001b[1;33m\u001b[0m\u001b[0m\n",
      "\u001b[1;32m~\\Anaconda3\\lib\\site-packages\\sqlalchemy\\engine\\base.py\u001b[0m in \u001b[0;36m_wrap_pool_connect\u001b[1;34m(self, fn, connection)\u001b[0m\n\u001b[0;32m   2337\u001b[0m         \u001b[1;32mexcept\u001b[0m \u001b[0mdialect\u001b[0m\u001b[1;33m.\u001b[0m\u001b[0mdbapi\u001b[0m\u001b[1;33m.\u001b[0m\u001b[0mError\u001b[0m \u001b[1;32mas\u001b[0m \u001b[0me\u001b[0m\u001b[1;33m:\u001b[0m\u001b[1;33m\u001b[0m\u001b[1;33m\u001b[0m\u001b[0m\n\u001b[0;32m   2338\u001b[0m             \u001b[1;32mif\u001b[0m \u001b[0mconnection\u001b[0m \u001b[1;32mis\u001b[0m \u001b[1;32mNone\u001b[0m\u001b[1;33m:\u001b[0m\u001b[1;33m\u001b[0m\u001b[1;33m\u001b[0m\u001b[0m\n\u001b[1;32m-> 2339\u001b[1;33m                 Connection._handle_dbapi_exception_noconnection(\n\u001b[0m\u001b[0;32m   2340\u001b[0m                     \u001b[0me\u001b[0m\u001b[1;33m,\u001b[0m \u001b[0mdialect\u001b[0m\u001b[1;33m,\u001b[0m \u001b[0mself\u001b[0m\u001b[1;33m\u001b[0m\u001b[1;33m\u001b[0m\u001b[0m\n\u001b[0;32m   2341\u001b[0m                 )\n",
      "\u001b[1;32m~\\Anaconda3\\lib\\site-packages\\sqlalchemy\\engine\\base.py\u001b[0m in \u001b[0;36m_handle_dbapi_exception_noconnection\u001b[1;34m(cls, e, dialect, engine)\u001b[0m\n\u001b[0;32m   1581\u001b[0m             \u001b[0mutil\u001b[0m\u001b[1;33m.\u001b[0m\u001b[0mraise_\u001b[0m\u001b[1;33m(\u001b[0m\u001b[0mnewraise\u001b[0m\u001b[1;33m,\u001b[0m \u001b[0mwith_traceback\u001b[0m\u001b[1;33m=\u001b[0m\u001b[0mexc_info\u001b[0m\u001b[1;33m[\u001b[0m\u001b[1;36m2\u001b[0m\u001b[1;33m]\u001b[0m\u001b[1;33m,\u001b[0m \u001b[0mfrom_\u001b[0m\u001b[1;33m=\u001b[0m\u001b[0me\u001b[0m\u001b[1;33m)\u001b[0m\u001b[1;33m\u001b[0m\u001b[1;33m\u001b[0m\u001b[0m\n\u001b[0;32m   1582\u001b[0m         \u001b[1;32melif\u001b[0m \u001b[0mshould_wrap\u001b[0m\u001b[1;33m:\u001b[0m\u001b[1;33m\u001b[0m\u001b[1;33m\u001b[0m\u001b[0m\n\u001b[1;32m-> 1583\u001b[1;33m             util.raise_(\n\u001b[0m\u001b[0;32m   1584\u001b[0m                 \u001b[0msqlalchemy_exception\u001b[0m\u001b[1;33m,\u001b[0m \u001b[0mwith_traceback\u001b[0m\u001b[1;33m=\u001b[0m\u001b[0mexc_info\u001b[0m\u001b[1;33m[\u001b[0m\u001b[1;36m2\u001b[0m\u001b[1;33m]\u001b[0m\u001b[1;33m,\u001b[0m \u001b[0mfrom_\u001b[0m\u001b[1;33m=\u001b[0m\u001b[0me\u001b[0m\u001b[1;33m\u001b[0m\u001b[1;33m\u001b[0m\u001b[0m\n\u001b[0;32m   1585\u001b[0m             )\n",
      "\u001b[1;32m~\\Anaconda3\\lib\\site-packages\\sqlalchemy\\util\\compat.py\u001b[0m in \u001b[0;36mraise_\u001b[1;34m(***failed resolving arguments***)\u001b[0m\n\u001b[0;32m    180\u001b[0m \u001b[1;33m\u001b[0m\u001b[0m\n\u001b[0;32m    181\u001b[0m         \u001b[1;32mtry\u001b[0m\u001b[1;33m:\u001b[0m\u001b[1;33m\u001b[0m\u001b[1;33m\u001b[0m\u001b[0m\n\u001b[1;32m--> 182\u001b[1;33m             \u001b[1;32mraise\u001b[0m \u001b[0mexception\u001b[0m\u001b[1;33m\u001b[0m\u001b[1;33m\u001b[0m\u001b[0m\n\u001b[0m\u001b[0;32m    183\u001b[0m         \u001b[1;32mfinally\u001b[0m\u001b[1;33m:\u001b[0m\u001b[1;33m\u001b[0m\u001b[1;33m\u001b[0m\u001b[0m\n\u001b[0;32m    184\u001b[0m             \u001b[1;31m# credit to\u001b[0m\u001b[1;33m\u001b[0m\u001b[1;33m\u001b[0m\u001b[1;33m\u001b[0m\u001b[0m\n",
      "\u001b[1;32m~\\Anaconda3\\lib\\site-packages\\sqlalchemy\\engine\\base.py\u001b[0m in \u001b[0;36m_wrap_pool_connect\u001b[1;34m(self, fn, connection)\u001b[0m\n\u001b[0;32m   2334\u001b[0m         \u001b[0mdialect\u001b[0m \u001b[1;33m=\u001b[0m \u001b[0mself\u001b[0m\u001b[1;33m.\u001b[0m\u001b[0mdialect\u001b[0m\u001b[1;33m\u001b[0m\u001b[1;33m\u001b[0m\u001b[0m\n\u001b[0;32m   2335\u001b[0m         \u001b[1;32mtry\u001b[0m\u001b[1;33m:\u001b[0m\u001b[1;33m\u001b[0m\u001b[1;33m\u001b[0m\u001b[0m\n\u001b[1;32m-> 2336\u001b[1;33m             \u001b[1;32mreturn\u001b[0m \u001b[0mfn\u001b[0m\u001b[1;33m(\u001b[0m\u001b[1;33m)\u001b[0m\u001b[1;33m\u001b[0m\u001b[1;33m\u001b[0m\u001b[0m\n\u001b[0m\u001b[0;32m   2337\u001b[0m         \u001b[1;32mexcept\u001b[0m \u001b[0mdialect\u001b[0m\u001b[1;33m.\u001b[0m\u001b[0mdbapi\u001b[0m\u001b[1;33m.\u001b[0m\u001b[0mError\u001b[0m \u001b[1;32mas\u001b[0m \u001b[0me\u001b[0m\u001b[1;33m:\u001b[0m\u001b[1;33m\u001b[0m\u001b[1;33m\u001b[0m\u001b[0m\n\u001b[0;32m   2338\u001b[0m             \u001b[1;32mif\u001b[0m \u001b[0mconnection\u001b[0m \u001b[1;32mis\u001b[0m \u001b[1;32mNone\u001b[0m\u001b[1;33m:\u001b[0m\u001b[1;33m\u001b[0m\u001b[1;33m\u001b[0m\u001b[0m\n",
      "\u001b[1;32m~\\Anaconda3\\lib\\site-packages\\sqlalchemy\\pool\\base.py\u001b[0m in \u001b[0;36mconnect\u001b[1;34m(self)\u001b[0m\n\u001b[0;32m    362\u001b[0m         \"\"\"\n\u001b[0;32m    363\u001b[0m         \u001b[1;32mif\u001b[0m \u001b[1;32mnot\u001b[0m \u001b[0mself\u001b[0m\u001b[1;33m.\u001b[0m\u001b[0m_use_threadlocal\u001b[0m\u001b[1;33m:\u001b[0m\u001b[1;33m\u001b[0m\u001b[1;33m\u001b[0m\u001b[0m\n\u001b[1;32m--> 364\u001b[1;33m             \u001b[1;32mreturn\u001b[0m \u001b[0m_ConnectionFairy\u001b[0m\u001b[1;33m.\u001b[0m\u001b[0m_checkout\u001b[0m\u001b[1;33m(\u001b[0m\u001b[0mself\u001b[0m\u001b[1;33m)\u001b[0m\u001b[1;33m\u001b[0m\u001b[1;33m\u001b[0m\u001b[0m\n\u001b[0m\u001b[0;32m    365\u001b[0m \u001b[1;33m\u001b[0m\u001b[0m\n\u001b[0;32m    366\u001b[0m         \u001b[1;32mtry\u001b[0m\u001b[1;33m:\u001b[0m\u001b[1;33m\u001b[0m\u001b[1;33m\u001b[0m\u001b[0m\n",
      "\u001b[1;32m~\\Anaconda3\\lib\\site-packages\\sqlalchemy\\pool\\base.py\u001b[0m in \u001b[0;36m_checkout\u001b[1;34m(cls, pool, threadconns, fairy)\u001b[0m\n\u001b[0;32m    776\u001b[0m     \u001b[1;32mdef\u001b[0m \u001b[0m_checkout\u001b[0m\u001b[1;33m(\u001b[0m\u001b[0mcls\u001b[0m\u001b[1;33m,\u001b[0m \u001b[0mpool\u001b[0m\u001b[1;33m,\u001b[0m \u001b[0mthreadconns\u001b[0m\u001b[1;33m=\u001b[0m\u001b[1;32mNone\u001b[0m\u001b[1;33m,\u001b[0m \u001b[0mfairy\u001b[0m\u001b[1;33m=\u001b[0m\u001b[1;32mNone\u001b[0m\u001b[1;33m)\u001b[0m\u001b[1;33m:\u001b[0m\u001b[1;33m\u001b[0m\u001b[1;33m\u001b[0m\u001b[0m\n\u001b[0;32m    777\u001b[0m         \u001b[1;32mif\u001b[0m \u001b[1;32mnot\u001b[0m \u001b[0mfairy\u001b[0m\u001b[1;33m:\u001b[0m\u001b[1;33m\u001b[0m\u001b[1;33m\u001b[0m\u001b[0m\n\u001b[1;32m--> 778\u001b[1;33m             \u001b[0mfairy\u001b[0m \u001b[1;33m=\u001b[0m \u001b[0m_ConnectionRecord\u001b[0m\u001b[1;33m.\u001b[0m\u001b[0mcheckout\u001b[0m\u001b[1;33m(\u001b[0m\u001b[0mpool\u001b[0m\u001b[1;33m)\u001b[0m\u001b[1;33m\u001b[0m\u001b[1;33m\u001b[0m\u001b[0m\n\u001b[0m\u001b[0;32m    779\u001b[0m \u001b[1;33m\u001b[0m\u001b[0m\n\u001b[0;32m    780\u001b[0m             \u001b[0mfairy\u001b[0m\u001b[1;33m.\u001b[0m\u001b[0m_pool\u001b[0m \u001b[1;33m=\u001b[0m \u001b[0mpool\u001b[0m\u001b[1;33m\u001b[0m\u001b[1;33m\u001b[0m\u001b[0m\n",
      "\u001b[1;32m~\\Anaconda3\\lib\\site-packages\\sqlalchemy\\pool\\base.py\u001b[0m in \u001b[0;36mcheckout\u001b[1;34m(cls, pool)\u001b[0m\n\u001b[0;32m    493\u001b[0m     \u001b[1;33m@\u001b[0m\u001b[0mclassmethod\u001b[0m\u001b[1;33m\u001b[0m\u001b[1;33m\u001b[0m\u001b[0m\n\u001b[0;32m    494\u001b[0m     \u001b[1;32mdef\u001b[0m \u001b[0mcheckout\u001b[0m\u001b[1;33m(\u001b[0m\u001b[0mcls\u001b[0m\u001b[1;33m,\u001b[0m \u001b[0mpool\u001b[0m\u001b[1;33m)\u001b[0m\u001b[1;33m:\u001b[0m\u001b[1;33m\u001b[0m\u001b[1;33m\u001b[0m\u001b[0m\n\u001b[1;32m--> 495\u001b[1;33m         \u001b[0mrec\u001b[0m \u001b[1;33m=\u001b[0m \u001b[0mpool\u001b[0m\u001b[1;33m.\u001b[0m\u001b[0m_do_get\u001b[0m\u001b[1;33m(\u001b[0m\u001b[1;33m)\u001b[0m\u001b[1;33m\u001b[0m\u001b[1;33m\u001b[0m\u001b[0m\n\u001b[0m\u001b[0;32m    496\u001b[0m         \u001b[1;32mtry\u001b[0m\u001b[1;33m:\u001b[0m\u001b[1;33m\u001b[0m\u001b[1;33m\u001b[0m\u001b[0m\n\u001b[0;32m    497\u001b[0m             \u001b[0mdbapi_connection\u001b[0m \u001b[1;33m=\u001b[0m \u001b[0mrec\u001b[0m\u001b[1;33m.\u001b[0m\u001b[0mget_connection\u001b[0m\u001b[1;33m(\u001b[0m\u001b[1;33m)\u001b[0m\u001b[1;33m\u001b[0m\u001b[1;33m\u001b[0m\u001b[0m\n",
      "\u001b[1;32m~\\Anaconda3\\lib\\site-packages\\sqlalchemy\\pool\\impl.py\u001b[0m in \u001b[0;36m_do_get\u001b[1;34m(self)\u001b[0m\n\u001b[0;32m    138\u001b[0m             \u001b[1;32mexcept\u001b[0m\u001b[1;33m:\u001b[0m\u001b[1;33m\u001b[0m\u001b[1;33m\u001b[0m\u001b[0m\n\u001b[0;32m    139\u001b[0m                 \u001b[1;32mwith\u001b[0m \u001b[0mutil\u001b[0m\u001b[1;33m.\u001b[0m\u001b[0msafe_reraise\u001b[0m\u001b[1;33m(\u001b[0m\u001b[1;33m)\u001b[0m\u001b[1;33m:\u001b[0m\u001b[1;33m\u001b[0m\u001b[1;33m\u001b[0m\u001b[0m\n\u001b[1;32m--> 140\u001b[1;33m                     \u001b[0mself\u001b[0m\u001b[1;33m.\u001b[0m\u001b[0m_dec_overflow\u001b[0m\u001b[1;33m(\u001b[0m\u001b[1;33m)\u001b[0m\u001b[1;33m\u001b[0m\u001b[1;33m\u001b[0m\u001b[0m\n\u001b[0m\u001b[0;32m    141\u001b[0m         \u001b[1;32melse\u001b[0m\u001b[1;33m:\u001b[0m\u001b[1;33m\u001b[0m\u001b[1;33m\u001b[0m\u001b[0m\n\u001b[0;32m    142\u001b[0m             \u001b[1;32mreturn\u001b[0m \u001b[0mself\u001b[0m\u001b[1;33m.\u001b[0m\u001b[0m_do_get\u001b[0m\u001b[1;33m(\u001b[0m\u001b[1;33m)\u001b[0m\u001b[1;33m\u001b[0m\u001b[1;33m\u001b[0m\u001b[0m\n",
      "\u001b[1;32m~\\Anaconda3\\lib\\site-packages\\sqlalchemy\\util\\langhelpers.py\u001b[0m in \u001b[0;36m__exit__\u001b[1;34m(self, type_, value, traceback)\u001b[0m\n\u001b[0;32m     66\u001b[0m             \u001b[0mself\u001b[0m\u001b[1;33m.\u001b[0m\u001b[0m_exc_info\u001b[0m \u001b[1;33m=\u001b[0m \u001b[1;32mNone\u001b[0m  \u001b[1;31m# remove potential circular references\u001b[0m\u001b[1;33m\u001b[0m\u001b[1;33m\u001b[0m\u001b[0m\n\u001b[0;32m     67\u001b[0m             \u001b[1;32mif\u001b[0m \u001b[1;32mnot\u001b[0m \u001b[0mself\u001b[0m\u001b[1;33m.\u001b[0m\u001b[0mwarn_only\u001b[0m\u001b[1;33m:\u001b[0m\u001b[1;33m\u001b[0m\u001b[1;33m\u001b[0m\u001b[0m\n\u001b[1;32m---> 68\u001b[1;33m                 compat.raise_(\n\u001b[0m\u001b[0;32m     69\u001b[0m                     \u001b[0mexc_value\u001b[0m\u001b[1;33m,\u001b[0m\u001b[1;33m\u001b[0m\u001b[1;33m\u001b[0m\u001b[0m\n\u001b[0;32m     70\u001b[0m                     \u001b[0mwith_traceback\u001b[0m\u001b[1;33m=\u001b[0m\u001b[0mexc_tb\u001b[0m\u001b[1;33m,\u001b[0m\u001b[1;33m\u001b[0m\u001b[1;33m\u001b[0m\u001b[0m\n",
      "\u001b[1;32m~\\Anaconda3\\lib\\site-packages\\sqlalchemy\\util\\compat.py\u001b[0m in \u001b[0;36mraise_\u001b[1;34m(***failed resolving arguments***)\u001b[0m\n\u001b[0;32m    180\u001b[0m \u001b[1;33m\u001b[0m\u001b[0m\n\u001b[0;32m    181\u001b[0m         \u001b[1;32mtry\u001b[0m\u001b[1;33m:\u001b[0m\u001b[1;33m\u001b[0m\u001b[1;33m\u001b[0m\u001b[0m\n\u001b[1;32m--> 182\u001b[1;33m             \u001b[1;32mraise\u001b[0m \u001b[0mexception\u001b[0m\u001b[1;33m\u001b[0m\u001b[1;33m\u001b[0m\u001b[0m\n\u001b[0m\u001b[0;32m    183\u001b[0m         \u001b[1;32mfinally\u001b[0m\u001b[1;33m:\u001b[0m\u001b[1;33m\u001b[0m\u001b[1;33m\u001b[0m\u001b[0m\n\u001b[0;32m    184\u001b[0m             \u001b[1;31m# credit to\u001b[0m\u001b[1;33m\u001b[0m\u001b[1;33m\u001b[0m\u001b[1;33m\u001b[0m\u001b[0m\n",
      "\u001b[1;32m~\\Anaconda3\\lib\\site-packages\\sqlalchemy\\pool\\impl.py\u001b[0m in \u001b[0;36m_do_get\u001b[1;34m(self)\u001b[0m\n\u001b[0;32m    135\u001b[0m         \u001b[1;32mif\u001b[0m \u001b[0mself\u001b[0m\u001b[1;33m.\u001b[0m\u001b[0m_inc_overflow\u001b[0m\u001b[1;33m(\u001b[0m\u001b[1;33m)\u001b[0m\u001b[1;33m:\u001b[0m\u001b[1;33m\u001b[0m\u001b[1;33m\u001b[0m\u001b[0m\n\u001b[0;32m    136\u001b[0m             \u001b[1;32mtry\u001b[0m\u001b[1;33m:\u001b[0m\u001b[1;33m\u001b[0m\u001b[1;33m\u001b[0m\u001b[0m\n\u001b[1;32m--> 137\u001b[1;33m                 \u001b[1;32mreturn\u001b[0m \u001b[0mself\u001b[0m\u001b[1;33m.\u001b[0m\u001b[0m_create_connection\u001b[0m\u001b[1;33m(\u001b[0m\u001b[1;33m)\u001b[0m\u001b[1;33m\u001b[0m\u001b[1;33m\u001b[0m\u001b[0m\n\u001b[0m\u001b[0;32m    138\u001b[0m             \u001b[1;32mexcept\u001b[0m\u001b[1;33m:\u001b[0m\u001b[1;33m\u001b[0m\u001b[1;33m\u001b[0m\u001b[0m\n\u001b[0;32m    139\u001b[0m                 \u001b[1;32mwith\u001b[0m \u001b[0mutil\u001b[0m\u001b[1;33m.\u001b[0m\u001b[0msafe_reraise\u001b[0m\u001b[1;33m(\u001b[0m\u001b[1;33m)\u001b[0m\u001b[1;33m:\u001b[0m\u001b[1;33m\u001b[0m\u001b[1;33m\u001b[0m\u001b[0m\n",
      "\u001b[1;32m~\\Anaconda3\\lib\\site-packages\\sqlalchemy\\pool\\base.py\u001b[0m in \u001b[0;36m_create_connection\u001b[1;34m(self)\u001b[0m\n\u001b[0;32m    307\u001b[0m         \u001b[1;34m\"\"\"Called by subclasses to create a new ConnectionRecord.\"\"\"\u001b[0m\u001b[1;33m\u001b[0m\u001b[1;33m\u001b[0m\u001b[0m\n\u001b[0;32m    308\u001b[0m \u001b[1;33m\u001b[0m\u001b[0m\n\u001b[1;32m--> 309\u001b[1;33m         \u001b[1;32mreturn\u001b[0m \u001b[0m_ConnectionRecord\u001b[0m\u001b[1;33m(\u001b[0m\u001b[0mself\u001b[0m\u001b[1;33m)\u001b[0m\u001b[1;33m\u001b[0m\u001b[1;33m\u001b[0m\u001b[0m\n\u001b[0m\u001b[0;32m    310\u001b[0m \u001b[1;33m\u001b[0m\u001b[0m\n\u001b[0;32m    311\u001b[0m     \u001b[1;32mdef\u001b[0m \u001b[0m_invalidate\u001b[0m\u001b[1;33m(\u001b[0m\u001b[0mself\u001b[0m\u001b[1;33m,\u001b[0m \u001b[0mconnection\u001b[0m\u001b[1;33m,\u001b[0m \u001b[0mexception\u001b[0m\u001b[1;33m=\u001b[0m\u001b[1;32mNone\u001b[0m\u001b[1;33m,\u001b[0m \u001b[0m_checkin\u001b[0m\u001b[1;33m=\u001b[0m\u001b[1;32mTrue\u001b[0m\u001b[1;33m)\u001b[0m\u001b[1;33m:\u001b[0m\u001b[1;33m\u001b[0m\u001b[1;33m\u001b[0m\u001b[0m\n",
      "\u001b[1;32m~\\Anaconda3\\lib\\site-packages\\sqlalchemy\\pool\\base.py\u001b[0m in \u001b[0;36m__init__\u001b[1;34m(self, pool, connect)\u001b[0m\n\u001b[0;32m    438\u001b[0m         \u001b[0mself\u001b[0m\u001b[1;33m.\u001b[0m\u001b[0m__pool\u001b[0m \u001b[1;33m=\u001b[0m \u001b[0mpool\u001b[0m\u001b[1;33m\u001b[0m\u001b[1;33m\u001b[0m\u001b[0m\n\u001b[0;32m    439\u001b[0m         \u001b[1;32mif\u001b[0m \u001b[0mconnect\u001b[0m\u001b[1;33m:\u001b[0m\u001b[1;33m\u001b[0m\u001b[1;33m\u001b[0m\u001b[0m\n\u001b[1;32m--> 440\u001b[1;33m             \u001b[0mself\u001b[0m\u001b[1;33m.\u001b[0m\u001b[0m__connect\u001b[0m\u001b[1;33m(\u001b[0m\u001b[0mfirst_connect_check\u001b[0m\u001b[1;33m=\u001b[0m\u001b[1;32mTrue\u001b[0m\u001b[1;33m)\u001b[0m\u001b[1;33m\u001b[0m\u001b[1;33m\u001b[0m\u001b[0m\n\u001b[0m\u001b[0;32m    441\u001b[0m         \u001b[0mself\u001b[0m\u001b[1;33m.\u001b[0m\u001b[0mfinalize_callback\u001b[0m \u001b[1;33m=\u001b[0m \u001b[0mdeque\u001b[0m\u001b[1;33m(\u001b[0m\u001b[1;33m)\u001b[0m\u001b[1;33m\u001b[0m\u001b[1;33m\u001b[0m\u001b[0m\n\u001b[0;32m    442\u001b[0m \u001b[1;33m\u001b[0m\u001b[0m\n",
      "\u001b[1;32m~\\Anaconda3\\lib\\site-packages\\sqlalchemy\\pool\\base.py\u001b[0m in \u001b[0;36m__connect\u001b[1;34m(self, first_connect_check)\u001b[0m\n\u001b[0;32m    659\u001b[0m         \u001b[1;32mexcept\u001b[0m \u001b[0mException\u001b[0m \u001b[1;32mas\u001b[0m \u001b[0me\u001b[0m\u001b[1;33m:\u001b[0m\u001b[1;33m\u001b[0m\u001b[1;33m\u001b[0m\u001b[0m\n\u001b[0;32m    660\u001b[0m             \u001b[1;32mwith\u001b[0m \u001b[0mutil\u001b[0m\u001b[1;33m.\u001b[0m\u001b[0msafe_reraise\u001b[0m\u001b[1;33m(\u001b[0m\u001b[1;33m)\u001b[0m\u001b[1;33m:\u001b[0m\u001b[1;33m\u001b[0m\u001b[1;33m\u001b[0m\u001b[0m\n\u001b[1;32m--> 661\u001b[1;33m                 \u001b[0mpool\u001b[0m\u001b[1;33m.\u001b[0m\u001b[0mlogger\u001b[0m\u001b[1;33m.\u001b[0m\u001b[0mdebug\u001b[0m\u001b[1;33m(\u001b[0m\u001b[1;34m\"Error on connect(): %s\"\u001b[0m\u001b[1;33m,\u001b[0m \u001b[0me\u001b[0m\u001b[1;33m)\u001b[0m\u001b[1;33m\u001b[0m\u001b[1;33m\u001b[0m\u001b[0m\n\u001b[0m\u001b[0;32m    662\u001b[0m         \u001b[1;32melse\u001b[0m\u001b[1;33m:\u001b[0m\u001b[1;33m\u001b[0m\u001b[1;33m\u001b[0m\u001b[0m\n\u001b[0;32m    663\u001b[0m             \u001b[1;32mif\u001b[0m \u001b[0mfirst_connect_check\u001b[0m\u001b[1;33m:\u001b[0m\u001b[1;33m\u001b[0m\u001b[1;33m\u001b[0m\u001b[0m\n",
      "\u001b[1;32m~\\Anaconda3\\lib\\site-packages\\sqlalchemy\\util\\langhelpers.py\u001b[0m in \u001b[0;36m__exit__\u001b[1;34m(self, type_, value, traceback)\u001b[0m\n\u001b[0;32m     66\u001b[0m             \u001b[0mself\u001b[0m\u001b[1;33m.\u001b[0m\u001b[0m_exc_info\u001b[0m \u001b[1;33m=\u001b[0m \u001b[1;32mNone\u001b[0m  \u001b[1;31m# remove potential circular references\u001b[0m\u001b[1;33m\u001b[0m\u001b[1;33m\u001b[0m\u001b[0m\n\u001b[0;32m     67\u001b[0m             \u001b[1;32mif\u001b[0m \u001b[1;32mnot\u001b[0m \u001b[0mself\u001b[0m\u001b[1;33m.\u001b[0m\u001b[0mwarn_only\u001b[0m\u001b[1;33m:\u001b[0m\u001b[1;33m\u001b[0m\u001b[1;33m\u001b[0m\u001b[0m\n\u001b[1;32m---> 68\u001b[1;33m                 compat.raise_(\n\u001b[0m\u001b[0;32m     69\u001b[0m                     \u001b[0mexc_value\u001b[0m\u001b[1;33m,\u001b[0m\u001b[1;33m\u001b[0m\u001b[1;33m\u001b[0m\u001b[0m\n\u001b[0;32m     70\u001b[0m                     \u001b[0mwith_traceback\u001b[0m\u001b[1;33m=\u001b[0m\u001b[0mexc_tb\u001b[0m\u001b[1;33m,\u001b[0m\u001b[1;33m\u001b[0m\u001b[1;33m\u001b[0m\u001b[0m\n",
      "\u001b[1;32m~\\Anaconda3\\lib\\site-packages\\sqlalchemy\\util\\compat.py\u001b[0m in \u001b[0;36mraise_\u001b[1;34m(***failed resolving arguments***)\u001b[0m\n\u001b[0;32m    180\u001b[0m \u001b[1;33m\u001b[0m\u001b[0m\n\u001b[0;32m    181\u001b[0m         \u001b[1;32mtry\u001b[0m\u001b[1;33m:\u001b[0m\u001b[1;33m\u001b[0m\u001b[1;33m\u001b[0m\u001b[0m\n\u001b[1;32m--> 182\u001b[1;33m             \u001b[1;32mraise\u001b[0m \u001b[0mexception\u001b[0m\u001b[1;33m\u001b[0m\u001b[1;33m\u001b[0m\u001b[0m\n\u001b[0m\u001b[0;32m    183\u001b[0m         \u001b[1;32mfinally\u001b[0m\u001b[1;33m:\u001b[0m\u001b[1;33m\u001b[0m\u001b[1;33m\u001b[0m\u001b[0m\n\u001b[0;32m    184\u001b[0m             \u001b[1;31m# credit to\u001b[0m\u001b[1;33m\u001b[0m\u001b[1;33m\u001b[0m\u001b[1;33m\u001b[0m\u001b[0m\n",
      "\u001b[1;32m~\\Anaconda3\\lib\\site-packages\\sqlalchemy\\pool\\base.py\u001b[0m in \u001b[0;36m__connect\u001b[1;34m(self, first_connect_check)\u001b[0m\n\u001b[0;32m    654\u001b[0m         \u001b[1;32mtry\u001b[0m\u001b[1;33m:\u001b[0m\u001b[1;33m\u001b[0m\u001b[1;33m\u001b[0m\u001b[0m\n\u001b[0;32m    655\u001b[0m             \u001b[0mself\u001b[0m\u001b[1;33m.\u001b[0m\u001b[0mstarttime\u001b[0m \u001b[1;33m=\u001b[0m \u001b[0mtime\u001b[0m\u001b[1;33m.\u001b[0m\u001b[0mtime\u001b[0m\u001b[1;33m(\u001b[0m\u001b[1;33m)\u001b[0m\u001b[1;33m\u001b[0m\u001b[1;33m\u001b[0m\u001b[0m\n\u001b[1;32m--> 656\u001b[1;33m             \u001b[0mconnection\u001b[0m \u001b[1;33m=\u001b[0m \u001b[0mpool\u001b[0m\u001b[1;33m.\u001b[0m\u001b[0m_invoke_creator\u001b[0m\u001b[1;33m(\u001b[0m\u001b[0mself\u001b[0m\u001b[1;33m)\u001b[0m\u001b[1;33m\u001b[0m\u001b[1;33m\u001b[0m\u001b[0m\n\u001b[0m\u001b[0;32m    657\u001b[0m             \u001b[0mpool\u001b[0m\u001b[1;33m.\u001b[0m\u001b[0mlogger\u001b[0m\u001b[1;33m.\u001b[0m\u001b[0mdebug\u001b[0m\u001b[1;33m(\u001b[0m\u001b[1;34m\"Created new connection %r\"\u001b[0m\u001b[1;33m,\u001b[0m \u001b[0mconnection\u001b[0m\u001b[1;33m)\u001b[0m\u001b[1;33m\u001b[0m\u001b[1;33m\u001b[0m\u001b[0m\n\u001b[0;32m    658\u001b[0m             \u001b[0mself\u001b[0m\u001b[1;33m.\u001b[0m\u001b[0mconnection\u001b[0m \u001b[1;33m=\u001b[0m \u001b[0mconnection\u001b[0m\u001b[1;33m\u001b[0m\u001b[1;33m\u001b[0m\u001b[0m\n",
      "\u001b[1;32m~\\Anaconda3\\lib\\site-packages\\sqlalchemy\\engine\\strategies.py\u001b[0m in \u001b[0;36mconnect\u001b[1;34m(connection_record)\u001b[0m\n\u001b[0;32m    112\u001b[0m                         \u001b[1;32mif\u001b[0m \u001b[0mconnection\u001b[0m \u001b[1;32mis\u001b[0m \u001b[1;32mnot\u001b[0m \u001b[1;32mNone\u001b[0m\u001b[1;33m:\u001b[0m\u001b[1;33m\u001b[0m\u001b[1;33m\u001b[0m\u001b[0m\n\u001b[0;32m    113\u001b[0m                             \u001b[1;32mreturn\u001b[0m \u001b[0mconnection\u001b[0m\u001b[1;33m\u001b[0m\u001b[1;33m\u001b[0m\u001b[0m\n\u001b[1;32m--> 114\u001b[1;33m                 \u001b[1;32mreturn\u001b[0m \u001b[0mdialect\u001b[0m\u001b[1;33m.\u001b[0m\u001b[0mconnect\u001b[0m\u001b[1;33m(\u001b[0m\u001b[1;33m*\u001b[0m\u001b[0mcargs\u001b[0m\u001b[1;33m,\u001b[0m \u001b[1;33m**\u001b[0m\u001b[0mcparams\u001b[0m\u001b[1;33m)\u001b[0m\u001b[1;33m\u001b[0m\u001b[1;33m\u001b[0m\u001b[0m\n\u001b[0m\u001b[0;32m    115\u001b[0m \u001b[1;33m\u001b[0m\u001b[0m\n\u001b[0;32m    116\u001b[0m             \u001b[0mcreator\u001b[0m \u001b[1;33m=\u001b[0m \u001b[0mpop_kwarg\u001b[0m\u001b[1;33m(\u001b[0m\u001b[1;34m\"creator\"\u001b[0m\u001b[1;33m,\u001b[0m \u001b[0mconnect\u001b[0m\u001b[1;33m)\u001b[0m\u001b[1;33m\u001b[0m\u001b[1;33m\u001b[0m\u001b[0m\n",
      "\u001b[1;32m~\\Anaconda3\\lib\\site-packages\\sqlalchemy\\engine\\default.py\u001b[0m in \u001b[0;36mconnect\u001b[1;34m(self, *cargs, **cparams)\u001b[0m\n\u001b[0;32m    491\u001b[0m     \u001b[1;32mdef\u001b[0m \u001b[0mconnect\u001b[0m\u001b[1;33m(\u001b[0m\u001b[0mself\u001b[0m\u001b[1;33m,\u001b[0m \u001b[1;33m*\u001b[0m\u001b[0mcargs\u001b[0m\u001b[1;33m,\u001b[0m \u001b[1;33m**\u001b[0m\u001b[0mcparams\u001b[0m\u001b[1;33m)\u001b[0m\u001b[1;33m:\u001b[0m\u001b[1;33m\u001b[0m\u001b[1;33m\u001b[0m\u001b[0m\n\u001b[0;32m    492\u001b[0m         \u001b[1;31m# inherits the docstring from interfaces.Dialect.connect\u001b[0m\u001b[1;33m\u001b[0m\u001b[1;33m\u001b[0m\u001b[1;33m\u001b[0m\u001b[0m\n\u001b[1;32m--> 493\u001b[1;33m         \u001b[1;32mreturn\u001b[0m \u001b[0mself\u001b[0m\u001b[1;33m.\u001b[0m\u001b[0mdbapi\u001b[0m\u001b[1;33m.\u001b[0m\u001b[0mconnect\u001b[0m\u001b[1;33m(\u001b[0m\u001b[1;33m*\u001b[0m\u001b[0mcargs\u001b[0m\u001b[1;33m,\u001b[0m \u001b[1;33m**\u001b[0m\u001b[0mcparams\u001b[0m\u001b[1;33m)\u001b[0m\u001b[1;33m\u001b[0m\u001b[1;33m\u001b[0m\u001b[0m\n\u001b[0m\u001b[0;32m    494\u001b[0m \u001b[1;33m\u001b[0m\u001b[0m\n\u001b[0;32m    495\u001b[0m     \u001b[1;32mdef\u001b[0m \u001b[0mcreate_connect_args\u001b[0m\u001b[1;33m(\u001b[0m\u001b[0mself\u001b[0m\u001b[1;33m,\u001b[0m \u001b[0murl\u001b[0m\u001b[1;33m)\u001b[0m\u001b[1;33m:\u001b[0m\u001b[1;33m\u001b[0m\u001b[1;33m\u001b[0m\u001b[0m\n",
      "\u001b[1;32m~\\Anaconda3\\lib\\site-packages\\psycopg2\\__init__.py\u001b[0m in \u001b[0;36mconnect\u001b[1;34m(dsn, connection_factory, cursor_factory, **kwargs)\u001b[0m\n\u001b[0;32m    125\u001b[0m \u001b[1;33m\u001b[0m\u001b[0m\n\u001b[0;32m    126\u001b[0m     \u001b[0mdsn\u001b[0m \u001b[1;33m=\u001b[0m \u001b[0m_ext\u001b[0m\u001b[1;33m.\u001b[0m\u001b[0mmake_dsn\u001b[0m\u001b[1;33m(\u001b[0m\u001b[0mdsn\u001b[0m\u001b[1;33m,\u001b[0m \u001b[1;33m**\u001b[0m\u001b[0mkwargs\u001b[0m\u001b[1;33m)\u001b[0m\u001b[1;33m\u001b[0m\u001b[1;33m\u001b[0m\u001b[0m\n\u001b[1;32m--> 127\u001b[1;33m     \u001b[0mconn\u001b[0m \u001b[1;33m=\u001b[0m \u001b[0m_connect\u001b[0m\u001b[1;33m(\u001b[0m\u001b[0mdsn\u001b[0m\u001b[1;33m,\u001b[0m \u001b[0mconnection_factory\u001b[0m\u001b[1;33m=\u001b[0m\u001b[0mconnection_factory\u001b[0m\u001b[1;33m,\u001b[0m \u001b[1;33m**\u001b[0m\u001b[0mkwasync\u001b[0m\u001b[1;33m)\u001b[0m\u001b[1;33m\u001b[0m\u001b[1;33m\u001b[0m\u001b[0m\n\u001b[0m\u001b[0;32m    128\u001b[0m     \u001b[1;32mif\u001b[0m \u001b[0mcursor_factory\u001b[0m \u001b[1;32mis\u001b[0m \u001b[1;32mnot\u001b[0m \u001b[1;32mNone\u001b[0m\u001b[1;33m:\u001b[0m\u001b[1;33m\u001b[0m\u001b[1;33m\u001b[0m\u001b[0m\n\u001b[0;32m    129\u001b[0m         \u001b[0mconn\u001b[0m\u001b[1;33m.\u001b[0m\u001b[0mcursor_factory\u001b[0m \u001b[1;33m=\u001b[0m \u001b[0mcursor_factory\u001b[0m\u001b[1;33m\u001b[0m\u001b[1;33m\u001b[0m\u001b[0m\n",
      "\u001b[1;31mOperationalError\u001b[0m: (psycopg2.OperationalError) FATAL:  no pg_hba.conf entry for host \"10.16.116.121\", user \"tech_lims\", database \"algo\", SSL off\n\n(Background on this error at: http://sqlalche.me/e/13/e3q8)"
     ]
    }
   ],
   "source": [
    "# follows django database settings format, replace with your own settings\n",
    "DATABASES = {\n",
    "    'algo':{\n",
    "        'NAME': 'algo',\n",
    "        'USER': 'tech_lims',\n",
    "        'PASSWORD': 'tech_lims1',\n",
    "        'HOST': 'gp6node1',\n",
    "        'PORT': 5432,\n",
    "    },\n",
    "}\n",
    "\n",
    "# choose the database to use\n",
    "db = DATABASES['algo']\n",
    "\n",
    "# construct an engine connection string\n",
    "engine_string = \"postgresql+psycopg2://{user}:{password}@{host}:{port}/{database}\".format(\n",
    "    user = db['USER'],\n",
    "    password = db['PASSWORD'],\n",
    "    host = db['HOST'],\n",
    "    port = db['PORT'],\n",
    "    database = db['NAME'],\n",
    ")\n",
    "\n",
    "# create sqlalchemy engine\n",
    "engine = create_engine(engine_string)\n",
    "\n",
    "\n",
    "\n",
    "#download data from the excel-list\n",
    "my_sheet = 'MICEX_OFZ'\n",
    "file_name = r'C:\\Users\\pzapolsky\\Desktop\\123\\All_symbols_03122020.xlsx'\n",
    "wb_ofz = read_excel(file_name, sheet_name = my_sheet)\n",
    "wb_ofz = wb_ofz.rename({'Unnamed: 0':'SECID', 'Unnamed: 1':'SHORTNAME', 'Unnamed: 2':'NAME', 'Unnamed: 3':'TYPENAME', 'Unnamed: 4':'ISIN'}, axis = 1).drop([0])\n",
    "wb_ofz['SQL_query_ID'] = \"'%%\"+wb_ofz['SECID']+\"%%'\"\n",
    "\n",
    "#Prepare a query\n",
    "list_ofz = list(wb_ofz['SQL_query_ID'])\n",
    "list_ofz\n",
    "ofz = \"select * from tickdata.quotes where symbol='MICEX.BND.SU26233RMFS5.M2' and quotedate >'2020-09-01' and quotedate <='2021-03-22'\\n\"\n",
    "\n",
    "# Make a query\n",
    "\n",
    "sql = \\\n",
    "ofz\n",
    "\n",
    " \n",
    "# read a table from database into pandas dataframe, replace \"tablename\" with your table name\n",
    "OFZ_table = pd.read_sql(sql,engine)"
   ]
  },
  {
   "cell_type": "code",
   "execution_count": null,
   "metadata": {},
   "outputs": [],
   "source": [
    "OFZq = pd.read_csv('OFZq.csv')\n",
    "OFZq = OFZq.drop(['quote_id', 'tfutsettdate', 'tfutsettdateask', 'tfutsettdatebid','ttransacttime'], axis=1)\n",
    "OFZq.symbol = OFZq.symbol.apply(lambda x: x if (x.split('.')[-1] == 'M2') else np.NAN)\n",
    "OFZq = OFZq.dropna()\n",
    "\n",
    "OFZq = OFZq[OFZq['bid_size'] > 0]\n",
    "OFZq.local_timestamp = [OFZq.quotedate.iloc[i] + \" \" + OFZq.local_timestamp.iloc[i].split('.')[0] for i in range(OFZq.shape[0])]\n",
    "OFZq['timestamp'] = OFZq['local_timestamp'].apply(lambda x: dt.datetime.strptime(x, '%Y-%m-%d %H:%M:%S') )\n",
    "OFZq['bid_size'] = OFZq['bid_size']*OFZq['bid']/100\n",
    "OFZq['ask_size'] = OFZq['ask_size']*OFZq['ask']/100\n",
    "\n",
    "OFZq = OFZq[(OFZq.symbol != 'MICEX.BND.SU52003RMFS9.M2') & (OFZq.symbol != 'MICEX.BND.SU24021RMFS6.M2') & (OFZq.symbol != 'MICEX.BND.SU29014RMFS6.M2')\n",
    "   & (OFZq.symbol != 'MICEX.BND.SU29012RMFS0.M2') & (OFZq.symbol != 'MICEX.BND.SU29006RMFS2.M2')\n",
    "   & (OFZq.symbol != 'MICEX.BND.SU29018RMFS7.M2') & (OFZq.symbol != 'MICEX.BND.SU29020RMFS3.M2')\n",
    "   & (OFZq.symbol != 'MICEX.BND.SU29010RMFS4.M2') & (OFZq.symbol != 'MICEX.BND.SU52002RMFS1.M2')\n",
    "    & (OFZq.symbol != 'MICEX.BND.SU29019RMFS5.M2') & (OFZq.symbol != 'MICEX.BND.SU29016RMFS1.M2')]\n",
    "\n",
    "Names = pd.read_excel('All_symbols_03122020.xlsx', sheet_name = 'MICEX_OFZ')\n",
    "Names = Names.rename({'Unnamed: 0':'SECID', 'Unnamed: 1':'SHORTNAME', 'Unnamed: 2':'NAME', 'Unnamed: 3':'TYPENAME',\n",
    "                      'Unnamed: 4':'ISIN', 'Unnamed: 5':'Type', 'Unnamed: 6':'Maturity', 'Unnamed: 7':'Ticker'}, axis =1).drop(0)\n",
    "\n",
    "Names = Names.drop([55, 56, 57])\n",
    "\n",
    "Names.Maturity = [pd.to_datetime(Names.Maturity.iloc[i]) for i in range(Names.shape[0])]\n",
    "\n",
    "OFZq['s'] = [OFZq.symbol.iloc[i].split('.')[2] for i in range(OFZq.shape[0])]\n",
    "OFZq['old'] = [((Names[Names.SECID == OFZq.iloc[i].s].Maturity.iloc[0]) -  pd.to_datetime(OFZq.quotedate.iloc[i])).days/365 for i in range(OFZq.shape[0])]\n",
    "OFZq['ticker'] = [(Names[Names.SECID == OFZq.iloc[i].s].Ticker.iloc[0]) for i in range(OFZq.shape[0])]\n",
    "\n",
    "OFZq = OFZq.set_index('timestamp')\n",
    "OFZq = OFZq.sort_index()\n",
    "\n",
    "OFZq.to_csv('OFZq230_old.csv')"
   ]
  },
  {
   "cell_type": "code",
   "execution_count": null,
   "metadata": {},
   "outputs": [],
   "source": [
    "OFZ = pd.read_csv('OFZ_trades.csv')\n",
    "OFZ.symbol = OFZ.symbol.apply(lambda x: x if (x.split('.')[-1] == 'M2') else np.NAN)\n",
    "OFZ = OFZ.dropna()\n",
    "\n",
    "OFZ = OFZ[OFZ['size'] > 0]\n",
    "OFZ.trade_timestamp = [OFZ.trade_timestamp.iloc[i].split('.')[0] for i in range(OFZ.shape[0])]\n",
    "OFZ['timestamp'] = OFZ['trade_timestamp'].apply(lambda x: dt.datetime.strptime(x, '%Y-%m-%d %H:%M:%S') )\n",
    "OFZ['size'] = OFZ['size']*OFZ['price']/100\n",
    "\n",
    "OFZ = OFZ[(OFZ.symbol != 'MICEX.BND.SU52003RMFS9.M2') & (OFZ.symbol != 'MICEX.BND.SU24021RMFS6.M2') & (OFZ.symbol != 'MICEX.BND.SU29014RMFS6.M2')\n",
    "   & (OFZ.symbol != 'MICEX.BND.SU29012RMFS0.M2') & (OFZ.symbol != 'MICEX.BND.SU29006RMFS2.M2')\n",
    "   & (OFZ.symbol != 'MICEX.BND.SU29018RMFS7.M2') & (OFZ.symbol != 'MICEX.BND.SU29020RMFS3.M2')\n",
    "   & (OFZ.symbol != 'MICEX.BND.SU29010RMFS4.M2') & (OFZ.symbol != 'MICEX.BND.SU52002RMFS1.M2')\n",
    "    & (OFZ.symbol != 'MICEX.BND.SU29019RMFS5.M2') & (OFZ.symbol != 'MICEX.BND.SU29016RMFS1.M2')]\n",
    "\n",
    "Names = pd.read_excel('All_symbols_03122020.xlsx', sheet_name = 'MICEX_OFZ')\n",
    "Names = Names.rename({'Unnamed: 0':'SECID', 'Unnamed: 1':'SHORTNAME', 'Unnamed: 2':'NAME', 'Unnamed: 3':'TYPENAME',\n",
    "                      'Unnamed: 4':'ISIN', 'Unnamed: 5':'Type', 'Unnamed: 6':'Maturity', 'Unnamed: 7':'Ticker'}, axis =1).drop(0)\n",
    "\n",
    "Names = Names.drop([55, 56, 57])\n",
    "\n",
    "Names.Maturity = [pd.to_datetime(Names.Maturity.iloc[i]) for i in range(Names.shape[0])]\n",
    "\n",
    "OFZ['s'] = [OFZ.symbol.iloc[i].split('.')[2] for i in range(OFZ.shape[0])]\n",
    "OFZ['old'] = [((Names[Names.SECID == OFZ.iloc[i].s].Maturity.iloc[0]) - dt.datetime.today()).days/365 for i in range(OFZ.shape[0])]\n",
    "OFZ['ticker'] = [(Names[Names.SECID == OFZ.iloc[i].s].Ticker.iloc[0]) for i in range(OFZ.shape[0])]\n",
    "\n",
    "OFZ = OFZ.set_index('timestamp')\n",
    "OFZ = OFZ.sort_index()\n",
    "OFZ.to_csv('OFZ_old.csv')"
   ]
  },
  {
   "cell_type": "code",
   "execution_count": null,
   "metadata": {},
   "outputs": [],
   "source": [
    "OFZ = pd.read_csv('OFZ_old.csv')\n",
    "OFZq = pd.read_csv('OFZq233_old.csv')\n",
    "OFZq.bid = np.round(OFZq.bid,3)\n",
    "OFZq.ask = np.round(OFZq.ask,3)\n",
    "OFZ.price = np.round(OFZ.price,3)\n",
    "OFZq.timestamp = pd.to_datetime(OFZq.timestamp)\n",
    "OFZ.timestamp = pd.to_datetime(OFZ.timestamp)"
   ]
  },
  {
   "cell_type": "code",
   "execution_count": null,
   "metadata": {},
   "outputs": [],
   "source": [
    "all_ = sorted(set(np.concatenate((np.array(OFZq.bid), np.array(OFZq.ask), np.array(OFZ.price)),  axis=None)))\n",
    "\n",
    "d = {}\n",
    "for i in all_:\n",
    "    d[i] = blp.bdp('ZS990244     Corp', \"YAS_BOND_YLD\", YAS_BOND_PX=i, SETTLE_DT='20201215').iloc[0][0] "
   ]
  },
  {
   "cell_type": "code",
   "execution_count": null,
   "metadata": {},
   "outputs": [],
   "source": [
    "OFZq.bid = [d[OFZq.bid[i]] for i in range(OFZq.shape[0])]\n",
    "OFZq.ask = [d[OFZq.ask[i]] for i in range(OFZq.shape[0])]\n",
    "OFZ.price = [d[OFZ.price.iloc[i]] for i in range(OFZ.shape[0])]"
   ]
  },
  {
   "cell_type": "code",
   "execution_count": null,
   "metadata": {},
   "outputs": [],
   "source": [
    "OFZq.to_csv('230yldq.csv')\n",
    "OFZ.to_csv('230yld.csv')"
   ]
  },
  {
   "cell_type": "code",
   "execution_count": 27,
   "metadata": {},
   "outputs": [],
   "source": [
    "OFZq = pd.read_csv('230yldq.csv')\n",
    "OFZ = pd.read_csv('230yld.csv')\n",
    "OFZq.timestamp = pd.to_datetime(OFZq.timestamp)\n",
    "OFZ.timestamp = pd.to_datetime(OFZ.timestamp)\n",
    "OFZ = OFZ.set_index('timestamp')\n",
    "OFZq = OFZq.set_index('timestamp')"
   ]
  },
  {
   "cell_type": "code",
   "execution_count": 28,
   "metadata": {},
   "outputs": [],
   "source": [
    "OFZ230 = OFZ[OFZ.index >= OFZq.index[0]][OFZ[OFZ.index >= OFZq.index[0]].s == 'SU26230RMFS1']"
   ]
  },
  {
   "cell_type": "markdown",
   "metadata": {},
   "source": [
    "# intraday"
   ]
  },
  {
   "cell_type": "code",
   "execution_count": 29,
   "metadata": {},
   "outputs": [],
   "source": [
    "OFZ.index = [pd.to_datetime(dt.datetime(2020, 1, 1, OFZ.index[i].hour, OFZ.index[i].minute, OFZ.index[i].second)) for i in range(OFZ.shape[0]) ]"
   ]
  },
  {
   "cell_type": "code",
   "execution_count": 30,
   "metadata": {},
   "outputs": [],
   "source": [
    "OFZ_5 = OFZ[OFZ.old < 5]\n",
    "OFZ5_10 = OFZ[(OFZ.old > 5) & (OFZ.old < 10)]\n",
    "OFZ10_ = OFZ[(OFZ.old > 10)]"
   ]
  },
  {
   "cell_type": "code",
   "execution_count": 31,
   "metadata": {},
   "outputs": [],
   "source": [
    "mean_price = OFZ_5.groupby(['tradedate', 's']).mean()['price']\n",
    "OFZ_5['price'] = [ OFZ_5['price'].iloc[i] - mean_price.loc[(OFZ_5['tradedate'].iloc[i],  OFZ_5['s'].iloc[i])] for i in range(OFZ_5.shape[0])]\n",
    "mean_price = OFZ5_10.groupby(['tradedate', 's']).mean()['price']\n",
    "OFZ5_10['price'] = [ OFZ5_10['price'].iloc[i] - mean_price.loc[(OFZ5_10['tradedate'].iloc[i],  OFZ5_10['s'].iloc[i])] for i in range(OFZ5_10.shape[0])]\n",
    "mean_price = OFZ10_.groupby(['tradedate', 's']).mean()['price']\n",
    "OFZ10_['price'] = [ OFZ10_['price'].iloc[i] - mean_price.loc[(OFZ10_['tradedate'].iloc[i],  OFZ10_['s'].iloc[i])] for i in range(OFZ10_.shape[0])]"
   ]
  },
  {
   "cell_type": "code",
   "execution_count": 32,
   "metadata": {},
   "outputs": [],
   "source": [
    "OFZ_5 = OFZ_5.groupby(pd.Grouper(freq='30min')).mean()\n",
    "OFZ5_10 = OFZ5_10.groupby(pd.Grouper(freq='30min')).mean()\n",
    "OFZ10_ = OFZ10_.groupby(pd.Grouper(freq='30min')).mean()"
   ]
  },
  {
   "cell_type": "code",
   "execution_count": 33,
   "metadata": {},
   "outputs": [],
   "source": [
    "OFZ_5.index = [OFZ_5.index[i].time() for i in range(OFZ_5.shape[0])]\n",
    "OFZ5_10.index = [OFZ5_10.index[i].time() for i in range(OFZ5_10.shape[0])]\n",
    "OFZ10_.index = [OFZ10_.index[i].time() for i in range(OFZ10_.shape[0])]"
   ]
  },
  {
   "cell_type": "code",
   "execution_count": 34,
   "metadata": {},
   "outputs": [],
   "source": [
    "OFZ_5 = OFZ_5.drop([OFZ_5.index[0]])\n",
    "OFZ5_10 = OFZ5_10.drop([OFZ5_10.index[0]])\n",
    "OFZ10_ = OFZ10_.drop([OFZ10_.index[0]])"
   ]
  },
  {
   "cell_type": "code",
   "execution_count": 35,
   "metadata": {},
   "outputs": [],
   "source": [
    "OFZ_5['price'] = OFZ_5['price'] - OFZ_5['price'].mean()\n",
    "OFZ5_10['price'] = OFZ5_10['price'] - OFZ5_10['price'].mean()\n",
    "OFZ10_['price'] = OFZ10_['price'] - OFZ10_['price'].mean()"
   ]
  },
  {
   "cell_type": "code",
   "execution_count": null,
   "metadata": {},
   "outputs": [],
   "source": []
  },
  {
   "cell_type": "code",
   "execution_count": 36,
   "metadata": {},
   "outputs": [],
   "source": [
    "Names = pd.read_excel('All_symbols_03122020.xlsx', sheet_name = 'MICEX_OFZ')\n",
    "Names = Names.rename({'Unnamed: 0':'SECID', 'Unnamed: 1':'SHORTNAME', 'Unnamed: 2':'NAME', 'Unnamed: 3':'TYPENAME',\n",
    "                      'Unnamed: 4':'ISIN', 'Unnamed: 5':'Type', 'Unnamed: 6':'Maturity', 'Unnamed: 7':'Ticker'}, axis =1).drop(0)\n",
    "\n",
    "Names = Names.drop([55, 56, 57])\n",
    "\n",
    "Names.Maturity = [pd.to_datetime(Names.Maturity.iloc[i]) for i in range(Names.shape[0])]\n"
   ]
  },
  {
   "cell_type": "code",
   "execution_count": 117,
   "metadata": {},
   "outputs": [],
   "source": [
    "our = pd.read_excel('Our_trades.xlsx')\n",
    "our = our[our['Folder'] == 'CT_CIB_PT']\n",
    "our = our[our['Counterparty'] == 'NKCBN']"
   ]
  },
  {
   "cell_type": "code",
   "execution_count": 118,
   "metadata": {
    "scrolled": true
   },
   "outputs": [],
   "source": [
    "our['old'] = [(our.Maturity - our.SettlementDate).iloc[i].days/365 for i in range(our.shape[0])]"
   ]
  },
  {
   "cell_type": "code",
   "execution_count": 119,
   "metadata": {},
   "outputs": [],
   "source": [
    "our['time'] = [dt.datetime(2020, 1, 1, our.TradeTime.iloc[i].hour, our.TradeTime.iloc[i].minute, our.TradeTime.iloc[i].second) for i in range(our.shape[0])]"
   ]
  },
  {
   "cell_type": "code",
   "execution_count": 131,
   "metadata": {},
   "outputs": [],
   "source": [
    "our['Price'] = our.apply(lambda x: -x.Price if x.BuySell == 'S' else x.Price, axis=1)\n",
    "our['v'] = our.Quantity * our.Price"
   ]
  },
  {
   "cell_type": "code",
   "execution_count": 132,
   "metadata": {},
   "outputs": [],
   "source": [
    "our_5 = our[our.old < 5]\n",
    "our5_10 = our[(our.old < 10) & (our.old > 5)]\n",
    "our10_ = our[our.old > 10]"
   ]
  },
  {
   "cell_type": "code",
   "execution_count": 133,
   "metadata": {},
   "outputs": [],
   "source": [
    "our_5 = our_5.set_index('time').groupby(pd.Grouper(freq='30min')).sum().v\n",
    "our5_10 = our5_10.set_index('time').groupby(pd.Grouper(freq='30min')).sum().v\n",
    "our10_ = our10_.set_index('time').groupby(pd.Grouper(freq='30min')).sum().v"
   ]
  },
  {
   "cell_type": "code",
   "execution_count": null,
   "metadata": {},
   "outputs": [],
   "source": []
  },
  {
   "cell_type": "code",
   "execution_count": 136,
   "metadata": {},
   "outputs": [],
   "source": [
    "OFZ5_10['size'] /= OFZ5_10['size'].sum()\n",
    "OFZ10_['size'] /= OFZ10_['size'].sum()\n",
    "OFZ_5['size'] /= OFZ_5['size'].sum()"
   ]
  },
  {
   "cell_type": "code",
   "execution_count": 137,
   "metadata": {},
   "outputs": [],
   "source": [
    "OFZ_5 = OFZ_5.reset_index()\n",
    "OFZ_5['our_5'] = our_5.reset_index().drop('time', axis=1).v\n",
    "OFZ_5 = OFZ_5.set_index('index')\n",
    "\n",
    "OFZ10_ = OFZ10_.reset_index()\n",
    "OFZ10_['our10_'] = our10_.reset_index().drop('time', axis=1).v\n",
    "OFZ10_ = OFZ10_.set_index('index')\n",
    "\n",
    "OFZ5_10 = OFZ5_10.reset_index()\n",
    "OFZ5_10['our5_10'] = OFZ5_10.reset_index().drop('time', axis=1).v\n",
    "OFZ5_10 = OFZ5_10.set_index('index')"
   ]
  },
  {
   "cell_type": "code",
   "execution_count": 159,
   "metadata": {},
   "outputs": [],
   "source": [
    "OFZ5_10['our5_10'] /= OFZ5_10['our5_10'].sum()\n",
    "OFZ10_['our10_'] /= OFZ10_['our10_'].sum()\n",
    "OFZ_5['our_5'] /= OFZ_5['our_5'].sum()"
   ]
  },
  {
   "cell_type": "code",
   "execution_count": 160,
   "metadata": {
    "scrolled": false
   },
   "outputs": [
    {
     "data": {
      "application/vnd.plotly.v1+json": {
       "config": {
        "plotlyServerURL": "https://plot.ly"
       },
       "data": [
        {
         "name": "Price < 5",
         "type": "bar",
         "x": [
          "10:00:00",
          "10:30:00",
          "11:00:00",
          "11:30:00",
          "12:00:00",
          "12:30:00",
          "13:00:00",
          "13:30:00",
          "14:00:00",
          "14:30:00",
          "15:00:00",
          "15:30:00",
          "16:00:00",
          "16:30:00",
          "17:00:00",
          "17:30:00",
          "18:00:00",
          "18:30:00"
         ],
         "xaxis": "x",
         "y": [
          -0.0013686821380670254,
          -0.0014969831806544002,
          -0.0012714031646440403,
          -0.000856668272313254,
          -0.00033907818988729776,
          -0.00036078034114886225,
          -0.00035057750595753864,
          5.800256184960245e-05,
          0.0003909236260526339,
          0.0005152674913300281,
          0.0006105148100364398,
          0.00030740051644678556,
          0.0005535910116021751,
          0.000401575384469032,
          0.0004959272326769199,
          0.0008794530863827156,
          0.0008031924703707657,
          0.0010283246014553195
         ],
         "yaxis": "y"
        },
        {
         "name": "Our Volume < 5",
         "type": "scatter",
         "x": [
          "10:00:00",
          "10:30:00",
          "11:00:00",
          "11:30:00",
          "12:00:00",
          "12:30:00",
          "13:00:00",
          "13:30:00",
          "14:00:00",
          "14:30:00",
          "15:00:00",
          "15:30:00",
          "16:00:00",
          "16:30:00",
          "17:00:00",
          "17:30:00",
          "18:00:00",
          "18:30:00"
         ],
         "xaxis": "x",
         "y": [
          -0.015988113939757038,
          -0.4315721016600144,
          0.06297216541039181,
          0.06876644669636683,
          0.016836058871260492,
          0.21645706027853676,
          0.16705844212532864,
          0.2337784812405048,
          0.24294126924080564,
          -0.03197571988662135,
          0.050735616563183296,
          0.010042351253540714,
          0.1919980058423568,
          0.1157898765372966,
          -0.0255756151381656,
          0.08103387779841559,
          0.08513698848426851,
          -0.038435089717698045
         ],
         "yaxis": "y2"
        },
        {
         "name": "Volume < 5",
         "type": "bar",
         "x": [
          "10:00:00",
          "10:30:00",
          "11:00:00",
          "11:30:00",
          "12:00:00",
          "12:30:00",
          "13:00:00",
          "13:30:00",
          "14:00:00",
          "14:30:00",
          "15:00:00",
          "15:30:00",
          "16:00:00",
          "16:30:00",
          "17:00:00",
          "17:30:00",
          "18:00:00",
          "18:30:00"
         ],
         "xaxis": "x2",
         "y": [
          0.010177646623851693,
          0.014559695935289801,
          0.024371584070883707,
          0.03718962130810289,
          0.036345949310024675,
          0.05216251049560321,
          0.04330208232215698,
          0.06139043925354321,
          0.04368336182138042,
          0.05456527109098072,
          0.04321080870427438,
          0.05818946832150288,
          0.07884971115685367,
          0.07525265443488217,
          0.06069872865062789,
          0.11375311580109264,
          0.07943626590196363,
          0.11286108479698558
         ],
         "yaxis": "y3"
        },
        {
         "name": "Price > 5 and < 10",
         "type": "bar",
         "x": [
          "10:00:00",
          "10:30:00",
          "11:00:00",
          "11:30:00",
          "12:00:00",
          "12:30:00",
          "13:00:00",
          "13:30:00",
          "14:00:00",
          "14:30:00",
          "15:00:00",
          "15:30:00",
          "16:00:00",
          "16:30:00",
          "17:00:00",
          "17:30:00",
          "18:00:00",
          "18:30:00"
         ],
         "xaxis": "x3",
         "y": [
          -0.004309426987029221,
          -0.0053736650582566735,
          -0.004009038077083554,
          -0.002315388640238004,
          -0.0031229750891822693,
          -0.0015600299922844747,
          -0.001582305553097234,
          -0.0005508667830547606,
          0.0009846665775943713,
          -0.0003858433049272242,
          0.0017791570569332012,
          0.0015479344890385375,
          0.0030595640640918896,
          0.0016989711497045908,
          0.002131517984373543,
          0.00323980755213234,
          0.0045807794940666054,
          0.004187141117218329
         ],
         "yaxis": "y5"
        },
        {
         "name": "Our Volume > 5 and < 10",
         "type": "scatter",
         "x": [
          "10:00:00",
          "10:30:00",
          "11:00:00",
          "11:30:00",
          "12:00:00",
          "12:30:00",
          "13:00:00",
          "13:30:00",
          "14:00:00",
          "14:30:00",
          "15:00:00",
          "15:30:00",
          "16:00:00",
          "16:30:00",
          "17:00:00",
          "17:30:00",
          "18:00:00",
          "18:30:00"
         ],
         "xaxis": "x3",
         "y": [
          -0.10369035159332537,
          0.01726358117913689,
          -0.49525349910017624,
          -0.08807375865403844,
          -0.1961630232118441,
          -0.08651958861811226,
          -1.1680764418667235,
          -0.1621400987027297,
          0.03961166966866351,
          0.25910465679538297,
          0.7865030259199118,
          0.6270030717201772,
          0.3399412011001217,
          0.5290475291222011,
          0.03781135877639971,
          0.3880748040423316,
          0.275555863422623,
          null
         ],
         "yaxis": "y6"
        },
        {
         "name": "Volume > 5 and < 10",
         "type": "bar",
         "x": [
          "10:00:00",
          "10:30:00",
          "11:00:00",
          "11:30:00",
          "12:00:00",
          "12:30:00",
          "13:00:00",
          "13:30:00",
          "14:00:00",
          "14:30:00",
          "15:00:00",
          "15:30:00",
          "16:00:00",
          "16:30:00",
          "17:00:00",
          "17:30:00",
          "18:00:00",
          "18:30:00"
         ],
         "xaxis": "x4",
         "y": [
          0.009582257033692972,
          0.010500179654910553,
          0.029928006849864363,
          0.046015567321813576,
          0.0706502446903423,
          0.036923378576993966,
          0.0599437034780229,
          0.0562303468920259,
          0.046375996162379196,
          0.03119639972217849,
          0.058174578982979064,
          0.06732386714615048,
          0.10025858768354572,
          0.07479785558224471,
          0.07251287208602834,
          0.054679247119278886,
          0.10099285279918302,
          0.07391405821836544
         ],
         "yaxis": "y7"
        },
        {
         "name": "Price > 15",
         "type": "bar",
         "x": [
          "10:00:00",
          "10:30:00",
          "11:00:00",
          "11:30:00",
          "12:00:00",
          "12:30:00",
          "13:00:00",
          "13:30:00",
          "14:00:00",
          "14:30:00",
          "15:00:00",
          "15:30:00",
          "16:00:00",
          "16:30:00",
          "17:00:00",
          "17:30:00",
          "18:00:00",
          "18:30:00"
         ],
         "xaxis": "x5",
         "y": [
          -0.01448891476846893,
          -0.01407870124648309,
          -0.00919233188910083,
          -0.007155954406874545,
          -0.006223642860546772,
          -0.005004956396479695,
          -0.0024406717098091136,
          0.002221334540674814,
          0.0019098196029786972,
          0.0049621904952002645,
          0.00429116771417055,
          0.0033916916403581533,
          0.0063582316456290405,
          0.0036938524641425058,
          0.007678744424579493,
          0.008466270383711592,
          0.0070503543529773505,
          0.008561516013340507
         ],
         "yaxis": "y9"
        },
        {
         "name": "Our Volume > 15",
         "type": "scatter",
         "x": [
          "10:00:00",
          "10:30:00",
          "11:00:00",
          "11:30:00",
          "12:00:00",
          "12:30:00",
          "13:00:00",
          "13:30:00",
          "14:00:00",
          "14:30:00",
          "15:00:00",
          "15:30:00",
          "16:00:00",
          "16:30:00",
          "17:00:00",
          "17:30:00",
          "18:00:00",
          "18:30:00"
         ],
         "xaxis": "x5",
         "y": [
          0.0015250208450253476,
          -0.017415230014216007,
          -0.02202604405720334,
          0.036818757849003896,
          -0.0713114723374521,
          0.18504615939717045,
          0.18644557675860085,
          -0.013221625395438025,
          0.039973690147862964,
          0.13048762425777183,
          0.020055807802837156,
          0.09735865850304903,
          -0.028780254489971947,
          0.04742529144203151,
          0.05315666931010193,
          0.23233547623780293,
          0.012235191853373396,
          0.10989070188965012
         ],
         "yaxis": "y10"
        },
        {
         "name": "Volume > 15",
         "type": "bar",
         "x": [
          "10:00:00",
          "10:30:00",
          "11:00:00",
          "11:30:00",
          "12:00:00",
          "12:30:00",
          "13:00:00",
          "13:30:00",
          "14:00:00",
          "14:30:00",
          "15:00:00",
          "15:30:00",
          "16:00:00",
          "16:30:00",
          "17:00:00",
          "17:30:00",
          "18:00:00",
          "18:30:00"
         ],
         "xaxis": "x6",
         "y": [
          0.012676559306831607,
          0.022650145383347496,
          0.039469020002590616,
          0.053093059493108594,
          0.05515773446785145,
          0.04183859880654218,
          0.04653194203508055,
          0.05798598687259752,
          0.043955838339928076,
          0.05489694765025987,
          0.050306799928344005,
          0.06892890946735697,
          0.08012719366575279,
          0.07328326061091969,
          0.05935804944452813,
          0.06111232258439427,
          0.07715266544605062,
          0.1014749664945157
         ],
         "yaxis": "y11"
        }
       ],
       "layout": {
        "annotations": [
         {
          "font": {
           "size": 16
          },
          "showarrow": false,
          "text": "Dif of price in time bucket from weighted average during the day for < 5 OFZ",
          "x": 0.185,
          "xanchor": "center",
          "xref": "paper",
          "y": 1,
          "yanchor": "bottom",
          "yref": "paper"
         },
         {
          "font": {
           "size": 16
          },
          "showarrow": false,
          "text": "Volime in time bucket during the day for < 5 OFZ",
          "x": 0.7550000000000001,
          "xanchor": "center",
          "xref": "paper",
          "y": 1,
          "yanchor": "bottom",
          "yref": "paper"
         },
         {
          "font": {
           "size": 16
          },
          "showarrow": false,
          "text": "Dif of price in time bucket from weighted average during the day for < 10  and > 5 OFZ",
          "x": 0.185,
          "xanchor": "center",
          "xref": "paper",
          "y": 0.6111111111111112,
          "yanchor": "bottom",
          "yref": "paper"
         },
         {
          "font": {
           "size": 16
          },
          "showarrow": false,
          "text": "Volime in time bucket during the day for < 10  and > 15 OFZ",
          "x": 0.7550000000000001,
          "xanchor": "center",
          "xref": "paper",
          "y": 0.6111111111111112,
          "yanchor": "bottom",
          "yref": "paper"
         },
         {
          "font": {
           "size": 16
          },
          "showarrow": false,
          "text": "Dif of price in time bucket from weighted average during the day for > 10 OFZ",
          "x": 0.185,
          "xanchor": "center",
          "xref": "paper",
          "y": 0.22222222222222224,
          "yanchor": "bottom",
          "yref": "paper"
         },
         {
          "font": {
           "size": 16
          },
          "showarrow": false,
          "text": "Volime in time bucket during the day for > 10 OFZ",
          "x": 0.7550000000000001,
          "xanchor": "center",
          "xref": "paper",
          "y": 0.22222222222222224,
          "yanchor": "bottom",
          "yref": "paper"
         }
        ],
        "height": 1000,
        "template": {
         "data": {
          "bar": [
           {
            "error_x": {
             "color": "#2a3f5f"
            },
            "error_y": {
             "color": "#2a3f5f"
            },
            "marker": {
             "line": {
              "color": "#E5ECF6",
              "width": 0.5
             }
            },
            "type": "bar"
           }
          ],
          "barpolar": [
           {
            "marker": {
             "line": {
              "color": "#E5ECF6",
              "width": 0.5
             }
            },
            "type": "barpolar"
           }
          ],
          "carpet": [
           {
            "aaxis": {
             "endlinecolor": "#2a3f5f",
             "gridcolor": "white",
             "linecolor": "white",
             "minorgridcolor": "white",
             "startlinecolor": "#2a3f5f"
            },
            "baxis": {
             "endlinecolor": "#2a3f5f",
             "gridcolor": "white",
             "linecolor": "white",
             "minorgridcolor": "white",
             "startlinecolor": "#2a3f5f"
            },
            "type": "carpet"
           }
          ],
          "choropleth": [
           {
            "colorbar": {
             "outlinewidth": 0,
             "ticks": ""
            },
            "type": "choropleth"
           }
          ],
          "contour": [
           {
            "colorbar": {
             "outlinewidth": 0,
             "ticks": ""
            },
            "colorscale": [
             [
              0,
              "#0d0887"
             ],
             [
              0.1111111111111111,
              "#46039f"
             ],
             [
              0.2222222222222222,
              "#7201a8"
             ],
             [
              0.3333333333333333,
              "#9c179e"
             ],
             [
              0.4444444444444444,
              "#bd3786"
             ],
             [
              0.5555555555555556,
              "#d8576b"
             ],
             [
              0.6666666666666666,
              "#ed7953"
             ],
             [
              0.7777777777777778,
              "#fb9f3a"
             ],
             [
              0.8888888888888888,
              "#fdca26"
             ],
             [
              1,
              "#f0f921"
             ]
            ],
            "type": "contour"
           }
          ],
          "contourcarpet": [
           {
            "colorbar": {
             "outlinewidth": 0,
             "ticks": ""
            },
            "type": "contourcarpet"
           }
          ],
          "heatmap": [
           {
            "colorbar": {
             "outlinewidth": 0,
             "ticks": ""
            },
            "colorscale": [
             [
              0,
              "#0d0887"
             ],
             [
              0.1111111111111111,
              "#46039f"
             ],
             [
              0.2222222222222222,
              "#7201a8"
             ],
             [
              0.3333333333333333,
              "#9c179e"
             ],
             [
              0.4444444444444444,
              "#bd3786"
             ],
             [
              0.5555555555555556,
              "#d8576b"
             ],
             [
              0.6666666666666666,
              "#ed7953"
             ],
             [
              0.7777777777777778,
              "#fb9f3a"
             ],
             [
              0.8888888888888888,
              "#fdca26"
             ],
             [
              1,
              "#f0f921"
             ]
            ],
            "type": "heatmap"
           }
          ],
          "heatmapgl": [
           {
            "colorbar": {
             "outlinewidth": 0,
             "ticks": ""
            },
            "colorscale": [
             [
              0,
              "#0d0887"
             ],
             [
              0.1111111111111111,
              "#46039f"
             ],
             [
              0.2222222222222222,
              "#7201a8"
             ],
             [
              0.3333333333333333,
              "#9c179e"
             ],
             [
              0.4444444444444444,
              "#bd3786"
             ],
             [
              0.5555555555555556,
              "#d8576b"
             ],
             [
              0.6666666666666666,
              "#ed7953"
             ],
             [
              0.7777777777777778,
              "#fb9f3a"
             ],
             [
              0.8888888888888888,
              "#fdca26"
             ],
             [
              1,
              "#f0f921"
             ]
            ],
            "type": "heatmapgl"
           }
          ],
          "histogram": [
           {
            "marker": {
             "colorbar": {
              "outlinewidth": 0,
              "ticks": ""
             }
            },
            "type": "histogram"
           }
          ],
          "histogram2d": [
           {
            "colorbar": {
             "outlinewidth": 0,
             "ticks": ""
            },
            "colorscale": [
             [
              0,
              "#0d0887"
             ],
             [
              0.1111111111111111,
              "#46039f"
             ],
             [
              0.2222222222222222,
              "#7201a8"
             ],
             [
              0.3333333333333333,
              "#9c179e"
             ],
             [
              0.4444444444444444,
              "#bd3786"
             ],
             [
              0.5555555555555556,
              "#d8576b"
             ],
             [
              0.6666666666666666,
              "#ed7953"
             ],
             [
              0.7777777777777778,
              "#fb9f3a"
             ],
             [
              0.8888888888888888,
              "#fdca26"
             ],
             [
              1,
              "#f0f921"
             ]
            ],
            "type": "histogram2d"
           }
          ],
          "histogram2dcontour": [
           {
            "colorbar": {
             "outlinewidth": 0,
             "ticks": ""
            },
            "colorscale": [
             [
              0,
              "#0d0887"
             ],
             [
              0.1111111111111111,
              "#46039f"
             ],
             [
              0.2222222222222222,
              "#7201a8"
             ],
             [
              0.3333333333333333,
              "#9c179e"
             ],
             [
              0.4444444444444444,
              "#bd3786"
             ],
             [
              0.5555555555555556,
              "#d8576b"
             ],
             [
              0.6666666666666666,
              "#ed7953"
             ],
             [
              0.7777777777777778,
              "#fb9f3a"
             ],
             [
              0.8888888888888888,
              "#fdca26"
             ],
             [
              1,
              "#f0f921"
             ]
            ],
            "type": "histogram2dcontour"
           }
          ],
          "mesh3d": [
           {
            "colorbar": {
             "outlinewidth": 0,
             "ticks": ""
            },
            "type": "mesh3d"
           }
          ],
          "parcoords": [
           {
            "line": {
             "colorbar": {
              "outlinewidth": 0,
              "ticks": ""
             }
            },
            "type": "parcoords"
           }
          ],
          "pie": [
           {
            "automargin": true,
            "type": "pie"
           }
          ],
          "scatter": [
           {
            "marker": {
             "colorbar": {
              "outlinewidth": 0,
              "ticks": ""
             }
            },
            "type": "scatter"
           }
          ],
          "scatter3d": [
           {
            "line": {
             "colorbar": {
              "outlinewidth": 0,
              "ticks": ""
             }
            },
            "marker": {
             "colorbar": {
              "outlinewidth": 0,
              "ticks": ""
             }
            },
            "type": "scatter3d"
           }
          ],
          "scattercarpet": [
           {
            "marker": {
             "colorbar": {
              "outlinewidth": 0,
              "ticks": ""
             }
            },
            "type": "scattercarpet"
           }
          ],
          "scattergeo": [
           {
            "marker": {
             "colorbar": {
              "outlinewidth": 0,
              "ticks": ""
             }
            },
            "type": "scattergeo"
           }
          ],
          "scattergl": [
           {
            "marker": {
             "colorbar": {
              "outlinewidth": 0,
              "ticks": ""
             }
            },
            "type": "scattergl"
           }
          ],
          "scattermapbox": [
           {
            "marker": {
             "colorbar": {
              "outlinewidth": 0,
              "ticks": ""
             }
            },
            "type": "scattermapbox"
           }
          ],
          "scatterpolar": [
           {
            "marker": {
             "colorbar": {
              "outlinewidth": 0,
              "ticks": ""
             }
            },
            "type": "scatterpolar"
           }
          ],
          "scatterpolargl": [
           {
            "marker": {
             "colorbar": {
              "outlinewidth": 0,
              "ticks": ""
             }
            },
            "type": "scatterpolargl"
           }
          ],
          "scatterternary": [
           {
            "marker": {
             "colorbar": {
              "outlinewidth": 0,
              "ticks": ""
             }
            },
            "type": "scatterternary"
           }
          ],
          "surface": [
           {
            "colorbar": {
             "outlinewidth": 0,
             "ticks": ""
            },
            "colorscale": [
             [
              0,
              "#0d0887"
             ],
             [
              0.1111111111111111,
              "#46039f"
             ],
             [
              0.2222222222222222,
              "#7201a8"
             ],
             [
              0.3333333333333333,
              "#9c179e"
             ],
             [
              0.4444444444444444,
              "#bd3786"
             ],
             [
              0.5555555555555556,
              "#d8576b"
             ],
             [
              0.6666666666666666,
              "#ed7953"
             ],
             [
              0.7777777777777778,
              "#fb9f3a"
             ],
             [
              0.8888888888888888,
              "#fdca26"
             ],
             [
              1,
              "#f0f921"
             ]
            ],
            "type": "surface"
           }
          ],
          "table": [
           {
            "cells": {
             "fill": {
              "color": "#EBF0F8"
             },
             "line": {
              "color": "white"
             }
            },
            "header": {
             "fill": {
              "color": "#C8D4E3"
             },
             "line": {
              "color": "white"
             }
            },
            "type": "table"
           }
          ]
         },
         "layout": {
          "annotationdefaults": {
           "arrowcolor": "#2a3f5f",
           "arrowhead": 0,
           "arrowwidth": 1
          },
          "autotypenumbers": "strict",
          "coloraxis": {
           "colorbar": {
            "outlinewidth": 0,
            "ticks": ""
           }
          },
          "colorscale": {
           "diverging": [
            [
             0,
             "#8e0152"
            ],
            [
             0.1,
             "#c51b7d"
            ],
            [
             0.2,
             "#de77ae"
            ],
            [
             0.3,
             "#f1b6da"
            ],
            [
             0.4,
             "#fde0ef"
            ],
            [
             0.5,
             "#f7f7f7"
            ],
            [
             0.6,
             "#e6f5d0"
            ],
            [
             0.7,
             "#b8e186"
            ],
            [
             0.8,
             "#7fbc41"
            ],
            [
             0.9,
             "#4d9221"
            ],
            [
             1,
             "#276419"
            ]
           ],
           "sequential": [
            [
             0,
             "#0d0887"
            ],
            [
             0.1111111111111111,
             "#46039f"
            ],
            [
             0.2222222222222222,
             "#7201a8"
            ],
            [
             0.3333333333333333,
             "#9c179e"
            ],
            [
             0.4444444444444444,
             "#bd3786"
            ],
            [
             0.5555555555555556,
             "#d8576b"
            ],
            [
             0.6666666666666666,
             "#ed7953"
            ],
            [
             0.7777777777777778,
             "#fb9f3a"
            ],
            [
             0.8888888888888888,
             "#fdca26"
            ],
            [
             1,
             "#f0f921"
            ]
           ],
           "sequentialminus": [
            [
             0,
             "#0d0887"
            ],
            [
             0.1111111111111111,
             "#46039f"
            ],
            [
             0.2222222222222222,
             "#7201a8"
            ],
            [
             0.3333333333333333,
             "#9c179e"
            ],
            [
             0.4444444444444444,
             "#bd3786"
            ],
            [
             0.5555555555555556,
             "#d8576b"
            ],
            [
             0.6666666666666666,
             "#ed7953"
            ],
            [
             0.7777777777777778,
             "#fb9f3a"
            ],
            [
             0.8888888888888888,
             "#fdca26"
            ],
            [
             1,
             "#f0f921"
            ]
           ]
          },
          "colorway": [
           "#636efa",
           "#EF553B",
           "#00cc96",
           "#ab63fa",
           "#FFA15A",
           "#19d3f3",
           "#FF6692",
           "#B6E880",
           "#FF97FF",
           "#FECB52"
          ],
          "font": {
           "color": "#2a3f5f"
          },
          "geo": {
           "bgcolor": "white",
           "lakecolor": "white",
           "landcolor": "#E5ECF6",
           "showlakes": true,
           "showland": true,
           "subunitcolor": "white"
          },
          "hoverlabel": {
           "align": "left"
          },
          "hovermode": "closest",
          "mapbox": {
           "style": "light"
          },
          "paper_bgcolor": "white",
          "plot_bgcolor": "#E5ECF6",
          "polar": {
           "angularaxis": {
            "gridcolor": "white",
            "linecolor": "white",
            "ticks": ""
           },
           "bgcolor": "#E5ECF6",
           "radialaxis": {
            "gridcolor": "white",
            "linecolor": "white",
            "ticks": ""
           }
          },
          "scene": {
           "xaxis": {
            "backgroundcolor": "#E5ECF6",
            "gridcolor": "white",
            "gridwidth": 2,
            "linecolor": "white",
            "showbackground": true,
            "ticks": "",
            "zerolinecolor": "white"
           },
           "yaxis": {
            "backgroundcolor": "#E5ECF6",
            "gridcolor": "white",
            "gridwidth": 2,
            "linecolor": "white",
            "showbackground": true,
            "ticks": "",
            "zerolinecolor": "white"
           },
           "zaxis": {
            "backgroundcolor": "#E5ECF6",
            "gridcolor": "white",
            "gridwidth": 2,
            "linecolor": "white",
            "showbackground": true,
            "ticks": "",
            "zerolinecolor": "white"
           }
          },
          "shapedefaults": {
           "line": {
            "color": "#2a3f5f"
           }
          },
          "ternary": {
           "aaxis": {
            "gridcolor": "white",
            "linecolor": "white",
            "ticks": ""
           },
           "baxis": {
            "gridcolor": "white",
            "linecolor": "white",
            "ticks": ""
           },
           "bgcolor": "#E5ECF6",
           "caxis": {
            "gridcolor": "white",
            "linecolor": "white",
            "ticks": ""
           }
          },
          "title": {
           "x": 0.05
          },
          "xaxis": {
           "automargin": true,
           "gridcolor": "white",
           "linecolor": "white",
           "ticks": "",
           "title": {
            "standoff": 15
           },
           "zerolinecolor": "white",
           "zerolinewidth": 2
          },
          "yaxis": {
           "automargin": true,
           "gridcolor": "white",
           "linecolor": "white",
           "ticks": "",
           "title": {
            "standoff": 15
           },
           "zerolinecolor": "white",
           "zerolinewidth": 2
          }
         }
        },
        "title": {
         "text": "OFZ intraday analysis"
        },
        "xaxis": {
         "anchor": "y",
         "domain": [
          0,
          0.37
         ]
        },
        "xaxis2": {
         "anchor": "y3",
         "domain": [
          0.5700000000000001,
          0.9400000000000001
         ]
        },
        "xaxis3": {
         "anchor": "y5",
         "domain": [
          0,
          0.37
         ]
        },
        "xaxis4": {
         "anchor": "y7",
         "domain": [
          0.5700000000000001,
          0.9400000000000001
         ]
        },
        "xaxis5": {
         "anchor": "y9",
         "domain": [
          0,
          0.37
         ]
        },
        "xaxis6": {
         "anchor": "y11",
         "domain": [
          0.5700000000000001,
          0.9400000000000001
         ]
        },
        "yaxis": {
         "anchor": "x",
         "domain": [
          0.7777777777777778,
          1
         ]
        },
        "yaxis10": {
         "anchor": "x5",
         "overlaying": "y9",
         "side": "right"
        },
        "yaxis11": {
         "anchor": "x6",
         "domain": [
          0,
          0.22222222222222224
         ]
        },
        "yaxis12": {
         "anchor": "x6",
         "overlaying": "y11",
         "side": "right"
        },
        "yaxis2": {
         "anchor": "x",
         "overlaying": "y",
         "side": "right"
        },
        "yaxis3": {
         "anchor": "x2",
         "domain": [
          0.7777777777777778,
          1
         ]
        },
        "yaxis4": {
         "anchor": "x2",
         "overlaying": "y3",
         "side": "right"
        },
        "yaxis5": {
         "anchor": "x3",
         "domain": [
          0.3888888888888889,
          0.6111111111111112
         ]
        },
        "yaxis6": {
         "anchor": "x3",
         "overlaying": "y5",
         "side": "right"
        },
        "yaxis7": {
         "anchor": "x4",
         "domain": [
          0.3888888888888889,
          0.6111111111111112
         ]
        },
        "yaxis8": {
         "anchor": "x4",
         "overlaying": "y7",
         "side": "right"
        },
        "yaxis9": {
         "anchor": "x5",
         "domain": [
          0,
          0.22222222222222224
         ]
        }
       }
      },
      "text/html": [
       "<div>                            <div id=\"118325f0-a27a-4a44-8664-21dcaec3509b\" class=\"plotly-graph-div\" style=\"height:1000px; width:100%;\"></div>            <script type=\"text/javascript\">                require([\"plotly\"], function(Plotly) {                    window.PLOTLYENV=window.PLOTLYENV || {};                                    if (document.getElementById(\"118325f0-a27a-4a44-8664-21dcaec3509b\")) {                    Plotly.newPlot(                        \"118325f0-a27a-4a44-8664-21dcaec3509b\",                        [{\"name\": \"Price < 5\", \"type\": \"bar\", \"x\": [\"10:00:00\", \"10:30:00\", \"11:00:00\", \"11:30:00\", \"12:00:00\", \"12:30:00\", \"13:00:00\", \"13:30:00\", \"14:00:00\", \"14:30:00\", \"15:00:00\", \"15:30:00\", \"16:00:00\", \"16:30:00\", \"17:00:00\", \"17:30:00\", \"18:00:00\", \"18:30:00\"], \"xaxis\": \"x\", \"y\": [-0.0013686821380670254, -0.0014969831806544002, -0.0012714031646440403, -0.000856668272313254, -0.00033907818988729776, -0.00036078034114886225, -0.00035057750595753864, 5.800256184960245e-05, 0.0003909236260526339, 0.0005152674913300281, 0.0006105148100364398, 0.00030740051644678556, 0.0005535910116021751, 0.000401575384469032, 0.0004959272326769199, 0.0008794530863827156, 0.0008031924703707657, 0.0010283246014553195], \"yaxis\": \"y\"}, {\"name\": \"Our Volume < 5\", \"type\": \"scatter\", \"x\": [\"10:00:00\", \"10:30:00\", \"11:00:00\", \"11:30:00\", \"12:00:00\", \"12:30:00\", \"13:00:00\", \"13:30:00\", \"14:00:00\", \"14:30:00\", \"15:00:00\", \"15:30:00\", \"16:00:00\", \"16:30:00\", \"17:00:00\", \"17:30:00\", \"18:00:00\", \"18:30:00\"], \"xaxis\": \"x\", \"y\": [-0.015988113939757038, -0.4315721016600144, 0.06297216541039181, 0.06876644669636683, 0.016836058871260492, 0.21645706027853676, 0.16705844212532864, 0.2337784812405048, 0.24294126924080564, -0.03197571988662135, 0.050735616563183296, 0.010042351253540714, 0.1919980058423568, 0.1157898765372966, -0.0255756151381656, 0.08103387779841559, 0.08513698848426851, -0.038435089717698045], \"yaxis\": \"y2\"}, {\"name\": \"Volume < 5\", \"type\": \"bar\", \"x\": [\"10:00:00\", \"10:30:00\", \"11:00:00\", \"11:30:00\", \"12:00:00\", \"12:30:00\", \"13:00:00\", \"13:30:00\", \"14:00:00\", \"14:30:00\", \"15:00:00\", \"15:30:00\", \"16:00:00\", \"16:30:00\", \"17:00:00\", \"17:30:00\", \"18:00:00\", \"18:30:00\"], \"xaxis\": \"x2\", \"y\": [0.010177646623851693, 0.014559695935289801, 0.024371584070883707, 0.03718962130810289, 0.036345949310024675, 0.05216251049560321, 0.04330208232215698, 0.06139043925354321, 0.04368336182138042, 0.05456527109098072, 0.04321080870427438, 0.05818946832150288, 0.07884971115685367, 0.07525265443488217, 0.06069872865062789, 0.11375311580109264, 0.07943626590196363, 0.11286108479698558], \"yaxis\": \"y3\"}, {\"name\": \"Price > 5 and < 10\", \"type\": \"bar\", \"x\": [\"10:00:00\", \"10:30:00\", \"11:00:00\", \"11:30:00\", \"12:00:00\", \"12:30:00\", \"13:00:00\", \"13:30:00\", \"14:00:00\", \"14:30:00\", \"15:00:00\", \"15:30:00\", \"16:00:00\", \"16:30:00\", \"17:00:00\", \"17:30:00\", \"18:00:00\", \"18:30:00\"], \"xaxis\": \"x3\", \"y\": [-0.004309426987029221, -0.0053736650582566735, -0.004009038077083554, -0.002315388640238004, -0.0031229750891822693, -0.0015600299922844747, -0.001582305553097234, -0.0005508667830547606, 0.0009846665775943713, -0.0003858433049272242, 0.0017791570569332012, 0.0015479344890385375, 0.0030595640640918896, 0.0016989711497045908, 0.002131517984373543, 0.00323980755213234, 0.0045807794940666054, 0.004187141117218329], \"yaxis\": \"y5\"}, {\"name\": \"Our Volume > 5 and < 10\", \"type\": \"scatter\", \"x\": [\"10:00:00\", \"10:30:00\", \"11:00:00\", \"11:30:00\", \"12:00:00\", \"12:30:00\", \"13:00:00\", \"13:30:00\", \"14:00:00\", \"14:30:00\", \"15:00:00\", \"15:30:00\", \"16:00:00\", \"16:30:00\", \"17:00:00\", \"17:30:00\", \"18:00:00\", \"18:30:00\"], \"xaxis\": \"x3\", \"y\": [-0.10369035159332537, 0.01726358117913689, -0.49525349910017624, -0.08807375865403844, -0.1961630232118441, -0.08651958861811226, -1.1680764418667235, -0.1621400987027297, 0.03961166966866351, 0.25910465679538297, 0.7865030259199118, 0.6270030717201772, 0.3399412011001217, 0.5290475291222011, 0.03781135877639971, 0.3880748040423316, 0.275555863422623, null], \"yaxis\": \"y6\"}, {\"name\": \"Volume > 5 and < 10\", \"type\": \"bar\", \"x\": [\"10:00:00\", \"10:30:00\", \"11:00:00\", \"11:30:00\", \"12:00:00\", \"12:30:00\", \"13:00:00\", \"13:30:00\", \"14:00:00\", \"14:30:00\", \"15:00:00\", \"15:30:00\", \"16:00:00\", \"16:30:00\", \"17:00:00\", \"17:30:00\", \"18:00:00\", \"18:30:00\"], \"xaxis\": \"x4\", \"y\": [0.009582257033692972, 0.010500179654910553, 0.029928006849864363, 0.046015567321813576, 0.0706502446903423, 0.036923378576993966, 0.0599437034780229, 0.0562303468920259, 0.046375996162379196, 0.03119639972217849, 0.058174578982979064, 0.06732386714615048, 0.10025858768354572, 0.07479785558224471, 0.07251287208602834, 0.054679247119278886, 0.10099285279918302, 0.07391405821836544], \"yaxis\": \"y7\"}, {\"name\": \"Price > 15\", \"type\": \"bar\", \"x\": [\"10:00:00\", \"10:30:00\", \"11:00:00\", \"11:30:00\", \"12:00:00\", \"12:30:00\", \"13:00:00\", \"13:30:00\", \"14:00:00\", \"14:30:00\", \"15:00:00\", \"15:30:00\", \"16:00:00\", \"16:30:00\", \"17:00:00\", \"17:30:00\", \"18:00:00\", \"18:30:00\"], \"xaxis\": \"x5\", \"y\": [-0.01448891476846893, -0.01407870124648309, -0.00919233188910083, -0.007155954406874545, -0.006223642860546772, -0.005004956396479695, -0.0024406717098091136, 0.002221334540674814, 0.0019098196029786972, 0.0049621904952002645, 0.00429116771417055, 0.0033916916403581533, 0.0063582316456290405, 0.0036938524641425058, 0.007678744424579493, 0.008466270383711592, 0.0070503543529773505, 0.008561516013340507], \"yaxis\": \"y9\"}, {\"name\": \"Our Volume > 15\", \"type\": \"scatter\", \"x\": [\"10:00:00\", \"10:30:00\", \"11:00:00\", \"11:30:00\", \"12:00:00\", \"12:30:00\", \"13:00:00\", \"13:30:00\", \"14:00:00\", \"14:30:00\", \"15:00:00\", \"15:30:00\", \"16:00:00\", \"16:30:00\", \"17:00:00\", \"17:30:00\", \"18:00:00\", \"18:30:00\"], \"xaxis\": \"x5\", \"y\": [0.0015250208450253476, -0.017415230014216007, -0.02202604405720334, 0.036818757849003896, -0.0713114723374521, 0.18504615939717045, 0.18644557675860085, -0.013221625395438025, 0.039973690147862964, 0.13048762425777183, 0.020055807802837156, 0.09735865850304903, -0.028780254489971947, 0.04742529144203151, 0.05315666931010193, 0.23233547623780293, 0.012235191853373396, 0.10989070188965012], \"yaxis\": \"y10\"}, {\"name\": \"Volume > 15\", \"type\": \"bar\", \"x\": [\"10:00:00\", \"10:30:00\", \"11:00:00\", \"11:30:00\", \"12:00:00\", \"12:30:00\", \"13:00:00\", \"13:30:00\", \"14:00:00\", \"14:30:00\", \"15:00:00\", \"15:30:00\", \"16:00:00\", \"16:30:00\", \"17:00:00\", \"17:30:00\", \"18:00:00\", \"18:30:00\"], \"xaxis\": \"x6\", \"y\": [0.012676559306831607, 0.022650145383347496, 0.039469020002590616, 0.053093059493108594, 0.05515773446785145, 0.04183859880654218, 0.04653194203508055, 0.05798598687259752, 0.043955838339928076, 0.05489694765025987, 0.050306799928344005, 0.06892890946735697, 0.08012719366575279, 0.07328326061091969, 0.05935804944452813, 0.06111232258439427, 0.07715266544605062, 0.1014749664945157], \"yaxis\": \"y11\"}],                        {\"annotations\": [{\"font\": {\"size\": 16}, \"showarrow\": false, \"text\": \"Dif of price in time bucket from weighted average during the day for < 5 OFZ\", \"x\": 0.185, \"xanchor\": \"center\", \"xref\": \"paper\", \"y\": 1.0, \"yanchor\": \"bottom\", \"yref\": \"paper\"}, {\"font\": {\"size\": 16}, \"showarrow\": false, \"text\": \"Volime in time bucket during the day for < 5 OFZ\", \"x\": 0.7550000000000001, \"xanchor\": \"center\", \"xref\": \"paper\", \"y\": 1.0, \"yanchor\": \"bottom\", \"yref\": \"paper\"}, {\"font\": {\"size\": 16}, \"showarrow\": false, \"text\": \"Dif of price in time bucket from weighted average during the day for < 10  and > 5 OFZ\", \"x\": 0.185, \"xanchor\": \"center\", \"xref\": \"paper\", \"y\": 0.6111111111111112, \"yanchor\": \"bottom\", \"yref\": \"paper\"}, {\"font\": {\"size\": 16}, \"showarrow\": false, \"text\": \"Volime in time bucket during the day for < 10  and > 15 OFZ\", \"x\": 0.7550000000000001, \"xanchor\": \"center\", \"xref\": \"paper\", \"y\": 0.6111111111111112, \"yanchor\": \"bottom\", \"yref\": \"paper\"}, {\"font\": {\"size\": 16}, \"showarrow\": false, \"text\": \"Dif of price in time bucket from weighted average during the day for > 10 OFZ\", \"x\": 0.185, \"xanchor\": \"center\", \"xref\": \"paper\", \"y\": 0.22222222222222224, \"yanchor\": \"bottom\", \"yref\": \"paper\"}, {\"font\": {\"size\": 16}, \"showarrow\": false, \"text\": \"Volime in time bucket during the day for > 10 OFZ\", \"x\": 0.7550000000000001, \"xanchor\": \"center\", \"xref\": \"paper\", \"y\": 0.22222222222222224, \"yanchor\": \"bottom\", \"yref\": \"paper\"}], \"height\": 1000, \"template\": {\"data\": {\"bar\": [{\"error_x\": {\"color\": \"#2a3f5f\"}, \"error_y\": {\"color\": \"#2a3f5f\"}, \"marker\": {\"line\": {\"color\": \"#E5ECF6\", \"width\": 0.5}}, \"type\": \"bar\"}], \"barpolar\": [{\"marker\": {\"line\": {\"color\": \"#E5ECF6\", \"width\": 0.5}}, \"type\": \"barpolar\"}], \"carpet\": [{\"aaxis\": {\"endlinecolor\": \"#2a3f5f\", \"gridcolor\": \"white\", \"linecolor\": \"white\", \"minorgridcolor\": \"white\", \"startlinecolor\": \"#2a3f5f\"}, \"baxis\": {\"endlinecolor\": \"#2a3f5f\", \"gridcolor\": \"white\", \"linecolor\": \"white\", \"minorgridcolor\": \"white\", \"startlinecolor\": \"#2a3f5f\"}, \"type\": \"carpet\"}], \"choropleth\": [{\"colorbar\": {\"outlinewidth\": 0, \"ticks\": \"\"}, \"type\": \"choropleth\"}], \"contour\": [{\"colorbar\": {\"outlinewidth\": 0, \"ticks\": \"\"}, \"colorscale\": [[0.0, \"#0d0887\"], [0.1111111111111111, \"#46039f\"], [0.2222222222222222, \"#7201a8\"], [0.3333333333333333, \"#9c179e\"], [0.4444444444444444, \"#bd3786\"], [0.5555555555555556, \"#d8576b\"], [0.6666666666666666, \"#ed7953\"], [0.7777777777777778, \"#fb9f3a\"], [0.8888888888888888, \"#fdca26\"], [1.0, \"#f0f921\"]], \"type\": \"contour\"}], \"contourcarpet\": [{\"colorbar\": {\"outlinewidth\": 0, \"ticks\": \"\"}, \"type\": \"contourcarpet\"}], \"heatmap\": [{\"colorbar\": {\"outlinewidth\": 0, \"ticks\": \"\"}, \"colorscale\": [[0.0, \"#0d0887\"], [0.1111111111111111, \"#46039f\"], [0.2222222222222222, \"#7201a8\"], [0.3333333333333333, \"#9c179e\"], [0.4444444444444444, \"#bd3786\"], [0.5555555555555556, \"#d8576b\"], [0.6666666666666666, \"#ed7953\"], [0.7777777777777778, \"#fb9f3a\"], [0.8888888888888888, \"#fdca26\"], [1.0, \"#f0f921\"]], \"type\": \"heatmap\"}], \"heatmapgl\": [{\"colorbar\": {\"outlinewidth\": 0, \"ticks\": \"\"}, \"colorscale\": [[0.0, \"#0d0887\"], [0.1111111111111111, \"#46039f\"], [0.2222222222222222, \"#7201a8\"], [0.3333333333333333, \"#9c179e\"], [0.4444444444444444, \"#bd3786\"], [0.5555555555555556, \"#d8576b\"], [0.6666666666666666, \"#ed7953\"], [0.7777777777777778, \"#fb9f3a\"], [0.8888888888888888, \"#fdca26\"], [1.0, \"#f0f921\"]], \"type\": \"heatmapgl\"}], \"histogram\": [{\"marker\": {\"colorbar\": {\"outlinewidth\": 0, \"ticks\": \"\"}}, \"type\": \"histogram\"}], \"histogram2d\": [{\"colorbar\": {\"outlinewidth\": 0, \"ticks\": \"\"}, \"colorscale\": [[0.0, \"#0d0887\"], [0.1111111111111111, \"#46039f\"], [0.2222222222222222, \"#7201a8\"], [0.3333333333333333, \"#9c179e\"], [0.4444444444444444, \"#bd3786\"], [0.5555555555555556, \"#d8576b\"], [0.6666666666666666, \"#ed7953\"], [0.7777777777777778, \"#fb9f3a\"], [0.8888888888888888, \"#fdca26\"], [1.0, \"#f0f921\"]], \"type\": \"histogram2d\"}], \"histogram2dcontour\": [{\"colorbar\": {\"outlinewidth\": 0, \"ticks\": \"\"}, \"colorscale\": [[0.0, \"#0d0887\"], [0.1111111111111111, \"#46039f\"], [0.2222222222222222, \"#7201a8\"], [0.3333333333333333, \"#9c179e\"], [0.4444444444444444, \"#bd3786\"], [0.5555555555555556, \"#d8576b\"], [0.6666666666666666, \"#ed7953\"], [0.7777777777777778, \"#fb9f3a\"], [0.8888888888888888, \"#fdca26\"], [1.0, \"#f0f921\"]], \"type\": \"histogram2dcontour\"}], \"mesh3d\": [{\"colorbar\": {\"outlinewidth\": 0, \"ticks\": \"\"}, \"type\": \"mesh3d\"}], \"parcoords\": [{\"line\": {\"colorbar\": {\"outlinewidth\": 0, \"ticks\": \"\"}}, \"type\": \"parcoords\"}], \"pie\": [{\"automargin\": true, \"type\": \"pie\"}], \"scatter\": [{\"marker\": {\"colorbar\": {\"outlinewidth\": 0, \"ticks\": \"\"}}, \"type\": \"scatter\"}], \"scatter3d\": [{\"line\": {\"colorbar\": {\"outlinewidth\": 0, \"ticks\": \"\"}}, \"marker\": {\"colorbar\": {\"outlinewidth\": 0, \"ticks\": \"\"}}, \"type\": \"scatter3d\"}], \"scattercarpet\": [{\"marker\": {\"colorbar\": {\"outlinewidth\": 0, \"ticks\": \"\"}}, \"type\": \"scattercarpet\"}], \"scattergeo\": [{\"marker\": {\"colorbar\": {\"outlinewidth\": 0, \"ticks\": \"\"}}, \"type\": \"scattergeo\"}], \"scattergl\": [{\"marker\": {\"colorbar\": {\"outlinewidth\": 0, \"ticks\": \"\"}}, \"type\": \"scattergl\"}], \"scattermapbox\": [{\"marker\": {\"colorbar\": {\"outlinewidth\": 0, \"ticks\": \"\"}}, \"type\": \"scattermapbox\"}], \"scatterpolar\": [{\"marker\": {\"colorbar\": {\"outlinewidth\": 0, \"ticks\": \"\"}}, \"type\": \"scatterpolar\"}], \"scatterpolargl\": [{\"marker\": {\"colorbar\": {\"outlinewidth\": 0, \"ticks\": \"\"}}, \"type\": \"scatterpolargl\"}], \"scatterternary\": [{\"marker\": {\"colorbar\": {\"outlinewidth\": 0, \"ticks\": \"\"}}, \"type\": \"scatterternary\"}], \"surface\": [{\"colorbar\": {\"outlinewidth\": 0, \"ticks\": \"\"}, \"colorscale\": [[0.0, \"#0d0887\"], [0.1111111111111111, \"#46039f\"], [0.2222222222222222, \"#7201a8\"], [0.3333333333333333, \"#9c179e\"], [0.4444444444444444, \"#bd3786\"], [0.5555555555555556, \"#d8576b\"], [0.6666666666666666, \"#ed7953\"], [0.7777777777777778, \"#fb9f3a\"], [0.8888888888888888, \"#fdca26\"], [1.0, \"#f0f921\"]], \"type\": \"surface\"}], \"table\": [{\"cells\": {\"fill\": {\"color\": \"#EBF0F8\"}, \"line\": {\"color\": \"white\"}}, \"header\": {\"fill\": {\"color\": \"#C8D4E3\"}, \"line\": {\"color\": \"white\"}}, \"type\": \"table\"}]}, \"layout\": {\"annotationdefaults\": {\"arrowcolor\": \"#2a3f5f\", \"arrowhead\": 0, \"arrowwidth\": 1}, \"autotypenumbers\": \"strict\", \"coloraxis\": {\"colorbar\": {\"outlinewidth\": 0, \"ticks\": \"\"}}, \"colorscale\": {\"diverging\": [[0, \"#8e0152\"], [0.1, \"#c51b7d\"], [0.2, \"#de77ae\"], [0.3, \"#f1b6da\"], [0.4, \"#fde0ef\"], [0.5, \"#f7f7f7\"], [0.6, \"#e6f5d0\"], [0.7, \"#b8e186\"], [0.8, \"#7fbc41\"], [0.9, \"#4d9221\"], [1, \"#276419\"]], \"sequential\": [[0.0, \"#0d0887\"], [0.1111111111111111, \"#46039f\"], [0.2222222222222222, \"#7201a8\"], [0.3333333333333333, \"#9c179e\"], [0.4444444444444444, \"#bd3786\"], [0.5555555555555556, \"#d8576b\"], [0.6666666666666666, \"#ed7953\"], [0.7777777777777778, \"#fb9f3a\"], [0.8888888888888888, \"#fdca26\"], [1.0, \"#f0f921\"]], \"sequentialminus\": [[0.0, \"#0d0887\"], [0.1111111111111111, \"#46039f\"], [0.2222222222222222, \"#7201a8\"], [0.3333333333333333, \"#9c179e\"], [0.4444444444444444, \"#bd3786\"], [0.5555555555555556, \"#d8576b\"], [0.6666666666666666, \"#ed7953\"], [0.7777777777777778, \"#fb9f3a\"], [0.8888888888888888, \"#fdca26\"], [1.0, \"#f0f921\"]]}, \"colorway\": [\"#636efa\", \"#EF553B\", \"#00cc96\", \"#ab63fa\", \"#FFA15A\", \"#19d3f3\", \"#FF6692\", \"#B6E880\", \"#FF97FF\", \"#FECB52\"], \"font\": {\"color\": \"#2a3f5f\"}, \"geo\": {\"bgcolor\": \"white\", \"lakecolor\": \"white\", \"landcolor\": \"#E5ECF6\", \"showlakes\": true, \"showland\": true, \"subunitcolor\": \"white\"}, \"hoverlabel\": {\"align\": \"left\"}, \"hovermode\": \"closest\", \"mapbox\": {\"style\": \"light\"}, \"paper_bgcolor\": \"white\", \"plot_bgcolor\": \"#E5ECF6\", \"polar\": {\"angularaxis\": {\"gridcolor\": \"white\", \"linecolor\": \"white\", \"ticks\": \"\"}, \"bgcolor\": \"#E5ECF6\", \"radialaxis\": {\"gridcolor\": \"white\", \"linecolor\": \"white\", \"ticks\": \"\"}}, \"scene\": {\"xaxis\": {\"backgroundcolor\": \"#E5ECF6\", \"gridcolor\": \"white\", \"gridwidth\": 2, \"linecolor\": \"white\", \"showbackground\": true, \"ticks\": \"\", \"zerolinecolor\": \"white\"}, \"yaxis\": {\"backgroundcolor\": \"#E5ECF6\", \"gridcolor\": \"white\", \"gridwidth\": 2, \"linecolor\": \"white\", \"showbackground\": true, \"ticks\": \"\", \"zerolinecolor\": \"white\"}, \"zaxis\": {\"backgroundcolor\": \"#E5ECF6\", \"gridcolor\": \"white\", \"gridwidth\": 2, \"linecolor\": \"white\", \"showbackground\": true, \"ticks\": \"\", \"zerolinecolor\": \"white\"}}, \"shapedefaults\": {\"line\": {\"color\": \"#2a3f5f\"}}, \"ternary\": {\"aaxis\": {\"gridcolor\": \"white\", \"linecolor\": \"white\", \"ticks\": \"\"}, \"baxis\": {\"gridcolor\": \"white\", \"linecolor\": \"white\", \"ticks\": \"\"}, \"bgcolor\": \"#E5ECF6\", \"caxis\": {\"gridcolor\": \"white\", \"linecolor\": \"white\", \"ticks\": \"\"}}, \"title\": {\"x\": 0.05}, \"xaxis\": {\"automargin\": true, \"gridcolor\": \"white\", \"linecolor\": \"white\", \"ticks\": \"\", \"title\": {\"standoff\": 15}, \"zerolinecolor\": \"white\", \"zerolinewidth\": 2}, \"yaxis\": {\"automargin\": true, \"gridcolor\": \"white\", \"linecolor\": \"white\", \"ticks\": \"\", \"title\": {\"standoff\": 15}, \"zerolinecolor\": \"white\", \"zerolinewidth\": 2}}}, \"title\": {\"text\": \"OFZ intraday analysis\"}, \"xaxis\": {\"anchor\": \"y\", \"domain\": [0.0, 0.37]}, \"xaxis2\": {\"anchor\": \"y3\", \"domain\": [0.5700000000000001, 0.9400000000000001]}, \"xaxis3\": {\"anchor\": \"y5\", \"domain\": [0.0, 0.37]}, \"xaxis4\": {\"anchor\": \"y7\", \"domain\": [0.5700000000000001, 0.9400000000000001]}, \"xaxis5\": {\"anchor\": \"y9\", \"domain\": [0.0, 0.37]}, \"xaxis6\": {\"anchor\": \"y11\", \"domain\": [0.5700000000000001, 0.9400000000000001]}, \"yaxis\": {\"anchor\": \"x\", \"domain\": [0.7777777777777778, 1.0]}, \"yaxis10\": {\"anchor\": \"x5\", \"overlaying\": \"y9\", \"side\": \"right\"}, \"yaxis11\": {\"anchor\": \"x6\", \"domain\": [0.0, 0.22222222222222224]}, \"yaxis12\": {\"anchor\": \"x6\", \"overlaying\": \"y11\", \"side\": \"right\"}, \"yaxis2\": {\"anchor\": \"x\", \"overlaying\": \"y\", \"side\": \"right\"}, \"yaxis3\": {\"anchor\": \"x2\", \"domain\": [0.7777777777777778, 1.0]}, \"yaxis4\": {\"anchor\": \"x2\", \"overlaying\": \"y3\", \"side\": \"right\"}, \"yaxis5\": {\"anchor\": \"x3\", \"domain\": [0.3888888888888889, 0.6111111111111112]}, \"yaxis6\": {\"anchor\": \"x3\", \"overlaying\": \"y5\", \"side\": \"right\"}, \"yaxis7\": {\"anchor\": \"x4\", \"domain\": [0.3888888888888889, 0.6111111111111112]}, \"yaxis8\": {\"anchor\": \"x4\", \"overlaying\": \"y7\", \"side\": \"right\"}, \"yaxis9\": {\"anchor\": \"x5\", \"domain\": [0.0, 0.22222222222222224]}},                        {\"responsive\": true}                    ).then(function(){\n",
       "                            \n",
       "var gd = document.getElementById('118325f0-a27a-4a44-8664-21dcaec3509b');\n",
       "var x = new MutationObserver(function (mutations, observer) {{\n",
       "        var display = window.getComputedStyle(gd).display;\n",
       "        if (!display || display === 'none') {{\n",
       "            console.log([gd, 'removed!']);\n",
       "            Plotly.purge(gd);\n",
       "            observer.disconnect();\n",
       "        }}\n",
       "}});\n",
       "\n",
       "// Listen for the removal of the full notebook cells\n",
       "var notebookContainer = gd.closest('#notebook-container');\n",
       "if (notebookContainer) {{\n",
       "    x.observe(notebookContainer, {childList: true});\n",
       "}}\n",
       "\n",
       "// Listen for the clearing of the current output cell\n",
       "var outputEl = gd.closest('.output');\n",
       "if (outputEl) {{\n",
       "    x.observe(outputEl, {childList: true});\n",
       "}}\n",
       "\n",
       "                        })                };                });            </script>        </div>"
      ]
     },
     "metadata": {},
     "output_type": "display_data"
    }
   ],
   "source": [
    "import plotly.graph_objects as go\n",
    "from plotly.subplots import make_subplots\n",
    "\n",
    "fig = make_subplots(rows=3, cols=2,   specs=[[{\"secondary_y\": True}, {\"secondary_y\": True}], [{\"secondary_y\": True}, {\"secondary_y\": True}],  [{\"secondary_y\": True}, {\"secondary_y\": True}]], \n",
    "subplot_titles=(\"Dif of price in time bucket from weighted average during the day for < 5 OFZ\", \"Volime in time bucket during the day for < 5 OFZ\", \n",
    "                                                    \"Dif of price in time bucket from weighted average during the day for < 10  and > 5 OFZ\", \"Volime in time bucket during the day for < 10  and > 15 OFZ\", \n",
    "                                                   \"Dif of price in time bucket from weighted average during the day for > 10 OFZ\", \"Volime in time bucket during the day for > 10 OFZ\", ))\n",
    "\n",
    "\n",
    "fig.add_trace(\n",
    "    go.Bar(x=OFZ_5.index, y=OFZ_5['price'], name=\"Price < 5\"),\n",
    "    row=1, col=1, secondary_y=False)\n",
    "\n",
    "fig.add_trace(\n",
    "    go.Scatter(x=OFZ_5.index, y=OFZ_5['our_5'], name=\"Our Volume < 5\"),\n",
    "    row=1, col=1, secondary_y=True)\n",
    "\n",
    "\n",
    "fig.add_trace(\n",
    "    go.Bar(x=OFZ_5.index, y=OFZ_5['size'], name=\"Volume < 5\"),\n",
    "    row=1, col=2, \n",
    ")\n",
    "\n",
    "\n",
    "fig.add_trace(\n",
    "    go.Bar(x=OFZ_5.index, y=OFZ5_10['price'], name=\"Price > 5 and < 10\"),\n",
    "    row=2, col=1, secondary_y=False\n",
    ")\n",
    "fig.add_trace(\n",
    "    go.Scatter(x=OFZ_5.index, y=OFZ5_10['our5_10'], name=\"Our Volume > 5 and < 10\"),\n",
    "    row=2, col=1,  secondary_y=True\n",
    ")\n",
    "\n",
    "\n",
    "fig.add_trace(\n",
    "    go.Bar(x=OFZ_5.index, y=OFZ5_10['size'], name=\"Volume > 5 and < 10\"),\n",
    "    row=2, col=2, )\n",
    "\n",
    "\n",
    "fig.add_trace(\n",
    "    go.Bar(x=OFZ10_.index, y=OFZ10_['price'], name=\"Price > 15\"),\n",
    "    row=3, col=1, secondary_y=False\n",
    ")\n",
    "fig.add_trace(\n",
    "    go.Scatter(x=OFZ10_.index, y=OFZ10_['our10_'], name=\"Our Volume > 15\"),\n",
    "    row=3, col=1, secondary_y=True\n",
    ")\n",
    "\n",
    "\n",
    "fig.add_trace(\n",
    "    go.Bar(x=OFZ10_.index, y=OFZ10_['size'], name=\"Volume > 15\"),\n",
    "    row=3, col=2,\n",
    ")\n",
    "\n",
    "\n",
    "fig.update_layout(\n",
    "    title_text=\"OFZ intraday analysis\",\n",
    "    height=1000,\n",
    ")\n",
    "\n",
    "fig.show()"
   ]
  },
  {
   "cell_type": "markdown",
   "metadata": {},
   "source": [
    "# Объем"
   ]
  },
  {
   "cell_type": "code",
   "execution_count": 162,
   "metadata": {},
   "outputs": [],
   "source": [
    "OFZ_5 = OFZ[OFZ.old < 5]\n",
    "OFZ5_10 = OFZ[(OFZ.old > 5) & (OFZ.old < 10)]\n",
    "OFZ10_ = OFZ[(OFZ.old > 10)]"
   ]
  },
  {
   "cell_type": "code",
   "execution_count": 163,
   "metadata": {},
   "outputs": [],
   "source": [
    "OFZ_5 = OFZ_5.reset_index()\n",
    "OFZ5_10 = OFZ5_10.reset_index()\n",
    "OFZ_5 = OFZ_5.rename({'index':'timestamp'}, axis=1)\n",
    "OFZ5_10  = OFZ5_10.rename({'index':'timestamp'}, axis=1)"
   ]
  },
  {
   "cell_type": "code",
   "execution_count": 164,
   "metadata": {},
   "outputs": [
    {
     "name": "stderr",
     "output_type": "stream",
     "text": [
      "C:\\Users\\PZAPOLSKY\\Anaconda3\\lib\\site-packages\\pandas\\core\\generic.py:3887: PerformanceWarning:\n",
      "\n",
      "dropping on a non-lexsorted multi-index without a level parameter may impact performance.\n",
      "\n"
     ]
    },
    {
     "data": {
      "application/vnd.plotly.v1+json": {
       "config": {
        "plotlyServerURL": "https://plot.ly"
       },
       "data": [
        {
         "name": "OFZ > 5, < 10  YLD (%)",
         "type": "scatter",
         "x": [
          "09:45:00",
          "10:00:00",
          "10:15:00",
          "10:30:00",
          "10:45:00",
          "11:00:00",
          "11:15:00",
          "11:30:00",
          "11:45:00",
          "12:00:00",
          "12:15:00",
          "12:30:00",
          "12:45:00",
          "13:00:00",
          "13:15:00",
          "13:30:00",
          "13:45:00",
          "14:00:00",
          "14:15:00",
          "14:30:00",
          "14:45:00",
          "15:00:00",
          "15:15:00",
          "15:30:00",
          "15:45:00",
          "16:00:00",
          "16:15:00",
          "16:30:00",
          "16:45:00",
          "17:00:00",
          "17:15:00",
          "17:30:00",
          "17:45:00",
          "18:00:00",
          "18:15:00",
          "18:30:00",
          "18:45:00"
         ],
         "xaxis": "x",
         "y": [
          7.509615384615383,
          7.548970588235295,
          7.533823529411768,
          7.495955882352947,
          7.537352941176473,
          7.541764705882353,
          7.527794117647057,
          7.4912408759124105,
          7.46274074074074,
          7.501617647058826,
          7.5238235294117635,
          7.5428676470588245,
          7.5363970588235345,
          7.5483823529411795,
          7.529926470588235,
          7.559411764705878,
          7.54109489051095,
          7.5505882352941205,
          7.552992700729924,
          7.545036496350364,
          7.561176470588233,
          7.537703703703701,
          7.518444444444443,
          7.531865671641791,
          7.5414925373134345,
          7.578955223880601,
          7.5356296296296295,
          7.516470588235294,
          7.567352941176473,
          7.5189552238805994,
          7.492686567164177,
          7.555373134328356,
          7.528796992481204,
          7.524962406015039,
          7.546641221374047,
          7.558837209302327,
          7.5579687500000015
         ],
         "yaxis": "y"
        },
        {
         "name": "OFZ < 5 YLD (%)",
         "type": "scatter",
         "x": [
          "09:45:00",
          "10:00:00",
          "10:15:00",
          "10:30:00",
          "10:45:00",
          "11:00:00",
          "11:15:00",
          "11:30:00",
          "11:45:00",
          "12:00:00",
          "12:15:00",
          "12:30:00",
          "12:45:00",
          "13:00:00",
          "13:15:00",
          "13:30:00",
          "13:45:00",
          "14:00:00",
          "14:15:00",
          "14:30:00",
          "14:45:00",
          "15:00:00",
          "15:15:00",
          "15:30:00",
          "15:45:00",
          "16:00:00",
          "16:15:00",
          "16:30:00",
          "16:45:00",
          "17:00:00",
          "17:15:00",
          "17:30:00",
          "17:45:00",
          "18:00:00",
          "18:15:00",
          "18:30:00",
          "18:45:00"
         ],
         "xaxis": "x3",
         "y": [
          7.114358974358979,
          7.056617647058823,
          6.990514705882352,
          7.154779411764704,
          7.021544117647059,
          7.084044117647059,
          7.08235294117647,
          7.065109489051099,
          7.123185185185183,
          7.115367647058822,
          7.138676470588237,
          7.072499999999998,
          6.994411764705883,
          7.053161764705885,
          7.074999999999996,
          7.066176470588231,
          7.071678832116789,
          7.083382352941177,
          7.08671532846715,
          7.058394160583942,
          7.112279411764705,
          7.120074074074073,
          7.053481481481481,
          7.1149253731343265,
          7.154850746268655,
          7.097537313432834,
          7.050518518518519,
          7.0781617647058805,
          7.083676470588233,
          7.170373134328356,
          7.088955223880596,
          7.150820895522384,
          7.094887218045108,
          7.0669172932330815,
          7.081297709923662,
          7.131317829457363,
          7.183750000000001
         ],
         "yaxis": "y3"
        },
        {
         "name": "spread",
         "type": "scatter",
         "x": [
          "09:45:00",
          "10:00:00",
          "10:15:00",
          "10:30:00",
          "10:45:00",
          "11:00:00",
          "11:15:00",
          "11:30:00",
          "11:45:00",
          "12:00:00",
          "12:15:00",
          "12:30:00",
          "12:45:00",
          "13:00:00",
          "13:15:00",
          "13:30:00",
          "13:45:00",
          "14:00:00",
          "14:15:00",
          "14:30:00",
          "14:45:00",
          "15:00:00",
          "15:15:00",
          "15:30:00",
          "15:45:00",
          "16:00:00",
          "16:15:00",
          "16:30:00",
          "16:45:00",
          "17:00:00",
          "17:15:00",
          "17:30:00",
          "17:45:00",
          "18:00:00",
          "18:15:00",
          "18:30:00",
          "18:45:00"
         ],
         "xaxis": "x5",
         "y": [
          0.3952564102564047,
          0.4923529411764722,
          0.5433088235294159,
          0.34117647058824296,
          0.5158088235294143,
          0.4577205882352944,
          0.44544117647058634,
          0.4261313868613117,
          0.33955555555555694,
          0.386250000000004,
          0.3851470588235264,
          0.4703676470588265,
          0.5419852941176515,
          0.4952205882352949,
          0.454926470588239,
          0.493235294117647,
          0.46941605839416045,
          0.46720588235294347,
          0.4662773722627733,
          0.4866423357664216,
          0.44889705882352793,
          0.41762962962962824,
          0.4649629629629617,
          0.4169402985074644,
          0.3866417910447799,
          0.4814179104477665,
          0.4851111111111104,
          0.4383088235294137,
          0.48367647058824037,
          0.34858208955224335,
          0.40373134328358073,
          0.40455223880597213,
          0.4339097744360956,
          0.45804511278195736,
          0.465343511450385,
          0.4275193798449637,
          0.3742187500000007
         ],
         "yaxis": "y5"
        },
        {
         "name": "first Volume",
         "type": "bar",
         "x": [
          "09:45:00",
          "10:00:00",
          "10:15:00",
          "10:30:00",
          "10:45:00",
          "11:00:00",
          "11:15:00",
          "11:30:00",
          "11:45:00",
          "12:00:00",
          "12:15:00",
          "12:30:00",
          "12:45:00",
          "13:00:00",
          "13:15:00",
          "13:30:00",
          "13:45:00",
          "14:00:00",
          "14:15:00",
          "14:30:00",
          "14:45:00",
          "15:00:00",
          "15:15:00",
          "15:30:00",
          "15:45:00",
          "16:00:00",
          "16:15:00",
          "16:30:00",
          "16:45:00",
          "17:00:00",
          "17:15:00",
          "17:30:00",
          "17:45:00",
          "18:00:00",
          "18:15:00",
          "18:30:00",
          "18:45:00"
         ],
         "xaxis": "x2",
         "y": [
          194.92195679487182,
          33759.42020786773,
          28155.763156691184,
          60157.15708110293,
          56085.39670022059,
          90883.94687132367,
          98257.67690691171,
          138779.73123927004,
          94256.6594822222,
          174652.0126492639,
          131484.00183117652,
          102883.2571599265,
          204708.3210730147,
          108990.17903639696,
          167541.82146698507,
          122963.97148624982,
          235953.4008087591,
          125630.85519397061,
          192894.2003435036,
          148900.6355284672,
          242792.79139742575,
          136861.7572082963,
          136022.7337090371,
          107436.78672514929,
          226458.54284328353,
          177963.87798201482,
          313085.6775728888,
          214767.7628938969,
          205589.48301639693,
          152203.83905440316,
          196766.2031490298,
          358744.29222343257,
          303695.80452631606,
          224511.7911829322,
          193070.5429955725,
          202339.60428379834,
          41061.26339617189
         ],
         "yaxis": "y2"
        },
        {
         "name": "second Volume",
         "type": "bar",
         "x": [
          "09:45:00",
          "10:00:00",
          "10:15:00",
          "10:30:00",
          "10:45:00",
          "11:00:00",
          "11:15:00",
          "11:30:00",
          "11:45:00",
          "12:00:00",
          "12:15:00",
          "12:30:00",
          "12:45:00",
          "13:00:00",
          "13:15:00",
          "13:30:00",
          "13:45:00",
          "14:00:00",
          "14:15:00",
          "14:30:00",
          "14:45:00",
          "15:00:00",
          "15:15:00",
          "15:30:00",
          "15:45:00",
          "16:00:00",
          "16:15:00",
          "16:30:00",
          "16:45:00",
          "17:00:00",
          "17:15:00",
          "17:30:00",
          "17:45:00",
          "18:00:00",
          "18:15:00",
          "18:30:00",
          "18:45:00"
         ],
         "xaxis": "x4",
         "y": [
          86.17199294871793,
          17253.61802132351,
          13549.922475514706,
          11678.877017352948,
          17141.21982698529,
          38195.47387617651,
          41372.407321691215,
          63808.39968386865,
          60879.17558688887,
          54713.224769191176,
          108731.56417044115,
          63659.64434602947,
          46601.336511249945,
          60032.879343382345,
          81286.47604441176,
          54021.8604055882,
          95614.59979708023,
          50211.93386132353,
          60865.92513299263,
          48105.4434548905,
          37254.39905249999,
          63829.4369919259,
          57401.76952244442,
          66713.4455839552,
          74100.81998537309,
          103287.41288067166,
          107032.1884812592,
          109510.77949801477,
          48989.392384044135,
          76086.45024611942,
          86719.58425902986,
          55802.49681597015,
          55404.76677007517,
          92396.89751691728,
          96946.83164190841,
          43908.10782302326,
          22326.57209992188
         ],
         "yaxis": "y4"
        }
       ],
       "layout": {
        "height": 800,
        "template": {
         "data": {
          "bar": [
           {
            "error_x": {
             "color": "#2a3f5f"
            },
            "error_y": {
             "color": "#2a3f5f"
            },
            "marker": {
             "line": {
              "color": "#E5ECF6",
              "width": 0.5
             }
            },
            "type": "bar"
           }
          ],
          "barpolar": [
           {
            "marker": {
             "line": {
              "color": "#E5ECF6",
              "width": 0.5
             }
            },
            "type": "barpolar"
           }
          ],
          "carpet": [
           {
            "aaxis": {
             "endlinecolor": "#2a3f5f",
             "gridcolor": "white",
             "linecolor": "white",
             "minorgridcolor": "white",
             "startlinecolor": "#2a3f5f"
            },
            "baxis": {
             "endlinecolor": "#2a3f5f",
             "gridcolor": "white",
             "linecolor": "white",
             "minorgridcolor": "white",
             "startlinecolor": "#2a3f5f"
            },
            "type": "carpet"
           }
          ],
          "choropleth": [
           {
            "colorbar": {
             "outlinewidth": 0,
             "ticks": ""
            },
            "type": "choropleth"
           }
          ],
          "contour": [
           {
            "colorbar": {
             "outlinewidth": 0,
             "ticks": ""
            },
            "colorscale": [
             [
              0,
              "#0d0887"
             ],
             [
              0.1111111111111111,
              "#46039f"
             ],
             [
              0.2222222222222222,
              "#7201a8"
             ],
             [
              0.3333333333333333,
              "#9c179e"
             ],
             [
              0.4444444444444444,
              "#bd3786"
             ],
             [
              0.5555555555555556,
              "#d8576b"
             ],
             [
              0.6666666666666666,
              "#ed7953"
             ],
             [
              0.7777777777777778,
              "#fb9f3a"
             ],
             [
              0.8888888888888888,
              "#fdca26"
             ],
             [
              1,
              "#f0f921"
             ]
            ],
            "type": "contour"
           }
          ],
          "contourcarpet": [
           {
            "colorbar": {
             "outlinewidth": 0,
             "ticks": ""
            },
            "type": "contourcarpet"
           }
          ],
          "heatmap": [
           {
            "colorbar": {
             "outlinewidth": 0,
             "ticks": ""
            },
            "colorscale": [
             [
              0,
              "#0d0887"
             ],
             [
              0.1111111111111111,
              "#46039f"
             ],
             [
              0.2222222222222222,
              "#7201a8"
             ],
             [
              0.3333333333333333,
              "#9c179e"
             ],
             [
              0.4444444444444444,
              "#bd3786"
             ],
             [
              0.5555555555555556,
              "#d8576b"
             ],
             [
              0.6666666666666666,
              "#ed7953"
             ],
             [
              0.7777777777777778,
              "#fb9f3a"
             ],
             [
              0.8888888888888888,
              "#fdca26"
             ],
             [
              1,
              "#f0f921"
             ]
            ],
            "type": "heatmap"
           }
          ],
          "heatmapgl": [
           {
            "colorbar": {
             "outlinewidth": 0,
             "ticks": ""
            },
            "colorscale": [
             [
              0,
              "#0d0887"
             ],
             [
              0.1111111111111111,
              "#46039f"
             ],
             [
              0.2222222222222222,
              "#7201a8"
             ],
             [
              0.3333333333333333,
              "#9c179e"
             ],
             [
              0.4444444444444444,
              "#bd3786"
             ],
             [
              0.5555555555555556,
              "#d8576b"
             ],
             [
              0.6666666666666666,
              "#ed7953"
             ],
             [
              0.7777777777777778,
              "#fb9f3a"
             ],
             [
              0.8888888888888888,
              "#fdca26"
             ],
             [
              1,
              "#f0f921"
             ]
            ],
            "type": "heatmapgl"
           }
          ],
          "histogram": [
           {
            "marker": {
             "colorbar": {
              "outlinewidth": 0,
              "ticks": ""
             }
            },
            "type": "histogram"
           }
          ],
          "histogram2d": [
           {
            "colorbar": {
             "outlinewidth": 0,
             "ticks": ""
            },
            "colorscale": [
             [
              0,
              "#0d0887"
             ],
             [
              0.1111111111111111,
              "#46039f"
             ],
             [
              0.2222222222222222,
              "#7201a8"
             ],
             [
              0.3333333333333333,
              "#9c179e"
             ],
             [
              0.4444444444444444,
              "#bd3786"
             ],
             [
              0.5555555555555556,
              "#d8576b"
             ],
             [
              0.6666666666666666,
              "#ed7953"
             ],
             [
              0.7777777777777778,
              "#fb9f3a"
             ],
             [
              0.8888888888888888,
              "#fdca26"
             ],
             [
              1,
              "#f0f921"
             ]
            ],
            "type": "histogram2d"
           }
          ],
          "histogram2dcontour": [
           {
            "colorbar": {
             "outlinewidth": 0,
             "ticks": ""
            },
            "colorscale": [
             [
              0,
              "#0d0887"
             ],
             [
              0.1111111111111111,
              "#46039f"
             ],
             [
              0.2222222222222222,
              "#7201a8"
             ],
             [
              0.3333333333333333,
              "#9c179e"
             ],
             [
              0.4444444444444444,
              "#bd3786"
             ],
             [
              0.5555555555555556,
              "#d8576b"
             ],
             [
              0.6666666666666666,
              "#ed7953"
             ],
             [
              0.7777777777777778,
              "#fb9f3a"
             ],
             [
              0.8888888888888888,
              "#fdca26"
             ],
             [
              1,
              "#f0f921"
             ]
            ],
            "type": "histogram2dcontour"
           }
          ],
          "mesh3d": [
           {
            "colorbar": {
             "outlinewidth": 0,
             "ticks": ""
            },
            "type": "mesh3d"
           }
          ],
          "parcoords": [
           {
            "line": {
             "colorbar": {
              "outlinewidth": 0,
              "ticks": ""
             }
            },
            "type": "parcoords"
           }
          ],
          "pie": [
           {
            "automargin": true,
            "type": "pie"
           }
          ],
          "scatter": [
           {
            "marker": {
             "colorbar": {
              "outlinewidth": 0,
              "ticks": ""
             }
            },
            "type": "scatter"
           }
          ],
          "scatter3d": [
           {
            "line": {
             "colorbar": {
              "outlinewidth": 0,
              "ticks": ""
             }
            },
            "marker": {
             "colorbar": {
              "outlinewidth": 0,
              "ticks": ""
             }
            },
            "type": "scatter3d"
           }
          ],
          "scattercarpet": [
           {
            "marker": {
             "colorbar": {
              "outlinewidth": 0,
              "ticks": ""
             }
            },
            "type": "scattercarpet"
           }
          ],
          "scattergeo": [
           {
            "marker": {
             "colorbar": {
              "outlinewidth": 0,
              "ticks": ""
             }
            },
            "type": "scattergeo"
           }
          ],
          "scattergl": [
           {
            "marker": {
             "colorbar": {
              "outlinewidth": 0,
              "ticks": ""
             }
            },
            "type": "scattergl"
           }
          ],
          "scattermapbox": [
           {
            "marker": {
             "colorbar": {
              "outlinewidth": 0,
              "ticks": ""
             }
            },
            "type": "scattermapbox"
           }
          ],
          "scatterpolar": [
           {
            "marker": {
             "colorbar": {
              "outlinewidth": 0,
              "ticks": ""
             }
            },
            "type": "scatterpolar"
           }
          ],
          "scatterpolargl": [
           {
            "marker": {
             "colorbar": {
              "outlinewidth": 0,
              "ticks": ""
             }
            },
            "type": "scatterpolargl"
           }
          ],
          "scatterternary": [
           {
            "marker": {
             "colorbar": {
              "outlinewidth": 0,
              "ticks": ""
             }
            },
            "type": "scatterternary"
           }
          ],
          "surface": [
           {
            "colorbar": {
             "outlinewidth": 0,
             "ticks": ""
            },
            "colorscale": [
             [
              0,
              "#0d0887"
             ],
             [
              0.1111111111111111,
              "#46039f"
             ],
             [
              0.2222222222222222,
              "#7201a8"
             ],
             [
              0.3333333333333333,
              "#9c179e"
             ],
             [
              0.4444444444444444,
              "#bd3786"
             ],
             [
              0.5555555555555556,
              "#d8576b"
             ],
             [
              0.6666666666666666,
              "#ed7953"
             ],
             [
              0.7777777777777778,
              "#fb9f3a"
             ],
             [
              0.8888888888888888,
              "#fdca26"
             ],
             [
              1,
              "#f0f921"
             ]
            ],
            "type": "surface"
           }
          ],
          "table": [
           {
            "cells": {
             "fill": {
              "color": "#EBF0F8"
             },
             "line": {
              "color": "white"
             }
            },
            "header": {
             "fill": {
              "color": "#C8D4E3"
             },
             "line": {
              "color": "white"
             }
            },
            "type": "table"
           }
          ]
         },
         "layout": {
          "annotationdefaults": {
           "arrowcolor": "#2a3f5f",
           "arrowhead": 0,
           "arrowwidth": 1
          },
          "autotypenumbers": "strict",
          "coloraxis": {
           "colorbar": {
            "outlinewidth": 0,
            "ticks": ""
           }
          },
          "colorscale": {
           "diverging": [
            [
             0,
             "#8e0152"
            ],
            [
             0.1,
             "#c51b7d"
            ],
            [
             0.2,
             "#de77ae"
            ],
            [
             0.3,
             "#f1b6da"
            ],
            [
             0.4,
             "#fde0ef"
            ],
            [
             0.5,
             "#f7f7f7"
            ],
            [
             0.6,
             "#e6f5d0"
            ],
            [
             0.7,
             "#b8e186"
            ],
            [
             0.8,
             "#7fbc41"
            ],
            [
             0.9,
             "#4d9221"
            ],
            [
             1,
             "#276419"
            ]
           ],
           "sequential": [
            [
             0,
             "#0d0887"
            ],
            [
             0.1111111111111111,
             "#46039f"
            ],
            [
             0.2222222222222222,
             "#7201a8"
            ],
            [
             0.3333333333333333,
             "#9c179e"
            ],
            [
             0.4444444444444444,
             "#bd3786"
            ],
            [
             0.5555555555555556,
             "#d8576b"
            ],
            [
             0.6666666666666666,
             "#ed7953"
            ],
            [
             0.7777777777777778,
             "#fb9f3a"
            ],
            [
             0.8888888888888888,
             "#fdca26"
            ],
            [
             1,
             "#f0f921"
            ]
           ],
           "sequentialminus": [
            [
             0,
             "#0d0887"
            ],
            [
             0.1111111111111111,
             "#46039f"
            ],
            [
             0.2222222222222222,
             "#7201a8"
            ],
            [
             0.3333333333333333,
             "#9c179e"
            ],
            [
             0.4444444444444444,
             "#bd3786"
            ],
            [
             0.5555555555555556,
             "#d8576b"
            ],
            [
             0.6666666666666666,
             "#ed7953"
            ],
            [
             0.7777777777777778,
             "#fb9f3a"
            ],
            [
             0.8888888888888888,
             "#fdca26"
            ],
            [
             1,
             "#f0f921"
            ]
           ]
          },
          "colorway": [
           "#636efa",
           "#EF553B",
           "#00cc96",
           "#ab63fa",
           "#FFA15A",
           "#19d3f3",
           "#FF6692",
           "#B6E880",
           "#FF97FF",
           "#FECB52"
          ],
          "font": {
           "color": "#2a3f5f"
          },
          "geo": {
           "bgcolor": "white",
           "lakecolor": "white",
           "landcolor": "#E5ECF6",
           "showlakes": true,
           "showland": true,
           "subunitcolor": "white"
          },
          "hoverlabel": {
           "align": "left"
          },
          "hovermode": "closest",
          "mapbox": {
           "style": "light"
          },
          "paper_bgcolor": "white",
          "plot_bgcolor": "#E5ECF6",
          "polar": {
           "angularaxis": {
            "gridcolor": "white",
            "linecolor": "white",
            "ticks": ""
           },
           "bgcolor": "#E5ECF6",
           "radialaxis": {
            "gridcolor": "white",
            "linecolor": "white",
            "ticks": ""
           }
          },
          "scene": {
           "xaxis": {
            "backgroundcolor": "#E5ECF6",
            "gridcolor": "white",
            "gridwidth": 2,
            "linecolor": "white",
            "showbackground": true,
            "ticks": "",
            "zerolinecolor": "white"
           },
           "yaxis": {
            "backgroundcolor": "#E5ECF6",
            "gridcolor": "white",
            "gridwidth": 2,
            "linecolor": "white",
            "showbackground": true,
            "ticks": "",
            "zerolinecolor": "white"
           },
           "zaxis": {
            "backgroundcolor": "#E5ECF6",
            "gridcolor": "white",
            "gridwidth": 2,
            "linecolor": "white",
            "showbackground": true,
            "ticks": "",
            "zerolinecolor": "white"
           }
          },
          "shapedefaults": {
           "line": {
            "color": "#2a3f5f"
           }
          },
          "ternary": {
           "aaxis": {
            "gridcolor": "white",
            "linecolor": "white",
            "ticks": ""
           },
           "baxis": {
            "gridcolor": "white",
            "linecolor": "white",
            "ticks": ""
           },
           "bgcolor": "#E5ECF6",
           "caxis": {
            "gridcolor": "white",
            "linecolor": "white",
            "ticks": ""
           }
          },
          "title": {
           "x": 0.05
          },
          "xaxis": {
           "automargin": true,
           "gridcolor": "white",
           "linecolor": "white",
           "ticks": "",
           "title": {
            "standoff": 15
           },
           "zerolinecolor": "white",
           "zerolinewidth": 2
          },
          "yaxis": {
           "automargin": true,
           "gridcolor": "white",
           "linecolor": "white",
           "ticks": "",
           "title": {
            "standoff": 15
           },
           "zerolinecolor": "white",
           "zerolinewidth": 2
          }
         }
        },
        "title": {
         "text": "Intraday Spread Analysis"
        },
        "xaxis": {
         "anchor": "y",
         "domain": [
          0,
          1
         ],
         "matches": "x5",
         "showticklabels": false
        },
        "xaxis2": {
         "anchor": "y2",
         "domain": [
          0,
          1
         ],
         "matches": "x5",
         "showticklabels": false
        },
        "xaxis3": {
         "anchor": "y3",
         "domain": [
          0,
          1
         ],
         "matches": "x5",
         "showticklabels": false
        },
        "xaxis4": {
         "anchor": "y4",
         "domain": [
          0,
          1
         ],
         "matches": "x5",
         "showticklabels": false
        },
        "xaxis5": {
         "anchor": "y5",
         "domain": [
          0,
          1
         ]
        },
        "yaxis": {
         "anchor": "x",
         "domain": [
          0.848,
          1
         ]
        },
        "yaxis2": {
         "anchor": "x2",
         "domain": [
          0.6359999999999999,
          0.7879999999999999
         ]
        },
        "yaxis3": {
         "anchor": "x3",
         "domain": [
          0.424,
          0.576
         ]
        },
        "yaxis4": {
         "anchor": "x4",
         "domain": [
          0.212,
          0.364
         ]
        },
        "yaxis5": {
         "anchor": "x5",
         "domain": [
          0,
          0.152
         ]
        }
       }
      },
      "text/html": [
       "<div>                            <div id=\"090839b5-c31e-4134-b553-eeeb9dbbbec9\" class=\"plotly-graph-div\" style=\"height:800px; width:100%;\"></div>            <script type=\"text/javascript\">                require([\"plotly\"], function(Plotly) {                    window.PLOTLYENV=window.PLOTLYENV || {};                                    if (document.getElementById(\"090839b5-c31e-4134-b553-eeeb9dbbbec9\")) {                    Plotly.newPlot(                        \"090839b5-c31e-4134-b553-eeeb9dbbbec9\",                        [{\"name\": \"OFZ > 5, < 10  YLD (%)\", \"type\": \"scatter\", \"x\": [\"09:45:00\", \"10:00:00\", \"10:15:00\", \"10:30:00\", \"10:45:00\", \"11:00:00\", \"11:15:00\", \"11:30:00\", \"11:45:00\", \"12:00:00\", \"12:15:00\", \"12:30:00\", \"12:45:00\", \"13:00:00\", \"13:15:00\", \"13:30:00\", \"13:45:00\", \"14:00:00\", \"14:15:00\", \"14:30:00\", \"14:45:00\", \"15:00:00\", \"15:15:00\", \"15:30:00\", \"15:45:00\", \"16:00:00\", \"16:15:00\", \"16:30:00\", \"16:45:00\", \"17:00:00\", \"17:15:00\", \"17:30:00\", \"17:45:00\", \"18:00:00\", \"18:15:00\", \"18:30:00\", \"18:45:00\"], \"xaxis\": \"x\", \"y\": [7.509615384615383, 7.548970588235295, 7.533823529411768, 7.495955882352947, 7.537352941176473, 7.541764705882353, 7.527794117647057, 7.4912408759124105, 7.46274074074074, 7.501617647058826, 7.5238235294117635, 7.5428676470588245, 7.5363970588235345, 7.5483823529411795, 7.529926470588235, 7.559411764705878, 7.54109489051095, 7.5505882352941205, 7.552992700729924, 7.545036496350364, 7.561176470588233, 7.537703703703701, 7.518444444444443, 7.531865671641791, 7.5414925373134345, 7.578955223880601, 7.5356296296296295, 7.516470588235294, 7.567352941176473, 7.5189552238805994, 7.492686567164177, 7.555373134328356, 7.528796992481204, 7.524962406015039, 7.546641221374047, 7.558837209302327, 7.5579687500000015], \"yaxis\": \"y\"}, {\"name\": \"OFZ < 5 YLD (%)\", \"type\": \"scatter\", \"x\": [\"09:45:00\", \"10:00:00\", \"10:15:00\", \"10:30:00\", \"10:45:00\", \"11:00:00\", \"11:15:00\", \"11:30:00\", \"11:45:00\", \"12:00:00\", \"12:15:00\", \"12:30:00\", \"12:45:00\", \"13:00:00\", \"13:15:00\", \"13:30:00\", \"13:45:00\", \"14:00:00\", \"14:15:00\", \"14:30:00\", \"14:45:00\", \"15:00:00\", \"15:15:00\", \"15:30:00\", \"15:45:00\", \"16:00:00\", \"16:15:00\", \"16:30:00\", \"16:45:00\", \"17:00:00\", \"17:15:00\", \"17:30:00\", \"17:45:00\", \"18:00:00\", \"18:15:00\", \"18:30:00\", \"18:45:00\"], \"xaxis\": \"x3\", \"y\": [7.114358974358979, 7.056617647058823, 6.990514705882352, 7.154779411764704, 7.021544117647059, 7.084044117647059, 7.08235294117647, 7.065109489051099, 7.123185185185183, 7.115367647058822, 7.138676470588237, 7.072499999999998, 6.994411764705883, 7.053161764705885, 7.074999999999996, 7.066176470588231, 7.071678832116789, 7.083382352941177, 7.08671532846715, 7.058394160583942, 7.112279411764705, 7.120074074074073, 7.053481481481481, 7.1149253731343265, 7.154850746268655, 7.097537313432834, 7.050518518518519, 7.0781617647058805, 7.083676470588233, 7.170373134328356, 7.088955223880596, 7.150820895522384, 7.094887218045108, 7.0669172932330815, 7.081297709923662, 7.131317829457363, 7.183750000000001], \"yaxis\": \"y3\"}, {\"name\": \"spread\", \"type\": \"scatter\", \"x\": [\"09:45:00\", \"10:00:00\", \"10:15:00\", \"10:30:00\", \"10:45:00\", \"11:00:00\", \"11:15:00\", \"11:30:00\", \"11:45:00\", \"12:00:00\", \"12:15:00\", \"12:30:00\", \"12:45:00\", \"13:00:00\", \"13:15:00\", \"13:30:00\", \"13:45:00\", \"14:00:00\", \"14:15:00\", \"14:30:00\", \"14:45:00\", \"15:00:00\", \"15:15:00\", \"15:30:00\", \"15:45:00\", \"16:00:00\", \"16:15:00\", \"16:30:00\", \"16:45:00\", \"17:00:00\", \"17:15:00\", \"17:30:00\", \"17:45:00\", \"18:00:00\", \"18:15:00\", \"18:30:00\", \"18:45:00\"], \"xaxis\": \"x5\", \"y\": [0.3952564102564047, 0.4923529411764722, 0.5433088235294159, 0.34117647058824296, 0.5158088235294143, 0.4577205882352944, 0.44544117647058634, 0.4261313868613117, 0.33955555555555694, 0.386250000000004, 0.3851470588235264, 0.4703676470588265, 0.5419852941176515, 0.4952205882352949, 0.454926470588239, 0.493235294117647, 0.46941605839416045, 0.46720588235294347, 0.4662773722627733, 0.4866423357664216, 0.44889705882352793, 0.41762962962962824, 0.4649629629629617, 0.4169402985074644, 0.3866417910447799, 0.4814179104477665, 0.4851111111111104, 0.4383088235294137, 0.48367647058824037, 0.34858208955224335, 0.40373134328358073, 0.40455223880597213, 0.4339097744360956, 0.45804511278195736, 0.465343511450385, 0.4275193798449637, 0.3742187500000007], \"yaxis\": \"y5\"}, {\"name\": \"first Volume\", \"type\": \"bar\", \"x\": [\"09:45:00\", \"10:00:00\", \"10:15:00\", \"10:30:00\", \"10:45:00\", \"11:00:00\", \"11:15:00\", \"11:30:00\", \"11:45:00\", \"12:00:00\", \"12:15:00\", \"12:30:00\", \"12:45:00\", \"13:00:00\", \"13:15:00\", \"13:30:00\", \"13:45:00\", \"14:00:00\", \"14:15:00\", \"14:30:00\", \"14:45:00\", \"15:00:00\", \"15:15:00\", \"15:30:00\", \"15:45:00\", \"16:00:00\", \"16:15:00\", \"16:30:00\", \"16:45:00\", \"17:00:00\", \"17:15:00\", \"17:30:00\", \"17:45:00\", \"18:00:00\", \"18:15:00\", \"18:30:00\", \"18:45:00\"], \"xaxis\": \"x2\", \"y\": [194.92195679487182, 33759.42020786773, 28155.763156691184, 60157.15708110293, 56085.39670022059, 90883.94687132367, 98257.67690691171, 138779.73123927004, 94256.6594822222, 174652.0126492639, 131484.00183117652, 102883.2571599265, 204708.3210730147, 108990.17903639696, 167541.82146698507, 122963.97148624982, 235953.4008087591, 125630.85519397061, 192894.2003435036, 148900.6355284672, 242792.79139742575, 136861.7572082963, 136022.7337090371, 107436.78672514929, 226458.54284328353, 177963.87798201482, 313085.6775728888, 214767.7628938969, 205589.48301639693, 152203.83905440316, 196766.2031490298, 358744.29222343257, 303695.80452631606, 224511.7911829322, 193070.5429955725, 202339.60428379834, 41061.26339617189], \"yaxis\": \"y2\"}, {\"name\": \"second Volume\", \"type\": \"bar\", \"x\": [\"09:45:00\", \"10:00:00\", \"10:15:00\", \"10:30:00\", \"10:45:00\", \"11:00:00\", \"11:15:00\", \"11:30:00\", \"11:45:00\", \"12:00:00\", \"12:15:00\", \"12:30:00\", \"12:45:00\", \"13:00:00\", \"13:15:00\", \"13:30:00\", \"13:45:00\", \"14:00:00\", \"14:15:00\", \"14:30:00\", \"14:45:00\", \"15:00:00\", \"15:15:00\", \"15:30:00\", \"15:45:00\", \"16:00:00\", \"16:15:00\", \"16:30:00\", \"16:45:00\", \"17:00:00\", \"17:15:00\", \"17:30:00\", \"17:45:00\", \"18:00:00\", \"18:15:00\", \"18:30:00\", \"18:45:00\"], \"xaxis\": \"x4\", \"y\": [86.17199294871793, 17253.61802132351, 13549.922475514706, 11678.877017352948, 17141.21982698529, 38195.47387617651, 41372.407321691215, 63808.39968386865, 60879.17558688887, 54713.224769191176, 108731.56417044115, 63659.64434602947, 46601.336511249945, 60032.879343382345, 81286.47604441176, 54021.8604055882, 95614.59979708023, 50211.93386132353, 60865.92513299263, 48105.4434548905, 37254.39905249999, 63829.4369919259, 57401.76952244442, 66713.4455839552, 74100.81998537309, 103287.41288067166, 107032.1884812592, 109510.77949801477, 48989.392384044135, 76086.45024611942, 86719.58425902986, 55802.49681597015, 55404.76677007517, 92396.89751691728, 96946.83164190841, 43908.10782302326, 22326.57209992188], \"yaxis\": \"y4\"}],                        {\"height\": 800, \"template\": {\"data\": {\"bar\": [{\"error_x\": {\"color\": \"#2a3f5f\"}, \"error_y\": {\"color\": \"#2a3f5f\"}, \"marker\": {\"line\": {\"color\": \"#E5ECF6\", \"width\": 0.5}}, \"type\": \"bar\"}], \"barpolar\": [{\"marker\": {\"line\": {\"color\": \"#E5ECF6\", \"width\": 0.5}}, \"type\": \"barpolar\"}], \"carpet\": [{\"aaxis\": {\"endlinecolor\": \"#2a3f5f\", \"gridcolor\": \"white\", \"linecolor\": \"white\", \"minorgridcolor\": \"white\", \"startlinecolor\": \"#2a3f5f\"}, \"baxis\": {\"endlinecolor\": \"#2a3f5f\", \"gridcolor\": \"white\", \"linecolor\": \"white\", \"minorgridcolor\": \"white\", \"startlinecolor\": \"#2a3f5f\"}, \"type\": \"carpet\"}], \"choropleth\": [{\"colorbar\": {\"outlinewidth\": 0, \"ticks\": \"\"}, \"type\": \"choropleth\"}], \"contour\": [{\"colorbar\": {\"outlinewidth\": 0, \"ticks\": \"\"}, \"colorscale\": [[0.0, \"#0d0887\"], [0.1111111111111111, \"#46039f\"], [0.2222222222222222, \"#7201a8\"], [0.3333333333333333, \"#9c179e\"], [0.4444444444444444, \"#bd3786\"], [0.5555555555555556, \"#d8576b\"], [0.6666666666666666, \"#ed7953\"], [0.7777777777777778, \"#fb9f3a\"], [0.8888888888888888, \"#fdca26\"], [1.0, \"#f0f921\"]], \"type\": \"contour\"}], \"contourcarpet\": [{\"colorbar\": {\"outlinewidth\": 0, \"ticks\": \"\"}, \"type\": \"contourcarpet\"}], \"heatmap\": [{\"colorbar\": {\"outlinewidth\": 0, \"ticks\": \"\"}, \"colorscale\": [[0.0, \"#0d0887\"], [0.1111111111111111, \"#46039f\"], [0.2222222222222222, \"#7201a8\"], [0.3333333333333333, \"#9c179e\"], [0.4444444444444444, \"#bd3786\"], [0.5555555555555556, \"#d8576b\"], [0.6666666666666666, \"#ed7953\"], [0.7777777777777778, \"#fb9f3a\"], [0.8888888888888888, \"#fdca26\"], [1.0, \"#f0f921\"]], \"type\": \"heatmap\"}], \"heatmapgl\": [{\"colorbar\": {\"outlinewidth\": 0, \"ticks\": \"\"}, \"colorscale\": [[0.0, \"#0d0887\"], [0.1111111111111111, \"#46039f\"], [0.2222222222222222, \"#7201a8\"], [0.3333333333333333, \"#9c179e\"], [0.4444444444444444, \"#bd3786\"], [0.5555555555555556, \"#d8576b\"], [0.6666666666666666, \"#ed7953\"], [0.7777777777777778, \"#fb9f3a\"], [0.8888888888888888, \"#fdca26\"], [1.0, \"#f0f921\"]], \"type\": \"heatmapgl\"}], \"histogram\": [{\"marker\": {\"colorbar\": {\"outlinewidth\": 0, \"ticks\": \"\"}}, \"type\": \"histogram\"}], \"histogram2d\": [{\"colorbar\": {\"outlinewidth\": 0, \"ticks\": \"\"}, \"colorscale\": [[0.0, \"#0d0887\"], [0.1111111111111111, \"#46039f\"], [0.2222222222222222, \"#7201a8\"], [0.3333333333333333, \"#9c179e\"], [0.4444444444444444, \"#bd3786\"], [0.5555555555555556, \"#d8576b\"], [0.6666666666666666, \"#ed7953\"], [0.7777777777777778, \"#fb9f3a\"], [0.8888888888888888, \"#fdca26\"], [1.0, \"#f0f921\"]], \"type\": \"histogram2d\"}], \"histogram2dcontour\": [{\"colorbar\": {\"outlinewidth\": 0, \"ticks\": \"\"}, \"colorscale\": [[0.0, \"#0d0887\"], [0.1111111111111111, \"#46039f\"], [0.2222222222222222, \"#7201a8\"], [0.3333333333333333, \"#9c179e\"], [0.4444444444444444, \"#bd3786\"], [0.5555555555555556, \"#d8576b\"], [0.6666666666666666, \"#ed7953\"], [0.7777777777777778, \"#fb9f3a\"], [0.8888888888888888, \"#fdca26\"], [1.0, \"#f0f921\"]], \"type\": \"histogram2dcontour\"}], \"mesh3d\": [{\"colorbar\": {\"outlinewidth\": 0, \"ticks\": \"\"}, \"type\": \"mesh3d\"}], \"parcoords\": [{\"line\": {\"colorbar\": {\"outlinewidth\": 0, \"ticks\": \"\"}}, \"type\": \"parcoords\"}], \"pie\": [{\"automargin\": true, \"type\": \"pie\"}], \"scatter\": [{\"marker\": {\"colorbar\": {\"outlinewidth\": 0, \"ticks\": \"\"}}, \"type\": \"scatter\"}], \"scatter3d\": [{\"line\": {\"colorbar\": {\"outlinewidth\": 0, \"ticks\": \"\"}}, \"marker\": {\"colorbar\": {\"outlinewidth\": 0, \"ticks\": \"\"}}, \"type\": \"scatter3d\"}], \"scattercarpet\": [{\"marker\": {\"colorbar\": {\"outlinewidth\": 0, \"ticks\": \"\"}}, \"type\": \"scattercarpet\"}], \"scattergeo\": [{\"marker\": {\"colorbar\": {\"outlinewidth\": 0, \"ticks\": \"\"}}, \"type\": \"scattergeo\"}], \"scattergl\": [{\"marker\": {\"colorbar\": {\"outlinewidth\": 0, \"ticks\": \"\"}}, \"type\": \"scattergl\"}], \"scattermapbox\": [{\"marker\": {\"colorbar\": {\"outlinewidth\": 0, \"ticks\": \"\"}}, \"type\": \"scattermapbox\"}], \"scatterpolar\": [{\"marker\": {\"colorbar\": {\"outlinewidth\": 0, \"ticks\": \"\"}}, \"type\": \"scatterpolar\"}], \"scatterpolargl\": [{\"marker\": {\"colorbar\": {\"outlinewidth\": 0, \"ticks\": \"\"}}, \"type\": \"scatterpolargl\"}], \"scatterternary\": [{\"marker\": {\"colorbar\": {\"outlinewidth\": 0, \"ticks\": \"\"}}, \"type\": \"scatterternary\"}], \"surface\": [{\"colorbar\": {\"outlinewidth\": 0, \"ticks\": \"\"}, \"colorscale\": [[0.0, \"#0d0887\"], [0.1111111111111111, \"#46039f\"], [0.2222222222222222, \"#7201a8\"], [0.3333333333333333, \"#9c179e\"], [0.4444444444444444, \"#bd3786\"], [0.5555555555555556, \"#d8576b\"], [0.6666666666666666, \"#ed7953\"], [0.7777777777777778, \"#fb9f3a\"], [0.8888888888888888, \"#fdca26\"], [1.0, \"#f0f921\"]], \"type\": \"surface\"}], \"table\": [{\"cells\": {\"fill\": {\"color\": \"#EBF0F8\"}, \"line\": {\"color\": \"white\"}}, \"header\": {\"fill\": {\"color\": \"#C8D4E3\"}, \"line\": {\"color\": \"white\"}}, \"type\": \"table\"}]}, \"layout\": {\"annotationdefaults\": {\"arrowcolor\": \"#2a3f5f\", \"arrowhead\": 0, \"arrowwidth\": 1}, \"autotypenumbers\": \"strict\", \"coloraxis\": {\"colorbar\": {\"outlinewidth\": 0, \"ticks\": \"\"}}, \"colorscale\": {\"diverging\": [[0, \"#8e0152\"], [0.1, \"#c51b7d\"], [0.2, \"#de77ae\"], [0.3, \"#f1b6da\"], [0.4, \"#fde0ef\"], [0.5, \"#f7f7f7\"], [0.6, \"#e6f5d0\"], [0.7, \"#b8e186\"], [0.8, \"#7fbc41\"], [0.9, \"#4d9221\"], [1, \"#276419\"]], \"sequential\": [[0.0, \"#0d0887\"], [0.1111111111111111, \"#46039f\"], [0.2222222222222222, \"#7201a8\"], [0.3333333333333333, \"#9c179e\"], [0.4444444444444444, \"#bd3786\"], [0.5555555555555556, \"#d8576b\"], [0.6666666666666666, \"#ed7953\"], [0.7777777777777778, \"#fb9f3a\"], [0.8888888888888888, \"#fdca26\"], [1.0, \"#f0f921\"]], \"sequentialminus\": [[0.0, \"#0d0887\"], [0.1111111111111111, \"#46039f\"], [0.2222222222222222, \"#7201a8\"], [0.3333333333333333, \"#9c179e\"], [0.4444444444444444, \"#bd3786\"], [0.5555555555555556, \"#d8576b\"], [0.6666666666666666, \"#ed7953\"], [0.7777777777777778, \"#fb9f3a\"], [0.8888888888888888, \"#fdca26\"], [1.0, \"#f0f921\"]]}, \"colorway\": [\"#636efa\", \"#EF553B\", \"#00cc96\", \"#ab63fa\", \"#FFA15A\", \"#19d3f3\", \"#FF6692\", \"#B6E880\", \"#FF97FF\", \"#FECB52\"], \"font\": {\"color\": \"#2a3f5f\"}, \"geo\": {\"bgcolor\": \"white\", \"lakecolor\": \"white\", \"landcolor\": \"#E5ECF6\", \"showlakes\": true, \"showland\": true, \"subunitcolor\": \"white\"}, \"hoverlabel\": {\"align\": \"left\"}, \"hovermode\": \"closest\", \"mapbox\": {\"style\": \"light\"}, \"paper_bgcolor\": \"white\", \"plot_bgcolor\": \"#E5ECF6\", \"polar\": {\"angularaxis\": {\"gridcolor\": \"white\", \"linecolor\": \"white\", \"ticks\": \"\"}, \"bgcolor\": \"#E5ECF6\", \"radialaxis\": {\"gridcolor\": \"white\", \"linecolor\": \"white\", \"ticks\": \"\"}}, \"scene\": {\"xaxis\": {\"backgroundcolor\": \"#E5ECF6\", \"gridcolor\": \"white\", \"gridwidth\": 2, \"linecolor\": \"white\", \"showbackground\": true, \"ticks\": \"\", \"zerolinecolor\": \"white\"}, \"yaxis\": {\"backgroundcolor\": \"#E5ECF6\", \"gridcolor\": \"white\", \"gridwidth\": 2, \"linecolor\": \"white\", \"showbackground\": true, \"ticks\": \"\", \"zerolinecolor\": \"white\"}, \"zaxis\": {\"backgroundcolor\": \"#E5ECF6\", \"gridcolor\": \"white\", \"gridwidth\": 2, \"linecolor\": \"white\", \"showbackground\": true, \"ticks\": \"\", \"zerolinecolor\": \"white\"}}, \"shapedefaults\": {\"line\": {\"color\": \"#2a3f5f\"}}, \"ternary\": {\"aaxis\": {\"gridcolor\": \"white\", \"linecolor\": \"white\", \"ticks\": \"\"}, \"baxis\": {\"gridcolor\": \"white\", \"linecolor\": \"white\", \"ticks\": \"\"}, \"bgcolor\": \"#E5ECF6\", \"caxis\": {\"gridcolor\": \"white\", \"linecolor\": \"white\", \"ticks\": \"\"}}, \"title\": {\"x\": 0.05}, \"xaxis\": {\"automargin\": true, \"gridcolor\": \"white\", \"linecolor\": \"white\", \"ticks\": \"\", \"title\": {\"standoff\": 15}, \"zerolinecolor\": \"white\", \"zerolinewidth\": 2}, \"yaxis\": {\"automargin\": true, \"gridcolor\": \"white\", \"linecolor\": \"white\", \"ticks\": \"\", \"title\": {\"standoff\": 15}, \"zerolinecolor\": \"white\", \"zerolinewidth\": 2}}}, \"title\": {\"text\": \"Intraday Spread Analysis\"}, \"xaxis\": {\"anchor\": \"y\", \"domain\": [0.0, 1.0], \"matches\": \"x5\", \"showticklabels\": false}, \"xaxis2\": {\"anchor\": \"y2\", \"domain\": [0.0, 1.0], \"matches\": \"x5\", \"showticklabels\": false}, \"xaxis3\": {\"anchor\": \"y3\", \"domain\": [0.0, 1.0], \"matches\": \"x5\", \"showticklabels\": false}, \"xaxis4\": {\"anchor\": \"y4\", \"domain\": [0.0, 1.0], \"matches\": \"x5\", \"showticklabels\": false}, \"xaxis5\": {\"anchor\": \"y5\", \"domain\": [0.0, 1.0]}, \"yaxis\": {\"anchor\": \"x\", \"domain\": [0.848, 1.0]}, \"yaxis2\": {\"anchor\": \"x2\", \"domain\": [0.6359999999999999, 0.7879999999999999]}, \"yaxis3\": {\"anchor\": \"x3\", \"domain\": [0.424, 0.576]}, \"yaxis4\": {\"anchor\": \"x4\", \"domain\": [0.212, 0.364]}, \"yaxis5\": {\"anchor\": \"x5\", \"domain\": [0.0, 0.152]}},                        {\"responsive\": true}                    ).then(function(){\n",
       "                            \n",
       "var gd = document.getElementById('090839b5-c31e-4134-b553-eeeb9dbbbec9');\n",
       "var x = new MutationObserver(function (mutations, observer) {{\n",
       "        var display = window.getComputedStyle(gd).display;\n",
       "        if (!display || display === 'none') {{\n",
       "            console.log([gd, 'removed!']);\n",
       "            Plotly.purge(gd);\n",
       "            observer.disconnect();\n",
       "        }}\n",
       "}});\n",
       "\n",
       "// Listen for the removal of the full notebook cells\n",
       "var notebookContainer = gd.closest('#notebook-container');\n",
       "if (notebookContainer) {{\n",
       "    x.observe(notebookContainer, {childList: true});\n",
       "}}\n",
       "\n",
       "// Listen for the clearing of the current output cell\n",
       "var outputEl = gd.closest('.output');\n",
       "if (outputEl) {{\n",
       "    x.observe(outputEl, {childList: true});\n",
       "}}\n",
       "\n",
       "                        })                };                });            </script>        </div>"
      ]
     },
     "metadata": {},
     "output_type": "display_data"
    }
   ],
   "source": [
    "first = OFZ_5\n",
    "second = OFZ5_10\n",
    "\n",
    "first['trade_timestamp'] = pd.to_datetime(first['trade_timestamp'])\n",
    "first['Date'] = first['trade_timestamp'].apply(lambda x: x.to_pydatetime().date())\n",
    "first['Time'] = first['trade_timestamp'].apply(lambda x: x.to_pydatetime().time())\n",
    "first = first.set_index('Date')\n",
    "\n",
    "second['trade_timestamp'] = pd.to_datetime(second['trade_timestamp'])\n",
    "second['Date'] = second['trade_timestamp'].apply(lambda x: x.to_pydatetime().date())\n",
    "second['Time'] = second['trade_timestamp'].apply(lambda x: x.to_pydatetime().time())\n",
    "second = second.set_index('Date')\n",
    "\n",
    "df = pd.merge(first.set_index('trade_timestamp').resample('15Min').agg({'price':'ohlc', 'size':'sum'}), \n",
    "         second.set_index('trade_timestamp').resample('15Min').agg({'price':'ohlc', 'size':'sum'}), left_index=True, right_index=True)\n",
    "#df = df.fillna(method='ffill')\n",
    "df = df.dropna()\n",
    "\n",
    "df['time'] = df.index.time\n",
    "df['date'] = df.index.date\n",
    "df = df.groupby('time').mean().dropna()\n",
    "\n",
    "fig = make_subplots(rows=5, cols=1, shared_xaxes=True)\n",
    "\n",
    "fig.append_trace(go.Scatter(x=df.index, y=df.price_x.close, name='OFZ > 5, < 10  YLD (%)'), row=1,col=1)\n",
    "\n",
    "fig.append_trace(go.Scatter(x=df.index, y=df.price_y.close, name='OFZ < 5 YLD (%)'), row=3,col=1)\n",
    "\n",
    "fig.append_trace(go.Scatter(x=df.index, y=df.price_x.close -df.price_y.close, name='spread'), row=5,col=1)\n",
    "\n",
    "fig.append_trace(go.Bar(x=df.index, y=df.size_x.size_x, name='first Volume'), row=2,col=1)\n",
    "fig.append_trace(go.Bar(x=df.index, y=df.size_y.size_y, name='second Volume'), row=4,col=1)\n",
    "\n",
    "\n",
    "\n",
    "fig.update_layout(\n",
    "    height=800,\n",
    "#    showlegend=False,\n",
    "    title_text='Intraday Spread Analysis',\n",
    ")\n",
    "\n",
    "fig.show()"
   ]
  },
  {
   "cell_type": "code",
   "execution_count": 6,
   "metadata": {},
   "outputs": [],
   "source": [
    "def applyBear(x):\n",
    "    if x.bid == x.price:\n",
    "        return -x['size'] * x.price\n",
    "    elif x.bid_prev == x.price:\n",
    "        return -x['size'] * x.price\n",
    "    else:\n",
    "        return 0\n",
    "        \n",
    "def applyBull(x):\n",
    "    if x.ask == x.price:\n",
    "        return x['size'] * x.price\n",
    "    elif x.ask_prev == x.price:\n",
    "        return x['size'] * x.price\n",
    "    else:\n",
    "        return 0"
   ]
  },
  {
   "cell_type": "code",
   "execution_count": 7,
   "metadata": {},
   "outputs": [],
   "source": [
    "OFZ = OFZ[OFZ.s == 'SU26230RMFS1'].set_index('trade_timestamp')"
   ]
  },
  {
   "cell_type": "code",
   "execution_count": 8,
   "metadata": {},
   "outputs": [],
   "source": [
    "OFZ.index = pd.to_datetime(OFZ.index)"
   ]
  },
  {
   "cell_type": "code",
   "execution_count": 9,
   "metadata": {},
   "outputs": [],
   "source": [
    "OFZ = OFZ.reset_index()"
   ]
  },
  {
   "cell_type": "code",
   "execution_count": 11,
   "metadata": {},
   "outputs": [
    {
     "name": "stderr",
     "output_type": "stream",
     "text": [
      "<ipython-input-11-6215079d7ac3>:5: SettingWithCopyWarning: \n",
      "A value is trying to be set on a copy of a slice from a DataFrame.\n",
      "Try using .loc[row_indexer,col_indexer] = value instead\n",
      "\n",
      "See the caveats in the documentation: https://pandas.pydata.org/pandas-docs/stable/user_guide/indexing.html#returning-a-view-versus-a-copy\n",
      "  q['bid_prev'] = q.bid.shift(periods=1)\n",
      "<ipython-input-11-6215079d7ac3>:6: SettingWithCopyWarning: \n",
      "A value is trying to be set on a copy of a slice from a DataFrame.\n",
      "Try using .loc[row_indexer,col_indexer] = value instead\n",
      "\n",
      "See the caveats in the documentation: https://pandas.pydata.org/pandas-docs/stable/user_guide/indexing.html#returning-a-view-versus-a-copy\n",
      "  q['ask_prev'] = q.ask.shift(periods=1)\n"
     ]
    }
   ],
   "source": [
    "a = 10\n",
    "\n",
    "q = OFZq\n",
    "q = q[['bid', 'bid_size', 'ask', 'ask_size']]\n",
    "q['bid_prev'] = q.bid.shift(periods=1)\n",
    "q['ask_prev'] = q.ask.shift(periods=1)\n",
    "\n",
    "t = OFZ\n",
    "t = t.set_index('trade_timestamp')[['price', 'size']]\n",
    "logs = pd.merge(q, t, right_index=True, left_index=True)\n",
    "\n",
    "logs['Bull'] = logs.apply(applyBull, axis=1)\n",
    "logs['Bear'] = logs.apply(applyBear, axis=1)\n",
    "logs['Road'] = (logs.Bull + logs.Bear)\n",
    "\n",
    "logs = logs.reset_index()\n",
    "logs['Time'] = [logs['index'][i].time() for i in range(logs.shape[0])]\n",
    "logs['Date'] = [logs['index'][i].date() for i in range(logs.shape[0])]\n",
    "\n",
    "temp = logs.groupby('Date').mean()['price']\n",
    "logs = logs.set_index('Date')\n",
    "logs = pd.merge(logs, temp, left_index=True, right_index=True)\n",
    "logs.price_x -= logs.price_y\n",
    "\n",
    "test = logs.set_index('index').resample(str(a)+'Min').agg({'price_x':'ohlc', 'size':'sum', 'Road':'sum'})\n",
    "test['time'] = test.index.time\n",
    "test['date'] = test.index.date\n",
    "test = test.groupby('time').mean().dropna()"
   ]
  },
  {
   "cell_type": "code",
   "execution_count": 24,
   "metadata": {},
   "outputs": [
    {
     "data": {
      "application/vnd.plotly.v1+json": {
       "config": {
        "plotlyServerURL": "https://plot.ly"
       },
       "data": [
        {
         "close": [
          -201.26048824847948,
          -103.0605222189867,
          -101.30788010919869,
          -92.41899122030927,
          -83.81406856960396,
          -82.33800269746969,
          -76.44108334421637,
          -81.1394166712765,
          -67.86668019811567,
          -79.35993338187427,
          -70.38994502505787,
          -75.18659749096688,
          -70.72082803210286,
          -56.6360224639441,
          -64.90740590096293,
          -27.756989512391055,
          -43.075353440553066,
          -41.944646730015464,
          -35.60532753957416,
          -37.4663673737543,
          -35.67086676848717,
          -31.587283388076774,
          -15.514368893722875,
          -20.290181409762937,
          -26.306232794721605,
          -21.10860474308994,
          -9.212287840725986,
          -10.400955170304371,
          -10.474388045851546,
          -3.7908080186794395,
          -6.070725255961094,
          -5.626987018394258,
          -14.242613440853553,
          -3.369199508112786,
          -0.8473429604993754,
          -7.1168612085695315,
          10.486406619022125,
          18.49312574563548,
          16.888472962599252,
          10.133491300546526,
          20.808285953957988,
          22.399028962431647,
          31.053884479415075,
          31.829756869359368,
          24.540085137849275,
          22.190516594730404,
          29.2328543508527,
          20.567528791135235,
          29.57286395777962,
          32.143313967482875,
          21.64645622409041,
          14.133094222541619,
          26.409025805860242,
          71.05353744976384
         ],
         "high": [
          -201.26048824847948,
          -149.62540771516987,
          -110.19676899808725,
          -108.7152875166058,
          -94.50109147036689,
          -91.56877192823879,
          -84.65003856809686,
          -78.86668939854901,
          -84.14574996555787,
          -80.12329216050041,
          -72.68002136093575,
          -83.84801481380133,
          -69.95159726287218,
          -72.50903833696006,
          -58.6081933025378,
          -57.122068877470426,
          -48.54410344055316,
          -45.09425302922757,
          -38.83113399118714,
          -35.891564224148034,
          -34.870866768487616,
          -34.787283388076915,
          -32.701868893722995,
          -24.196431409762923,
          -22.887429375918565,
          -20.327354743090304,
          -18.303196931635032,
          -15.162859932209313,
          -18.807721379184848,
          -7.697058018679426,
          -18.070725255961264,
          -9.793653685060985,
          -2.0474914896337957,
          -11.36919950811297,
          -3.266697799208786,
          -7.916861208569514,
          0.8089872641836939,
          12.847964455312592,
          14.42945656915661,
          10.927142094197231,
          11.791892511334797,
          21.572582681440075,
          23.85388447941516,
          25.272379820178813,
          16.540085137849232,
          29.507589765462246,
          22.14624017762437,
          20.567528791135455,
          28.739530624446378,
          37.18533077420561,
          34.979789557423906,
          6.259078474510153,
          15.575692472527066,
          71.05353744976384
         ],
         "low": [
          -201.26048824847948,
          -103.0605222189867,
          -101.30788010919869,
          -92.41899122030927,
          -83.81406856960396,
          -82.33800269746969,
          -76.44108334421637,
          -81.1394166712765,
          -67.86668019811567,
          -79.35993338187427,
          -70.38994502505787,
          -75.18659749096688,
          -70.72082803210286,
          -56.6360224639441,
          -64.90740590096293,
          -27.756989512391055,
          -43.075353440553066,
          -41.944646730015464,
          -35.60532753957416,
          -37.4663673737543,
          -35.67086676848717,
          -31.587283388076774,
          -15.514368893722875,
          -20.290181409762937,
          -26.306232794721605,
          -21.10860474308994,
          -9.212287840725986,
          -10.400955170304371,
          -10.474388045851546,
          -3.7908080186794395,
          -6.070725255961094,
          -5.626987018394258,
          -14.242613440853553,
          -3.369199508112786,
          -0.8473429604993754,
          -7.1168612085695315,
          10.486406619022125,
          18.49312574563548,
          16.888472962599252,
          10.133491300546526,
          20.808285953957988,
          22.399028962431647,
          31.053884479415075,
          31.829756869359368,
          24.540085137849275,
          22.190516594730404,
          29.2328543508527,
          20.567528791135235,
          29.57286395777962,
          32.143313967482875,
          21.64645622409041,
          14.133094222541619,
          26.409025805860242,
          71.05353744976384
         ],
         "name": "Mean in Bucket - MeanDay Yeild",
         "open": [
          -201.26048824847948,
          -149.62540771516987,
          -110.19676899808725,
          -108.7152875166058,
          -94.50109147036689,
          -91.56877192823879,
          -84.65003856809686,
          -78.86668939854901,
          -84.14574996555787,
          -80.12329216050041,
          -72.68002136093575,
          -83.84801481380133,
          -69.95159726287218,
          -72.50903833696006,
          -58.6081933025378,
          -57.122068877470426,
          -48.54410344055316,
          -45.09425302922757,
          -38.83113399118714,
          -35.891564224148034,
          -34.870866768487616,
          -34.787283388076915,
          -32.701868893722995,
          -24.196431409762923,
          -22.887429375918565,
          -20.327354743090304,
          -18.303196931635032,
          -15.162859932209313,
          -18.807721379184848,
          -7.697058018679426,
          -18.070725255961264,
          -9.793653685060985,
          -2.0474914896337957,
          -11.36919950811297,
          -3.266697799208786,
          -7.916861208569514,
          0.8089872641836939,
          12.847964455312592,
          14.42945656915661,
          10.927142094197231,
          11.791892511334797,
          21.572582681440075,
          23.85388447941516,
          25.272379820178813,
          16.540085137849232,
          29.507589765462246,
          22.14624017762437,
          20.567528791135455,
          28.739530624446378,
          37.18533077420561,
          34.979789557423906,
          6.259078474510153,
          15.575692472527066,
          71.05353744976384
         ],
         "type": "candlestick",
         "x": [
          "09:50:00",
          "10:00:00",
          "10:10:00",
          "10:20:00",
          "10:30:00",
          "10:40:00",
          "10:50:00",
          "11:00:00",
          "11:10:00",
          "11:20:00",
          "11:30:00",
          "11:40:00",
          "11:50:00",
          "12:00:00",
          "12:10:00",
          "12:20:00",
          "12:30:00",
          "12:40:00",
          "12:50:00",
          "13:00:00",
          "13:10:00",
          "13:20:00",
          "13:30:00",
          "13:40:00",
          "13:50:00",
          "14:00:00",
          "14:10:00",
          "14:20:00",
          "14:30:00",
          "14:40:00",
          "14:50:00",
          "15:00:00",
          "15:10:00",
          "15:20:00",
          "15:30:00",
          "15:40:00",
          "15:50:00",
          "16:00:00",
          "16:10:00",
          "16:20:00",
          "16:30:00",
          "16:40:00",
          "16:50:00",
          "17:00:00",
          "17:10:00",
          "17:20:00",
          "17:30:00",
          "17:40:00",
          "17:50:00",
          "18:00:00",
          "18:10:00",
          "18:20:00",
          "18:30:00",
          "18:40:00"
         ],
         "xaxis": "x",
         "yaxis": "y"
        },
        {
         "name": "BullBear Rate",
         "type": "scatter",
         "x": [
          "09:50:00",
          "10:00:00",
          "10:10:00",
          "10:20:00",
          "10:30:00",
          "10:40:00",
          "10:50:00",
          "11:00:00",
          "11:10:00",
          "11:20:00",
          "11:30:00",
          "11:40:00",
          "11:50:00",
          "12:00:00",
          "12:10:00",
          "12:20:00",
          "12:30:00",
          "12:40:00",
          "12:50:00",
          "13:00:00",
          "13:10:00",
          "13:20:00",
          "13:30:00",
          "13:40:00",
          "13:50:00",
          "14:00:00",
          "14:10:00",
          "14:20:00",
          "14:30:00",
          "14:40:00",
          "14:50:00",
          "15:00:00",
          "15:10:00",
          "15:20:00",
          "15:30:00",
          "15:40:00",
          "15:50:00",
          "16:00:00",
          "16:10:00",
          "16:20:00",
          "16:30:00",
          "16:40:00",
          "16:50:00",
          "17:00:00",
          "17:10:00",
          "17:20:00",
          "17:30:00",
          "17:40:00",
          "17:50:00",
          "18:00:00",
          "18:10:00",
          "18:20:00",
          "18:30:00",
          "18:40:00"
         ],
         "xaxis": "x2",
         "y": [
          123.99500362277224,
          -4266.751207149012,
          2839.793448106434,
          -22132.676391195044,
          -9160.428360192573,
          -31843.9877118153,
          -534063.5392636986,
          -665069.0106768284,
          -707299.3460515898,
          -709461.5505048784,
          -689114.1842558319,
          -738017.4104988787,
          -751378.4057262951,
          -753786.8477972837,
          -757719.7467387946,
          -787477.6142034031,
          -798525.2885492842,
          -704125.470038965,
          -708065.4896062501,
          -699685.3644998083,
          -686925.7816745555,
          -624369.9164507722,
          -655115.3755682951,
          -777694.1746317573,
          -804978.6865734041,
          -1051590.6907309543,
          -1783516.8363379054,
          -1801426.5719640655,
          -1808250.3966679557,
          -1852297.9712709447,
          -2208213.424431188,
          -2248665.3574564387,
          -2336173.7350751953,
          -2114304.339161156,
          -2100361.381695677,
          -2137775.133576144,
          -2163748.1508014714,
          -2323990.2185675628,
          -2238387.376516827,
          -2307116.1385900425,
          -2320651.356054463,
          -2349543.540045337,
          -2570109.0147909713,
          -2548330.61117859,
          -2671986.9145482406,
          -2659434.3054252733,
          -2675365.522553162,
          -2508722.326278253,
          -2512007.9083082546,
          -2504829.9768317495,
          -2500049.1692515938,
          -2516808.238683838,
          -2537982.4425853025,
          -2538054.13040651
         ],
         "yaxis": "y2"
        },
        {
         "name": "Volume",
         "type": "bar",
         "x": [
          "09:50:00",
          "10:00:00",
          "10:10:00",
          "10:20:00",
          "10:30:00",
          "10:40:00",
          "10:50:00",
          "11:00:00",
          "11:10:00",
          "11:20:00",
          "11:30:00",
          "11:40:00",
          "11:50:00",
          "12:00:00",
          "12:10:00",
          "12:20:00",
          "12:30:00",
          "12:40:00",
          "12:50:00",
          "13:00:00",
          "13:10:00",
          "13:20:00",
          "13:30:00",
          "13:40:00",
          "13:50:00",
          "14:00:00",
          "14:10:00",
          "14:20:00",
          "14:30:00",
          "14:40:00",
          "14:50:00",
          "15:00:00",
          "15:10:00",
          "15:20:00",
          "15:30:00",
          "15:40:00",
          "15:50:00",
          "16:00:00",
          "16:10:00",
          "16:20:00",
          "16:30:00",
          "16:40:00",
          "16:50:00",
          "17:00:00",
          "17:10:00",
          "17:20:00",
          "17:30:00",
          "17:40:00",
          "17:50:00",
          "18:00:00",
          "18:10:00",
          "18:20:00",
          "18:30:00",
          "18:40:00"
         ],
         "xaxis": "x3",
         "y": [
          60.99221297029703,
          2229.787688613862,
          3006.208164356434,
          8739.969769108913,
          4722.122983663365,
          8432.897122029693,
          145938.55506950337,
          51380.81843965368,
          31338.91773841584,
          13174.91767202972,
          43788.29654801961,
          20508.81645233832,
          16603.77862378109,
          7053.452727761199,
          8031.266936616917,
          16345.24681119403,
          14304.039675572141,
          41300.18349985065,
          9430.12904915427,
          7659.595049104476,
          26047.686085820787,
          25005.302049751273,
          16747.45563064677,
          26021.75231850754,
          11433.341883134312,
          43537.93618796014,
          179895.71236940502,
          49053.82204308456,
          30034.811044079644,
          12944.317755223881,
          70458.03151636824,
          32435.14915980089,
          21509.519737462713,
          77244.3284544776,
          36405.63236164199,
          31164.78839865677,
          23122.880519402963,
          45324.154718059945,
          40323.58600905461,
          52749.4421234825,
          44524.589726368096,
          14043.404775771134,
          110940.24467189045,
          18692.58430796025,
          27290.820073034913,
          17769.123707064668,
          12346.915571393036,
          32301.737885621907,
          10822.65632716418,
          11813.916507313437,
          7772.839922587066,
          8792.684003184077,
          132267.77302522416,
          661.2766496019902
         ],
         "yaxis": "y3"
        }
       ],
       "layout": {
        "height": 800,
        "template": {
         "data": {
          "bar": [
           {
            "error_x": {
             "color": "#2a3f5f"
            },
            "error_y": {
             "color": "#2a3f5f"
            },
            "marker": {
             "line": {
              "color": "#E5ECF6",
              "width": 0.5
             }
            },
            "type": "bar"
           }
          ],
          "barpolar": [
           {
            "marker": {
             "line": {
              "color": "#E5ECF6",
              "width": 0.5
             }
            },
            "type": "barpolar"
           }
          ],
          "carpet": [
           {
            "aaxis": {
             "endlinecolor": "#2a3f5f",
             "gridcolor": "white",
             "linecolor": "white",
             "minorgridcolor": "white",
             "startlinecolor": "#2a3f5f"
            },
            "baxis": {
             "endlinecolor": "#2a3f5f",
             "gridcolor": "white",
             "linecolor": "white",
             "minorgridcolor": "white",
             "startlinecolor": "#2a3f5f"
            },
            "type": "carpet"
           }
          ],
          "choropleth": [
           {
            "colorbar": {
             "outlinewidth": 0,
             "ticks": ""
            },
            "type": "choropleth"
           }
          ],
          "contour": [
           {
            "colorbar": {
             "outlinewidth": 0,
             "ticks": ""
            },
            "colorscale": [
             [
              0,
              "#0d0887"
             ],
             [
              0.1111111111111111,
              "#46039f"
             ],
             [
              0.2222222222222222,
              "#7201a8"
             ],
             [
              0.3333333333333333,
              "#9c179e"
             ],
             [
              0.4444444444444444,
              "#bd3786"
             ],
             [
              0.5555555555555556,
              "#d8576b"
             ],
             [
              0.6666666666666666,
              "#ed7953"
             ],
             [
              0.7777777777777778,
              "#fb9f3a"
             ],
             [
              0.8888888888888888,
              "#fdca26"
             ],
             [
              1,
              "#f0f921"
             ]
            ],
            "type": "contour"
           }
          ],
          "contourcarpet": [
           {
            "colorbar": {
             "outlinewidth": 0,
             "ticks": ""
            },
            "type": "contourcarpet"
           }
          ],
          "heatmap": [
           {
            "colorbar": {
             "outlinewidth": 0,
             "ticks": ""
            },
            "colorscale": [
             [
              0,
              "#0d0887"
             ],
             [
              0.1111111111111111,
              "#46039f"
             ],
             [
              0.2222222222222222,
              "#7201a8"
             ],
             [
              0.3333333333333333,
              "#9c179e"
             ],
             [
              0.4444444444444444,
              "#bd3786"
             ],
             [
              0.5555555555555556,
              "#d8576b"
             ],
             [
              0.6666666666666666,
              "#ed7953"
             ],
             [
              0.7777777777777778,
              "#fb9f3a"
             ],
             [
              0.8888888888888888,
              "#fdca26"
             ],
             [
              1,
              "#f0f921"
             ]
            ],
            "type": "heatmap"
           }
          ],
          "heatmapgl": [
           {
            "colorbar": {
             "outlinewidth": 0,
             "ticks": ""
            },
            "colorscale": [
             [
              0,
              "#0d0887"
             ],
             [
              0.1111111111111111,
              "#46039f"
             ],
             [
              0.2222222222222222,
              "#7201a8"
             ],
             [
              0.3333333333333333,
              "#9c179e"
             ],
             [
              0.4444444444444444,
              "#bd3786"
             ],
             [
              0.5555555555555556,
              "#d8576b"
             ],
             [
              0.6666666666666666,
              "#ed7953"
             ],
             [
              0.7777777777777778,
              "#fb9f3a"
             ],
             [
              0.8888888888888888,
              "#fdca26"
             ],
             [
              1,
              "#f0f921"
             ]
            ],
            "type": "heatmapgl"
           }
          ],
          "histogram": [
           {
            "marker": {
             "colorbar": {
              "outlinewidth": 0,
              "ticks": ""
             }
            },
            "type": "histogram"
           }
          ],
          "histogram2d": [
           {
            "colorbar": {
             "outlinewidth": 0,
             "ticks": ""
            },
            "colorscale": [
             [
              0,
              "#0d0887"
             ],
             [
              0.1111111111111111,
              "#46039f"
             ],
             [
              0.2222222222222222,
              "#7201a8"
             ],
             [
              0.3333333333333333,
              "#9c179e"
             ],
             [
              0.4444444444444444,
              "#bd3786"
             ],
             [
              0.5555555555555556,
              "#d8576b"
             ],
             [
              0.6666666666666666,
              "#ed7953"
             ],
             [
              0.7777777777777778,
              "#fb9f3a"
             ],
             [
              0.8888888888888888,
              "#fdca26"
             ],
             [
              1,
              "#f0f921"
             ]
            ],
            "type": "histogram2d"
           }
          ],
          "histogram2dcontour": [
           {
            "colorbar": {
             "outlinewidth": 0,
             "ticks": ""
            },
            "colorscale": [
             [
              0,
              "#0d0887"
             ],
             [
              0.1111111111111111,
              "#46039f"
             ],
             [
              0.2222222222222222,
              "#7201a8"
             ],
             [
              0.3333333333333333,
              "#9c179e"
             ],
             [
              0.4444444444444444,
              "#bd3786"
             ],
             [
              0.5555555555555556,
              "#d8576b"
             ],
             [
              0.6666666666666666,
              "#ed7953"
             ],
             [
              0.7777777777777778,
              "#fb9f3a"
             ],
             [
              0.8888888888888888,
              "#fdca26"
             ],
             [
              1,
              "#f0f921"
             ]
            ],
            "type": "histogram2dcontour"
           }
          ],
          "mesh3d": [
           {
            "colorbar": {
             "outlinewidth": 0,
             "ticks": ""
            },
            "type": "mesh3d"
           }
          ],
          "parcoords": [
           {
            "line": {
             "colorbar": {
              "outlinewidth": 0,
              "ticks": ""
             }
            },
            "type": "parcoords"
           }
          ],
          "pie": [
           {
            "automargin": true,
            "type": "pie"
           }
          ],
          "scatter": [
           {
            "marker": {
             "colorbar": {
              "outlinewidth": 0,
              "ticks": ""
             }
            },
            "type": "scatter"
           }
          ],
          "scatter3d": [
           {
            "line": {
             "colorbar": {
              "outlinewidth": 0,
              "ticks": ""
             }
            },
            "marker": {
             "colorbar": {
              "outlinewidth": 0,
              "ticks": ""
             }
            },
            "type": "scatter3d"
           }
          ],
          "scattercarpet": [
           {
            "marker": {
             "colorbar": {
              "outlinewidth": 0,
              "ticks": ""
             }
            },
            "type": "scattercarpet"
           }
          ],
          "scattergeo": [
           {
            "marker": {
             "colorbar": {
              "outlinewidth": 0,
              "ticks": ""
             }
            },
            "type": "scattergeo"
           }
          ],
          "scattergl": [
           {
            "marker": {
             "colorbar": {
              "outlinewidth": 0,
              "ticks": ""
             }
            },
            "type": "scattergl"
           }
          ],
          "scattermapbox": [
           {
            "marker": {
             "colorbar": {
              "outlinewidth": 0,
              "ticks": ""
             }
            },
            "type": "scattermapbox"
           }
          ],
          "scatterpolar": [
           {
            "marker": {
             "colorbar": {
              "outlinewidth": 0,
              "ticks": ""
             }
            },
            "type": "scatterpolar"
           }
          ],
          "scatterpolargl": [
           {
            "marker": {
             "colorbar": {
              "outlinewidth": 0,
              "ticks": ""
             }
            },
            "type": "scatterpolargl"
           }
          ],
          "scatterternary": [
           {
            "marker": {
             "colorbar": {
              "outlinewidth": 0,
              "ticks": ""
             }
            },
            "type": "scatterternary"
           }
          ],
          "surface": [
           {
            "colorbar": {
             "outlinewidth": 0,
             "ticks": ""
            },
            "colorscale": [
             [
              0,
              "#0d0887"
             ],
             [
              0.1111111111111111,
              "#46039f"
             ],
             [
              0.2222222222222222,
              "#7201a8"
             ],
             [
              0.3333333333333333,
              "#9c179e"
             ],
             [
              0.4444444444444444,
              "#bd3786"
             ],
             [
              0.5555555555555556,
              "#d8576b"
             ],
             [
              0.6666666666666666,
              "#ed7953"
             ],
             [
              0.7777777777777778,
              "#fb9f3a"
             ],
             [
              0.8888888888888888,
              "#fdca26"
             ],
             [
              1,
              "#f0f921"
             ]
            ],
            "type": "surface"
           }
          ],
          "table": [
           {
            "cells": {
             "fill": {
              "color": "#EBF0F8"
             },
             "line": {
              "color": "white"
             }
            },
            "header": {
             "fill": {
              "color": "#C8D4E3"
             },
             "line": {
              "color": "white"
             }
            },
            "type": "table"
           }
          ]
         },
         "layout": {
          "annotationdefaults": {
           "arrowcolor": "#2a3f5f",
           "arrowhead": 0,
           "arrowwidth": 1
          },
          "autotypenumbers": "strict",
          "coloraxis": {
           "colorbar": {
            "outlinewidth": 0,
            "ticks": ""
           }
          },
          "colorscale": {
           "diverging": [
            [
             0,
             "#8e0152"
            ],
            [
             0.1,
             "#c51b7d"
            ],
            [
             0.2,
             "#de77ae"
            ],
            [
             0.3,
             "#f1b6da"
            ],
            [
             0.4,
             "#fde0ef"
            ],
            [
             0.5,
             "#f7f7f7"
            ],
            [
             0.6,
             "#e6f5d0"
            ],
            [
             0.7,
             "#b8e186"
            ],
            [
             0.8,
             "#7fbc41"
            ],
            [
             0.9,
             "#4d9221"
            ],
            [
             1,
             "#276419"
            ]
           ],
           "sequential": [
            [
             0,
             "#0d0887"
            ],
            [
             0.1111111111111111,
             "#46039f"
            ],
            [
             0.2222222222222222,
             "#7201a8"
            ],
            [
             0.3333333333333333,
             "#9c179e"
            ],
            [
             0.4444444444444444,
             "#bd3786"
            ],
            [
             0.5555555555555556,
             "#d8576b"
            ],
            [
             0.6666666666666666,
             "#ed7953"
            ],
            [
             0.7777777777777778,
             "#fb9f3a"
            ],
            [
             0.8888888888888888,
             "#fdca26"
            ],
            [
             1,
             "#f0f921"
            ]
           ],
           "sequentialminus": [
            [
             0,
             "#0d0887"
            ],
            [
             0.1111111111111111,
             "#46039f"
            ],
            [
             0.2222222222222222,
             "#7201a8"
            ],
            [
             0.3333333333333333,
             "#9c179e"
            ],
            [
             0.4444444444444444,
             "#bd3786"
            ],
            [
             0.5555555555555556,
             "#d8576b"
            ],
            [
             0.6666666666666666,
             "#ed7953"
            ],
            [
             0.7777777777777778,
             "#fb9f3a"
            ],
            [
             0.8888888888888888,
             "#fdca26"
            ],
            [
             1,
             "#f0f921"
            ]
           ]
          },
          "colorway": [
           "#636efa",
           "#EF553B",
           "#00cc96",
           "#ab63fa",
           "#FFA15A",
           "#19d3f3",
           "#FF6692",
           "#B6E880",
           "#FF97FF",
           "#FECB52"
          ],
          "font": {
           "color": "#2a3f5f"
          },
          "geo": {
           "bgcolor": "white",
           "lakecolor": "white",
           "landcolor": "#E5ECF6",
           "showlakes": true,
           "showland": true,
           "subunitcolor": "white"
          },
          "hoverlabel": {
           "align": "left"
          },
          "hovermode": "closest",
          "mapbox": {
           "style": "light"
          },
          "paper_bgcolor": "white",
          "plot_bgcolor": "#E5ECF6",
          "polar": {
           "angularaxis": {
            "gridcolor": "white",
            "linecolor": "white",
            "ticks": ""
           },
           "bgcolor": "#E5ECF6",
           "radialaxis": {
            "gridcolor": "white",
            "linecolor": "white",
            "ticks": ""
           }
          },
          "scene": {
           "xaxis": {
            "backgroundcolor": "#E5ECF6",
            "gridcolor": "white",
            "gridwidth": 2,
            "linecolor": "white",
            "showbackground": true,
            "ticks": "",
            "zerolinecolor": "white"
           },
           "yaxis": {
            "backgroundcolor": "#E5ECF6",
            "gridcolor": "white",
            "gridwidth": 2,
            "linecolor": "white",
            "showbackground": true,
            "ticks": "",
            "zerolinecolor": "white"
           },
           "zaxis": {
            "backgroundcolor": "#E5ECF6",
            "gridcolor": "white",
            "gridwidth": 2,
            "linecolor": "white",
            "showbackground": true,
            "ticks": "",
            "zerolinecolor": "white"
           }
          },
          "shapedefaults": {
           "line": {
            "color": "#2a3f5f"
           }
          },
          "ternary": {
           "aaxis": {
            "gridcolor": "white",
            "linecolor": "white",
            "ticks": ""
           },
           "baxis": {
            "gridcolor": "white",
            "linecolor": "white",
            "ticks": ""
           },
           "bgcolor": "#E5ECF6",
           "caxis": {
            "gridcolor": "white",
            "linecolor": "white",
            "ticks": ""
           }
          },
          "title": {
           "x": 0.05
          },
          "xaxis": {
           "automargin": true,
           "gridcolor": "white",
           "linecolor": "white",
           "ticks": "",
           "title": {
            "standoff": 15
           },
           "zerolinecolor": "white",
           "zerolinewidth": 2
          },
          "yaxis": {
           "automargin": true,
           "gridcolor": "white",
           "linecolor": "white",
           "ticks": "",
           "title": {
            "standoff": 15
           },
           "zerolinecolor": "white",
           "zerolinewidth": 2
          }
         }
        },
        "title": {
         "text": "Typical Portrait"
        },
        "xaxis": {
         "anchor": "y",
         "domain": [
          0,
          1
         ],
         "matches": "x3",
         "rangeslider": {
          "visible": false
         },
         "showticklabels": false
        },
        "xaxis2": {
         "anchor": "y2",
         "domain": [
          0,
          1
         ],
         "matches": "x3",
         "showticklabels": false
        },
        "xaxis3": {
         "anchor": "y3",
         "domain": [
          0,
          1
         ]
        },
        "yaxis": {
         "anchor": "x",
         "domain": [
          0.7333333333333333,
          1
         ]
        },
        "yaxis2": {
         "anchor": "x2",
         "domain": [
          0.36666666666666664,
          0.6333333333333333
         ]
        },
        "yaxis3": {
         "anchor": "x3",
         "domain": [
          0,
          0.26666666666666666
         ]
        }
       }
      },
      "text/html": [
       "<div>                            <div id=\"c6ce6324-e6ac-4fb4-8771-76b56bc4e204\" class=\"plotly-graph-div\" style=\"height:800px; width:100%;\"></div>            <script type=\"text/javascript\">                require([\"plotly\"], function(Plotly) {                    window.PLOTLYENV=window.PLOTLYENV || {};                                    if (document.getElementById(\"c6ce6324-e6ac-4fb4-8771-76b56bc4e204\")) {                    Plotly.newPlot(                        \"c6ce6324-e6ac-4fb4-8771-76b56bc4e204\",                        [{\"close\": [-201.26048824847948, -103.0605222189867, -101.30788010919869, -92.41899122030927, -83.81406856960396, -82.33800269746969, -76.44108334421637, -81.1394166712765, -67.86668019811567, -79.35993338187427, -70.38994502505787, -75.18659749096688, -70.72082803210286, -56.6360224639441, -64.90740590096293, -27.756989512391055, -43.075353440553066, -41.944646730015464, -35.60532753957416, -37.4663673737543, -35.67086676848717, -31.587283388076774, -15.514368893722875, -20.290181409762937, -26.306232794721605, -21.10860474308994, -9.212287840725986, -10.400955170304371, -10.474388045851546, -3.7908080186794395, -6.070725255961094, -5.626987018394258, -14.242613440853553, -3.369199508112786, -0.8473429604993754, -7.1168612085695315, 10.486406619022125, 18.49312574563548, 16.888472962599252, 10.133491300546526, 20.808285953957988, 22.399028962431647, 31.053884479415075, 31.829756869359368, 24.540085137849275, 22.190516594730404, 29.2328543508527, 20.567528791135235, 29.57286395777962, 32.143313967482875, 21.64645622409041, 14.133094222541619, 26.409025805860242, 71.05353744976384], \"high\": [-201.26048824847948, -149.62540771516987, -110.19676899808725, -108.7152875166058, -94.50109147036689, -91.56877192823879, -84.65003856809686, -78.86668939854901, -84.14574996555787, -80.12329216050041, -72.68002136093575, -83.84801481380133, -69.95159726287218, -72.50903833696006, -58.6081933025378, -57.122068877470426, -48.54410344055316, -45.09425302922757, -38.83113399118714, -35.891564224148034, -34.870866768487616, -34.787283388076915, -32.701868893722995, -24.196431409762923, -22.887429375918565, -20.327354743090304, -18.303196931635032, -15.162859932209313, -18.807721379184848, -7.697058018679426, -18.070725255961264, -9.793653685060985, -2.0474914896337957, -11.36919950811297, -3.266697799208786, -7.916861208569514, 0.8089872641836939, 12.847964455312592, 14.42945656915661, 10.927142094197231, 11.791892511334797, 21.572582681440075, 23.85388447941516, 25.272379820178813, 16.540085137849232, 29.507589765462246, 22.14624017762437, 20.567528791135455, 28.739530624446378, 37.18533077420561, 34.979789557423906, 6.259078474510153, 15.575692472527066, 71.05353744976384], \"low\": [-201.26048824847948, -103.0605222189867, -101.30788010919869, -92.41899122030927, -83.81406856960396, -82.33800269746969, -76.44108334421637, -81.1394166712765, -67.86668019811567, -79.35993338187427, -70.38994502505787, -75.18659749096688, -70.72082803210286, -56.6360224639441, -64.90740590096293, -27.756989512391055, -43.075353440553066, -41.944646730015464, -35.60532753957416, -37.4663673737543, -35.67086676848717, -31.587283388076774, -15.514368893722875, -20.290181409762937, -26.306232794721605, -21.10860474308994, -9.212287840725986, -10.400955170304371, -10.474388045851546, -3.7908080186794395, -6.070725255961094, -5.626987018394258, -14.242613440853553, -3.369199508112786, -0.8473429604993754, -7.1168612085695315, 10.486406619022125, 18.49312574563548, 16.888472962599252, 10.133491300546526, 20.808285953957988, 22.399028962431647, 31.053884479415075, 31.829756869359368, 24.540085137849275, 22.190516594730404, 29.2328543508527, 20.567528791135235, 29.57286395777962, 32.143313967482875, 21.64645622409041, 14.133094222541619, 26.409025805860242, 71.05353744976384], \"name\": \"Mean in Bucket - MeanDay Yeild\", \"open\": [-201.26048824847948, -149.62540771516987, -110.19676899808725, -108.7152875166058, -94.50109147036689, -91.56877192823879, -84.65003856809686, -78.86668939854901, -84.14574996555787, -80.12329216050041, -72.68002136093575, -83.84801481380133, -69.95159726287218, -72.50903833696006, -58.6081933025378, -57.122068877470426, -48.54410344055316, -45.09425302922757, -38.83113399118714, -35.891564224148034, -34.870866768487616, -34.787283388076915, -32.701868893722995, -24.196431409762923, -22.887429375918565, -20.327354743090304, -18.303196931635032, -15.162859932209313, -18.807721379184848, -7.697058018679426, -18.070725255961264, -9.793653685060985, -2.0474914896337957, -11.36919950811297, -3.266697799208786, -7.916861208569514, 0.8089872641836939, 12.847964455312592, 14.42945656915661, 10.927142094197231, 11.791892511334797, 21.572582681440075, 23.85388447941516, 25.272379820178813, 16.540085137849232, 29.507589765462246, 22.14624017762437, 20.567528791135455, 28.739530624446378, 37.18533077420561, 34.979789557423906, 6.259078474510153, 15.575692472527066, 71.05353744976384], \"type\": \"candlestick\", \"x\": [\"09:50:00\", \"10:00:00\", \"10:10:00\", \"10:20:00\", \"10:30:00\", \"10:40:00\", \"10:50:00\", \"11:00:00\", \"11:10:00\", \"11:20:00\", \"11:30:00\", \"11:40:00\", \"11:50:00\", \"12:00:00\", \"12:10:00\", \"12:20:00\", \"12:30:00\", \"12:40:00\", \"12:50:00\", \"13:00:00\", \"13:10:00\", \"13:20:00\", \"13:30:00\", \"13:40:00\", \"13:50:00\", \"14:00:00\", \"14:10:00\", \"14:20:00\", \"14:30:00\", \"14:40:00\", \"14:50:00\", \"15:00:00\", \"15:10:00\", \"15:20:00\", \"15:30:00\", \"15:40:00\", \"15:50:00\", \"16:00:00\", \"16:10:00\", \"16:20:00\", \"16:30:00\", \"16:40:00\", \"16:50:00\", \"17:00:00\", \"17:10:00\", \"17:20:00\", \"17:30:00\", \"17:40:00\", \"17:50:00\", \"18:00:00\", \"18:10:00\", \"18:20:00\", \"18:30:00\", \"18:40:00\"], \"xaxis\": \"x\", \"yaxis\": \"y\"}, {\"name\": \"BullBear Rate\", \"type\": \"scatter\", \"x\": [\"09:50:00\", \"10:00:00\", \"10:10:00\", \"10:20:00\", \"10:30:00\", \"10:40:00\", \"10:50:00\", \"11:00:00\", \"11:10:00\", \"11:20:00\", \"11:30:00\", \"11:40:00\", \"11:50:00\", \"12:00:00\", \"12:10:00\", \"12:20:00\", \"12:30:00\", \"12:40:00\", \"12:50:00\", \"13:00:00\", \"13:10:00\", \"13:20:00\", \"13:30:00\", \"13:40:00\", \"13:50:00\", \"14:00:00\", \"14:10:00\", \"14:20:00\", \"14:30:00\", \"14:40:00\", \"14:50:00\", \"15:00:00\", \"15:10:00\", \"15:20:00\", \"15:30:00\", \"15:40:00\", \"15:50:00\", \"16:00:00\", \"16:10:00\", \"16:20:00\", \"16:30:00\", \"16:40:00\", \"16:50:00\", \"17:00:00\", \"17:10:00\", \"17:20:00\", \"17:30:00\", \"17:40:00\", \"17:50:00\", \"18:00:00\", \"18:10:00\", \"18:20:00\", \"18:30:00\", \"18:40:00\"], \"xaxis\": \"x2\", \"y\": [123.99500362277224, -4266.751207149012, 2839.793448106434, -22132.676391195044, -9160.428360192573, -31843.9877118153, -534063.5392636986, -665069.0106768284, -707299.3460515898, -709461.5505048784, -689114.1842558319, -738017.4104988787, -751378.4057262951, -753786.8477972837, -757719.7467387946, -787477.6142034031, -798525.2885492842, -704125.470038965, -708065.4896062501, -699685.3644998083, -686925.7816745555, -624369.9164507722, -655115.3755682951, -777694.1746317573, -804978.6865734041, -1051590.6907309543, -1783516.8363379054, -1801426.5719640655, -1808250.3966679557, -1852297.9712709447, -2208213.424431188, -2248665.3574564387, -2336173.7350751953, -2114304.339161156, -2100361.381695677, -2137775.133576144, -2163748.1508014714, -2323990.2185675628, -2238387.376516827, -2307116.1385900425, -2320651.356054463, -2349543.540045337, -2570109.0147909713, -2548330.61117859, -2671986.9145482406, -2659434.3054252733, -2675365.522553162, -2508722.326278253, -2512007.9083082546, -2504829.9768317495, -2500049.1692515938, -2516808.238683838, -2537982.4425853025, -2538054.13040651], \"yaxis\": \"y2\"}, {\"name\": \"Volume\", \"type\": \"bar\", \"x\": [\"09:50:00\", \"10:00:00\", \"10:10:00\", \"10:20:00\", \"10:30:00\", \"10:40:00\", \"10:50:00\", \"11:00:00\", \"11:10:00\", \"11:20:00\", \"11:30:00\", \"11:40:00\", \"11:50:00\", \"12:00:00\", \"12:10:00\", \"12:20:00\", \"12:30:00\", \"12:40:00\", \"12:50:00\", \"13:00:00\", \"13:10:00\", \"13:20:00\", \"13:30:00\", \"13:40:00\", \"13:50:00\", \"14:00:00\", \"14:10:00\", \"14:20:00\", \"14:30:00\", \"14:40:00\", \"14:50:00\", \"15:00:00\", \"15:10:00\", \"15:20:00\", \"15:30:00\", \"15:40:00\", \"15:50:00\", \"16:00:00\", \"16:10:00\", \"16:20:00\", \"16:30:00\", \"16:40:00\", \"16:50:00\", \"17:00:00\", \"17:10:00\", \"17:20:00\", \"17:30:00\", \"17:40:00\", \"17:50:00\", \"18:00:00\", \"18:10:00\", \"18:20:00\", \"18:30:00\", \"18:40:00\"], \"xaxis\": \"x3\", \"y\": [60.99221297029703, 2229.787688613862, 3006.208164356434, 8739.969769108913, 4722.122983663365, 8432.897122029693, 145938.55506950337, 51380.81843965368, 31338.91773841584, 13174.91767202972, 43788.29654801961, 20508.81645233832, 16603.77862378109, 7053.452727761199, 8031.266936616917, 16345.24681119403, 14304.039675572141, 41300.18349985065, 9430.12904915427, 7659.595049104476, 26047.686085820787, 25005.302049751273, 16747.45563064677, 26021.75231850754, 11433.341883134312, 43537.93618796014, 179895.71236940502, 49053.82204308456, 30034.811044079644, 12944.317755223881, 70458.03151636824, 32435.14915980089, 21509.519737462713, 77244.3284544776, 36405.63236164199, 31164.78839865677, 23122.880519402963, 45324.154718059945, 40323.58600905461, 52749.4421234825, 44524.589726368096, 14043.404775771134, 110940.24467189045, 18692.58430796025, 27290.820073034913, 17769.123707064668, 12346.915571393036, 32301.737885621907, 10822.65632716418, 11813.916507313437, 7772.839922587066, 8792.684003184077, 132267.77302522416, 661.2766496019902], \"yaxis\": \"y3\"}],                        {\"height\": 800, \"template\": {\"data\": {\"bar\": [{\"error_x\": {\"color\": \"#2a3f5f\"}, \"error_y\": {\"color\": \"#2a3f5f\"}, \"marker\": {\"line\": {\"color\": \"#E5ECF6\", \"width\": 0.5}}, \"type\": \"bar\"}], \"barpolar\": [{\"marker\": {\"line\": {\"color\": \"#E5ECF6\", \"width\": 0.5}}, \"type\": \"barpolar\"}], \"carpet\": [{\"aaxis\": {\"endlinecolor\": \"#2a3f5f\", \"gridcolor\": \"white\", \"linecolor\": \"white\", \"minorgridcolor\": \"white\", \"startlinecolor\": \"#2a3f5f\"}, \"baxis\": {\"endlinecolor\": \"#2a3f5f\", \"gridcolor\": \"white\", \"linecolor\": \"white\", \"minorgridcolor\": \"white\", \"startlinecolor\": \"#2a3f5f\"}, \"type\": \"carpet\"}], \"choropleth\": [{\"colorbar\": {\"outlinewidth\": 0, \"ticks\": \"\"}, \"type\": \"choropleth\"}], \"contour\": [{\"colorbar\": {\"outlinewidth\": 0, \"ticks\": \"\"}, \"colorscale\": [[0.0, \"#0d0887\"], [0.1111111111111111, \"#46039f\"], [0.2222222222222222, \"#7201a8\"], [0.3333333333333333, \"#9c179e\"], [0.4444444444444444, \"#bd3786\"], [0.5555555555555556, \"#d8576b\"], [0.6666666666666666, \"#ed7953\"], [0.7777777777777778, \"#fb9f3a\"], [0.8888888888888888, \"#fdca26\"], [1.0, \"#f0f921\"]], \"type\": \"contour\"}], \"contourcarpet\": [{\"colorbar\": {\"outlinewidth\": 0, \"ticks\": \"\"}, \"type\": \"contourcarpet\"}], \"heatmap\": [{\"colorbar\": {\"outlinewidth\": 0, \"ticks\": \"\"}, \"colorscale\": [[0.0, \"#0d0887\"], [0.1111111111111111, \"#46039f\"], [0.2222222222222222, \"#7201a8\"], [0.3333333333333333, \"#9c179e\"], [0.4444444444444444, \"#bd3786\"], [0.5555555555555556, \"#d8576b\"], [0.6666666666666666, \"#ed7953\"], [0.7777777777777778, \"#fb9f3a\"], [0.8888888888888888, \"#fdca26\"], [1.0, \"#f0f921\"]], \"type\": \"heatmap\"}], \"heatmapgl\": [{\"colorbar\": {\"outlinewidth\": 0, \"ticks\": \"\"}, \"colorscale\": [[0.0, \"#0d0887\"], [0.1111111111111111, \"#46039f\"], [0.2222222222222222, \"#7201a8\"], [0.3333333333333333, \"#9c179e\"], [0.4444444444444444, \"#bd3786\"], [0.5555555555555556, \"#d8576b\"], [0.6666666666666666, \"#ed7953\"], [0.7777777777777778, \"#fb9f3a\"], [0.8888888888888888, \"#fdca26\"], [1.0, \"#f0f921\"]], \"type\": \"heatmapgl\"}], \"histogram\": [{\"marker\": {\"colorbar\": {\"outlinewidth\": 0, \"ticks\": \"\"}}, \"type\": \"histogram\"}], \"histogram2d\": [{\"colorbar\": {\"outlinewidth\": 0, \"ticks\": \"\"}, \"colorscale\": [[0.0, \"#0d0887\"], [0.1111111111111111, \"#46039f\"], [0.2222222222222222, \"#7201a8\"], [0.3333333333333333, \"#9c179e\"], [0.4444444444444444, \"#bd3786\"], [0.5555555555555556, \"#d8576b\"], [0.6666666666666666, \"#ed7953\"], [0.7777777777777778, \"#fb9f3a\"], [0.8888888888888888, \"#fdca26\"], [1.0, \"#f0f921\"]], \"type\": \"histogram2d\"}], \"histogram2dcontour\": [{\"colorbar\": {\"outlinewidth\": 0, \"ticks\": \"\"}, \"colorscale\": [[0.0, \"#0d0887\"], [0.1111111111111111, \"#46039f\"], [0.2222222222222222, \"#7201a8\"], [0.3333333333333333, \"#9c179e\"], [0.4444444444444444, \"#bd3786\"], [0.5555555555555556, \"#d8576b\"], [0.6666666666666666, \"#ed7953\"], [0.7777777777777778, \"#fb9f3a\"], [0.8888888888888888, \"#fdca26\"], [1.0, \"#f0f921\"]], \"type\": \"histogram2dcontour\"}], \"mesh3d\": [{\"colorbar\": {\"outlinewidth\": 0, \"ticks\": \"\"}, \"type\": \"mesh3d\"}], \"parcoords\": [{\"line\": {\"colorbar\": {\"outlinewidth\": 0, \"ticks\": \"\"}}, \"type\": \"parcoords\"}], \"pie\": [{\"automargin\": true, \"type\": \"pie\"}], \"scatter\": [{\"marker\": {\"colorbar\": {\"outlinewidth\": 0, \"ticks\": \"\"}}, \"type\": \"scatter\"}], \"scatter3d\": [{\"line\": {\"colorbar\": {\"outlinewidth\": 0, \"ticks\": \"\"}}, \"marker\": {\"colorbar\": {\"outlinewidth\": 0, \"ticks\": \"\"}}, \"type\": \"scatter3d\"}], \"scattercarpet\": [{\"marker\": {\"colorbar\": {\"outlinewidth\": 0, \"ticks\": \"\"}}, \"type\": \"scattercarpet\"}], \"scattergeo\": [{\"marker\": {\"colorbar\": {\"outlinewidth\": 0, \"ticks\": \"\"}}, \"type\": \"scattergeo\"}], \"scattergl\": [{\"marker\": {\"colorbar\": {\"outlinewidth\": 0, \"ticks\": \"\"}}, \"type\": \"scattergl\"}], \"scattermapbox\": [{\"marker\": {\"colorbar\": {\"outlinewidth\": 0, \"ticks\": \"\"}}, \"type\": \"scattermapbox\"}], \"scatterpolar\": [{\"marker\": {\"colorbar\": {\"outlinewidth\": 0, \"ticks\": \"\"}}, \"type\": \"scatterpolar\"}], \"scatterpolargl\": [{\"marker\": {\"colorbar\": {\"outlinewidth\": 0, \"ticks\": \"\"}}, \"type\": \"scatterpolargl\"}], \"scatterternary\": [{\"marker\": {\"colorbar\": {\"outlinewidth\": 0, \"ticks\": \"\"}}, \"type\": \"scatterternary\"}], \"surface\": [{\"colorbar\": {\"outlinewidth\": 0, \"ticks\": \"\"}, \"colorscale\": [[0.0, \"#0d0887\"], [0.1111111111111111, \"#46039f\"], [0.2222222222222222, \"#7201a8\"], [0.3333333333333333, \"#9c179e\"], [0.4444444444444444, \"#bd3786\"], [0.5555555555555556, \"#d8576b\"], [0.6666666666666666, \"#ed7953\"], [0.7777777777777778, \"#fb9f3a\"], [0.8888888888888888, \"#fdca26\"], [1.0, \"#f0f921\"]], \"type\": \"surface\"}], \"table\": [{\"cells\": {\"fill\": {\"color\": \"#EBF0F8\"}, \"line\": {\"color\": \"white\"}}, \"header\": {\"fill\": {\"color\": \"#C8D4E3\"}, \"line\": {\"color\": \"white\"}}, \"type\": \"table\"}]}, \"layout\": {\"annotationdefaults\": {\"arrowcolor\": \"#2a3f5f\", \"arrowhead\": 0, \"arrowwidth\": 1}, \"autotypenumbers\": \"strict\", \"coloraxis\": {\"colorbar\": {\"outlinewidth\": 0, \"ticks\": \"\"}}, \"colorscale\": {\"diverging\": [[0, \"#8e0152\"], [0.1, \"#c51b7d\"], [0.2, \"#de77ae\"], [0.3, \"#f1b6da\"], [0.4, \"#fde0ef\"], [0.5, \"#f7f7f7\"], [0.6, \"#e6f5d0\"], [0.7, \"#b8e186\"], [0.8, \"#7fbc41\"], [0.9, \"#4d9221\"], [1, \"#276419\"]], \"sequential\": [[0.0, \"#0d0887\"], [0.1111111111111111, \"#46039f\"], [0.2222222222222222, \"#7201a8\"], [0.3333333333333333, \"#9c179e\"], [0.4444444444444444, \"#bd3786\"], [0.5555555555555556, \"#d8576b\"], [0.6666666666666666, \"#ed7953\"], [0.7777777777777778, \"#fb9f3a\"], [0.8888888888888888, \"#fdca26\"], [1.0, \"#f0f921\"]], \"sequentialminus\": [[0.0, \"#0d0887\"], [0.1111111111111111, \"#46039f\"], [0.2222222222222222, \"#7201a8\"], [0.3333333333333333, \"#9c179e\"], [0.4444444444444444, \"#bd3786\"], [0.5555555555555556, \"#d8576b\"], [0.6666666666666666, \"#ed7953\"], [0.7777777777777778, \"#fb9f3a\"], [0.8888888888888888, \"#fdca26\"], [1.0, \"#f0f921\"]]}, \"colorway\": [\"#636efa\", \"#EF553B\", \"#00cc96\", \"#ab63fa\", \"#FFA15A\", \"#19d3f3\", \"#FF6692\", \"#B6E880\", \"#FF97FF\", \"#FECB52\"], \"font\": {\"color\": \"#2a3f5f\"}, \"geo\": {\"bgcolor\": \"white\", \"lakecolor\": \"white\", \"landcolor\": \"#E5ECF6\", \"showlakes\": true, \"showland\": true, \"subunitcolor\": \"white\"}, \"hoverlabel\": {\"align\": \"left\"}, \"hovermode\": \"closest\", \"mapbox\": {\"style\": \"light\"}, \"paper_bgcolor\": \"white\", \"plot_bgcolor\": \"#E5ECF6\", \"polar\": {\"angularaxis\": {\"gridcolor\": \"white\", \"linecolor\": \"white\", \"ticks\": \"\"}, \"bgcolor\": \"#E5ECF6\", \"radialaxis\": {\"gridcolor\": \"white\", \"linecolor\": \"white\", \"ticks\": \"\"}}, \"scene\": {\"xaxis\": {\"backgroundcolor\": \"#E5ECF6\", \"gridcolor\": \"white\", \"gridwidth\": 2, \"linecolor\": \"white\", \"showbackground\": true, \"ticks\": \"\", \"zerolinecolor\": \"white\"}, \"yaxis\": {\"backgroundcolor\": \"#E5ECF6\", \"gridcolor\": \"white\", \"gridwidth\": 2, \"linecolor\": \"white\", \"showbackground\": true, \"ticks\": \"\", \"zerolinecolor\": \"white\"}, \"zaxis\": {\"backgroundcolor\": \"#E5ECF6\", \"gridcolor\": \"white\", \"gridwidth\": 2, \"linecolor\": \"white\", \"showbackground\": true, \"ticks\": \"\", \"zerolinecolor\": \"white\"}}, \"shapedefaults\": {\"line\": {\"color\": \"#2a3f5f\"}}, \"ternary\": {\"aaxis\": {\"gridcolor\": \"white\", \"linecolor\": \"white\", \"ticks\": \"\"}, \"baxis\": {\"gridcolor\": \"white\", \"linecolor\": \"white\", \"ticks\": \"\"}, \"bgcolor\": \"#E5ECF6\", \"caxis\": {\"gridcolor\": \"white\", \"linecolor\": \"white\", \"ticks\": \"\"}}, \"title\": {\"x\": 0.05}, \"xaxis\": {\"automargin\": true, \"gridcolor\": \"white\", \"linecolor\": \"white\", \"ticks\": \"\", \"title\": {\"standoff\": 15}, \"zerolinecolor\": \"white\", \"zerolinewidth\": 2}, \"yaxis\": {\"automargin\": true, \"gridcolor\": \"white\", \"linecolor\": \"white\", \"ticks\": \"\", \"title\": {\"standoff\": 15}, \"zerolinecolor\": \"white\", \"zerolinewidth\": 2}}}, \"title\": {\"text\": \"Typical Portrait\"}, \"xaxis\": {\"anchor\": \"y\", \"domain\": [0.0, 1.0], \"matches\": \"x3\", \"rangeslider\": {\"visible\": false}, \"showticklabels\": false}, \"xaxis2\": {\"anchor\": \"y2\", \"domain\": [0.0, 1.0], \"matches\": \"x3\", \"showticklabels\": false}, \"xaxis3\": {\"anchor\": \"y3\", \"domain\": [0.0, 1.0]}, \"yaxis\": {\"anchor\": \"x\", \"domain\": [0.7333333333333333, 1.0]}, \"yaxis2\": {\"anchor\": \"x2\", \"domain\": [0.36666666666666664, 0.6333333333333333]}, \"yaxis3\": {\"anchor\": \"x3\", \"domain\": [0.0, 0.26666666666666666]}},                        {\"responsive\": true}                    ).then(function(){\n",
       "                            \n",
       "var gd = document.getElementById('c6ce6324-e6ac-4fb4-8771-76b56bc4e204');\n",
       "var x = new MutationObserver(function (mutations, observer) {{\n",
       "        var display = window.getComputedStyle(gd).display;\n",
       "        if (!display || display === 'none') {{\n",
       "            console.log([gd, 'removed!']);\n",
       "            Plotly.purge(gd);\n",
       "            observer.disconnect();\n",
       "        }}\n",
       "}});\n",
       "\n",
       "// Listen for the removal of the full notebook cells\n",
       "var notebookContainer = gd.closest('#notebook-container');\n",
       "if (notebookContainer) {{\n",
       "    x.observe(notebookContainer, {childList: true});\n",
       "}}\n",
       "\n",
       "// Listen for the clearing of the current output cell\n",
       "var outputEl = gd.closest('.output');\n",
       "if (outputEl) {{\n",
       "    x.observe(outputEl, {childList: true});\n",
       "}}\n",
       "\n",
       "                        })                };                });            </script>        </div>"
      ]
     },
     "metadata": {},
     "output_type": "display_data"
    }
   ],
   "source": [
    "fig = make_subplots(rows=3, cols=1, shared_xaxes=True)\n",
    "\n",
    "fig.append_trace(go.Candlestick(x=test.index,\n",
    "                open=test.price_x.open*10000, high=test.price_x.open*10000,\n",
    "                low=test.price_x.close*10000, close=test.price_x.close*10000, name=\"Mean in Bucket - MeanDay Yeild\"),\n",
    "                row=1,col=1)\n",
    "\n",
    "fig.append_trace(go.Scatter(x=test.index, y=test.Road.Road.cumsum(),name=\"BullBear Rate\"),\n",
    "                row=2,col=1)\n",
    "\n",
    "fig.append_trace(go.Bar(x=test.index, y=test['size']['size'], name='Volume'),\n",
    "                row=3,col=1)\n",
    "\n",
    "#fig.update_layout(xaxis_rangeslider_visible=False)\n",
    "\n",
    "fig.update_layout(\n",
    "    xaxis_rangeslider_visible=False,\n",
    "    height=800,\n",
    "#    showlegend=False,\n",
    "    title_text=\"Typical Portrait\",\n",
    ")\n",
    "fig.show()"
   ]
  },
  {
   "cell_type": "code",
   "execution_count": 13,
   "metadata": {},
   "outputs": [],
   "source": [
    "logs = logs.reset_index()"
   ]
  },
  {
   "cell_type": "code",
   "execution_count": 168,
   "metadata": {},
   "outputs": [
    {
     "data": {
      "text/html": [
       "<div>\n",
       "<style scoped>\n",
       "    .dataframe tbody tr th:only-of-type {\n",
       "        vertical-align: middle;\n",
       "    }\n",
       "\n",
       "    .dataframe tbody tr th {\n",
       "        vertical-align: top;\n",
       "    }\n",
       "\n",
       "    .dataframe thead th {\n",
       "        text-align: right;\n",
       "    }\n",
       "</style>\n",
       "<table border=\"1\" class=\"dataframe\">\n",
       "  <thead>\n",
       "    <tr style=\"text-align: right;\">\n",
       "      <th></th>\n",
       "      <th>Unnamed: 0</th>\n",
       "      <th>Unnamed: 0.1</th>\n",
       "      <th>quotedate</th>\n",
       "      <th>local_timestamp</th>\n",
       "      <th>symbol</th>\n",
       "      <th>bid</th>\n",
       "      <th>bid_size</th>\n",
       "      <th>ask</th>\n",
       "      <th>ask_size</th>\n",
       "      <th>s</th>\n",
       "      <th>old</th>\n",
       "      <th>ticker</th>\n",
       "    </tr>\n",
       "    <tr>\n",
       "      <th>timestamp</th>\n",
       "      <th></th>\n",
       "      <th></th>\n",
       "      <th></th>\n",
       "      <th></th>\n",
       "      <th></th>\n",
       "      <th></th>\n",
       "      <th></th>\n",
       "      <th></th>\n",
       "      <th></th>\n",
       "      <th></th>\n",
       "      <th></th>\n",
       "      <th></th>\n",
       "    </tr>\n",
       "  </thead>\n",
       "  <tbody>\n",
       "    <tr>\n",
       "      <th>2020-09-02 09:50:01</th>\n",
       "      <td>0</td>\n",
       "      <td>10176</td>\n",
       "      <td>2020-09-02</td>\n",
       "      <td>2020-09-02 09:50:01</td>\n",
       "      <td>MICEX.BND.SU26230RMFS1.M2</td>\n",
       "      <td>6.34</td>\n",
       "      <td>115.70000</td>\n",
       "      <td>6.26</td>\n",
       "      <td>1.16689</td>\n",
       "      <td>SU26230RMFS1</td>\n",
       "      <td>17.947945</td>\n",
       "      <td>ZS990244     Corp</td>\n",
       "    </tr>\n",
       "    <tr>\n",
       "      <th>2020-09-02 09:50:01</th>\n",
       "      <td>1</td>\n",
       "      <td>2400</td>\n",
       "      <td>2020-09-02</td>\n",
       "      <td>2020-09-02 09:50:01</td>\n",
       "      <td>MICEX.BND.SU26230RMFS1.M2</td>\n",
       "      <td>6.54</td>\n",
       "      <td>5.67250</td>\n",
       "      <td>16.39</td>\n",
       "      <td>0.00000</td>\n",
       "      <td>SU26230RMFS1</td>\n",
       "      <td>17.947945</td>\n",
       "      <td>ZS990244     Corp</td>\n",
       "    </tr>\n",
       "    <tr>\n",
       "      <th>2020-09-02 09:52:03</th>\n",
       "      <td>2</td>\n",
       "      <td>192</td>\n",
       "      <td>2020-09-02</td>\n",
       "      <td>2020-09-02 09:52:03</td>\n",
       "      <td>MICEX.BND.SU26230RMFS1.M2</td>\n",
       "      <td>6.34</td>\n",
       "      <td>115.70000</td>\n",
       "      <td>6.27</td>\n",
       "      <td>11.66000</td>\n",
       "      <td>SU26230RMFS1</td>\n",
       "      <td>17.947945</td>\n",
       "      <td>ZS990244     Corp</td>\n",
       "    </tr>\n",
       "    <tr>\n",
       "      <th>2020-09-02 09:53:36</th>\n",
       "      <td>3</td>\n",
       "      <td>768</td>\n",
       "      <td>2020-09-02</td>\n",
       "      <td>2020-09-02 09:53:36</td>\n",
       "      <td>MICEX.BND.SU26230RMFS1.M2</td>\n",
       "      <td>6.34</td>\n",
       "      <td>115.70000</td>\n",
       "      <td>6.34</td>\n",
       "      <td>115.70000</td>\n",
       "      <td>SU26230RMFS1</td>\n",
       "      <td>17.947945</td>\n",
       "      <td>ZS990244     Corp</td>\n",
       "    </tr>\n",
       "    <tr>\n",
       "      <th>2020-09-02 09:54:05</th>\n",
       "      <td>4</td>\n",
       "      <td>21696</td>\n",
       "      <td>2020-09-02</td>\n",
       "      <td>2020-09-02 09:54:05</td>\n",
       "      <td>MICEX.BND.SU26230RMFS1.M2</td>\n",
       "      <td>6.34</td>\n",
       "      <td>115.70000</td>\n",
       "      <td>6.27</td>\n",
       "      <td>11.66000</td>\n",
       "      <td>SU26230RMFS1</td>\n",
       "      <td>17.947945</td>\n",
       "      <td>ZS990244     Corp</td>\n",
       "    </tr>\n",
       "    <tr>\n",
       "      <th>2020-09-02 09:54:55</th>\n",
       "      <td>5</td>\n",
       "      <td>3552</td>\n",
       "      <td>2020-09-02</td>\n",
       "      <td>2020-09-02 09:54:55</td>\n",
       "      <td>MICEX.BND.SU26230RMFS1.M2</td>\n",
       "      <td>6.34</td>\n",
       "      <td>115.70000</td>\n",
       "      <td>6.29</td>\n",
       "      <td>116.30000</td>\n",
       "      <td>SU26230RMFS1</td>\n",
       "      <td>17.947945</td>\n",
       "      <td>ZS990244     Corp</td>\n",
       "    </tr>\n",
       "    <tr>\n",
       "      <th>2020-09-02 09:55:01</th>\n",
       "      <td>6</td>\n",
       "      <td>3456</td>\n",
       "      <td>2020-09-02</td>\n",
       "      <td>2020-09-02 09:55:01</td>\n",
       "      <td>MICEX.BND.SU26230RMFS1.M2</td>\n",
       "      <td>6.34</td>\n",
       "      <td>115.70000</td>\n",
       "      <td>6.36</td>\n",
       "      <td>1.15440</td>\n",
       "      <td>SU26230RMFS1</td>\n",
       "      <td>17.947945</td>\n",
       "      <td>ZS990244     Corp</td>\n",
       "    </tr>\n",
       "    <tr>\n",
       "      <th>2020-09-02 09:58:43</th>\n",
       "      <td>7</td>\n",
       "      <td>96</td>\n",
       "      <td>2020-09-02</td>\n",
       "      <td>2020-09-02 09:58:43</td>\n",
       "      <td>MICEX.BND.SU26230RMFS1.M2</td>\n",
       "      <td>6.34</td>\n",
       "      <td>11.57010</td>\n",
       "      <td>6.36</td>\n",
       "      <td>1.15440</td>\n",
       "      <td>SU26230RMFS1</td>\n",
       "      <td>17.947945</td>\n",
       "      <td>ZS990244     Corp</td>\n",
       "    </tr>\n",
       "    <tr>\n",
       "      <th>2020-09-02 09:59:39</th>\n",
       "      <td>8</td>\n",
       "      <td>384</td>\n",
       "      <td>2020-09-02</td>\n",
       "      <td>2020-09-02 09:59:39</td>\n",
       "      <td>MICEX.BND.SU26230RMFS1.M2</td>\n",
       "      <td>6.34</td>\n",
       "      <td>10.41309</td>\n",
       "      <td>6.29</td>\n",
       "      <td>116.30000</td>\n",
       "      <td>SU26230RMFS1</td>\n",
       "      <td>17.947945</td>\n",
       "      <td>ZS990244     Corp</td>\n",
       "    </tr>\n",
       "    <tr>\n",
       "      <th>2020-09-02 10:00:24</th>\n",
       "      <td>9</td>\n",
       "      <td>2688</td>\n",
       "      <td>2020-09-02</td>\n",
       "      <td>2020-09-02 10:00:24</td>\n",
       "      <td>MICEX.BND.SU26230RMFS1.M2</td>\n",
       "      <td>6.34</td>\n",
       "      <td>10.41309</td>\n",
       "      <td>6.32</td>\n",
       "      <td>11592.00000</td>\n",
       "      <td>SU26230RMFS1</td>\n",
       "      <td>17.947945</td>\n",
       "      <td>ZS990244     Corp</td>\n",
       "    </tr>\n",
       "    <tr>\n",
       "      <th>2020-09-02 10:00:39</th>\n",
       "      <td>10</td>\n",
       "      <td>480</td>\n",
       "      <td>2020-09-02</td>\n",
       "      <td>2020-09-02 10:00:39</td>\n",
       "      <td>MICEX.BND.SU26230RMFS1.M2</td>\n",
       "      <td>6.34</td>\n",
       "      <td>27.76848</td>\n",
       "      <td>6.32</td>\n",
       "      <td>11592.00000</td>\n",
       "      <td>SU26230RMFS1</td>\n",
       "      <td>17.947945</td>\n",
       "      <td>ZS990244     Corp</td>\n",
       "    </tr>\n",
       "    <tr>\n",
       "      <th>2020-09-02 10:03:28</th>\n",
       "      <td>11</td>\n",
       "      <td>3360</td>\n",
       "      <td>2020-09-02</td>\n",
       "      <td>2020-09-02 10:03:28</td>\n",
       "      <td>MICEX.BND.SU26230RMFS1.M2</td>\n",
       "      <td>6.34</td>\n",
       "      <td>27.76848</td>\n",
       "      <td>6.32</td>\n",
       "      <td>114.75090</td>\n",
       "      <td>SU26230RMFS1</td>\n",
       "      <td>17.947945</td>\n",
       "      <td>ZS990244     Corp</td>\n",
       "    </tr>\n",
       "    <tr>\n",
       "      <th>2020-09-02 10:04:34</th>\n",
       "      <td>12</td>\n",
       "      <td>769</td>\n",
       "      <td>2020-09-02</td>\n",
       "      <td>2020-09-02 10:04:34</td>\n",
       "      <td>MICEX.BND.SU26230RMFS1.M2</td>\n",
       "      <td>6.34</td>\n",
       "      <td>27.76848</td>\n",
       "      <td>6.32</td>\n",
       "      <td>1.15909</td>\n",
       "      <td>SU26230RMFS1</td>\n",
       "      <td>17.947945</td>\n",
       "      <td>ZS990244     Corp</td>\n",
       "    </tr>\n",
       "    <tr>\n",
       "      <th>2020-09-02 10:04:53</th>\n",
       "      <td>13</td>\n",
       "      <td>4608</td>\n",
       "      <td>2020-09-02</td>\n",
       "      <td>2020-09-02 10:04:53</td>\n",
       "      <td>MICEX.BND.SU26230RMFS1.M2</td>\n",
       "      <td>6.34</td>\n",
       "      <td>27.76848</td>\n",
       "      <td>6.33</td>\n",
       "      <td>28.97500</td>\n",
       "      <td>SU26230RMFS1</td>\n",
       "      <td>17.947945</td>\n",
       "      <td>ZS990244     Corp</td>\n",
       "    </tr>\n",
       "    <tr>\n",
       "      <th>2020-09-02 10:05:47</th>\n",
       "      <td>14</td>\n",
       "      <td>2112</td>\n",
       "      <td>2020-09-02</td>\n",
       "      <td>2020-09-02 10:05:47</td>\n",
       "      <td>MICEX.BND.SU26230RMFS1.M2</td>\n",
       "      <td>6.34</td>\n",
       "      <td>10.41309</td>\n",
       "      <td>6.33</td>\n",
       "      <td>28.97500</td>\n",
       "      <td>SU26230RMFS1</td>\n",
       "      <td>17.947945</td>\n",
       "      <td>ZS990244     Corp</td>\n",
       "    </tr>\n",
       "    <tr>\n",
       "      <th>2020-09-02 10:05:47</th>\n",
       "      <td>15</td>\n",
       "      <td>3554</td>\n",
       "      <td>2020-09-02</td>\n",
       "      <td>2020-09-02 10:05:47</td>\n",
       "      <td>MICEX.BND.SU26230RMFS1.M2</td>\n",
       "      <td>6.34</td>\n",
       "      <td>27.76824</td>\n",
       "      <td>6.33</td>\n",
       "      <td>28.97500</td>\n",
       "      <td>SU26230RMFS1</td>\n",
       "      <td>17.947945</td>\n",
       "      <td>ZS990244     Corp</td>\n",
       "    </tr>\n",
       "    <tr>\n",
       "      <th>2020-09-02 10:05:48</th>\n",
       "      <td>16</td>\n",
       "      <td>1920</td>\n",
       "      <td>2020-09-02</td>\n",
       "      <td>2020-09-02 10:05:48</td>\n",
       "      <td>MICEX.BND.SU26230RMFS1.M2</td>\n",
       "      <td>6.34</td>\n",
       "      <td>133.05845</td>\n",
       "      <td>6.33</td>\n",
       "      <td>28.97500</td>\n",
       "      <td>SU26230RMFS1</td>\n",
       "      <td>17.947945</td>\n",
       "      <td>ZS990244     Corp</td>\n",
       "    </tr>\n",
       "    <tr>\n",
       "      <th>2020-09-02 10:05:59</th>\n",
       "      <td>17</td>\n",
       "      <td>3553</td>\n",
       "      <td>2020-09-02</td>\n",
       "      <td>2020-09-02 10:05:59</td>\n",
       "      <td>MICEX.BND.SU26230RMFS1.M2</td>\n",
       "      <td>6.34</td>\n",
       "      <td>121.48815</td>\n",
       "      <td>6.33</td>\n",
       "      <td>28.97500</td>\n",
       "      <td>SU26230RMFS1</td>\n",
       "      <td>17.947945</td>\n",
       "      <td>ZS990244     Corp</td>\n",
       "    </tr>\n",
       "    <tr>\n",
       "      <th>2020-09-02 10:06:06</th>\n",
       "      <td>18</td>\n",
       "      <td>4609</td>\n",
       "      <td>2020-09-02</td>\n",
       "      <td>2020-09-02 10:06:06</td>\n",
       "      <td>MICEX.BND.SU26230RMFS1.M2</td>\n",
       "      <td>6.34</td>\n",
       "      <td>10.41309</td>\n",
       "      <td>6.34</td>\n",
       "      <td>11.57030</td>\n",
       "      <td>SU26230RMFS1</td>\n",
       "      <td>17.947945</td>\n",
       "      <td>ZS990244     Corp</td>\n",
       "    </tr>\n",
       "    <tr>\n",
       "      <th>2020-09-02 10:06:25</th>\n",
       "      <td>19</td>\n",
       "      <td>770</td>\n",
       "      <td>2020-09-02</td>\n",
       "      <td>2020-09-02 10:06:25</td>\n",
       "      <td>MICEX.BND.SU26230RMFS1.M2</td>\n",
       "      <td>6.34</td>\n",
       "      <td>10.41309</td>\n",
       "      <td>6.33</td>\n",
       "      <td>28.97500</td>\n",
       "      <td>SU26230RMFS1</td>\n",
       "      <td>17.947945</td>\n",
       "      <td>ZS990244     Corp</td>\n",
       "    </tr>\n",
       "  </tbody>\n",
       "</table>\n",
       "</div>"
      ],
      "text/plain": [
       "                     Unnamed: 0  Unnamed: 0.1   quotedate  \\\n",
       "timestamp                                                   \n",
       "2020-09-02 09:50:01           0         10176  2020-09-02   \n",
       "2020-09-02 09:50:01           1          2400  2020-09-02   \n",
       "2020-09-02 09:52:03           2           192  2020-09-02   \n",
       "2020-09-02 09:53:36           3           768  2020-09-02   \n",
       "2020-09-02 09:54:05           4         21696  2020-09-02   \n",
       "2020-09-02 09:54:55           5          3552  2020-09-02   \n",
       "2020-09-02 09:55:01           6          3456  2020-09-02   \n",
       "2020-09-02 09:58:43           7            96  2020-09-02   \n",
       "2020-09-02 09:59:39           8           384  2020-09-02   \n",
       "2020-09-02 10:00:24           9          2688  2020-09-02   \n",
       "2020-09-02 10:00:39          10           480  2020-09-02   \n",
       "2020-09-02 10:03:28          11          3360  2020-09-02   \n",
       "2020-09-02 10:04:34          12           769  2020-09-02   \n",
       "2020-09-02 10:04:53          13          4608  2020-09-02   \n",
       "2020-09-02 10:05:47          14          2112  2020-09-02   \n",
       "2020-09-02 10:05:47          15          3554  2020-09-02   \n",
       "2020-09-02 10:05:48          16          1920  2020-09-02   \n",
       "2020-09-02 10:05:59          17          3553  2020-09-02   \n",
       "2020-09-02 10:06:06          18          4609  2020-09-02   \n",
       "2020-09-02 10:06:25          19           770  2020-09-02   \n",
       "\n",
       "                         local_timestamp                     symbol   bid  \\\n",
       "timestamp                                                                   \n",
       "2020-09-02 09:50:01  2020-09-02 09:50:01  MICEX.BND.SU26230RMFS1.M2  6.34   \n",
       "2020-09-02 09:50:01  2020-09-02 09:50:01  MICEX.BND.SU26230RMFS1.M2  6.54   \n",
       "2020-09-02 09:52:03  2020-09-02 09:52:03  MICEX.BND.SU26230RMFS1.M2  6.34   \n",
       "2020-09-02 09:53:36  2020-09-02 09:53:36  MICEX.BND.SU26230RMFS1.M2  6.34   \n",
       "2020-09-02 09:54:05  2020-09-02 09:54:05  MICEX.BND.SU26230RMFS1.M2  6.34   \n",
       "2020-09-02 09:54:55  2020-09-02 09:54:55  MICEX.BND.SU26230RMFS1.M2  6.34   \n",
       "2020-09-02 09:55:01  2020-09-02 09:55:01  MICEX.BND.SU26230RMFS1.M2  6.34   \n",
       "2020-09-02 09:58:43  2020-09-02 09:58:43  MICEX.BND.SU26230RMFS1.M2  6.34   \n",
       "2020-09-02 09:59:39  2020-09-02 09:59:39  MICEX.BND.SU26230RMFS1.M2  6.34   \n",
       "2020-09-02 10:00:24  2020-09-02 10:00:24  MICEX.BND.SU26230RMFS1.M2  6.34   \n",
       "2020-09-02 10:00:39  2020-09-02 10:00:39  MICEX.BND.SU26230RMFS1.M2  6.34   \n",
       "2020-09-02 10:03:28  2020-09-02 10:03:28  MICEX.BND.SU26230RMFS1.M2  6.34   \n",
       "2020-09-02 10:04:34  2020-09-02 10:04:34  MICEX.BND.SU26230RMFS1.M2  6.34   \n",
       "2020-09-02 10:04:53  2020-09-02 10:04:53  MICEX.BND.SU26230RMFS1.M2  6.34   \n",
       "2020-09-02 10:05:47  2020-09-02 10:05:47  MICEX.BND.SU26230RMFS1.M2  6.34   \n",
       "2020-09-02 10:05:47  2020-09-02 10:05:47  MICEX.BND.SU26230RMFS1.M2  6.34   \n",
       "2020-09-02 10:05:48  2020-09-02 10:05:48  MICEX.BND.SU26230RMFS1.M2  6.34   \n",
       "2020-09-02 10:05:59  2020-09-02 10:05:59  MICEX.BND.SU26230RMFS1.M2  6.34   \n",
       "2020-09-02 10:06:06  2020-09-02 10:06:06  MICEX.BND.SU26230RMFS1.M2  6.34   \n",
       "2020-09-02 10:06:25  2020-09-02 10:06:25  MICEX.BND.SU26230RMFS1.M2  6.34   \n",
       "\n",
       "                      bid_size    ask     ask_size             s        old  \\\n",
       "timestamp                                                                     \n",
       "2020-09-02 09:50:01  115.70000   6.26      1.16689  SU26230RMFS1  17.947945   \n",
       "2020-09-02 09:50:01    5.67250  16.39      0.00000  SU26230RMFS1  17.947945   \n",
       "2020-09-02 09:52:03  115.70000   6.27     11.66000  SU26230RMFS1  17.947945   \n",
       "2020-09-02 09:53:36  115.70000   6.34    115.70000  SU26230RMFS1  17.947945   \n",
       "2020-09-02 09:54:05  115.70000   6.27     11.66000  SU26230RMFS1  17.947945   \n",
       "2020-09-02 09:54:55  115.70000   6.29    116.30000  SU26230RMFS1  17.947945   \n",
       "2020-09-02 09:55:01  115.70000   6.36      1.15440  SU26230RMFS1  17.947945   \n",
       "2020-09-02 09:58:43   11.57010   6.36      1.15440  SU26230RMFS1  17.947945   \n",
       "2020-09-02 09:59:39   10.41309   6.29    116.30000  SU26230RMFS1  17.947945   \n",
       "2020-09-02 10:00:24   10.41309   6.32  11592.00000  SU26230RMFS1  17.947945   \n",
       "2020-09-02 10:00:39   27.76848   6.32  11592.00000  SU26230RMFS1  17.947945   \n",
       "2020-09-02 10:03:28   27.76848   6.32    114.75090  SU26230RMFS1  17.947945   \n",
       "2020-09-02 10:04:34   27.76848   6.32      1.15909  SU26230RMFS1  17.947945   \n",
       "2020-09-02 10:04:53   27.76848   6.33     28.97500  SU26230RMFS1  17.947945   \n",
       "2020-09-02 10:05:47   10.41309   6.33     28.97500  SU26230RMFS1  17.947945   \n",
       "2020-09-02 10:05:47   27.76824   6.33     28.97500  SU26230RMFS1  17.947945   \n",
       "2020-09-02 10:05:48  133.05845   6.33     28.97500  SU26230RMFS1  17.947945   \n",
       "2020-09-02 10:05:59  121.48815   6.33     28.97500  SU26230RMFS1  17.947945   \n",
       "2020-09-02 10:06:06   10.41309   6.34     11.57030  SU26230RMFS1  17.947945   \n",
       "2020-09-02 10:06:25   10.41309   6.33     28.97500  SU26230RMFS1  17.947945   \n",
       "\n",
       "                                ticker  \n",
       "timestamp                               \n",
       "2020-09-02 09:50:01  ZS990244     Corp  \n",
       "2020-09-02 09:50:01  ZS990244     Corp  \n",
       "2020-09-02 09:52:03  ZS990244     Corp  \n",
       "2020-09-02 09:53:36  ZS990244     Corp  \n",
       "2020-09-02 09:54:05  ZS990244     Corp  \n",
       "2020-09-02 09:54:55  ZS990244     Corp  \n",
       "2020-09-02 09:55:01  ZS990244     Corp  \n",
       "2020-09-02 09:58:43  ZS990244     Corp  \n",
       "2020-09-02 09:59:39  ZS990244     Corp  \n",
       "2020-09-02 10:00:24  ZS990244     Corp  \n",
       "2020-09-02 10:00:39  ZS990244     Corp  \n",
       "2020-09-02 10:03:28  ZS990244     Corp  \n",
       "2020-09-02 10:04:34  ZS990244     Corp  \n",
       "2020-09-02 10:04:53  ZS990244     Corp  \n",
       "2020-09-02 10:05:47  ZS990244     Corp  \n",
       "2020-09-02 10:05:47  ZS990244     Corp  \n",
       "2020-09-02 10:05:48  ZS990244     Corp  \n",
       "2020-09-02 10:05:59  ZS990244     Corp  \n",
       "2020-09-02 10:06:06  ZS990244     Corp  \n",
       "2020-09-02 10:06:25  ZS990244     Corp  "
      ]
     },
     "execution_count": 168,
     "metadata": {},
     "output_type": "execute_result"
    }
   ],
   "source": [
    "OFZq.iloc[0:20]"
   ]
  },
  {
   "cell_type": "code",
   "execution_count": 170,
   "metadata": {},
   "outputs": [
    {
     "data": {
      "text/html": [
       "<div>\n",
       "<style scoped>\n",
       "    .dataframe tbody tr th:only-of-type {\n",
       "        vertical-align: middle;\n",
       "    }\n",
       "\n",
       "    .dataframe tbody tr th {\n",
       "        vertical-align: top;\n",
       "    }\n",
       "\n",
       "    .dataframe thead th {\n",
       "        text-align: right;\n",
       "    }\n",
       "</style>\n",
       "<table border=\"1\" class=\"dataframe\">\n",
       "  <thead>\n",
       "    <tr style=\"text-align: right;\">\n",
       "      <th></th>\n",
       "      <th>Unnamed: 0</th>\n",
       "      <th>Unnamed: 0.1</th>\n",
       "      <th>tradedate</th>\n",
       "      <th>local_timestamp</th>\n",
       "      <th>symbol</th>\n",
       "      <th>price</th>\n",
       "      <th>size</th>\n",
       "      <th>trade_id</th>\n",
       "      <th>trade_timestamp</th>\n",
       "      <th>s</th>\n",
       "      <th>old</th>\n",
       "      <th>ticker</th>\n",
       "    </tr>\n",
       "  </thead>\n",
       "  <tbody>\n",
       "    <tr>\n",
       "      <th>2020-01-01 10:05:18</th>\n",
       "      <td>77</td>\n",
       "      <td>5513</td>\n",
       "      <td>2020-09-01</td>\n",
       "      <td>10:05:18.675000</td>\n",
       "      <td>MICEX.BND.SU26230RMFS1.M2</td>\n",
       "      <td>6.36</td>\n",
       "      <td>2.31000</td>\n",
       "      <td>3281397993</td>\n",
       "      <td>2020-09-01 10:05:18</td>\n",
       "      <td>SU26230RMFS1</td>\n",
       "      <td>17.947945</td>\n",
       "      <td>ZS990244     Corp</td>\n",
       "    </tr>\n",
       "    <tr>\n",
       "      <th>2020-01-01 10:06:42</th>\n",
       "      <td>106</td>\n",
       "      <td>5136</td>\n",
       "      <td>2020-09-01</td>\n",
       "      <td>10:06:42.929000</td>\n",
       "      <td>MICEX.BND.SU26230RMFS1.M2</td>\n",
       "      <td>6.35</td>\n",
       "      <td>23.11400</td>\n",
       "      <td>3281405779</td>\n",
       "      <td>2020-09-01 10:06:42</td>\n",
       "      <td>SU26230RMFS1</td>\n",
       "      <td>17.947945</td>\n",
       "      <td>ZS990244     Corp</td>\n",
       "    </tr>\n",
       "    <tr>\n",
       "      <th>2020-01-01 10:08:00</th>\n",
       "      <td>125</td>\n",
       "      <td>3817</td>\n",
       "      <td>2020-09-01</td>\n",
       "      <td>10:08:00.580000</td>\n",
       "      <td>MICEX.BND.SU26230RMFS1.M2</td>\n",
       "      <td>6.38</td>\n",
       "      <td>1.15303</td>\n",
       "      <td>3281411601</td>\n",
       "      <td>2020-09-01 10:08:00</td>\n",
       "      <td>SU26230RMFS1</td>\n",
       "      <td>17.947945</td>\n",
       "      <td>ZS990244     Corp</td>\n",
       "    </tr>\n",
       "    <tr>\n",
       "      <th>2020-01-01 10:20:34</th>\n",
       "      <td>328</td>\n",
       "      <td>689</td>\n",
       "      <td>2020-09-01</td>\n",
       "      <td>10:20:34.576000</td>\n",
       "      <td>MICEX.BND.SU26230RMFS1.M2</td>\n",
       "      <td>6.36</td>\n",
       "      <td>1.15499</td>\n",
       "      <td>3281467922</td>\n",
       "      <td>2020-09-01 10:20:34</td>\n",
       "      <td>SU26230RMFS1</td>\n",
       "      <td>17.947945</td>\n",
       "      <td>ZS990244     Corp</td>\n",
       "    </tr>\n",
       "    <tr>\n",
       "      <th>2020-01-01 10:20:34</th>\n",
       "      <td>330</td>\n",
       "      <td>967</td>\n",
       "      <td>2020-09-01</td>\n",
       "      <td>10:20:34.576000</td>\n",
       "      <td>MICEX.BND.SU26230RMFS1.M2</td>\n",
       "      <td>6.36</td>\n",
       "      <td>1.15500</td>\n",
       "      <td>3281467923</td>\n",
       "      <td>2020-09-01 10:20:34</td>\n",
       "      <td>SU26230RMFS1</td>\n",
       "      <td>17.947945</td>\n",
       "      <td>ZS990244     Corp</td>\n",
       "    </tr>\n",
       "    <tr>\n",
       "      <th>...</th>\n",
       "      <td>...</td>\n",
       "      <td>...</td>\n",
       "      <td>...</td>\n",
       "      <td>...</td>\n",
       "      <td>...</td>\n",
       "      <td>...</td>\n",
       "      <td>...</td>\n",
       "      <td>...</td>\n",
       "      <td>...</td>\n",
       "      <td>...</td>\n",
       "      <td>...</td>\n",
       "      <td>...</td>\n",
       "    </tr>\n",
       "    <tr>\n",
       "      <th>2020-01-01 11:35:11</th>\n",
       "      <td>1791144</td>\n",
       "      <td>2442114</td>\n",
       "      <td>2021-03-22</td>\n",
       "      <td>11:35:11.875000</td>\n",
       "      <td>MICEX.BND.SU26230RMFS1.M2</td>\n",
       "      <td>7.26</td>\n",
       "      <td>5.28405</td>\n",
       "      <td>3743860974</td>\n",
       "      <td>2021-03-22 11:35:11</td>\n",
       "      <td>SU26230RMFS1</td>\n",
       "      <td>17.947945</td>\n",
       "      <td>ZS990244     Corp</td>\n",
       "    </tr>\n",
       "    <tr>\n",
       "      <th>2020-01-01 11:35:22</th>\n",
       "      <td>1791152</td>\n",
       "      <td>2450680</td>\n",
       "      <td>2021-03-22</td>\n",
       "      <td>11:35:23.036000</td>\n",
       "      <td>MICEX.BND.SU26230RMFS1.M2</td>\n",
       "      <td>7.24</td>\n",
       "      <td>3.17631</td>\n",
       "      <td>3743861715</td>\n",
       "      <td>2021-03-22 11:35:22</td>\n",
       "      <td>SU26230RMFS1</td>\n",
       "      <td>17.947945</td>\n",
       "      <td>ZS990244     Corp</td>\n",
       "    </tr>\n",
       "    <tr>\n",
       "      <th>2020-01-01 11:35:29</th>\n",
       "      <td>1791156</td>\n",
       "      <td>2446948</td>\n",
       "      <td>2021-03-22</td>\n",
       "      <td>11:35:29.351000</td>\n",
       "      <td>MICEX.BND.SU26230RMFS1.M2</td>\n",
       "      <td>7.26</td>\n",
       "      <td>2.11362</td>\n",
       "      <td>3743862022</td>\n",
       "      <td>2021-03-22 11:35:29</td>\n",
       "      <td>SU26230RMFS1</td>\n",
       "      <td>17.947945</td>\n",
       "      <td>ZS990244     Corp</td>\n",
       "    </tr>\n",
       "    <tr>\n",
       "      <th>2020-01-01 11:36:21</th>\n",
       "      <td>1791181</td>\n",
       "      <td>2452817</td>\n",
       "      <td>2021-03-22</td>\n",
       "      <td>11:36:21.913000</td>\n",
       "      <td>MICEX.BND.SU26230RMFS1.M2</td>\n",
       "      <td>7.26</td>\n",
       "      <td>10.56810</td>\n",
       "      <td>3743865138</td>\n",
       "      <td>2021-03-22 11:36:21</td>\n",
       "      <td>SU26230RMFS1</td>\n",
       "      <td>17.947945</td>\n",
       "      <td>ZS990244     Corp</td>\n",
       "    </tr>\n",
       "    <tr>\n",
       "      <th>2020-01-01 11:37:56</th>\n",
       "      <td>1791224</td>\n",
       "      <td>2457139</td>\n",
       "      <td>2021-03-22</td>\n",
       "      <td>11:37:56.972000</td>\n",
       "      <td>MICEX.BND.SU26230RMFS1.M2</td>\n",
       "      <td>7.26</td>\n",
       "      <td>1.05681</td>\n",
       "      <td>3743871059</td>\n",
       "      <td>2021-03-22 11:37:56</td>\n",
       "      <td>SU26230RMFS1</td>\n",
       "      <td>17.947945</td>\n",
       "      <td>ZS990244     Corp</td>\n",
       "    </tr>\n",
       "  </tbody>\n",
       "</table>\n",
       "<p>78498 rows × 12 columns</p>\n",
       "</div>"
      ],
      "text/plain": [
       "                     Unnamed: 0  Unnamed: 0.1   tradedate  local_timestamp  \\\n",
       "2020-01-01 10:05:18          77          5513  2020-09-01  10:05:18.675000   \n",
       "2020-01-01 10:06:42         106          5136  2020-09-01  10:06:42.929000   \n",
       "2020-01-01 10:08:00         125          3817  2020-09-01  10:08:00.580000   \n",
       "2020-01-01 10:20:34         328           689  2020-09-01  10:20:34.576000   \n",
       "2020-01-01 10:20:34         330           967  2020-09-01  10:20:34.576000   \n",
       "...                         ...           ...         ...              ...   \n",
       "2020-01-01 11:35:11     1791144       2442114  2021-03-22  11:35:11.875000   \n",
       "2020-01-01 11:35:22     1791152       2450680  2021-03-22  11:35:23.036000   \n",
       "2020-01-01 11:35:29     1791156       2446948  2021-03-22  11:35:29.351000   \n",
       "2020-01-01 11:36:21     1791181       2452817  2021-03-22  11:36:21.913000   \n",
       "2020-01-01 11:37:56     1791224       2457139  2021-03-22  11:37:56.972000   \n",
       "\n",
       "                                        symbol  price      size    trade_id  \\\n",
       "2020-01-01 10:05:18  MICEX.BND.SU26230RMFS1.M2   6.36   2.31000  3281397993   \n",
       "2020-01-01 10:06:42  MICEX.BND.SU26230RMFS1.M2   6.35  23.11400  3281405779   \n",
       "2020-01-01 10:08:00  MICEX.BND.SU26230RMFS1.M2   6.38   1.15303  3281411601   \n",
       "2020-01-01 10:20:34  MICEX.BND.SU26230RMFS1.M2   6.36   1.15499  3281467922   \n",
       "2020-01-01 10:20:34  MICEX.BND.SU26230RMFS1.M2   6.36   1.15500  3281467923   \n",
       "...                                        ...    ...       ...         ...   \n",
       "2020-01-01 11:35:11  MICEX.BND.SU26230RMFS1.M2   7.26   5.28405  3743860974   \n",
       "2020-01-01 11:35:22  MICEX.BND.SU26230RMFS1.M2   7.24   3.17631  3743861715   \n",
       "2020-01-01 11:35:29  MICEX.BND.SU26230RMFS1.M2   7.26   2.11362  3743862022   \n",
       "2020-01-01 11:36:21  MICEX.BND.SU26230RMFS1.M2   7.26  10.56810  3743865138   \n",
       "2020-01-01 11:37:56  MICEX.BND.SU26230RMFS1.M2   7.26   1.05681  3743871059   \n",
       "\n",
       "                         trade_timestamp             s        old  \\\n",
       "2020-01-01 10:05:18  2020-09-01 10:05:18  SU26230RMFS1  17.947945   \n",
       "2020-01-01 10:06:42  2020-09-01 10:06:42  SU26230RMFS1  17.947945   \n",
       "2020-01-01 10:08:00  2020-09-01 10:08:00  SU26230RMFS1  17.947945   \n",
       "2020-01-01 10:20:34  2020-09-01 10:20:34  SU26230RMFS1  17.947945   \n",
       "2020-01-01 10:20:34  2020-09-01 10:20:34  SU26230RMFS1  17.947945   \n",
       "...                                  ...           ...        ...   \n",
       "2020-01-01 11:35:11  2021-03-22 11:35:11  SU26230RMFS1  17.947945   \n",
       "2020-01-01 11:35:22  2021-03-22 11:35:22  SU26230RMFS1  17.947945   \n",
       "2020-01-01 11:35:29  2021-03-22 11:35:29  SU26230RMFS1  17.947945   \n",
       "2020-01-01 11:36:21  2021-03-22 11:36:21  SU26230RMFS1  17.947945   \n",
       "2020-01-01 11:37:56  2021-03-22 11:37:56  SU26230RMFS1  17.947945   \n",
       "\n",
       "                                ticker  \n",
       "2020-01-01 10:05:18  ZS990244     Corp  \n",
       "2020-01-01 10:06:42  ZS990244     Corp  \n",
       "2020-01-01 10:08:00  ZS990244     Corp  \n",
       "2020-01-01 10:20:34  ZS990244     Corp  \n",
       "2020-01-01 10:20:34  ZS990244     Corp  \n",
       "...                                ...  \n",
       "2020-01-01 11:35:11  ZS990244     Corp  \n",
       "2020-01-01 11:35:22  ZS990244     Corp  \n",
       "2020-01-01 11:35:29  ZS990244     Corp  \n",
       "2020-01-01 11:36:21  ZS990244     Corp  \n",
       "2020-01-01 11:37:56  ZS990244     Corp  \n",
       "\n",
       "[78498 rows x 12 columns]"
      ]
     },
     "execution_count": 170,
     "metadata": {},
     "output_type": "execute_result"
    }
   ],
   "source": [
    "OFZ[OFZ.s == 'SU26230RMFS1']"
   ]
  },
  {
   "cell_type": "code",
   "execution_count": 14,
   "metadata": {},
   "outputs": [],
   "source": [
    "Morn = logs[logs['Time'] < dt.time(12, 0, 0)] \n",
    "Day = logs[(logs['Time'] < dt.time(15, 0, 0)) & (logs['Time'] > dt.time(12, 0, 0) )] \n",
    "Ev = logs[(logs['Time'] < dt.time(19, 0, 0)) & (logs['Time'] > dt.time(15, 0, 0) )] "
   ]
  },
  {
   "cell_type": "code",
   "execution_count": 15,
   "metadata": {},
   "outputs": [],
   "source": [
    "checkMorn = (Morn.groupby('Date').sum().Bull / Morn.groupby('Date').sum().Bear)\n",
    "checkMorn = checkMorn[checkMorn > -10]\n",
    "\n",
    "checkDay = (Day.groupby('Date').sum().Bull / Day.groupby('Date').sum().Bear)\n",
    "checkDay = checkDay[checkDay > -10]\n",
    "\n",
    "checEv = (Ev.groupby('Date').sum().Bull / Ev.groupby('Date').sum().Bear)\n",
    "checEv = checEv[checEv > -10]"
   ]
  },
  {
   "cell_type": "code",
   "execution_count": 16,
   "metadata": {},
   "outputs": [],
   "source": [
    "forplot = pd.DataFrame()\n",
    "forplot['Morning Ratio'] = checkMorn\n",
    "forplot['Day Ratio'] = checkMorn\n",
    "forplot['Ev  Ratio'] = checEv"
   ]
  },
  {
   "cell_type": "code",
   "execution_count": 20,
   "metadata": {},
   "outputs": [
    {
     "data": {
      "application/vnd.plotly.v1+json": {
       "config": {
        "plotlyServerURL": "https://plot.ly"
       },
       "data": [
        {
         "name": "Morning ratio",
         "type": "bar",
         "x": [
          "2020-09-02",
          "2020-09-03",
          "2020-09-09",
          "2020-09-10",
          "2020-09-11",
          "2020-09-14",
          "2020-09-15",
          "2020-09-16",
          "2020-09-17",
          "2020-09-18",
          "2020-09-22",
          "2020-09-23",
          "2020-09-24",
          "2020-09-25",
          "2020-09-28",
          "2020-09-29",
          "2020-09-30",
          "2020-10-01",
          "2020-10-02",
          "2020-10-05",
          "2020-10-06",
          "2020-10-07",
          "2020-10-09",
          "2020-10-12",
          "2020-10-13",
          "2020-10-14",
          "2020-10-15",
          "2020-10-16",
          "2020-10-19",
          "2020-10-20",
          "2020-10-21",
          "2020-10-22",
          "2020-10-23",
          "2020-10-26",
          "2020-10-28",
          "2020-10-29",
          "2020-10-30",
          "2020-11-02",
          "2020-11-03",
          "2020-11-05",
          "2020-11-06",
          "2020-11-09",
          "2020-11-10",
          "2020-11-11",
          "2020-11-12",
          "2020-11-13",
          "2020-11-16",
          "2020-11-17",
          "2020-11-18",
          "2020-11-19",
          "2020-11-20",
          "2020-11-23",
          "2020-11-24",
          "2020-11-25",
          "2020-11-26",
          "2020-11-27",
          "2020-11-30",
          "2020-12-01",
          "2020-12-02",
          "2020-12-03",
          "2020-12-04",
          "2020-12-07",
          "2020-12-08",
          "2020-12-09",
          "2020-12-10",
          "2020-12-15",
          "2020-12-16",
          "2020-12-17",
          "2020-12-18",
          "2020-12-21",
          "2020-12-22",
          "2020-12-23",
          "2020-12-24",
          "2020-12-28",
          "2020-12-29",
          "2020-12-30",
          "2021-01-04",
          "2021-01-05",
          "2021-01-06",
          "2021-01-11",
          "2021-01-12",
          "2021-01-13",
          "2021-01-14",
          "2021-01-15",
          "2021-01-18",
          "2021-01-19",
          "2021-01-20",
          "2021-01-21",
          "2021-01-22",
          "2021-01-25",
          "2021-01-26",
          "2021-01-27",
          "2021-01-28",
          "2021-01-29",
          "2021-02-01",
          "2021-02-02",
          "2021-02-03",
          "2021-02-04",
          "2021-02-05",
          "2021-02-08",
          "2021-02-09",
          "2021-02-10",
          "2021-02-11",
          "2021-02-12",
          "2021-02-15",
          "2021-02-16",
          "2021-02-19",
          "2021-02-20",
          "2021-02-22",
          "2021-02-24",
          "2021-02-25",
          "2021-02-26",
          "2021-03-01",
          "2021-03-02",
          "2021-03-03",
          "2021-03-04",
          "2021-03-05",
          "2021-03-09",
          "2021-03-10",
          "2021-03-11",
          "2021-03-15",
          "2021-03-16",
          "2021-03-17",
          "2021-03-18",
          "2021-03-19",
          "2021-03-22"
         ],
         "y": [
          -0.47071280500219287,
          -1.0228059247731949,
          -0.472071948305912,
          -0.0870653622966779,
          -1.353834996431361,
          -0.12677969750195864,
          -1.0014775335781236,
          -1.569450721552861,
          -2.9775619961292334,
          -0.18535330112169937,
          -1.4459941975605586,
          -0.9878400682415056,
          -0.5168584987024959,
          -1.583800428205009,
          -0.9800619740879759,
          -0.08952228450290801,
          -1.659344891996245,
          -2.345753621955474,
          -0.083791166917849,
          -0.9570788579857985,
          -0.7917370863437933,
          -2.004415007396613,
          -0.16748864482067186,
          -1.6064075681819245,
          -0.2282065050874969,
          -1.0230306512519924,
          -5.45706269335726,
          -1.2835697333549125,
          -0.3832889706461068,
          -0.7616826923772569,
          -1.2597561469407905,
          -0.6337101683577603,
          -1.0777452836514916,
          -0.6393748321428764,
          -0.18860659493533016,
          -0.015091566735561805,
          -2.1972210871507962,
          -0.7204312983648681,
          -1.5405137280022756,
          -2.907877013541401,
          -1.0635058871578997,
          -0.39098748555593427,
          -0.09168074028093418,
          -0.5456886481612989,
          -3.400931105302062,
          -1.108846153320592,
          -0.30158010317507894,
          -1.1490830746902878,
          -0.43147332579366354,
          -0.18530243410298977,
          -0.905291324564229,
          -0.5926187152168815,
          -0.9435327560966642,
          -1.0106504740196294,
          -1.0353381736963685,
          -2.6710438633940274,
          -1.4041487198776452,
          -1.060957893099817,
          -0.005642976687488976,
          -0.47056790646074775,
          -1.1443481819393344,
          -1.610834001247726,
          -2.514899599607992,
          -0.6560295267939785,
          -0.09173609176580225,
          -7.424760131847698,
          -1.5017977115666137,
          -2.5628144486006037,
          -0.7084900368443792,
          -3.8869226935054555,
          -1.167368418401577,
          -1.6013591335866517,
          -0.9581925138785601,
          -1.508616328902894,
          -1.1130570689492942,
          -0.9296170736837445,
          -2.9587861762852112,
          -0.681394749637752,
          -1.005928664650874,
          -1.7115208305462595,
          -0.28553912083935595,
          -1.6941506694092978,
          -1.2203988891486335,
          -0.9960340687202431,
          -1.2637745563275504,
          -4.436678321370091,
          -4.673199368859084,
          -1.029318685332685,
          -0.49875287599469265,
          -0.9252429704020254,
          -1.106219555070285,
          -0.03977812135767868,
          -3.5344279720767657,
          -1.0770229335013457,
          -1.9082127705293905,
          -0.8377272938262021,
          -0.8248029151188707,
          -1.6486289750300693,
          -2.268632214433148,
          -0.7125630737451657,
          -0.007424520501371681,
          -0.8408337524454257,
          -0.671075547854882,
          -0.6703624267957619,
          -1.0182732360399878,
          -1.6366486900405006,
          -0.33858032562298385,
          -4.585564399296666,
          -0.7694683294956357,
          -6.018903430844766,
          -1.6276609263837976,
          -0.4286569092334024,
          -0.7969923169999474,
          -0.286419977519493,
          -1.0730670351685005,
          -1.0528833912149234,
          -1.3026434643875915,
          -1.9958611908027997,
          -0.8275269541584844,
          -0.8487744362978438,
          -0.04562047339968121,
          -1.174341295040304,
          -0.19545558590876128,
          -0.737306288602319,
          -0.6051286254687034,
          -0.0323918862882885
         ]
        },
        {
         "name": "Day ratio",
         "type": "bar",
         "x": [
          "2020-09-02",
          "2020-09-03",
          "2020-09-09",
          "2020-09-10",
          "2020-09-11",
          "2020-09-14",
          "2020-09-15",
          "2020-09-16",
          "2020-09-17",
          "2020-09-18",
          "2020-09-22",
          "2020-09-23",
          "2020-09-24",
          "2020-09-25",
          "2020-09-28",
          "2020-09-29",
          "2020-09-30",
          "2020-10-01",
          "2020-10-02",
          "2020-10-05",
          "2020-10-06",
          "2020-10-07",
          "2020-10-09",
          "2020-10-12",
          "2020-10-13",
          "2020-10-14",
          "2020-10-15",
          "2020-10-16",
          "2020-10-19",
          "2020-10-20",
          "2020-10-21",
          "2020-10-22",
          "2020-10-23",
          "2020-10-26",
          "2020-10-28",
          "2020-10-29",
          "2020-10-30",
          "2020-11-02",
          "2020-11-03",
          "2020-11-05",
          "2020-11-06",
          "2020-11-09",
          "2020-11-10",
          "2020-11-11",
          "2020-11-12",
          "2020-11-13",
          "2020-11-16",
          "2020-11-17",
          "2020-11-18",
          "2020-11-19",
          "2020-11-20",
          "2020-11-23",
          "2020-11-24",
          "2020-11-25",
          "2020-11-26",
          "2020-11-27",
          "2020-11-30",
          "2020-12-01",
          "2020-12-02",
          "2020-12-03",
          "2020-12-04",
          "2020-12-07",
          "2020-12-08",
          "2020-12-09",
          "2020-12-10",
          "2020-12-15",
          "2020-12-16",
          "2020-12-17",
          "2020-12-18",
          "2020-12-21",
          "2020-12-22",
          "2020-12-23",
          "2020-12-24",
          "2020-12-28",
          "2020-12-29",
          "2020-12-30",
          "2021-01-04",
          "2021-01-05",
          "2021-01-06",
          "2021-01-11",
          "2021-01-12",
          "2021-01-13",
          "2021-01-14",
          "2021-01-15",
          "2021-01-18",
          "2021-01-19",
          "2021-01-20",
          "2021-01-21",
          "2021-01-22",
          "2021-01-25",
          "2021-01-26",
          "2021-01-27",
          "2021-01-28",
          "2021-01-29",
          "2021-02-01",
          "2021-02-02",
          "2021-02-03",
          "2021-02-04",
          "2021-02-05",
          "2021-02-08",
          "2021-02-09",
          "2021-02-10",
          "2021-02-11",
          "2021-02-12",
          "2021-02-15",
          "2021-02-16",
          "2021-02-19",
          "2021-02-20",
          "2021-02-22",
          "2021-02-24",
          "2021-02-25",
          "2021-02-26",
          "2021-03-01",
          "2021-03-02",
          "2021-03-03",
          "2021-03-04",
          "2021-03-05",
          "2021-03-09",
          "2021-03-10",
          "2021-03-11",
          "2021-03-15",
          "2021-03-16",
          "2021-03-17",
          "2021-03-18",
          "2021-03-19",
          "2021-03-22"
         ],
         "y": [
          -0.47071280500219287,
          -1.0228059247731949,
          -0.472071948305912,
          -0.0870653622966779,
          -1.353834996431361,
          -0.12677969750195864,
          -1.0014775335781236,
          -1.569450721552861,
          -2.9775619961292334,
          -0.18535330112169937,
          -1.4459941975605586,
          -0.9878400682415056,
          -0.5168584987024959,
          -1.583800428205009,
          -0.9800619740879759,
          -0.08952228450290801,
          -1.659344891996245,
          -2.345753621955474,
          -0.083791166917849,
          -0.9570788579857985,
          -0.7917370863437933,
          -2.004415007396613,
          -0.16748864482067186,
          -1.6064075681819245,
          -0.2282065050874969,
          -1.0230306512519924,
          -5.45706269335726,
          -1.2835697333549125,
          -0.3832889706461068,
          -0.7616826923772569,
          -1.2597561469407905,
          -0.6337101683577603,
          -1.0777452836514916,
          -0.6393748321428764,
          -0.18860659493533016,
          -0.015091566735561805,
          -2.1972210871507962,
          -0.7204312983648681,
          -1.5405137280022756,
          -2.907877013541401,
          -1.0635058871578997,
          -0.39098748555593427,
          -0.09168074028093418,
          -0.5456886481612989,
          -3.400931105302062,
          -1.108846153320592,
          -0.30158010317507894,
          -1.1490830746902878,
          -0.43147332579366354,
          -0.18530243410298977,
          -0.905291324564229,
          -0.5926187152168815,
          -0.9435327560966642,
          -1.0106504740196294,
          -1.0353381736963685,
          -2.6710438633940274,
          -1.4041487198776452,
          -1.060957893099817,
          -0.005642976687488976,
          -0.47056790646074775,
          -1.1443481819393344,
          -1.610834001247726,
          -2.514899599607992,
          -0.6560295267939785,
          -0.09173609176580225,
          -7.424760131847698,
          -1.5017977115666137,
          -2.5628144486006037,
          -0.7084900368443792,
          -3.8869226935054555,
          -1.167368418401577,
          -1.6013591335866517,
          -0.9581925138785601,
          -1.508616328902894,
          -1.1130570689492942,
          -0.9296170736837445,
          -2.9587861762852112,
          -0.681394749637752,
          -1.005928664650874,
          -1.7115208305462595,
          -0.28553912083935595,
          -1.6941506694092978,
          -1.2203988891486335,
          -0.9960340687202431,
          -1.2637745563275504,
          -4.436678321370091,
          -4.673199368859084,
          -1.029318685332685,
          -0.49875287599469265,
          -0.9252429704020254,
          -1.106219555070285,
          -0.03977812135767868,
          -3.5344279720767657,
          -1.0770229335013457,
          -1.9082127705293905,
          -0.8377272938262021,
          -0.8248029151188707,
          -1.6486289750300693,
          -2.268632214433148,
          -0.7125630737451657,
          -0.007424520501371681,
          -0.8408337524454257,
          -0.671075547854882,
          -0.6703624267957619,
          -1.0182732360399878,
          -1.6366486900405006,
          -0.33858032562298385,
          -4.585564399296666,
          -0.7694683294956357,
          -6.018903430844766,
          -1.6276609263837976,
          -0.4286569092334024,
          -0.7969923169999474,
          -0.286419977519493,
          -1.0730670351685005,
          -1.0528833912149234,
          -1.3026434643875915,
          -1.9958611908027997,
          -0.8275269541584844,
          -0.8487744362978438,
          -0.04562047339968121,
          -1.174341295040304,
          -0.19545558590876128,
          -0.737306288602319,
          -0.6051286254687034,
          -0.0323918862882885
         ]
        },
        {
         "name": "Eveming ratio",
         "type": "bar",
         "x": [
          "2020-09-02",
          "2020-09-03",
          "2020-09-09",
          "2020-09-10",
          "2020-09-11",
          "2020-09-14",
          "2020-09-15",
          "2020-09-16",
          "2020-09-17",
          "2020-09-18",
          "2020-09-22",
          "2020-09-23",
          "2020-09-24",
          "2020-09-25",
          "2020-09-28",
          "2020-09-29",
          "2020-09-30",
          "2020-10-01",
          "2020-10-02",
          "2020-10-05",
          "2020-10-06",
          "2020-10-07",
          "2020-10-09",
          "2020-10-12",
          "2020-10-13",
          "2020-10-14",
          "2020-10-15",
          "2020-10-16",
          "2020-10-19",
          "2020-10-20",
          "2020-10-21",
          "2020-10-22",
          "2020-10-23",
          "2020-10-26",
          "2020-10-28",
          "2020-10-29",
          "2020-10-30",
          "2020-11-02",
          "2020-11-03",
          "2020-11-05",
          "2020-11-06",
          "2020-11-09",
          "2020-11-10",
          "2020-11-11",
          "2020-11-12",
          "2020-11-13",
          "2020-11-16",
          "2020-11-17",
          "2020-11-18",
          "2020-11-19",
          "2020-11-20",
          "2020-11-23",
          "2020-11-24",
          "2020-11-25",
          "2020-11-26",
          "2020-11-27",
          "2020-11-30",
          "2020-12-01",
          "2020-12-02",
          "2020-12-03",
          "2020-12-04",
          "2020-12-07",
          "2020-12-08",
          "2020-12-09",
          "2020-12-10",
          "2020-12-15",
          "2020-12-16",
          "2020-12-17",
          "2020-12-18",
          "2020-12-21",
          "2020-12-22",
          "2020-12-23",
          "2020-12-24",
          "2020-12-28",
          "2020-12-29",
          "2020-12-30",
          "2021-01-04",
          "2021-01-05",
          "2021-01-06",
          "2021-01-11",
          "2021-01-12",
          "2021-01-13",
          "2021-01-14",
          "2021-01-15",
          "2021-01-18",
          "2021-01-19",
          "2021-01-20",
          "2021-01-21",
          "2021-01-22",
          "2021-01-25",
          "2021-01-26",
          "2021-01-27",
          "2021-01-28",
          "2021-01-29",
          "2021-02-01",
          "2021-02-02",
          "2021-02-03",
          "2021-02-04",
          "2021-02-05",
          "2021-02-08",
          "2021-02-09",
          "2021-02-10",
          "2021-02-11",
          "2021-02-12",
          "2021-02-15",
          "2021-02-16",
          "2021-02-19",
          "2021-02-20",
          "2021-02-22",
          "2021-02-24",
          "2021-02-25",
          "2021-02-26",
          "2021-03-01",
          "2021-03-02",
          "2021-03-03",
          "2021-03-04",
          "2021-03-05",
          "2021-03-09",
          "2021-03-10",
          "2021-03-11",
          "2021-03-15",
          "2021-03-16",
          "2021-03-17",
          "2021-03-18",
          "2021-03-19",
          "2021-03-22"
         ],
         "y": [
          -2.1465536638071407,
          -0.8994678208563653,
          -7.47968641750553,
          -0.6268281816420352,
          -0.6669487507387057,
          -1.054014664329089,
          -0.8611928870997785,
          -3.381394034012935,
          -1.8562612191821704,
          -3.001630009981667,
          -0.6533543745232758,
          -1.0885533215231629,
          -0.9080370165165866,
          -1.1616396532259727,
          -0.17129281560607468,
          null,
          -1.804637713113978,
          -0.7766550213060728,
          -1.9239953264835765,
          -1.0024580958675804,
          -1.3225841929532725,
          -0.5736638109682438,
          -0.8604199637834246,
          -1.886560978239401,
          null,
          -2.509737814764772,
          -0.9265542199649515,
          -1.1198891296572486,
          -1.2581529760664918,
          null,
          -0.07505881808756688,
          -0.8631705681296982,
          null,
          -0.7777811427486199,
          -0.5368322325822169,
          -0.1982771796026351,
          -0.3137057870846423,
          -0.5975741926563417,
          -0.5223781012523011,
          -1.0866101867900018,
          -4.824866967299851,
          -0.6797901493562312,
          -0.8184272062746663,
          -0.28495511216410035,
          -3.268492870698876,
          null,
          -2.180823097359876,
          -0.5541093152780827,
          -0.9926760476568093,
          -0.7100023949935726,
          -1.0164741780119237,
          -1.0662347454410477,
          -1.143770193157807,
          -0.6385813839475302,
          -2.307161567795757,
          null,
          -1.0141930900753626,
          null,
          -1.2972485418460733,
          -1.0043581961079537,
          -0.12910778193817424,
          -1.1652545342332248,
          -0.2934473356329939,
          -0.03231688130654533,
          -0.3073499385844614,
          -2.1215205015438356,
          -3.7803937416356423,
          -8.137845360120744,
          -0.9704261840411608,
          -4.4690795384215445,
          -0.7009130449001079,
          -0.34038683074190584,
          -1.0180691487056532,
          -0.9568936555071391,
          -1.371800024591164,
          -1.115997706614191,
          -1.5831403802879127,
          -0.9862159687229675,
          -0.755722002070897,
          -0.8118448219084098,
          -5.249352980915131,
          -1.1665748001922094,
          -0.8468477971552069,
          -1.8898948173828396,
          -1.0579851242583918,
          -0.5274036961314746,
          -2.003254928710373,
          -0.8786674262547354,
          -0.8034357310553703,
          -1,
          -1.392840109037687,
          -0.8052284139152942,
          -0.18218996184308844,
          -4.1571825905167,
          -0.3563788415939294,
          -1.0235008485689878,
          -0.8739368489678536,
          -1.3676529931271109,
          -0.6496210309551078,
          -0.19696595043126786,
          -0.4418978900723306,
          -1.8081818167633184,
          -0.7493311308309122,
          -0.5040046533469951,
          -0.06859289938118611,
          -0.8578401894366168,
          -0.8787984278628687,
          -0.4707278940564779,
          -0.9445088762760881,
          -0.8830628617976102,
          -1.0583082179228662,
          -0.7309805434403092,
          -1.060593582657085,
          -1.331571487214191,
          -1.053170511237537,
          -0.29453430926184826,
          -8.009438533887428,
          -0.44827396987266144,
          -1.235408035223596,
          -1.3309359208740565,
          -1.1877545981794828,
          -0.8499302769233487,
          -0.5369888835741156,
          -0.69982066763132,
          -0.4550938925733507,
          null
         ]
        }
       ],
       "layout": {
        "barmode": "group",
        "template": {
         "data": {
          "bar": [
           {
            "error_x": {
             "color": "#2a3f5f"
            },
            "error_y": {
             "color": "#2a3f5f"
            },
            "marker": {
             "line": {
              "color": "#E5ECF6",
              "width": 0.5
             }
            },
            "type": "bar"
           }
          ],
          "barpolar": [
           {
            "marker": {
             "line": {
              "color": "#E5ECF6",
              "width": 0.5
             }
            },
            "type": "barpolar"
           }
          ],
          "carpet": [
           {
            "aaxis": {
             "endlinecolor": "#2a3f5f",
             "gridcolor": "white",
             "linecolor": "white",
             "minorgridcolor": "white",
             "startlinecolor": "#2a3f5f"
            },
            "baxis": {
             "endlinecolor": "#2a3f5f",
             "gridcolor": "white",
             "linecolor": "white",
             "minorgridcolor": "white",
             "startlinecolor": "#2a3f5f"
            },
            "type": "carpet"
           }
          ],
          "choropleth": [
           {
            "colorbar": {
             "outlinewidth": 0,
             "ticks": ""
            },
            "type": "choropleth"
           }
          ],
          "contour": [
           {
            "colorbar": {
             "outlinewidth": 0,
             "ticks": ""
            },
            "colorscale": [
             [
              0,
              "#0d0887"
             ],
             [
              0.1111111111111111,
              "#46039f"
             ],
             [
              0.2222222222222222,
              "#7201a8"
             ],
             [
              0.3333333333333333,
              "#9c179e"
             ],
             [
              0.4444444444444444,
              "#bd3786"
             ],
             [
              0.5555555555555556,
              "#d8576b"
             ],
             [
              0.6666666666666666,
              "#ed7953"
             ],
             [
              0.7777777777777778,
              "#fb9f3a"
             ],
             [
              0.8888888888888888,
              "#fdca26"
             ],
             [
              1,
              "#f0f921"
             ]
            ],
            "type": "contour"
           }
          ],
          "contourcarpet": [
           {
            "colorbar": {
             "outlinewidth": 0,
             "ticks": ""
            },
            "type": "contourcarpet"
           }
          ],
          "heatmap": [
           {
            "colorbar": {
             "outlinewidth": 0,
             "ticks": ""
            },
            "colorscale": [
             [
              0,
              "#0d0887"
             ],
             [
              0.1111111111111111,
              "#46039f"
             ],
             [
              0.2222222222222222,
              "#7201a8"
             ],
             [
              0.3333333333333333,
              "#9c179e"
             ],
             [
              0.4444444444444444,
              "#bd3786"
             ],
             [
              0.5555555555555556,
              "#d8576b"
             ],
             [
              0.6666666666666666,
              "#ed7953"
             ],
             [
              0.7777777777777778,
              "#fb9f3a"
             ],
             [
              0.8888888888888888,
              "#fdca26"
             ],
             [
              1,
              "#f0f921"
             ]
            ],
            "type": "heatmap"
           }
          ],
          "heatmapgl": [
           {
            "colorbar": {
             "outlinewidth": 0,
             "ticks": ""
            },
            "colorscale": [
             [
              0,
              "#0d0887"
             ],
             [
              0.1111111111111111,
              "#46039f"
             ],
             [
              0.2222222222222222,
              "#7201a8"
             ],
             [
              0.3333333333333333,
              "#9c179e"
             ],
             [
              0.4444444444444444,
              "#bd3786"
             ],
             [
              0.5555555555555556,
              "#d8576b"
             ],
             [
              0.6666666666666666,
              "#ed7953"
             ],
             [
              0.7777777777777778,
              "#fb9f3a"
             ],
             [
              0.8888888888888888,
              "#fdca26"
             ],
             [
              1,
              "#f0f921"
             ]
            ],
            "type": "heatmapgl"
           }
          ],
          "histogram": [
           {
            "marker": {
             "colorbar": {
              "outlinewidth": 0,
              "ticks": ""
             }
            },
            "type": "histogram"
           }
          ],
          "histogram2d": [
           {
            "colorbar": {
             "outlinewidth": 0,
             "ticks": ""
            },
            "colorscale": [
             [
              0,
              "#0d0887"
             ],
             [
              0.1111111111111111,
              "#46039f"
             ],
             [
              0.2222222222222222,
              "#7201a8"
             ],
             [
              0.3333333333333333,
              "#9c179e"
             ],
             [
              0.4444444444444444,
              "#bd3786"
             ],
             [
              0.5555555555555556,
              "#d8576b"
             ],
             [
              0.6666666666666666,
              "#ed7953"
             ],
             [
              0.7777777777777778,
              "#fb9f3a"
             ],
             [
              0.8888888888888888,
              "#fdca26"
             ],
             [
              1,
              "#f0f921"
             ]
            ],
            "type": "histogram2d"
           }
          ],
          "histogram2dcontour": [
           {
            "colorbar": {
             "outlinewidth": 0,
             "ticks": ""
            },
            "colorscale": [
             [
              0,
              "#0d0887"
             ],
             [
              0.1111111111111111,
              "#46039f"
             ],
             [
              0.2222222222222222,
              "#7201a8"
             ],
             [
              0.3333333333333333,
              "#9c179e"
             ],
             [
              0.4444444444444444,
              "#bd3786"
             ],
             [
              0.5555555555555556,
              "#d8576b"
             ],
             [
              0.6666666666666666,
              "#ed7953"
             ],
             [
              0.7777777777777778,
              "#fb9f3a"
             ],
             [
              0.8888888888888888,
              "#fdca26"
             ],
             [
              1,
              "#f0f921"
             ]
            ],
            "type": "histogram2dcontour"
           }
          ],
          "mesh3d": [
           {
            "colorbar": {
             "outlinewidth": 0,
             "ticks": ""
            },
            "type": "mesh3d"
           }
          ],
          "parcoords": [
           {
            "line": {
             "colorbar": {
              "outlinewidth": 0,
              "ticks": ""
             }
            },
            "type": "parcoords"
           }
          ],
          "pie": [
           {
            "automargin": true,
            "type": "pie"
           }
          ],
          "scatter": [
           {
            "marker": {
             "colorbar": {
              "outlinewidth": 0,
              "ticks": ""
             }
            },
            "type": "scatter"
           }
          ],
          "scatter3d": [
           {
            "line": {
             "colorbar": {
              "outlinewidth": 0,
              "ticks": ""
             }
            },
            "marker": {
             "colorbar": {
              "outlinewidth": 0,
              "ticks": ""
             }
            },
            "type": "scatter3d"
           }
          ],
          "scattercarpet": [
           {
            "marker": {
             "colorbar": {
              "outlinewidth": 0,
              "ticks": ""
             }
            },
            "type": "scattercarpet"
           }
          ],
          "scattergeo": [
           {
            "marker": {
             "colorbar": {
              "outlinewidth": 0,
              "ticks": ""
             }
            },
            "type": "scattergeo"
           }
          ],
          "scattergl": [
           {
            "marker": {
             "colorbar": {
              "outlinewidth": 0,
              "ticks": ""
             }
            },
            "type": "scattergl"
           }
          ],
          "scattermapbox": [
           {
            "marker": {
             "colorbar": {
              "outlinewidth": 0,
              "ticks": ""
             }
            },
            "type": "scattermapbox"
           }
          ],
          "scatterpolar": [
           {
            "marker": {
             "colorbar": {
              "outlinewidth": 0,
              "ticks": ""
             }
            },
            "type": "scatterpolar"
           }
          ],
          "scatterpolargl": [
           {
            "marker": {
             "colorbar": {
              "outlinewidth": 0,
              "ticks": ""
             }
            },
            "type": "scatterpolargl"
           }
          ],
          "scatterternary": [
           {
            "marker": {
             "colorbar": {
              "outlinewidth": 0,
              "ticks": ""
             }
            },
            "type": "scatterternary"
           }
          ],
          "surface": [
           {
            "colorbar": {
             "outlinewidth": 0,
             "ticks": ""
            },
            "colorscale": [
             [
              0,
              "#0d0887"
             ],
             [
              0.1111111111111111,
              "#46039f"
             ],
             [
              0.2222222222222222,
              "#7201a8"
             ],
             [
              0.3333333333333333,
              "#9c179e"
             ],
             [
              0.4444444444444444,
              "#bd3786"
             ],
             [
              0.5555555555555556,
              "#d8576b"
             ],
             [
              0.6666666666666666,
              "#ed7953"
             ],
             [
              0.7777777777777778,
              "#fb9f3a"
             ],
             [
              0.8888888888888888,
              "#fdca26"
             ],
             [
              1,
              "#f0f921"
             ]
            ],
            "type": "surface"
           }
          ],
          "table": [
           {
            "cells": {
             "fill": {
              "color": "#EBF0F8"
             },
             "line": {
              "color": "white"
             }
            },
            "header": {
             "fill": {
              "color": "#C8D4E3"
             },
             "line": {
              "color": "white"
             }
            },
            "type": "table"
           }
          ]
         },
         "layout": {
          "annotationdefaults": {
           "arrowcolor": "#2a3f5f",
           "arrowhead": 0,
           "arrowwidth": 1
          },
          "autotypenumbers": "strict",
          "coloraxis": {
           "colorbar": {
            "outlinewidth": 0,
            "ticks": ""
           }
          },
          "colorscale": {
           "diverging": [
            [
             0,
             "#8e0152"
            ],
            [
             0.1,
             "#c51b7d"
            ],
            [
             0.2,
             "#de77ae"
            ],
            [
             0.3,
             "#f1b6da"
            ],
            [
             0.4,
             "#fde0ef"
            ],
            [
             0.5,
             "#f7f7f7"
            ],
            [
             0.6,
             "#e6f5d0"
            ],
            [
             0.7,
             "#b8e186"
            ],
            [
             0.8,
             "#7fbc41"
            ],
            [
             0.9,
             "#4d9221"
            ],
            [
             1,
             "#276419"
            ]
           ],
           "sequential": [
            [
             0,
             "#0d0887"
            ],
            [
             0.1111111111111111,
             "#46039f"
            ],
            [
             0.2222222222222222,
             "#7201a8"
            ],
            [
             0.3333333333333333,
             "#9c179e"
            ],
            [
             0.4444444444444444,
             "#bd3786"
            ],
            [
             0.5555555555555556,
             "#d8576b"
            ],
            [
             0.6666666666666666,
             "#ed7953"
            ],
            [
             0.7777777777777778,
             "#fb9f3a"
            ],
            [
             0.8888888888888888,
             "#fdca26"
            ],
            [
             1,
             "#f0f921"
            ]
           ],
           "sequentialminus": [
            [
             0,
             "#0d0887"
            ],
            [
             0.1111111111111111,
             "#46039f"
            ],
            [
             0.2222222222222222,
             "#7201a8"
            ],
            [
             0.3333333333333333,
             "#9c179e"
            ],
            [
             0.4444444444444444,
             "#bd3786"
            ],
            [
             0.5555555555555556,
             "#d8576b"
            ],
            [
             0.6666666666666666,
             "#ed7953"
            ],
            [
             0.7777777777777778,
             "#fb9f3a"
            ],
            [
             0.8888888888888888,
             "#fdca26"
            ],
            [
             1,
             "#f0f921"
            ]
           ]
          },
          "colorway": [
           "#636efa",
           "#EF553B",
           "#00cc96",
           "#ab63fa",
           "#FFA15A",
           "#19d3f3",
           "#FF6692",
           "#B6E880",
           "#FF97FF",
           "#FECB52"
          ],
          "font": {
           "color": "#2a3f5f"
          },
          "geo": {
           "bgcolor": "white",
           "lakecolor": "white",
           "landcolor": "#E5ECF6",
           "showlakes": true,
           "showland": true,
           "subunitcolor": "white"
          },
          "hoverlabel": {
           "align": "left"
          },
          "hovermode": "closest",
          "mapbox": {
           "style": "light"
          },
          "paper_bgcolor": "white",
          "plot_bgcolor": "#E5ECF6",
          "polar": {
           "angularaxis": {
            "gridcolor": "white",
            "linecolor": "white",
            "ticks": ""
           },
           "bgcolor": "#E5ECF6",
           "radialaxis": {
            "gridcolor": "white",
            "linecolor": "white",
            "ticks": ""
           }
          },
          "scene": {
           "xaxis": {
            "backgroundcolor": "#E5ECF6",
            "gridcolor": "white",
            "gridwidth": 2,
            "linecolor": "white",
            "showbackground": true,
            "ticks": "",
            "zerolinecolor": "white"
           },
           "yaxis": {
            "backgroundcolor": "#E5ECF6",
            "gridcolor": "white",
            "gridwidth": 2,
            "linecolor": "white",
            "showbackground": true,
            "ticks": "",
            "zerolinecolor": "white"
           },
           "zaxis": {
            "backgroundcolor": "#E5ECF6",
            "gridcolor": "white",
            "gridwidth": 2,
            "linecolor": "white",
            "showbackground": true,
            "ticks": "",
            "zerolinecolor": "white"
           }
          },
          "shapedefaults": {
           "line": {
            "color": "#2a3f5f"
           }
          },
          "ternary": {
           "aaxis": {
            "gridcolor": "white",
            "linecolor": "white",
            "ticks": ""
           },
           "baxis": {
            "gridcolor": "white",
            "linecolor": "white",
            "ticks": ""
           },
           "bgcolor": "#E5ECF6",
           "caxis": {
            "gridcolor": "white",
            "linecolor": "white",
            "ticks": ""
           }
          },
          "title": {
           "x": 0.05
          },
          "xaxis": {
           "automargin": true,
           "gridcolor": "white",
           "linecolor": "white",
           "ticks": "",
           "title": {
            "standoff": 15
           },
           "zerolinecolor": "white",
           "zerolinewidth": 2
          },
          "yaxis": {
           "automargin": true,
           "gridcolor": "white",
           "linecolor": "white",
           "ticks": "",
           "title": {
            "standoff": 15
           },
           "zerolinecolor": "white",
           "zerolinewidth": 2
          }
         }
        }
       }
      },
      "text/html": [
       "<div>                            <div id=\"3cf6ce09-aae1-40bf-a167-29018c65a981\" class=\"plotly-graph-div\" style=\"height:525px; width:100%;\"></div>            <script type=\"text/javascript\">                require([\"plotly\"], function(Plotly) {                    window.PLOTLYENV=window.PLOTLYENV || {};                                    if (document.getElementById(\"3cf6ce09-aae1-40bf-a167-29018c65a981\")) {                    Plotly.newPlot(                        \"3cf6ce09-aae1-40bf-a167-29018c65a981\",                        [{\"name\": \"Morning ratio\", \"type\": \"bar\", \"x\": [\"2020-09-02\", \"2020-09-03\", \"2020-09-09\", \"2020-09-10\", \"2020-09-11\", \"2020-09-14\", \"2020-09-15\", \"2020-09-16\", \"2020-09-17\", \"2020-09-18\", \"2020-09-22\", \"2020-09-23\", \"2020-09-24\", \"2020-09-25\", \"2020-09-28\", \"2020-09-29\", \"2020-09-30\", \"2020-10-01\", \"2020-10-02\", \"2020-10-05\", \"2020-10-06\", \"2020-10-07\", \"2020-10-09\", \"2020-10-12\", \"2020-10-13\", \"2020-10-14\", \"2020-10-15\", \"2020-10-16\", \"2020-10-19\", \"2020-10-20\", \"2020-10-21\", \"2020-10-22\", \"2020-10-23\", \"2020-10-26\", \"2020-10-28\", \"2020-10-29\", \"2020-10-30\", \"2020-11-02\", \"2020-11-03\", \"2020-11-05\", \"2020-11-06\", \"2020-11-09\", \"2020-11-10\", \"2020-11-11\", \"2020-11-12\", \"2020-11-13\", \"2020-11-16\", \"2020-11-17\", \"2020-11-18\", \"2020-11-19\", \"2020-11-20\", \"2020-11-23\", \"2020-11-24\", \"2020-11-25\", \"2020-11-26\", \"2020-11-27\", \"2020-11-30\", \"2020-12-01\", \"2020-12-02\", \"2020-12-03\", \"2020-12-04\", \"2020-12-07\", \"2020-12-08\", \"2020-12-09\", \"2020-12-10\", \"2020-12-15\", \"2020-12-16\", \"2020-12-17\", \"2020-12-18\", \"2020-12-21\", \"2020-12-22\", \"2020-12-23\", \"2020-12-24\", \"2020-12-28\", \"2020-12-29\", \"2020-12-30\", \"2021-01-04\", \"2021-01-05\", \"2021-01-06\", \"2021-01-11\", \"2021-01-12\", \"2021-01-13\", \"2021-01-14\", \"2021-01-15\", \"2021-01-18\", \"2021-01-19\", \"2021-01-20\", \"2021-01-21\", \"2021-01-22\", \"2021-01-25\", \"2021-01-26\", \"2021-01-27\", \"2021-01-28\", \"2021-01-29\", \"2021-02-01\", \"2021-02-02\", \"2021-02-03\", \"2021-02-04\", \"2021-02-05\", \"2021-02-08\", \"2021-02-09\", \"2021-02-10\", \"2021-02-11\", \"2021-02-12\", \"2021-02-15\", \"2021-02-16\", \"2021-02-19\", \"2021-02-20\", \"2021-02-22\", \"2021-02-24\", \"2021-02-25\", \"2021-02-26\", \"2021-03-01\", \"2021-03-02\", \"2021-03-03\", \"2021-03-04\", \"2021-03-05\", \"2021-03-09\", \"2021-03-10\", \"2021-03-11\", \"2021-03-15\", \"2021-03-16\", \"2021-03-17\", \"2021-03-18\", \"2021-03-19\", \"2021-03-22\"], \"y\": [-0.47071280500219287, -1.0228059247731949, -0.472071948305912, -0.0870653622966779, -1.353834996431361, -0.12677969750195864, -1.0014775335781236, -1.569450721552861, -2.9775619961292334, -0.18535330112169937, -1.4459941975605586, -0.9878400682415056, -0.5168584987024959, -1.583800428205009, -0.9800619740879759, -0.08952228450290801, -1.659344891996245, -2.345753621955474, -0.083791166917849, -0.9570788579857985, -0.7917370863437933, -2.004415007396613, -0.16748864482067186, -1.6064075681819245, -0.2282065050874969, -1.0230306512519924, -5.45706269335726, -1.2835697333549125, -0.3832889706461068, -0.7616826923772569, -1.2597561469407905, -0.6337101683577603, -1.0777452836514916, -0.6393748321428764, -0.18860659493533016, -0.015091566735561805, -2.1972210871507962, -0.7204312983648681, -1.5405137280022756, -2.907877013541401, -1.0635058871578997, -0.39098748555593427, -0.09168074028093418, -0.5456886481612989, -3.400931105302062, -1.108846153320592, -0.30158010317507894, -1.1490830746902878, -0.43147332579366354, -0.18530243410298977, -0.905291324564229, -0.5926187152168815, -0.9435327560966642, -1.0106504740196294, -1.0353381736963685, -2.6710438633940274, -1.4041487198776452, -1.060957893099817, -0.005642976687488976, -0.47056790646074775, -1.1443481819393344, -1.610834001247726, -2.514899599607992, -0.6560295267939785, -0.09173609176580225, -7.424760131847698, -1.5017977115666137, -2.5628144486006037, -0.7084900368443792, -3.8869226935054555, -1.167368418401577, -1.6013591335866517, -0.9581925138785601, -1.508616328902894, -1.1130570689492942, -0.9296170736837445, -2.9587861762852112, -0.681394749637752, -1.005928664650874, -1.7115208305462595, -0.28553912083935595, -1.6941506694092978, -1.2203988891486335, -0.9960340687202431, -1.2637745563275504, -4.436678321370091, -4.673199368859084, -1.029318685332685, -0.49875287599469265, -0.9252429704020254, -1.106219555070285, -0.03977812135767868, -3.5344279720767657, -1.0770229335013457, -1.9082127705293905, -0.8377272938262021, -0.8248029151188707, -1.6486289750300693, -2.268632214433148, -0.7125630737451657, -0.007424520501371681, -0.8408337524454257, -0.671075547854882, -0.6703624267957619, -1.0182732360399878, -1.6366486900405006, -0.33858032562298385, -4.585564399296666, -0.7694683294956357, -6.018903430844766, -1.6276609263837976, -0.4286569092334024, -0.7969923169999474, -0.286419977519493, -1.0730670351685005, -1.0528833912149234, -1.3026434643875915, -1.9958611908027997, -0.8275269541584844, -0.8487744362978438, -0.04562047339968121, -1.174341295040304, -0.19545558590876128, -0.737306288602319, -0.6051286254687034, -0.0323918862882885]}, {\"name\": \"Day ratio\", \"type\": \"bar\", \"x\": [\"2020-09-02\", \"2020-09-03\", \"2020-09-09\", \"2020-09-10\", \"2020-09-11\", \"2020-09-14\", \"2020-09-15\", \"2020-09-16\", \"2020-09-17\", \"2020-09-18\", \"2020-09-22\", \"2020-09-23\", \"2020-09-24\", \"2020-09-25\", \"2020-09-28\", \"2020-09-29\", \"2020-09-30\", \"2020-10-01\", \"2020-10-02\", \"2020-10-05\", \"2020-10-06\", \"2020-10-07\", \"2020-10-09\", \"2020-10-12\", \"2020-10-13\", \"2020-10-14\", \"2020-10-15\", \"2020-10-16\", \"2020-10-19\", \"2020-10-20\", \"2020-10-21\", \"2020-10-22\", \"2020-10-23\", \"2020-10-26\", \"2020-10-28\", \"2020-10-29\", \"2020-10-30\", \"2020-11-02\", \"2020-11-03\", \"2020-11-05\", \"2020-11-06\", \"2020-11-09\", \"2020-11-10\", \"2020-11-11\", \"2020-11-12\", \"2020-11-13\", \"2020-11-16\", \"2020-11-17\", \"2020-11-18\", \"2020-11-19\", \"2020-11-20\", \"2020-11-23\", \"2020-11-24\", \"2020-11-25\", \"2020-11-26\", \"2020-11-27\", \"2020-11-30\", \"2020-12-01\", \"2020-12-02\", \"2020-12-03\", \"2020-12-04\", \"2020-12-07\", \"2020-12-08\", \"2020-12-09\", \"2020-12-10\", \"2020-12-15\", \"2020-12-16\", \"2020-12-17\", \"2020-12-18\", \"2020-12-21\", \"2020-12-22\", \"2020-12-23\", \"2020-12-24\", \"2020-12-28\", \"2020-12-29\", \"2020-12-30\", \"2021-01-04\", \"2021-01-05\", \"2021-01-06\", \"2021-01-11\", \"2021-01-12\", \"2021-01-13\", \"2021-01-14\", \"2021-01-15\", \"2021-01-18\", \"2021-01-19\", \"2021-01-20\", \"2021-01-21\", \"2021-01-22\", \"2021-01-25\", \"2021-01-26\", \"2021-01-27\", \"2021-01-28\", \"2021-01-29\", \"2021-02-01\", \"2021-02-02\", \"2021-02-03\", \"2021-02-04\", \"2021-02-05\", \"2021-02-08\", \"2021-02-09\", \"2021-02-10\", \"2021-02-11\", \"2021-02-12\", \"2021-02-15\", \"2021-02-16\", \"2021-02-19\", \"2021-02-20\", \"2021-02-22\", \"2021-02-24\", \"2021-02-25\", \"2021-02-26\", \"2021-03-01\", \"2021-03-02\", \"2021-03-03\", \"2021-03-04\", \"2021-03-05\", \"2021-03-09\", \"2021-03-10\", \"2021-03-11\", \"2021-03-15\", \"2021-03-16\", \"2021-03-17\", \"2021-03-18\", \"2021-03-19\", \"2021-03-22\"], \"y\": [-0.47071280500219287, -1.0228059247731949, -0.472071948305912, -0.0870653622966779, -1.353834996431361, -0.12677969750195864, -1.0014775335781236, -1.569450721552861, -2.9775619961292334, -0.18535330112169937, -1.4459941975605586, -0.9878400682415056, -0.5168584987024959, -1.583800428205009, -0.9800619740879759, -0.08952228450290801, -1.659344891996245, -2.345753621955474, -0.083791166917849, -0.9570788579857985, -0.7917370863437933, -2.004415007396613, -0.16748864482067186, -1.6064075681819245, -0.2282065050874969, -1.0230306512519924, -5.45706269335726, -1.2835697333549125, -0.3832889706461068, -0.7616826923772569, -1.2597561469407905, -0.6337101683577603, -1.0777452836514916, -0.6393748321428764, -0.18860659493533016, -0.015091566735561805, -2.1972210871507962, -0.7204312983648681, -1.5405137280022756, -2.907877013541401, -1.0635058871578997, -0.39098748555593427, -0.09168074028093418, -0.5456886481612989, -3.400931105302062, -1.108846153320592, -0.30158010317507894, -1.1490830746902878, -0.43147332579366354, -0.18530243410298977, -0.905291324564229, -0.5926187152168815, -0.9435327560966642, -1.0106504740196294, -1.0353381736963685, -2.6710438633940274, -1.4041487198776452, -1.060957893099817, -0.005642976687488976, -0.47056790646074775, -1.1443481819393344, -1.610834001247726, -2.514899599607992, -0.6560295267939785, -0.09173609176580225, -7.424760131847698, -1.5017977115666137, -2.5628144486006037, -0.7084900368443792, -3.8869226935054555, -1.167368418401577, -1.6013591335866517, -0.9581925138785601, -1.508616328902894, -1.1130570689492942, -0.9296170736837445, -2.9587861762852112, -0.681394749637752, -1.005928664650874, -1.7115208305462595, -0.28553912083935595, -1.6941506694092978, -1.2203988891486335, -0.9960340687202431, -1.2637745563275504, -4.436678321370091, -4.673199368859084, -1.029318685332685, -0.49875287599469265, -0.9252429704020254, -1.106219555070285, -0.03977812135767868, -3.5344279720767657, -1.0770229335013457, -1.9082127705293905, -0.8377272938262021, -0.8248029151188707, -1.6486289750300693, -2.268632214433148, -0.7125630737451657, -0.007424520501371681, -0.8408337524454257, -0.671075547854882, -0.6703624267957619, -1.0182732360399878, -1.6366486900405006, -0.33858032562298385, -4.585564399296666, -0.7694683294956357, -6.018903430844766, -1.6276609263837976, -0.4286569092334024, -0.7969923169999474, -0.286419977519493, -1.0730670351685005, -1.0528833912149234, -1.3026434643875915, -1.9958611908027997, -0.8275269541584844, -0.8487744362978438, -0.04562047339968121, -1.174341295040304, -0.19545558590876128, -0.737306288602319, -0.6051286254687034, -0.0323918862882885]}, {\"name\": \"Eveming ratio\", \"type\": \"bar\", \"x\": [\"2020-09-02\", \"2020-09-03\", \"2020-09-09\", \"2020-09-10\", \"2020-09-11\", \"2020-09-14\", \"2020-09-15\", \"2020-09-16\", \"2020-09-17\", \"2020-09-18\", \"2020-09-22\", \"2020-09-23\", \"2020-09-24\", \"2020-09-25\", \"2020-09-28\", \"2020-09-29\", \"2020-09-30\", \"2020-10-01\", \"2020-10-02\", \"2020-10-05\", \"2020-10-06\", \"2020-10-07\", \"2020-10-09\", \"2020-10-12\", \"2020-10-13\", \"2020-10-14\", \"2020-10-15\", \"2020-10-16\", \"2020-10-19\", \"2020-10-20\", \"2020-10-21\", \"2020-10-22\", \"2020-10-23\", \"2020-10-26\", \"2020-10-28\", \"2020-10-29\", \"2020-10-30\", \"2020-11-02\", \"2020-11-03\", \"2020-11-05\", \"2020-11-06\", \"2020-11-09\", \"2020-11-10\", \"2020-11-11\", \"2020-11-12\", \"2020-11-13\", \"2020-11-16\", \"2020-11-17\", \"2020-11-18\", \"2020-11-19\", \"2020-11-20\", \"2020-11-23\", \"2020-11-24\", \"2020-11-25\", \"2020-11-26\", \"2020-11-27\", \"2020-11-30\", \"2020-12-01\", \"2020-12-02\", \"2020-12-03\", \"2020-12-04\", \"2020-12-07\", \"2020-12-08\", \"2020-12-09\", \"2020-12-10\", \"2020-12-15\", \"2020-12-16\", \"2020-12-17\", \"2020-12-18\", \"2020-12-21\", \"2020-12-22\", \"2020-12-23\", \"2020-12-24\", \"2020-12-28\", \"2020-12-29\", \"2020-12-30\", \"2021-01-04\", \"2021-01-05\", \"2021-01-06\", \"2021-01-11\", \"2021-01-12\", \"2021-01-13\", \"2021-01-14\", \"2021-01-15\", \"2021-01-18\", \"2021-01-19\", \"2021-01-20\", \"2021-01-21\", \"2021-01-22\", \"2021-01-25\", \"2021-01-26\", \"2021-01-27\", \"2021-01-28\", \"2021-01-29\", \"2021-02-01\", \"2021-02-02\", \"2021-02-03\", \"2021-02-04\", \"2021-02-05\", \"2021-02-08\", \"2021-02-09\", \"2021-02-10\", \"2021-02-11\", \"2021-02-12\", \"2021-02-15\", \"2021-02-16\", \"2021-02-19\", \"2021-02-20\", \"2021-02-22\", \"2021-02-24\", \"2021-02-25\", \"2021-02-26\", \"2021-03-01\", \"2021-03-02\", \"2021-03-03\", \"2021-03-04\", \"2021-03-05\", \"2021-03-09\", \"2021-03-10\", \"2021-03-11\", \"2021-03-15\", \"2021-03-16\", \"2021-03-17\", \"2021-03-18\", \"2021-03-19\", \"2021-03-22\"], \"y\": [-2.1465536638071407, -0.8994678208563653, -7.47968641750553, -0.6268281816420352, -0.6669487507387057, -1.054014664329089, -0.8611928870997785, -3.381394034012935, -1.8562612191821704, -3.001630009981667, -0.6533543745232758, -1.0885533215231629, -0.9080370165165866, -1.1616396532259727, -0.17129281560607468, null, -1.804637713113978, -0.7766550213060728, -1.9239953264835765, -1.0024580958675804, -1.3225841929532725, -0.5736638109682438, -0.8604199637834246, -1.886560978239401, null, -2.509737814764772, -0.9265542199649515, -1.1198891296572486, -1.2581529760664918, null, -0.07505881808756688, -0.8631705681296982, null, -0.7777811427486199, -0.5368322325822169, -0.1982771796026351, -0.3137057870846423, -0.5975741926563417, -0.5223781012523011, -1.0866101867900018, -4.824866967299851, -0.6797901493562312, -0.8184272062746663, -0.28495511216410035, -3.268492870698876, null, -2.180823097359876, -0.5541093152780827, -0.9926760476568093, -0.7100023949935726, -1.0164741780119237, -1.0662347454410477, -1.143770193157807, -0.6385813839475302, -2.307161567795757, null, -1.0141930900753626, null, -1.2972485418460733, -1.0043581961079537, -0.12910778193817424, -1.1652545342332248, -0.2934473356329939, -0.03231688130654533, -0.3073499385844614, -2.1215205015438356, -3.7803937416356423, -8.137845360120744, -0.9704261840411608, -4.4690795384215445, -0.7009130449001079, -0.34038683074190584, -1.0180691487056532, -0.9568936555071391, -1.371800024591164, -1.115997706614191, -1.5831403802879127, -0.9862159687229675, -0.755722002070897, -0.8118448219084098, -5.249352980915131, -1.1665748001922094, -0.8468477971552069, -1.8898948173828396, -1.0579851242583918, -0.5274036961314746, -2.003254928710373, -0.8786674262547354, -0.8034357310553703, -1.0, -1.392840109037687, -0.8052284139152942, -0.18218996184308844, -4.1571825905167, -0.3563788415939294, -1.0235008485689878, -0.8739368489678536, -1.3676529931271109, -0.6496210309551078, -0.19696595043126786, -0.4418978900723306, -1.8081818167633184, -0.7493311308309122, -0.5040046533469951, -0.06859289938118611, -0.8578401894366168, -0.8787984278628687, -0.4707278940564779, -0.9445088762760881, -0.8830628617976102, -1.0583082179228662, -0.7309805434403092, -1.060593582657085, -1.331571487214191, -1.053170511237537, -0.29453430926184826, -8.009438533887428, -0.44827396987266144, -1.235408035223596, -1.3309359208740565, -1.1877545981794828, -0.8499302769233487, -0.5369888835741156, -0.69982066763132, -0.4550938925733507, null]}],                        {\"barmode\": \"group\", \"template\": {\"data\": {\"bar\": [{\"error_x\": {\"color\": \"#2a3f5f\"}, \"error_y\": {\"color\": \"#2a3f5f\"}, \"marker\": {\"line\": {\"color\": \"#E5ECF6\", \"width\": 0.5}}, \"type\": \"bar\"}], \"barpolar\": [{\"marker\": {\"line\": {\"color\": \"#E5ECF6\", \"width\": 0.5}}, \"type\": \"barpolar\"}], \"carpet\": [{\"aaxis\": {\"endlinecolor\": \"#2a3f5f\", \"gridcolor\": \"white\", \"linecolor\": \"white\", \"minorgridcolor\": \"white\", \"startlinecolor\": \"#2a3f5f\"}, \"baxis\": {\"endlinecolor\": \"#2a3f5f\", \"gridcolor\": \"white\", \"linecolor\": \"white\", \"minorgridcolor\": \"white\", \"startlinecolor\": \"#2a3f5f\"}, \"type\": \"carpet\"}], \"choropleth\": [{\"colorbar\": {\"outlinewidth\": 0, \"ticks\": \"\"}, \"type\": \"choropleth\"}], \"contour\": [{\"colorbar\": {\"outlinewidth\": 0, \"ticks\": \"\"}, \"colorscale\": [[0.0, \"#0d0887\"], [0.1111111111111111, \"#46039f\"], [0.2222222222222222, \"#7201a8\"], [0.3333333333333333, \"#9c179e\"], [0.4444444444444444, \"#bd3786\"], [0.5555555555555556, \"#d8576b\"], [0.6666666666666666, \"#ed7953\"], [0.7777777777777778, \"#fb9f3a\"], [0.8888888888888888, \"#fdca26\"], [1.0, \"#f0f921\"]], \"type\": \"contour\"}], \"contourcarpet\": [{\"colorbar\": {\"outlinewidth\": 0, \"ticks\": \"\"}, \"type\": \"contourcarpet\"}], \"heatmap\": [{\"colorbar\": {\"outlinewidth\": 0, \"ticks\": \"\"}, \"colorscale\": [[0.0, \"#0d0887\"], [0.1111111111111111, \"#46039f\"], [0.2222222222222222, \"#7201a8\"], [0.3333333333333333, \"#9c179e\"], [0.4444444444444444, \"#bd3786\"], [0.5555555555555556, \"#d8576b\"], [0.6666666666666666, \"#ed7953\"], [0.7777777777777778, \"#fb9f3a\"], [0.8888888888888888, \"#fdca26\"], [1.0, \"#f0f921\"]], \"type\": \"heatmap\"}], \"heatmapgl\": [{\"colorbar\": {\"outlinewidth\": 0, \"ticks\": \"\"}, \"colorscale\": [[0.0, \"#0d0887\"], [0.1111111111111111, \"#46039f\"], [0.2222222222222222, \"#7201a8\"], [0.3333333333333333, \"#9c179e\"], [0.4444444444444444, \"#bd3786\"], [0.5555555555555556, \"#d8576b\"], [0.6666666666666666, \"#ed7953\"], [0.7777777777777778, \"#fb9f3a\"], [0.8888888888888888, \"#fdca26\"], [1.0, \"#f0f921\"]], \"type\": \"heatmapgl\"}], \"histogram\": [{\"marker\": {\"colorbar\": {\"outlinewidth\": 0, \"ticks\": \"\"}}, \"type\": \"histogram\"}], \"histogram2d\": [{\"colorbar\": {\"outlinewidth\": 0, \"ticks\": \"\"}, \"colorscale\": [[0.0, \"#0d0887\"], [0.1111111111111111, \"#46039f\"], [0.2222222222222222, \"#7201a8\"], [0.3333333333333333, \"#9c179e\"], [0.4444444444444444, \"#bd3786\"], [0.5555555555555556, \"#d8576b\"], [0.6666666666666666, \"#ed7953\"], [0.7777777777777778, \"#fb9f3a\"], [0.8888888888888888, \"#fdca26\"], [1.0, \"#f0f921\"]], \"type\": \"histogram2d\"}], \"histogram2dcontour\": [{\"colorbar\": {\"outlinewidth\": 0, \"ticks\": \"\"}, \"colorscale\": [[0.0, \"#0d0887\"], [0.1111111111111111, \"#46039f\"], [0.2222222222222222, \"#7201a8\"], [0.3333333333333333, \"#9c179e\"], [0.4444444444444444, \"#bd3786\"], [0.5555555555555556, \"#d8576b\"], [0.6666666666666666, \"#ed7953\"], [0.7777777777777778, \"#fb9f3a\"], [0.8888888888888888, \"#fdca26\"], [1.0, \"#f0f921\"]], \"type\": \"histogram2dcontour\"}], \"mesh3d\": [{\"colorbar\": {\"outlinewidth\": 0, \"ticks\": \"\"}, \"type\": \"mesh3d\"}], \"parcoords\": [{\"line\": {\"colorbar\": {\"outlinewidth\": 0, \"ticks\": \"\"}}, \"type\": \"parcoords\"}], \"pie\": [{\"automargin\": true, \"type\": \"pie\"}], \"scatter\": [{\"marker\": {\"colorbar\": {\"outlinewidth\": 0, \"ticks\": \"\"}}, \"type\": \"scatter\"}], \"scatter3d\": [{\"line\": {\"colorbar\": {\"outlinewidth\": 0, \"ticks\": \"\"}}, \"marker\": {\"colorbar\": {\"outlinewidth\": 0, \"ticks\": \"\"}}, \"type\": \"scatter3d\"}], \"scattercarpet\": [{\"marker\": {\"colorbar\": {\"outlinewidth\": 0, \"ticks\": \"\"}}, \"type\": \"scattercarpet\"}], \"scattergeo\": [{\"marker\": {\"colorbar\": {\"outlinewidth\": 0, \"ticks\": \"\"}}, \"type\": \"scattergeo\"}], \"scattergl\": [{\"marker\": {\"colorbar\": {\"outlinewidth\": 0, \"ticks\": \"\"}}, \"type\": \"scattergl\"}], \"scattermapbox\": [{\"marker\": {\"colorbar\": {\"outlinewidth\": 0, \"ticks\": \"\"}}, \"type\": \"scattermapbox\"}], \"scatterpolar\": [{\"marker\": {\"colorbar\": {\"outlinewidth\": 0, \"ticks\": \"\"}}, \"type\": \"scatterpolar\"}], \"scatterpolargl\": [{\"marker\": {\"colorbar\": {\"outlinewidth\": 0, \"ticks\": \"\"}}, \"type\": \"scatterpolargl\"}], \"scatterternary\": [{\"marker\": {\"colorbar\": {\"outlinewidth\": 0, \"ticks\": \"\"}}, \"type\": \"scatterternary\"}], \"surface\": [{\"colorbar\": {\"outlinewidth\": 0, \"ticks\": \"\"}, \"colorscale\": [[0.0, \"#0d0887\"], [0.1111111111111111, \"#46039f\"], [0.2222222222222222, \"#7201a8\"], [0.3333333333333333, \"#9c179e\"], [0.4444444444444444, \"#bd3786\"], [0.5555555555555556, \"#d8576b\"], [0.6666666666666666, \"#ed7953\"], [0.7777777777777778, \"#fb9f3a\"], [0.8888888888888888, \"#fdca26\"], [1.0, \"#f0f921\"]], \"type\": \"surface\"}], \"table\": [{\"cells\": {\"fill\": {\"color\": \"#EBF0F8\"}, \"line\": {\"color\": \"white\"}}, \"header\": {\"fill\": {\"color\": \"#C8D4E3\"}, \"line\": {\"color\": \"white\"}}, \"type\": \"table\"}]}, \"layout\": {\"annotationdefaults\": {\"arrowcolor\": \"#2a3f5f\", \"arrowhead\": 0, \"arrowwidth\": 1}, \"autotypenumbers\": \"strict\", \"coloraxis\": {\"colorbar\": {\"outlinewidth\": 0, \"ticks\": \"\"}}, \"colorscale\": {\"diverging\": [[0, \"#8e0152\"], [0.1, \"#c51b7d\"], [0.2, \"#de77ae\"], [0.3, \"#f1b6da\"], [0.4, \"#fde0ef\"], [0.5, \"#f7f7f7\"], [0.6, \"#e6f5d0\"], [0.7, \"#b8e186\"], [0.8, \"#7fbc41\"], [0.9, \"#4d9221\"], [1, \"#276419\"]], \"sequential\": [[0.0, \"#0d0887\"], [0.1111111111111111, \"#46039f\"], [0.2222222222222222, \"#7201a8\"], [0.3333333333333333, \"#9c179e\"], [0.4444444444444444, \"#bd3786\"], [0.5555555555555556, \"#d8576b\"], [0.6666666666666666, \"#ed7953\"], [0.7777777777777778, \"#fb9f3a\"], [0.8888888888888888, \"#fdca26\"], [1.0, \"#f0f921\"]], \"sequentialminus\": [[0.0, \"#0d0887\"], [0.1111111111111111, \"#46039f\"], [0.2222222222222222, \"#7201a8\"], [0.3333333333333333, \"#9c179e\"], [0.4444444444444444, \"#bd3786\"], [0.5555555555555556, \"#d8576b\"], [0.6666666666666666, \"#ed7953\"], [0.7777777777777778, \"#fb9f3a\"], [0.8888888888888888, \"#fdca26\"], [1.0, \"#f0f921\"]]}, \"colorway\": [\"#636efa\", \"#EF553B\", \"#00cc96\", \"#ab63fa\", \"#FFA15A\", \"#19d3f3\", \"#FF6692\", \"#B6E880\", \"#FF97FF\", \"#FECB52\"], \"font\": {\"color\": \"#2a3f5f\"}, \"geo\": {\"bgcolor\": \"white\", \"lakecolor\": \"white\", \"landcolor\": \"#E5ECF6\", \"showlakes\": true, \"showland\": true, \"subunitcolor\": \"white\"}, \"hoverlabel\": {\"align\": \"left\"}, \"hovermode\": \"closest\", \"mapbox\": {\"style\": \"light\"}, \"paper_bgcolor\": \"white\", \"plot_bgcolor\": \"#E5ECF6\", \"polar\": {\"angularaxis\": {\"gridcolor\": \"white\", \"linecolor\": \"white\", \"ticks\": \"\"}, \"bgcolor\": \"#E5ECF6\", \"radialaxis\": {\"gridcolor\": \"white\", \"linecolor\": \"white\", \"ticks\": \"\"}}, \"scene\": {\"xaxis\": {\"backgroundcolor\": \"#E5ECF6\", \"gridcolor\": \"white\", \"gridwidth\": 2, \"linecolor\": \"white\", \"showbackground\": true, \"ticks\": \"\", \"zerolinecolor\": \"white\"}, \"yaxis\": {\"backgroundcolor\": \"#E5ECF6\", \"gridcolor\": \"white\", \"gridwidth\": 2, \"linecolor\": \"white\", \"showbackground\": true, \"ticks\": \"\", \"zerolinecolor\": \"white\"}, \"zaxis\": {\"backgroundcolor\": \"#E5ECF6\", \"gridcolor\": \"white\", \"gridwidth\": 2, \"linecolor\": \"white\", \"showbackground\": true, \"ticks\": \"\", \"zerolinecolor\": \"white\"}}, \"shapedefaults\": {\"line\": {\"color\": \"#2a3f5f\"}}, \"ternary\": {\"aaxis\": {\"gridcolor\": \"white\", \"linecolor\": \"white\", \"ticks\": \"\"}, \"baxis\": {\"gridcolor\": \"white\", \"linecolor\": \"white\", \"ticks\": \"\"}, \"bgcolor\": \"#E5ECF6\", \"caxis\": {\"gridcolor\": \"white\", \"linecolor\": \"white\", \"ticks\": \"\"}}, \"title\": {\"x\": 0.05}, \"xaxis\": {\"automargin\": true, \"gridcolor\": \"white\", \"linecolor\": \"white\", \"ticks\": \"\", \"title\": {\"standoff\": 15}, \"zerolinecolor\": \"white\", \"zerolinewidth\": 2}, \"yaxis\": {\"automargin\": true, \"gridcolor\": \"white\", \"linecolor\": \"white\", \"ticks\": \"\", \"title\": {\"standoff\": 15}, \"zerolinecolor\": \"white\", \"zerolinewidth\": 2}}}},                        {\"responsive\": true}                    ).then(function(){\n",
       "                            \n",
       "var gd = document.getElementById('3cf6ce09-aae1-40bf-a167-29018c65a981');\n",
       "var x = new MutationObserver(function (mutations, observer) {{\n",
       "        var display = window.getComputedStyle(gd).display;\n",
       "        if (!display || display === 'none') {{\n",
       "            console.log([gd, 'removed!']);\n",
       "            Plotly.purge(gd);\n",
       "            observer.disconnect();\n",
       "        }}\n",
       "}});\n",
       "\n",
       "// Listen for the removal of the full notebook cells\n",
       "var notebookContainer = gd.closest('#notebook-container');\n",
       "if (notebookContainer) {{\n",
       "    x.observe(notebookContainer, {childList: true});\n",
       "}}\n",
       "\n",
       "// Listen for the clearing of the current output cell\n",
       "var outputEl = gd.closest('.output');\n",
       "if (outputEl) {{\n",
       "    x.observe(outputEl, {childList: true});\n",
       "}}\n",
       "\n",
       "                        })                };                });            </script>        </div>"
      ]
     },
     "metadata": {},
     "output_type": "display_data"
    }
   ],
   "source": [
    "import plotly.graph_objects as go\n",
    "fig = go.Figure(data=[\n",
    "    go.Bar(name='Morning ratio', x=forplot.index, y=forplot['Morning Ratio']),\n",
    "    go.Bar(name='Day ratio', x=forplot.index, y=forplot['Day Ratio']),\n",
    "    go.Bar(name='Eveming ratio', x=forplot.index, y=forplot['Ev  Ratio']),\n",
    "])\n",
    "# Change the bar mode\n",
    "fig.update_layout(barmode='group')\n",
    "fig.show()"
   ]
  },
  {
   "cell_type": "code",
   "execution_count": 291,
   "metadata": {},
   "outputs": [
    {
     "ename": "SpecificationError",
     "evalue": "Column(s) ['Price_x'] do not exist",
     "output_type": "error",
     "traceback": [
      "\u001b[1;31m---------------------------------------------------------------------------\u001b[0m",
      "\u001b[1;31mSpecificationError\u001b[0m                        Traceback (most recent call last)",
      "\u001b[1;32m<ipython-input-291-1fb01847de1a>\u001b[0m in \u001b[0;36m<module>\u001b[1;34m\u001b[0m\n\u001b[1;32m----> 1\u001b[1;33m \u001b[0mtest\u001b[0m \u001b[1;33m=\u001b[0m \u001b[0mlogs\u001b[0m\u001b[1;33m.\u001b[0m\u001b[0mset_index\u001b[0m\u001b[1;33m(\u001b[0m\u001b[1;34m'index'\u001b[0m\u001b[1;33m)\u001b[0m\u001b[1;33m.\u001b[0m\u001b[0mresample\u001b[0m\u001b[1;33m(\u001b[0m\u001b[0mstr\u001b[0m\u001b[1;33m(\u001b[0m\u001b[0ma\u001b[0m\u001b[1;33m)\u001b[0m\u001b[1;33m+\u001b[0m\u001b[1;34m'Min'\u001b[0m\u001b[1;33m)\u001b[0m\u001b[1;33m.\u001b[0m\u001b[0magg\u001b[0m\u001b[1;33m(\u001b[0m\u001b[1;33m{\u001b[0m\u001b[1;34m'Price_x'\u001b[0m\u001b[1;33m:\u001b[0m\u001b[1;34m'ohlc'\u001b[0m\u001b[1;33m,\u001b[0m \u001b[1;34m'size'\u001b[0m\u001b[1;33m:\u001b[0m\u001b[1;34m'sum'\u001b[0m\u001b[1;33m,\u001b[0m \u001b[1;34m'Road'\u001b[0m\u001b[1;33m:\u001b[0m\u001b[1;34m'sum'\u001b[0m\u001b[1;33m}\u001b[0m\u001b[1;33m)\u001b[0m\u001b[1;33m\u001b[0m\u001b[1;33m\u001b[0m\u001b[0m\n\u001b[0m\u001b[0;32m      2\u001b[0m \u001b[1;33m\u001b[0m\u001b[0m\n\u001b[0;32m      3\u001b[0m \u001b[0mtest\u001b[0m\u001b[1;33m[\u001b[0m\u001b[1;34m'time'\u001b[0m\u001b[1;33m]\u001b[0m \u001b[1;33m=\u001b[0m \u001b[0mtest\u001b[0m\u001b[1;33m.\u001b[0m\u001b[0mindex\u001b[0m\u001b[1;33m.\u001b[0m\u001b[0mtime\u001b[0m\u001b[1;33m\u001b[0m\u001b[1;33m\u001b[0m\u001b[0m\n\u001b[0;32m      4\u001b[0m \u001b[0mtest\u001b[0m\u001b[1;33m[\u001b[0m\u001b[1;34m'date'\u001b[0m\u001b[1;33m]\u001b[0m \u001b[1;33m=\u001b[0m \u001b[0mtest\u001b[0m\u001b[1;33m.\u001b[0m\u001b[0mindex\u001b[0m\u001b[1;33m.\u001b[0m\u001b[0mdate\u001b[0m\u001b[1;33m\u001b[0m\u001b[1;33m\u001b[0m\u001b[0m\n\u001b[0;32m      5\u001b[0m \u001b[0mtest\u001b[0m \u001b[1;33m=\u001b[0m \u001b[0mtest\u001b[0m\u001b[1;33m.\u001b[0m\u001b[0mset_index\u001b[0m\u001b[1;33m(\u001b[0m\u001b[1;34m'date'\u001b[0m\u001b[1;33m)\u001b[0m\u001b[1;33m\u001b[0m\u001b[1;33m\u001b[0m\u001b[0m\n",
      "\u001b[1;32m~\\Anaconda3\\lib\\site-packages\\pandas\\core\\resample.py\u001b[0m in \u001b[0;36maggregate\u001b[1;34m(self, func, *args, **kwargs)\u001b[0m\n\u001b[0;32m    286\u001b[0m \u001b[1;33m\u001b[0m\u001b[0m\n\u001b[0;32m    287\u001b[0m         \u001b[0mself\u001b[0m\u001b[1;33m.\u001b[0m\u001b[0m_set_binner\u001b[0m\u001b[1;33m(\u001b[0m\u001b[1;33m)\u001b[0m\u001b[1;33m\u001b[0m\u001b[1;33m\u001b[0m\u001b[0m\n\u001b[1;32m--> 288\u001b[1;33m         \u001b[0mresult\u001b[0m\u001b[1;33m,\u001b[0m \u001b[0mhow\u001b[0m \u001b[1;33m=\u001b[0m \u001b[0mself\u001b[0m\u001b[1;33m.\u001b[0m\u001b[0m_aggregate\u001b[0m\u001b[1;33m(\u001b[0m\u001b[0mfunc\u001b[0m\u001b[1;33m,\u001b[0m \u001b[1;33m*\u001b[0m\u001b[0margs\u001b[0m\u001b[1;33m,\u001b[0m \u001b[1;33m**\u001b[0m\u001b[0mkwargs\u001b[0m\u001b[1;33m)\u001b[0m\u001b[1;33m\u001b[0m\u001b[1;33m\u001b[0m\u001b[0m\n\u001b[0m\u001b[0;32m    289\u001b[0m         \u001b[1;32mif\u001b[0m \u001b[0mresult\u001b[0m \u001b[1;32mis\u001b[0m \u001b[1;32mNone\u001b[0m\u001b[1;33m:\u001b[0m\u001b[1;33m\u001b[0m\u001b[1;33m\u001b[0m\u001b[0m\n\u001b[0;32m    290\u001b[0m             \u001b[0mhow\u001b[0m \u001b[1;33m=\u001b[0m \u001b[0mfunc\u001b[0m\u001b[1;33m\u001b[0m\u001b[1;33m\u001b[0m\u001b[0m\n",
      "\u001b[1;32m~\\Anaconda3\\lib\\site-packages\\pandas\\core\\base.py\u001b[0m in \u001b[0;36m_aggregate\u001b[1;34m(self, arg, *args, **kwargs)\u001b[0m\n\u001b[0;32m    352\u001b[0m                 ) != len(keys):\n\u001b[0;32m    353\u001b[0m                     \u001b[0mcols\u001b[0m \u001b[1;33m=\u001b[0m \u001b[0msorted\u001b[0m\u001b[1;33m(\u001b[0m\u001b[0mset\u001b[0m\u001b[1;33m(\u001b[0m\u001b[0mkeys\u001b[0m\u001b[1;33m)\u001b[0m \u001b[1;33m-\u001b[0m \u001b[0mset\u001b[0m\u001b[1;33m(\u001b[0m\u001b[0mobj\u001b[0m\u001b[1;33m.\u001b[0m\u001b[0mcolumns\u001b[0m\u001b[1;33m.\u001b[0m\u001b[0mintersection\u001b[0m\u001b[1;33m(\u001b[0m\u001b[0mkeys\u001b[0m\u001b[1;33m)\u001b[0m\u001b[1;33m)\u001b[0m\u001b[1;33m)\u001b[0m\u001b[1;33m\u001b[0m\u001b[1;33m\u001b[0m\u001b[0m\n\u001b[1;32m--> 354\u001b[1;33m                     \u001b[1;32mraise\u001b[0m \u001b[0mSpecificationError\u001b[0m\u001b[1;33m(\u001b[0m\u001b[1;34mf\"Column(s) {cols} do not exist\"\u001b[0m\u001b[1;33m)\u001b[0m\u001b[1;33m\u001b[0m\u001b[1;33m\u001b[0m\u001b[0m\n\u001b[0m\u001b[0;32m    355\u001b[0m \u001b[1;33m\u001b[0m\u001b[0m\n\u001b[0;32m    356\u001b[0m             \u001b[1;32mfrom\u001b[0m \u001b[0mpandas\u001b[0m\u001b[1;33m.\u001b[0m\u001b[0mcore\u001b[0m\u001b[1;33m.\u001b[0m\u001b[0mreshape\u001b[0m\u001b[1;33m.\u001b[0m\u001b[0mconcat\u001b[0m \u001b[1;32mimport\u001b[0m \u001b[0mconcat\u001b[0m\u001b[1;33m\u001b[0m\u001b[1;33m\u001b[0m\u001b[0m\n",
      "\u001b[1;31mSpecificationError\u001b[0m: Column(s) ['Price_x'] do not exist"
     ]
    }
   ],
   "source": [
    "test = logs.set_index('index').resample(str(a)+'Min').agg({'Price_x':'ohlc', 'size':'sum', 'Road':'sum'})\n",
    "\n",
    "test['time'] = test.index.time\n",
    "test['date'] = test.index.date\n",
    "test = test.set_index('date')\n",
    "\n",
    "iii = 0\n",
    "#отрисовать\n",
    "for test_dat in list(set(test.index)):\n",
    "    iii += 1\n",
    "    if iii > 6:\n",
    "        break\n",
    "    try:\n",
    "        dat = test_dat      \n",
    "\n",
    "        test.loc[dat].dropna().iloc[0]\n",
    "\n",
    "        fig = make_subplots(rows=3, cols=1, shared_xaxes=True)\n",
    "\n",
    "        fig.append_trace(go.Candlestick(x=test.loc[dat].dropna().time,\n",
    "                        open=test.loc[dat].dropna().Price_x.open*10000, high=test.loc[dat].dropna().price_x.open*10000,\n",
    "                        low=test.loc[dat].dropna().Price_x.close*10000, close=test.loc[dat].dropna().price_x.close*10000, name=\"Mean in Bucket - MeanDay Yeild\"),\n",
    "                        row=1,col=1)\n",
    "\n",
    "        fig.append_trace(go.Scatter(x=test.loc[dat].dropna().time, y=test.loc[dat].dropna().Road.Road.cumsum(),name=\"BullBear Rate\"),\n",
    "                        row=2,col=1)\n",
    "\n",
    "        fig.append_trace(go.Bar(x=test.loc[dat].dropna().time, y=test.loc[dat].dropna()['size']['size'], name='Volume'),\n",
    "                        row=3,col=1)\n",
    "        fig.update_layout(\n",
    "            xaxis_rangeslider_visible=False,\n",
    "            height=800,\n",
    "        #    showlegend=False,\n",
    "            title_text='Sample ' + str(dat),\n",
    "        )\n",
    "        fig.show()\n",
    "    except:\n",
    "        pass"
   ]
  },
  {
   "cell_type": "code",
   "execution_count": null,
   "metadata": {},
   "outputs": [],
   "source": [
    "gl.Benchmark(OFZ228)"
   ]
  },
  {
   "cell_type": "code",
   "execution_count": null,
   "metadata": {},
   "outputs": [],
   "source": [
    "def weighted_average(group):\n",
    "    weights = group['Volume']\n",
    "    price = group['Price']   \n",
    "    return np.average(price,weights=weights)\n",
    "\n",
    "def BucketMED(x):\n",
    "    if x.hour < 11:\n",
    "        return 'Morning'\n",
    "    if x.hour >= 17:\n",
    "        return 'Evening'\n",
    "    return 'Day'   \n",
    "\n",
    "def applyBear(x):\n",
    "    if x.bid == x.price:\n",
    "        return -x.volume * x.price\n",
    "    elif x.Bid_prev == x.Price:\n",
    "        return -x.volume * x.price\n",
    "    else:\n",
    "        return 0\n",
    "        \n",
    "def applyBull(x):\n",
    "    if x.ask == x.price:\n",
    "        return x.price\n",
    "    elif x.ask_prev == x.price:\n",
    "        return x.volume * x.price\n",
    "    else:\n",
    "        return 0\n",
    "    \n",
    "def BucketbyTime(x):\n",
    "    for b, i in zip(buck[1:len(buck)], np.arange(len(buck))):\n",
    "        if x.hour == int(b):\n",
    "            if x.minute <= (b - int(b))*60:\n",
    "                return i\n",
    "        elif x.hour < int(b):\n",
    "            return i"
   ]
  }
 ],
 "metadata": {
  "kernelspec": {
   "display_name": "Python 3",
   "language": "python",
   "name": "python3"
  },
  "language_info": {
   "codemirror_mode": {
    "name": "ipython",
    "version": 3
   },
   "file_extension": ".py",
   "mimetype": "text/x-python",
   "name": "python",
   "nbconvert_exporter": "python",
   "pygments_lexer": "ipython3",
   "version": "3.8.5"
  }
 },
 "nbformat": 4,
 "nbformat_minor": 4
}
