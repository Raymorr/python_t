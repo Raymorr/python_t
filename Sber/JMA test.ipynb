{
 "cells": [
  {
   "cell_type": "code",
   "execution_count": 1,
   "metadata": {},
   "outputs": [],
   "source": [
    "import pandas as pd\n",
    "import matplotlib.pyplot as plt\n",
    "import numpy as np\n",
    "from math import log\n",
    "import matplotlib \n",
    "matplotlib.rc('xtick', labelsize=20) \n",
    "matplotlib.rc('ytick', labelsize=20) "
   ]
  },
  {
   "cell_type": "code",
   "execution_count": 18,
   "metadata": {},
   "outputs": [
    {
     "data": {
      "text/plain": [
       "dict_values(['a', 'b'])"
      ]
     },
     "execution_count": 18,
     "metadata": {},
     "output_type": "execute_result"
    }
   ],
   "source": [
    "d = dict()\n",
    "\n",
    "d[1] = 'a'\n",
    "d[2] = 'b'\n",
    "\n",
    "d.values()"
   ]
  },
  {
   "cell_type": "code",
   "execution_count": 27,
   "metadata": {},
   "outputs": [
    {
     "data": {
      "text/plain": [
       "dict_keys([1, 2])"
      ]
     },
     "execution_count": 27,
     "metadata": {},
     "output_type": "execute_result"
    }
   ],
   "source": [
    "d.keys()"
   ]
  },
  {
   "cell_type": "code",
   "execution_count": 5,
   "metadata": {},
   "outputs": [],
   "source": [
    "s = \"A man, a plan, a canal: Panama\""
   ]
  },
  {
   "cell_type": "code",
   "execution_count": 17,
   "metadata": {},
   "outputs": [
    {
     "data": {
      "text/plain": [
       "'amanaplanacanalpanama'"
      ]
     },
     "execution_count": 17,
     "metadata": {},
     "output_type": "execute_result"
    }
   ],
   "source": [
    "\"\".join(char.lower() for char in s if char.isalnum())"
   ]
  },
  {
   "cell_type": "code",
   "execution_count": 13,
   "metadata": {},
   "outputs": [
    {
     "data": {
      "text/plain": [
       "'amanaplanacanalpanama'"
      ]
     },
     "execution_count": 13,
     "metadata": {},
     "output_type": "execute_result"
    }
   ],
   "source": [
    "re.sub('[^a-z\\d]+','',s.lower())"
   ]
  },
  {
   "cell_type": "code",
   "execution_count": 7,
   "metadata": {},
   "outputs": [
    {
     "data": {
      "text/plain": [
       "False"
      ]
     },
     "execution_count": 7,
     "metadata": {},
     "output_type": "execute_result"
    }
   ],
   "source": [
    "s == s[::-1]"
   ]
  },
  {
   "cell_type": "markdown",
   "metadata": {},
   "source": [
    "# Parameters "
   ]
  },
  {
   "cell_type": "code",
   "execution_count": 2,
   "metadata": {},
   "outputs": [],
   "source": [
    "# First part - default params\n",
    "share = \"TATN\"\n",
    "date = \"20150310\"\n",
    "tick = 5\n",
    "phase_param = 1.5"
   ]
  },
  {
   "cell_type": "code",
   "execution_count": 3,
   "metadata": {},
   "outputs": [
    {
     "data": {
      "text/plain": [
       "[3, 6, 9]"
      ]
     },
     "execution_count": 3,
     "metadata": {},
     "output_type": "execute_result"
    }
   ],
   "source": [
    "# Second part - optimization for hard jma\n",
    "tick_list = list(range(3, 12, 3))\n",
    "phase_param_list = [0.5, 1.5, 2.5]\n",
    "tick_list"
   ]
  },
  {
   "cell_type": "code",
   "execution_count": 4,
   "metadata": {},
   "outputs": [],
   "source": [
    "test_data_1 = [4, 5, 6, 7, 8, 9, 10]\n",
    "test_data_2 = [14, 15, 16, 17, 18, 19, 22] "
   ]
  },
  {
   "cell_type": "markdown",
   "metadata": {},
   "source": [
    "# Benchmarks and realization"
   ]
  },
  {
   "cell_type": "code",
   "execution_count": 5,
   "metadata": {},
   "outputs": [],
   "source": [
    "def jma(test, leng=10, phaseRatio=1):\n",
    "    length = len(test)\n",
    "    power = 1\n",
    "\n",
    "    beta = 0.45 * (length - 1) / (0.45 * (length - 1) + 2)\n",
    "    alpha = pow(beta, power)\n",
    "    jma = test[-1]\n",
    "\n",
    "    e0 = jma\n",
    "    e1 = 0.0\n",
    "    e2 = 0.0\n",
    "    test = test[-leng:]\n",
    "    #print(test)\n",
    "    #print(\"precalc\", alpha, beta, phaseRatio)\n",
    "    for trade in test:\n",
    "        e0 = (1 - alpha) * trade + alpha * e0\n",
    "        e1 = (trade - e0) * (1 - beta) + beta * e1\n",
    "        e2 = (e0 + phaseRatio * e1 - jma) * pow(1 - alpha, 2) + pow(alpha, 2) * e2\n",
    "        jma = e2 + jma\n",
    "    return jma\n",
    "\n",
    "def sma(data):\n",
    "    return np.array(data).mean()\n",
    "\n",
    "\n",
    "def wma(data):\n",
    "    leng = len(data)\n",
    "    weights = np.arange(1, leng + 1)\n",
    "    wmas = (np.array(data) * weights) / weights.sum()\n",
    "    return wmas.sum()\n",
    "\n",
    "\n",
    "def ema(data):\n",
    "    values = pd.DataFrame(np.array(data))\n",
    "    return round(values.ewm(span=10).mean().iat[-1, 0], 1)"
   ]
  },
  {
   "cell_type": "code",
   "execution_count": 6,
   "metadata": {},
   "outputs": [
    {
     "data": {
      "text/plain": [
       "(7.630720480065019, 7.0, 8.0, 7.8)"
      ]
     },
     "execution_count": 6,
     "metadata": {},
     "output_type": "execute_result"
    }
   ],
   "source": [
    "jma(test_data_1), sma(test_data_1), wma(test_data_1), ema(test_data_1)"
   ]
  },
  {
   "cell_type": "code",
   "execution_count": 7,
   "metadata": {},
   "outputs": [
    {
     "data": {
      "text/plain": [
       "(17.979747611897174, 17.285714285714285, 18.5, 18.3)"
      ]
     },
     "execution_count": 7,
     "metadata": {},
     "output_type": "execute_result"
    }
   ],
   "source": [
    "jma(test_data_2), sma(test_data_2), wma(test_data_2), ema(test_data_2)"
   ]
  },
  {
   "cell_type": "markdown",
   "metadata": {},
   "source": []
  },
  {
   "cell_type": "code",
   "execution_count": 94,
   "metadata": {},
   "outputs": [],
   "source": [
    "\n",
    "fol = pd.read_csv(\"../MOEX/OrderLog\" + date + \"/TradeLog\" + date + \".txt\", sep=',')\n",
    "test_data_1 = fol[fol[\"SECCODE\"] == share]"
   ]
  },
  {
   "cell_type": "code",
   "execution_count": 95,
   "metadata": {},
   "outputs": [
    {
     "data": {
      "text/plain": [
       "251    296.40\n",
       "404    296.40\n",
       "405    296.45\n",
       "604    296.45\n",
       "664    296.45\n",
       "Name: PRICE, dtype: float64"
      ]
     },
     "execution_count": 95,
     "metadata": {},
     "output_type": "execute_result"
    }
   ],
   "source": [
    "test_data_1 = fol[fol[\"SECCODE\"] == share]\n",
    "#tatn = tatn[tatn[\"ACTION\"] == 2]\n",
    "#test_data_1 = test_data_1[test_data_1[\"TIME\"] < 100050]\n",
    "test_data_1 = test_data_1[test_data_1[\"PRICE\"] != 0.0]\n",
    "test_data_1 = test_data_1[\"PRICE\"]\n",
    "test_data_1.head()"
   ]
  },
  {
   "cell_type": "markdown",
   "metadata": {},
   "source": [
    "# Hard JMA Version"
   ]
  },
  {
   "cell_type": "code",
   "execution_count": 96,
   "metadata": {},
   "outputs": [],
   "source": [
    "class Jma_hard:\n",
    "    def __init__(self, avg_len=65, jma_leng=12, phase_param=1, avg_vol_len=10):\n",
    "        # first initialization\n",
    "        self.avg_len = avg_len\n",
    "        self.jma_leng = jma_leng\n",
    "        self.phase_param = phase_param\n",
    "        self.avg_vol_len = avg_vol_len\n",
    "        self.len_0 = (jma_leng - 1) / 2\n",
    "        self.len_1 = max(log(self.len_0) / (2 * log(2)) + 2, 0)\n",
    "        self.len_2 = self.len_1 * (self.len_0 ** 0.5)\n",
    "        self.beta_2 = self.len_2 / (self.len_2 + 1)\n",
    "        self.kv = self.beta_2\n",
    "        self.pow_1 = max(self.len_1 - 2, 0.5)\n",
    "        self.beta = 0.45 *(self.jma_leng - 1) / (0.45 * (self.jma_leng - 1) + 2)\n",
    "        self.alpha = self.beta\n",
    "        #self.upper_band, self.lower_band, self.m1, self.m2, self.jma = test[0], test[0], test[0], test[0], test[0]\n",
    "        self.initialized = False\n",
    "        self.delta_1, self.delta_2, self.volty, self.v_sum, self.avg_volty, self.t0, self.t1 = 0, 0, 0, 0, 0, 0, 0\n",
    "        self.r_volty, self.power = 1, 1\n",
    "        self.volty_history = [0]\n",
    "    \n",
    "    \n",
    "    def iterate_by_test_data(self, test):\n",
    "        output = []\n",
    "        for price in test:\n",
    "            output.append(self.calc_jma(price))\n",
    "        return output\n",
    "            \n",
    "    \n",
    "    def calc_jma(self, price):\n",
    "        if not self.initialized:\n",
    "            self.initialized = True\n",
    "            self.upper_band, self.lower_band, self.m1, self.m2, self.jma = price, price, price, price, price\n",
    "        self.delta_1 = price - self.upper_band\n",
    "        self.delta_2 = price - self.lower_band\n",
    "        if abs(self.delta_1) == abs(self.delta_2):\n",
    "            volty = 0\n",
    "        else:\n",
    "            volty = max(abs(self.delta_1), abs(self.delta_2))\n",
    "        self.volty_history.append(volty)\n",
    "        self.v_sum = np.array(self.volty_history[-10:]).mean()\n",
    "        self.avg_volty = self.avg_volty + 2 * (self.v_sum - self.avg_volty) / (self.avg_len + 1)\n",
    "        if self.avg_volty > 0:\n",
    "            self.r_volty = max(min(volty / self.avg_volty, self.len_1 ** (1 / self.pow_1)), 1)\n",
    "        else:\n",
    "            self.r_volty = 1\n",
    "        self.power = self.r_volty ** self.pow_1\n",
    "        self.alpha = self.beta ** self.power\n",
    "        self.kv = self.beta_2 ** (self.power ** 0.5)\n",
    "        \n",
    "        if self.delta_2 < 0:\n",
    "            self.lower_band = price\n",
    "        else:\n",
    "            self.lower_band = price - self.kv * self.delta_2\n",
    "        if self.delta_1 > 0:\n",
    "            self.upper_band = price\n",
    "        else:\n",
    "            self.upper_band = price - self.kv * self.delta_1\n",
    "            \n",
    "        self.m1 = (1 - self.alpha) * price + self.alpha * self.m1\n",
    "        self.t0 = (price - self.m1) * (1 - self.beta) + (self.beta * self.t0)\n",
    "        self.m2 = self.m1 + self.t0 * self.phase_param\n",
    "        self.t1 = (self.m2 - self.jma) * (1 - self.alpha) * (1 - self.alpha) + (self.alpha ** 2) * self.t1\n",
    "        self.jma = self.jma + self.t1\n",
    "        return self.jma\n"
   ]
  },
  {
   "cell_type": "code",
   "execution_count": 98,
   "metadata": {},
   "outputs": [],
   "source": [
    "def get_diff(ma_data, price, period):\n",
    "    return (ma_data - price.shift(periods=period)).abs().sum()"
   ]
  },
  {
   "cell_type": "code",
   "execution_count": 154,
   "metadata": {},
   "outputs": [],
   "source": [
    "def create_graph(dict_of_result, price, period, tick, title='Absolute difference sum between MA price and forward price by period ' + str(period) \\\n",
    "              + \", MA ticks - \" + str(tick)):\n",
    "    result_lst = []\n",
    "    for res in dict_of_result:\n",
    "        result_lst.append(get_diff(dict_of_result[res], price, period))\n",
    "    candidate_names = np.array(list(dict_of_result.keys()))\n",
    "    result_lst = np.array(result_lst)\n",
    "    sorted_index =  np.argsort(result_lst)\n",
    "    plt.bar(candidate_names[sorted_index], result_lst[sorted_index])\n",
    "    plt.title(title, fontsize=20)\n",
    "    plt.xticks(rotation=90)\n",
    "    plt.show()\n",
    "    return result_lst"
   ]
  },
  {
   "cell_type": "code",
   "execution_count": 155,
   "metadata": {},
   "outputs": [
    {
     "data": {
      "text/plain": [
       "913.6499999999967"
      ]
     },
     "execution_count": 155,
     "metadata": {},
     "output_type": "execute_result"
    }
   ],
   "source": [
    "get_diff(test_data_1, test_data_1, 1)"
   ]
  },
  {
   "cell_type": "code",
   "execution_count": 156,
   "metadata": {},
   "outputs": [],
   "source": [
    "data = list(test_data_1)\n",
    "price_list = []\n",
    "ema_list = []\n",
    "sma_list = []\n",
    "wma_list = []\n",
    "jma_light_list = []\n",
    "\n",
    "for i in range(len(data)):\n",
    "    price_list.append(data[i])\n",
    "    ema_list.append(ema(data[max(0,i - tick):i + 1]))\n",
    "    sma_list.append(sma(data[max(0,i - tick):i + 1]))\n",
    "    wma_list.append(wma(data[max(0,i - tick):i + 1]))\n",
    "    jma_light_list.append(jma(data[max(0,i - tick):i + 1]))\n",
    "    \n",
    "hard_jma = Jma_hard(jma_leng=tick, avg_len=65, phase_param=phase_param, avg_vol_len=10)\n",
    "\n",
    "hard_jma_res = hard_jma.iterate_by_test_data(test_data_1)"
   ]
  },
  {
   "cell_type": "code",
   "execution_count": 157,
   "metadata": {},
   "outputs": [
    {
     "data": {
      "image/png": "[encoded data removed]",
      "text/plain": [
       "<Figure size 1600x480 with 1 Axes>"
      ]
     },
     "metadata": {
      "needs_background": "light"
     },
     "output_type": "display_data"
    }
   ],
   "source": [
    "period = 1\n",
    "plt.figure(figsize=(20, 6), dpi=80)\n",
    "candidates = {\"SMA\": sma_list,\n",
    "             \"WMA\": wma_list,\n",
    "             \"EMA\": ema_list,\n",
    "             \"JMA basic\": jma_light_list,\n",
    "             \"JMA volty\": hard_jma_res,\n",
    "             \"Last Price\": test_data_1}\n",
    "res = create_graph(candidates, test_data_1, period, tick)"
   ]
  },
  {
   "cell_type": "code",
   "execution_count": 3,
   "metadata": {},
   "outputs": [
    {
     "name": "stdout",
     "output_type": "stream",
     "text": [
      "0 0\n",
      "1 1\n",
      "2 2\n",
      "3 3\n",
      "4 4\n"
     ]
    }
   ],
   "source": [
    "for i, j in zip(range(5), range(5)):\n",
    "    print(i, j)"
   ]
  },
  {
   "cell_type": "markdown",
   "metadata": {},
   "source": [
    "# Optimization part"
   ]
  },
  {
   "cell_type": "code",
   "execution_count": 158,
   "metadata": {},
   "outputs": [],
   "source": [
    "candidates = dict()"
   ]
  },
  {
   "cell_type": "code",
   "execution_count": 159,
   "metadata": {},
   "outputs": [],
   "source": [
    "for tick in tick_list:\n",
    "    for phase_param in phase_param_list:\n",
    "        hard_jma = Jma_hard(jma_leng=tick, avg_len=65, phase_param=phase_param, avg_vol_len=10)\n",
    "        candidates[\"tick - \" + str(tick) + \",phase - \" + str(phase_param)] = hard_jma.iterate_by_test_data(test_data_1)"
   ]
  },
  {
   "cell_type": "code",
   "execution_count": 160,
   "metadata": {},
   "outputs": [
    {
     "data": {
      "image/png": "[encoded data removed]",
      "text/plain": [
       "<Figure size 1600x480 with 1 Axes>"
      ]
     },
     "metadata": {
      "needs_background": "light"
     },
     "output_type": "display_data"
    }
   ],
   "source": [
    "plt.figure(figsize=(20, 6), dpi=80)\n",
    "res = create_graph(candidates, test_data_1, period, tick, title=\"Optimization result\")"
   ]
  },
  {
   "cell_type": "code",
   "execution_count": null,
   "metadata": {},
   "outputs": [],
   "source": []
  },
  {
   "cell_type": "code",
   "execution_count": null,
   "metadata": {},
   "outputs": [],
   "source": []
  }
 ],
 "metadata": {
  "kernelspec": {
   "display_name": "Python 3",
   "language": "python",
   "name": "python3"
  },
  "language_info": {
   "codemirror_mode": {
    "name": "ipython",
    "version": 3
   },
   "file_extension": ".py",
   "mimetype": "text/x-python",
   "name": "python",
   "nbconvert_exporter": "python",
   "pygments_lexer": "ipython3",
   "version": "3.8.5"
  }
 },
 "nbformat": 4,
 "nbformat_minor": 4
}
