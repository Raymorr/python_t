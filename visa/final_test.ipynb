{
 "cells": [
  {
   "cell_type": "code",
   "execution_count": 4,
   "metadata": {},
   "outputs": [
    {
     "ename": "ModuleNotFoundError",
     "evalue": "No module named 'catboost'",
     "output_type": "error",
     "traceback": [
      "\u001b[0;31m-----------------------------------------------------------------\u001b[0m",
      "\u001b[0;31mModuleNotFoundError\u001b[0m             Traceback (most recent call last)",
      "\u001b[0;32m<ipython-input-4-6b0b208d4b26>\u001b[0m in \u001b[0;36m<module>\u001b[0;34m\u001b[0m\n\u001b[1;32m      9\u001b[0m \u001b[0;32mfrom\u001b[0m \u001b[0msklearn\u001b[0m\u001b[0;34m.\u001b[0m\u001b[0mmetrics\u001b[0m \u001b[0;32mimport\u001b[0m \u001b[0maccuracy_score\u001b[0m\u001b[0;34m\u001b[0m\u001b[0;34m\u001b[0m\u001b[0m\n\u001b[1;32m     10\u001b[0m \u001b[0;34m\u001b[0m\u001b[0m\n\u001b[0;32m---> 11\u001b[0;31m \u001b[0;32mfrom\u001b[0m \u001b[0mcatboost\u001b[0m \u001b[0;32mimport\u001b[0m \u001b[0mCatBoostClassifier\u001b[0m\u001b[0;34m\u001b[0m\u001b[0;34m\u001b[0m\u001b[0m\n\u001b[0m",
      "\u001b[0;31mModuleNotFoundError\u001b[0m: No module named 'catboost'"
     ]
    }
   ],
   "source": [
    "import pandas as pd\n",
    "import numpy as np\n",
    "import matplotlib.pyplot as plt\n",
    "from tqdm import tqdm_notebook as tqdm\n",
    "\n",
    "import matplotlib.pyplot as plt\n",
    "\n",
    "from sklearn.model_selection import train_test_split\n",
    "from sklearn.metrics import accuracy_score\n",
    "\n",
    "from catboost import CatBoostClassifier"
   ]
  },
  {
   "cell_type": "code",
   "execution_count": null,
   "metadata": {},
   "outputs": [],
   "source": []
  },
  {
   "cell_type": "code",
   "execution_count": null,
   "metadata": {},
   "outputs": [],
   "source": []
  },
  {
   "cell_type": "code",
   "execution_count": null,
   "metadata": {},
   "outputs": [],
   "source": [
    "df = pd.read_csv('/data/iipchelintsev/visa/TEST/featuresT.csv')"
   ]
  },
  {
   "cell_type": "code",
   "execution_count": 4,
   "metadata": {},
   "outputs": [],
   "source": [
    "import pickle\n",
    "with open('model.pickle', 'rb') as fin:\n",
    "    clf = pickle.load(fin)"
   ]
  },
  {
   "cell_type": "code",
   "execution_count": 46,
   "metadata": {},
   "outputs": [],
   "source": [
    "train = df.drop(columns=['target', 'date'])"
   ]
  },
  {
   "cell_type": "code",
   "execution_count": 47,
   "metadata": {},
   "outputs": [],
   "source": [
    "train = train[['rub_amt_month=1', 'rub_amt_month=10', 'rub_mean_month=1',\n",
    "       'rub_mean_month=3', 'rub_mean_month=5', 'rub_mean_month=11',\n",
    "       'rub_amt_category1=GROCERY STORES/SUPERMARKETS_month=1',\n",
    "       'rub_amt_category1=SERVICE STATIONS_month=1',\n",
    "       'rub_amt_category1=SPORTING GOODS STORES_month=1',\n",
    "       'rub_amt_category1=DRUG STORES & PHARMACIES_month=1',\n",
    "       'rub_amt_category1=FAST FOOD RESTAURANTS_month=1',\n",
    "       'rub_amt_category1=LODGING_month=1',\n",
    "       'rub_amt_category1=Eating places and restaurants_month=1',\n",
    "       'rub_amt_category1=BARS/TAVERNS/LOUNGES/DISCOS_month=1',\n",
    "       'rub_amt_category1=MISC APPAREL/ACCESS STORES_month=1',\n",
    "       'rub_amt_category1=\"PARKING LOTS,METERS,GARAGES\"_month=1',\n",
    "       'rub_amt_category1=BAKERIES_month=1',\n",
    "       'rub_amt_category1=FINANCIAL INST/AUTO CASH_month=1',\n",
    "       'rub_amt_category1=FAMILY CLOTHING STORES_month=1',\n",
    "       'rub_amt_category1=COSMETIC STORES_month=1',\n",
    "       'rub_amt_category1=TRAVEL AGENCIES_month=1',\n",
    "       'rub_amt_category1=DUTY FREE STORES_month=1',\n",
    "       'rub_amt_category1=TAXICABS/LIMOUSINES_month=1',\n",
    "       'rub_amt_category1=HEALTH & BEAUTY SPAS_month=1',\n",
    "       'rub_amt_category1=BOOK STORES_month=1',\n",
    "       'rub_amt_category1=DEPARTMENT STORES_month=1',\n",
    "       'rub_amt_category1=ALL AIRLINES_month=1',\n",
    "       'rub_amt_category1=LOCAL COMMUTER TRANSPORT_month=1',\n",
    "       'rub_amt_category1=BEAUTY/BARBER SHOPS_month=1',\n",
    "       'rub_amt_category1=THEATRICAL PRODUCERS_month=1',\n",
    "       'rub_amt_category1=SHOE STORES_month=1',\n",
    "       'rub_amt_category1=TOLLS AND BRIDGE FEES_month=1',\n",
    "       'rub_amt_category1=PASSENGER RAILWAYS_month=1',\n",
    "       'rub_amt_category1=AUTO RENTAL_month=1',\n",
    "       'rub_amt_category1=MEMBER CLUBS/SPORT/REC/GOLF_month=1',\n",
    "       'card_level=VISA SIGNATURE', 'card_level=VISA GOLD',\n",
    "       'card_level=VISA ELECTRON', 'card_level=0', 'card_level=1',\n",
    "       'card_level=2', 'card_level=4', 'card_level=5', 'card_level=6',\n",
    "       'card_level=7', 'card_level=8', 'card_level=9', 'card_level=10',\n",
    "       'card_level=11', 'card_level=12', 'card_level=13', 'card_level=14',\n",
    "       'card_level=15', 'card_level=16', 'card_level=17', 'card_level=20',\n",
    "       'trades_contr_month=1', 'trades_contr_month=3', 'trades_contr_month=5',\n",
    "       'trades_contr_month=11']]"
   ]
  },
  {
   "cell_type": "code",
   "execution_count": 1,
   "metadata": {},
   "outputs": [
    {
     "ename": "NameError",
     "evalue": "name 'train_test_split' is not defined",
     "output_type": "error",
     "traceback": [
      "\u001b[0;31m---------------------------------------------------------------------------\u001b[0m",
      "\u001b[0;31mNameError\u001b[0m                                 Traceback (most recent call last)",
      "\u001b[0;32m<ipython-input-1-7cffc27099b9>\u001b[0m in \u001b[0;36m<module>\u001b[0;34m\u001b[0m\n\u001b[0;32m----> 1\u001b[0;31m \u001b[0mX_train\u001b[0m\u001b[0;34m,\u001b[0m \u001b[0mX_validation\u001b[0m\u001b[0;34m,\u001b[0m \u001b[0my_train\u001b[0m\u001b[0;34m,\u001b[0m \u001b[0my_validation\u001b[0m \u001b[0;34m=\u001b[0m \u001b[0mtrain_test_split\u001b[0m\u001b[0;34m(\u001b[0m\u001b[0mtrain\u001b[0m\u001b[0;34m,\u001b[0m \u001b[0mtarget\u001b[0m\u001b[0;34m,\u001b[0m \u001b[0mtrain_size\u001b[0m\u001b[0;34m=\u001b[0m\u001b[0;36m0.7\u001b[0m\u001b[0;34m,\u001b[0m \u001b[0mrandom_state\u001b[0m\u001b[0;34m=\u001b[0m\u001b[0;36m1234\u001b[0m\u001b[0;34m)\u001b[0m\u001b[0;34m\u001b[0m\u001b[0;34m\u001b[0m\u001b[0m\n\u001b[0m\u001b[1;32m      2\u001b[0m \u001b[0mprint\u001b[0m\u001b[0;34m(\u001b[0m\u001b[0mX_train\u001b[0m\u001b[0;34m.\u001b[0m\u001b[0mshape\u001b[0m\u001b[0;34m,\u001b[0m \u001b[0mX_validation\u001b[0m\u001b[0;34m.\u001b[0m\u001b[0mshape\u001b[0m\u001b[0;34m)\u001b[0m\u001b[0;34m\u001b[0m\u001b[0;34m\u001b[0m\u001b[0m\n",
      "\u001b[0;31mNameError\u001b[0m: name 'train_test_split' is not defined"
     ]
    }
   ],
   "source": [
    "from sklearn.metrics import accuracy_score\n",
    "\n",
    "pred = clf.predict(train)\n",
    "\n",
    "print(\"Score: %f \\n\" % (accuracy_score(target, pred)))"
   ]
  }
 ],
 "metadata": {
  "kernelspec": {
   "display_name": "Python 3",
   "language": "python",
   "name": "python3"
  },
  "language_info": {
   "codemirror_mode": {
    "name": "ipython",
    "version": 3
   },
   "file_extension": ".py",
   "mimetype": "text/x-python",
   "name": "python",
   "nbconvert_exporter": "python",
   "pygments_lexer": "ipython3",
   "version": "3.6.8"
  }
 },
 "nbformat": 4,
 "nbformat_minor": 4
}
